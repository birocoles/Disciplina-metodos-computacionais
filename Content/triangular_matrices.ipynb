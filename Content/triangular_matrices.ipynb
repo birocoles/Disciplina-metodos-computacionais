{
 "cells": [
  {
   "cell_type": "markdown",
   "metadata": {},
   "source": [
    "# Triangular matrices - part 1"
   ]
  },
  {
   "cell_type": "markdown",
   "metadata": {},
   "source": [
    "Consider two $N \\times N$ matrices $\\mathbf{U}$ and $\\mathbf{L}$ given by:"
   ]
  },
  {
   "cell_type": "markdown",
   "metadata": {},
   "source": [
    "$$\\mathbf{U} \n",
    "= \\left[ \\begin{array}{ccccc}\n",
    "u_{00} & u_{01} & u_{02} & \\cdots & u_{0(N-1)} \\\\\n",
    "       & u_{11} & u_{12} & \\cdots & u_{1(N-1)} \\\\\n",
    "       &        & u_{22} & \\cdots & u_{2(N-1)}  \\\\\n",
    "       &        &        & \\ddots & \\vdots  \\\\\n",
    "       &        &        &        & u_{(N-1)(N-1)}\n",
    "\\end{array} \\right]\n",
    "$$"
   ]
  },
  {
   "cell_type": "markdown",
   "metadata": {},
   "source": [
    "and"
   ]
  },
  {
   "cell_type": "markdown",
   "metadata": {},
   "source": [
    "$$\n",
    "\\mathbf{L} \n",
    "= \\left[ \\begin{array}{ccccc}\n",
    "l_{00} & & & & \\\\\n",
    "\\vdots & \\ddots & & & \\\\\n",
    "l_{(N-3)0} & \\cdots & l_{(N-3)(N-3)} & &\\\\\n",
    "l_{(N-2)0} & \\cdots & l_{(N-2)(N-3)} & l_{(N-2)(N-2)} &\\\\\n",
    "l_{(N-1)0} & \\cdots & l_{(N-1)(N-3)} & l_{(N-1)(N-2)} & l_{(N-1)(N-1)}\n",
    "\\end{array} \\right] \\: .\n",
    "$$"
   ]
  },
  {
   "cell_type": "markdown",
   "metadata": {},
   "source": [
    "The matrix $\\mathbf{U}$ is called **upper triangular** and has all the elements below the main diagonal equal to zero. Similarly, the matrix $\\mathbf{L}$ is called **lower triangular** and has all the elements above the main diagonal equal to zero."
   ]
  },
  {
   "cell_type": "markdown",
   "metadata": {},
   "source": [
    "Let $\\mathbf{x}$ be a $N \\times 1$ vector given by:"
   ]
  },
  {
   "cell_type": "markdown",
   "metadata": {},
   "source": [
    "$$\\mathbf{x} = \n",
    "\\left[ \\begin{array}{c}\n",
    "x_{0} \\\\\n",
    "\\vdots \\\\\n",
    "x_{(N-1)}\n",
    "\\end{array} \\right] \\: .\n",
    "$$"
   ]
  },
  {
   "cell_type": "markdown",
   "metadata": {},
   "source": [
    "By using the notebook `matrix-vector.ipynb`, it can be shown that the product $\\mathbf{y} = \\mathbf{U} \\mathbf{x}$ can be calculated by following different algorithms:"
   ]
  },
  {
   "cell_type": "markdown",
   "metadata": {},
   "source": [
    "**Algorithm 1**\n",
    "    \n",
    "    for i = 0:N-1\n",
    "        for j = 0:N-1\n",
    "            y[i] = y[i] + U[i,j]*x[j]"
   ]
  },
  {
   "cell_type": "markdown",
   "metadata": {},
   "source": [
    "**Algorithm 2**\n",
    "    \n",
    "    for i = 0:N-1\n",
    "        for j = i:N-1\n",
    "            y[i] = y[i] + U[i,j]*x[j]"
   ]
  },
  {
   "cell_type": "markdown",
   "metadata": {},
   "source": [
    "**Algorithm 3**\n",
    "\n",
    "    for i = 0:N-1\n",
    "        y[i] = dot(U[i,i:],x[i:])"
   ]
  },
  {
   "cell_type": "markdown",
   "metadata": {},
   "source": [
    "**Algorithm 4**\n",
    "\n",
    "    for j = 0:N-1\n",
    "        for i = 0:j\n",
    "            y[i] = y[i] + U[i,j]*x[j]"
   ]
  },
  {
   "cell_type": "markdown",
   "metadata": {},
   "source": [
    "**Algorithm 5**\n",
    "\n",
    "    for j = 0:N-1\n",
    "        y[:j] = y[:j] + scalar_vec(x[j], U[:j,j])"
   ]
  },
  {
   "cell_type": "markdown",
   "metadata": {},
   "source": [
    "Similarly, there are different algorithms to compute the product $\\mathbf{z} = \\mathbf{L} \\mathbf{x}$:"
   ]
  },
  {
   "cell_type": "markdown",
   "metadata": {},
   "source": [
    "**Algorithm 6**\n",
    "    \n",
    "    for i = 0:N-1\n",
    "        for j = 0:N-1\n",
    "            z[i] = z[i] + L[i,j]*x[j]"
   ]
  },
  {
   "cell_type": "markdown",
   "metadata": {},
   "source": [
    "**Algorithm 7**\n",
    "    \n",
    "    for i = 0:N-1\n",
    "        for j = 0:i\n",
    "            z[i] = z[i] + L[i,j]*x[j]"
   ]
  },
  {
   "cell_type": "markdown",
   "metadata": {},
   "source": [
    "**Algorithm 8**\n",
    "\n",
    "    for i = 0:N-1\n",
    "        z[i] = dot(L[i,:i],x[:i])"
   ]
  },
  {
   "cell_type": "markdown",
   "metadata": {},
   "source": [
    "**Algorithm 9**\n",
    "\n",
    "    for j = 0:N-1\n",
    "        for i = j:N-1\n",
    "            z[i] = z[i] + L[i,j]*x[j]"
   ]
  },
  {
   "cell_type": "markdown",
   "metadata": {},
   "source": [
    "**Algorithm 10**\n",
    "\n",
    "    for j = 0:N-1\n",
    "        z[j:] = z[j:] + scalar_vec(x[j], L[j:,j])"
   ]
  },
  {
   "cell_type": "markdown",
   "metadata": {},
   "source": [
    "Note that some of the algorithms presented above access the null elements of the triangular matrices and other algorithms do not access the null elements."
   ]
  },
  {
   "cell_type": "markdown",
   "metadata": {},
   "source": [
    "### Exercise"
   ]
  },
  {
   "cell_type": "markdown",
   "metadata": {},
   "source": [
    "Implement the functions `matvec_triu_prod3`, `matvec_triu_prod5`, `matvec_tril_prod8` and `matvec_tril_prod10` defined by, respectively, the Algorithms 3, 5, 8 and 10 given above. The required functions must use the templates given below:"
   ]
  },
  {
   "cell_type": "markdown",
   "metadata": {},
   "source": [
    "```python\n",
    "def matvec_triu_prod3(U, x, check_input=True):\n",
    "    '''\n",
    "    Compute the product of an upper triangular matrix U \n",
    "    and a vector x. All elements are real numbers.\n",
    "    \n",
    "    Each element of the resultant vector is obtained by \n",
    "    computing a dot product.\n",
    "\n",
    "    Parameters\n",
    "    ----------\n",
    "    U : numpy array 2d\n",
    "        Upper triangular matrix.\n",
    "    x : numpy array 1d\n",
    "        Vector that postmultiply the triangular matrix U.\n",
    "    check_input : boolean\n",
    "        If True, verify if the input is valid. Default is True.\n",
    "\n",
    "    Returns\n",
    "    -------\n",
    "    result : numpy array 1d\n",
    "        Vector obtained from the product U x.\n",
    "    '''\n",
    "\n",
    "    # create your code here\n",
    "    \n",
    "    return result\n",
    "```"
   ]
  },
  {
   "cell_type": "markdown",
   "metadata": {},
   "source": [
    "```python\n",
    "def matvec_triu_prod5(U, x, check_input=True):\n",
    "    '''\n",
    "    Compute the product of an upper triangular matrix U \n",
    "    and a vector x. All elements are real numbers.\n",
    "    \n",
    "    The elements of the resultant vector are obtained by \n",
    "    computing successive scalar vector products.\n",
    "\n",
    "    Parameters\n",
    "    ----------\n",
    "    U : numpy array 2d\n",
    "        Upper triangular matrix.\n",
    "    x : numpy array 1d\n",
    "        Vector that postmultiply the triangular matrix U.\n",
    "    check_input : boolean\n",
    "        If True, verify if the input is valid. Default is True.\n",
    "\n",
    "    Returns\n",
    "    -------\n",
    "    result : numpy array 1d\n",
    "        Vector obtained from the product U x.\n",
    "    '''\n",
    "\n",
    "    # create your code here\n",
    "    \n",
    "    return result\n",
    "```"
   ]
  },
  {
   "cell_type": "markdown",
   "metadata": {},
   "source": [
    "```python\n",
    "def matvec_triu_prod8(L, x, check_input=True):\n",
    "    '''\n",
    "    Compute the product of an lower triangular matrix L \n",
    "    and a vector x. All elements are real numbers.\n",
    "    \n",
    "    Each element of the resultant vector is obtained by \n",
    "    computing a dot product.\n",
    "\n",
    "    Parameters\n",
    "    ----------\n",
    "    L : numpy array 2d\n",
    "        Lower triangular matrix.\n",
    "    x : numpy array 1d\n",
    "        Vector that postmultiply the triangular matrix U.\n",
    "    check_input : boolean\n",
    "        If True, verify if the input is valid. Default is True.\n",
    "\n",
    "    Returns\n",
    "    -------\n",
    "    result : numpy array 1d\n",
    "        Vector obtained from the product U x.\n",
    "    '''\n",
    "\n",
    "    # create your code here\n",
    "    \n",
    "    return result\n",
    "```"
   ]
  },
  {
   "cell_type": "markdown",
   "metadata": {},
   "source": [
    "```python\n",
    "def matvec_triu_prod10(U, x, check_input=True):\n",
    "    '''\n",
    "    Compute the product of an lower triangular matrix L \n",
    "    and a vector x. All elements are real numbers.\n",
    "    \n",
    "    The elements of the resultant vector are obtained by \n",
    "    computing successive scalar vector products.\n",
    "\n",
    "    Parameters\n",
    "    ----------\n",
    "    L : numpy array 2d\n",
    "        Lower triangular matrix.\n",
    "    x : numpy array 1d\n",
    "        Vector that postmultiply the triangular matrix U.\n",
    "    check_input : boolean\n",
    "        If True, verify if the input is valid. Default is True.\n",
    "\n",
    "    Returns\n",
    "    -------\n",
    "    result : numpy array 1d\n",
    "        Vector obtained from the product U x.\n",
    "    '''\n",
    "\n",
    "    # create your code here\n",
    "    \n",
    "    return result\n",
    "```"
   ]
  },
  {
   "cell_type": "markdown",
   "metadata": {},
   "source": [
    "The functions **must**: \n",
    "* verify if the given triangular matrix is square;\n",
    "* verify if `x` is a numpy array with ndim = 1;\n",
    "* assert that the number of rows/columns of the triangular matrix is equal to the number of elements forming `x`;\n",
    "* ignore possible imaginary of the input parameters;\n",
    "* use your `scalar_vec_real` and `dot_real` functions;"
   ]
  },
  {
   "cell_type": "markdown",
   "metadata": {},
   "source": [
    "Additionally, **create at least two tests**. The first test must compare the results produced by the functions `matvec_triu_prod3` and `matvec_triu_prod5` with the result produced by the routine [`numpy.dot`](https://numpy.org/doc/stable/reference/generated/numpy.dot.html). The second test must compare the results produced by the functions `matvec_tril_prod8` and `matvec_tril_prod10` with the result produced by the routine [`numpy.dot`](https://numpy.org/doc/stable/reference/generated/numpy.dot.html)."
   ]
  },
  {
   "cell_type": "markdown",
   "metadata": {},
   "source": [
    "#### How to create triangular matrices from full matrices?"
   ]
  },
  {
   "cell_type": "markdown",
   "metadata": {},
   "source": [
    "The code below uses the routines [`Random generator`](https://numpy.org/doc/stable/reference/random/generator.html), [`numpy.triu`](https://docs.scipy.org/doc/numpy/reference/generated/numpy.triu.html), and [`numpy.tril`](https://docs.scipy.org/doc/numpy/reference/generated/numpy.tril.html)."
   ]
  },
  {
   "cell_type": "code",
   "execution_count": 1,
   "metadata": {},
   "outputs": [],
   "source": [
    "import numpy as np"
   ]
  },
  {
   "cell_type": "code",
   "execution_count": 2,
   "metadata": {},
   "outputs": [],
   "source": [
    "N = 5"
   ]
  },
  {
   "cell_type": "code",
   "execution_count": 3,
   "metadata": {},
   "outputs": [],
   "source": [
    "rng = np.random.default_rng(12345)\n",
    "A = 10*rng.random(N,N)"
   ]
  },
  {
   "cell_type": "code",
   "execution_count": 4,
   "metadata": {},
   "outputs": [],
   "source": [
    "U = np.triu(A)"
   ]
  },
  {
   "cell_type": "code",
   "execution_count": 5,
   "metadata": {},
   "outputs": [],
   "source": [
    "L = np.tril(A)"
   ]
  },
  {
   "cell_type": "code",
   "execution_count": 7,
   "metadata": {},
   "outputs": [
    {
     "data": {
      "text/plain": [
       "array([[7.01718117, 5.68432108, 6.63469429, 7.46441974, 2.89290608],\n",
       "       [8.46778867, 1.95805811, 3.70039965, 3.55683556, 0.35377703],\n",
       "       [9.3899707 , 3.44357192, 8.25396946, 1.2056961 , 7.06074992],\n",
       "       [8.96343784, 3.20113979, 7.31977538, 2.9235426 , 8.81175334],\n",
       "       [5.12841362, 8.94764649, 8.42383142, 4.505968  , 3.56083785]])"
      ]
     },
     "execution_count": 7,
     "metadata": {},
     "output_type": "execute_result"
    }
   ],
   "source": [
    "A"
   ]
  },
  {
   "cell_type": "code",
   "execution_count": 8,
   "metadata": {},
   "outputs": [
    {
     "data": {
      "text/plain": [
       "array([[7.01718117, 5.68432108, 6.63469429, 7.46441974, 2.89290608],\n",
       "       [0.        , 1.95805811, 3.70039965, 3.55683556, 0.35377703],\n",
       "       [0.        , 0.        , 8.25396946, 1.2056961 , 7.06074992],\n",
       "       [0.        , 0.        , 0.        , 2.9235426 , 8.81175334],\n",
       "       [0.        , 0.        , 0.        , 0.        , 3.56083785]])"
      ]
     },
     "execution_count": 8,
     "metadata": {},
     "output_type": "execute_result"
    }
   ],
   "source": [
    "U"
   ]
  },
  {
   "cell_type": "code",
   "execution_count": 9,
   "metadata": {},
   "outputs": [
    {
     "data": {
      "text/plain": [
       "array([[7.01718117, 0.        , 0.        , 0.        , 0.        ],\n",
       "       [8.46778867, 1.95805811, 0.        , 0.        , 0.        ],\n",
       "       [9.3899707 , 3.44357192, 8.25396946, 0.        , 0.        ],\n",
       "       [8.96343784, 3.20113979, 7.31977538, 2.9235426 , 0.        ],\n",
       "       [5.12841362, 8.94764649, 8.42383142, 4.505968  , 3.56083785]])"
      ]
     },
     "execution_count": 9,
     "metadata": {},
     "output_type": "execute_result"
    }
   ],
   "source": [
    "L"
   ]
  }
 ],
 "metadata": {
  "anaconda-cloud": {},
  "kernelspec": {
   "display_name": "Python 3 (ipykernel)",
   "language": "python",
   "name": "python3"
  },
  "language_info": {
   "codemirror_mode": {
    "name": "ipython",
    "version": 3
   },
   "file_extension": ".py",
   "mimetype": "text/x-python",
   "name": "python",
   "nbconvert_exporter": "python",
   "pygments_lexer": "ipython3",
   "version": "3.11.8"
  }
 },
 "nbformat": 4,
 "nbformat_minor": 4
}
