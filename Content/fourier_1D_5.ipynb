{
 "cells": [
  {
   "cell_type": "markdown",
   "metadata": {},
   "source": [
    "# 1D Fourier Transform - part 5"
   ]
  },
  {
   "cell_type": "markdown",
   "metadata": {},
   "source": [
    "<a id='ref'></a>\n",
    "## References\n",
    "\n",
    "* Van Loan, C. F., (1992). Computational Frameworks for the Fast Fourier Transform, Frontiers in applied mathematics : 10, SIAM, ISBN 0-89871-285-8.\n",
    "\n",
    "* Golub, G. H. and C. F. Van Loan, (2013), Matrix computations, 4th edition, Johns Hopkins University Press, ISBN 978-1-4214-0794-4."
   ]
  },
  {
   "cell_type": "code",
   "execution_count": 1,
   "metadata": {},
   "outputs": [],
   "source": [
    "import numpy as np\n",
    "from scipy.linalg import dft"
   ]
  },
  {
   "cell_type": "markdown",
   "metadata": {},
   "source": [
    "<a id='sec1'></a>\n",
    "## Decomposition of Fourier matrix into even-odd columns"
   ]
  },
  {
   "cell_type": "markdown",
   "metadata": {},
   "source": [
    "Let's remember the DFT (equation 51 of notebook `fourier_1D_4`) and IDFT (equation 52 of notebook `fourier_1D_4`) in matrix notation, for a particular scale factor combination:"
   ]
  },
  {
   "cell_type": "markdown",
   "metadata": {},
   "source": [
    "<a id='eq1'></a>\n",
    "\n",
    "$$\n",
    "\\mathbf{G} = \\mathbf{F}_{N} \\, \\mathbf{g} \\tag{1}\n",
    "$$"
   ]
  },
  {
   "cell_type": "markdown",
   "metadata": {},
   "source": [
    "and"
   ]
  },
  {
   "cell_type": "markdown",
   "metadata": {},
   "source": [
    "<a id='eq2'></a>\n",
    "\n",
    "$$\n",
    "\\mathbf{g} = \\frac{1}{N} \\, \\mathbf{F}^{H}_{N} \\, \\mathbf{G} \\quad, \\tag{2}\n",
    "$$"
   ]
  },
  {
   "cell_type": "markdown",
   "metadata": {},
   "source": [
    "where $\\mathbf{F}_{N}$ is an $N \\times N$ complex matrix called *Discrete Fourier Transform Matrix* or simply *DFT matrix*, with element $nk$ given by "
   ]
  },
  {
   "cell_type": "markdown",
   "metadata": {},
   "source": [
    "<a id='eq3'></a>\n",
    "\n",
    "$$\n",
    "\\left( w_{N} \\right)^{nk} = \\left( e^{\\, -i \\, 2 \\, \\pi \\, \\mathbin{/} \\, N} \\right)^{nk} \\: . \\tag{3}\n",
    "$$"
   ]
  },
  {
   "cell_type": "markdown",
   "metadata": {},
   "source": [
    "It can be shown that:\n",
    "\n",
    "* $\\mathbf{F}^{\\ast}_{N} = \\mathbf{F}^{H}_{N}$\n",
    "\n",
    "* $\\mathbf{F}^{-1}_{N} = \\frac{1}{N} \\, \\mathbf{F}^{\\ast}_{N}$\n",
    "\n",
    "* $N \\, \\mathbf{I} = \\mathbf{F}^{H}_{N} \\mathbf{F}_{N}$\n",
    "\n",
    "where $\\mathbf{F}^{\\ast}_{N}$ is the complex conjugate without transposition and $\\mathbf{F}^{H}_{N}$ is the conjugate transpose."
   ]
  },
  {
   "cell_type": "markdown",
   "metadata": {},
   "source": [
    "For the particular case in which $N$ is even, lets defined a new matrix:"
   ]
  },
  {
   "cell_type": "markdown",
   "metadata": {},
   "source": [
    "<a id='eq4'></a>\n",
    "\n",
    "$$\n",
    "\\breve{\\mathbf{F}}_{N} = \n",
    "\\mathbf{F}_{N} \\, \\mathbf{P}^{\\top} = \n",
    "\\begin{bmatrix}\n",
    "\\mathbf{F}_{N}^{e} & \\mathbf{F}_{N}^{o}\n",
    "\\end{bmatrix} \\quad , \\tag{4}\n",
    "$$"
   ]
  },
  {
   "cell_type": "markdown",
   "metadata": {},
   "source": [
    "where $\\mathbf{P}$ is a permutation matrix, $\\mathbf{F}_{N}^{e}$ is an $N \\times N/2$ matrix containing the even columns (e.g., $0, 2, \\dots, N-2$) of $\\mathbf{F}_{N}$ and $\\mathbf{F}_{N}^{o}$ is an $N \\times N/2$ matrix containing the odd columns (e.g., $1, 3, \\dots, N-1$) of $\\mathbf{F}_{N}$. The permutation matrix $\\mathbf{P}$ for the particular case in which $N = 6$ is given by:"
   ]
  },
  {
   "cell_type": "markdown",
   "metadata": {},
   "source": [
    "$$\n",
    "\\mathbf{P} = \\begin{bmatrix}\n",
    "1 & 0 & 0 & 0 & 0 & 0 \\\\\n",
    "0 & 0 & 1 & 0 & 0 & 0 \\\\\n",
    "0 & 0 & 0 & 0 & 1 & 0 \\\\\n",
    "0 & 1 & 0 & 0 & 0 & 0 \\\\\n",
    "0 & 0 & 0 & 1 & 0 & 0 \\\\\n",
    "0 & 0 & 0 & 0 & 0 & 1\n",
    "\\end{bmatrix} \\quad .\n",
    "$$"
   ]
  },
  {
   "cell_type": "code",
   "execution_count": 2,
   "metadata": {},
   "outputs": [
    {
     "name": "stdout",
     "output_type": "stream",
     "text": [
      "[[1. 0. 0. 0. 0. 0.]\n",
      " [0. 0. 1. 0. 0. 0.]\n",
      " [0. 0. 0. 0. 1. 0.]\n",
      " [0. 1. 0. 0. 0. 0.]\n",
      " [0. 0. 0. 1. 0. 0.]\n",
      " [0. 0. 0. 0. 0. 1.]]\n"
     ]
    }
   ],
   "source": [
    "N = 6\n",
    "P = np.identity(N)[[0,2,4,1,3,5]]\n",
    "print(P)"
   ]
  },
  {
   "cell_type": "code",
   "execution_count": 3,
   "metadata": {},
   "outputs": [
    {
     "name": "stdout",
     "output_type": "stream",
     "text": [
      "[[1. 0. 0. 0. 0. 0.]\n",
      " [0. 0. 0. 1. 0. 0.]\n",
      " [0. 1. 0. 0. 0. 0.]\n",
      " [0. 0. 0. 0. 1. 0.]\n",
      " [0. 0. 1. 0. 0. 0.]\n",
      " [0. 0. 0. 0. 0. 1.]]\n"
     ]
    }
   ],
   "source": [
    "print(P.T)"
   ]
  },
  {
   "cell_type": "code",
   "execution_count": 4,
   "metadata": {},
   "outputs": [
    {
     "data": {
      "text/plain": [
       "True"
      ]
     },
     "execution_count": 4,
     "metadata": {},
     "output_type": "execute_result"
    }
   ],
   "source": [
    "np.allclose(np.dot(P.T, P), np.identity(N))"
   ]
  },
  {
   "cell_type": "code",
   "execution_count": 5,
   "metadata": {},
   "outputs": [
    {
     "data": {
      "text/plain": [
       "True"
      ]
     },
     "execution_count": 5,
     "metadata": {},
     "output_type": "execute_result"
    }
   ],
   "source": [
    "np.allclose(np.dot(P, P.T), np.identity(N))"
   ]
  },
  {
   "cell_type": "code",
   "execution_count": 6,
   "metadata": {},
   "outputs": [
    {
     "data": {
      "text/plain": [
       "False"
      ]
     },
     "execution_count": 6,
     "metadata": {},
     "output_type": "execute_result"
    }
   ],
   "source": [
    "np.allclose(np.dot(P, P), np.identity(N))"
   ]
  },
  {
   "cell_type": "code",
   "execution_count": 7,
   "metadata": {},
   "outputs": [
    {
     "name": "stdout",
     "output_type": "stream",
     "text": [
      "[[ 0  1  2  3  4  5]\n",
      " [ 6  7  8  9 10 11]\n",
      " [12 13 14 15 16 17]\n",
      " [18 19 20 21 22 23]\n",
      " [24 25 26 27 28 29]\n",
      " [30 31 32 33 34 35]]\n"
     ]
    }
   ],
   "source": [
    "A = np.reshape(np.arange(N*N), (N,N))\n",
    "print(A)"
   ]
  },
  {
   "cell_type": "code",
   "execution_count": 8,
   "metadata": {},
   "outputs": [
    {
     "name": "stdout",
     "output_type": "stream",
     "text": [
      "[[ 0.  2.  4.  1.  3.  5.]\n",
      " [ 6.  8. 10.  7.  9. 11.]\n",
      " [12. 14. 16. 13. 15. 17.]\n",
      " [18. 20. 22. 19. 21. 23.]\n",
      " [24. 26. 28. 25. 27. 29.]\n",
      " [30. 32. 34. 31. 33. 35.]]\n"
     ]
    }
   ],
   "source": [
    "print(np.dot(A, P.T))"
   ]
  },
  {
   "cell_type": "markdown",
   "metadata": {},
   "source": [
    "It can be shown that $\\mathbf{F}_{N}^{e}$ and $\\mathbf{F}_{N}^{o}$ ([equation 4](#eq4)) can be rewritten as follows:"
   ]
  },
  {
   "cell_type": "markdown",
   "metadata": {},
   "source": [
    "<a id='eq5'></a>\n",
    "\n",
    "$$\n",
    "\\mathbf{F}_{N}^{e} = \\begin{bmatrix}\n",
    "\\mathbf{F}_{N/2} \\\\ \\mathbf{F}_{N/2}\n",
    "\\end{bmatrix} \\tag{5}\n",
    "$$"
   ]
  },
  {
   "cell_type": "markdown",
   "metadata": {},
   "source": [
    "and"
   ]
  },
  {
   "cell_type": "markdown",
   "metadata": {},
   "source": [
    "<a id='eq6'></a>\n",
    "\n",
    "$$\n",
    "\\mathbf{F}_{N}^{o} = \\begin{bmatrix}\n",
    "\\boldsymbol{\\Omega}_{N/2} \\, \\mathbf{F}_{N/2} \\\\ \n",
    "-\\boldsymbol{\\Omega}_{N/2} \\, \\mathbf{F}_{N/2}\n",
    "\\end{bmatrix} \\quad , \\tag{6}\n",
    "$$"
   ]
  },
  {
   "cell_type": "markdown",
   "metadata": {},
   "source": [
    "where $\\mathbf{F}_{N/2}$ is the $N/2 \\times N/2$ Fourier matrix and $\\boldsymbol{\\Omega}_{N/2}$ is an $N/2 \\times N/2$ diagonal matrix with diagonal elements defined by the  following vector:"
   ]
  },
  {
   "cell_type": "markdown",
   "metadata": {},
   "source": [
    "<a id='eq7'></a>\n",
    "\n",
    "$$\n",
    "\\boldsymbol{\\omega}_{N} = \\begin{bmatrix}\n",
    "w_{N}^{0} \\\\\n",
    "w_{N}^{1} \\\\\n",
    "w_{N}^{2} \\\\\n",
    "\\vdots \\\\\n",
    "w_{N}^{N/2-1} \\\\\n",
    "\\end{bmatrix} \\quad , \\tag{7}\n",
    "$$"
   ]
  },
  {
   "cell_type": "markdown",
   "metadata": {},
   "source": [
    "with $w_{N}$ defined by [equation 3](#eq3) ."
   ]
  },
  {
   "cell_type": "markdown",
   "metadata": {},
   "source": [
    "By using equations [5](#eq5)-[7](#eq7), we can rewrite the matrix $\\breve{\\mathbf{F}}_{N}$ ([equation 4](#eq4)) as follows:"
   ]
  },
  {
   "cell_type": "markdown",
   "metadata": {},
   "source": [
    "<a id='eq8'></a>\n",
    "\n",
    "$$\n",
    "\\breve{\\mathbf{F}}_{N} = \\begin{bmatrix} \\begin{split}\n",
    "\\mathbf{F}_{N/2} \\:\\: & &\\boldsymbol{\\Omega}_{N/2} \\, \\mathbf{F}_{N/2} \\\\\n",
    "\\mathbf{F}_{N/2} \\:\\: & -&\\boldsymbol{\\Omega}_{N/2} \\, \\mathbf{F}_{N/2}\n",
    "\\end{split} \\end{bmatrix} \\quad . \\tag{8}\n",
    "$$"
   ]
  },
  {
   "cell_type": "markdown",
   "metadata": {},
   "source": [
    "Finally, all this blablabla shows that:"
   ]
  },
  {
   "cell_type": "markdown",
   "metadata": {},
   "source": [
    "$$\n",
    "\\begin{split}\n",
    "\\mathbf{F}_{N} \\, \\mathbf{x} \n",
    "&= \\overbrace{\\mathbf{F}_{N} \\, \\mathbf{P}^{\\top}}^{\\breve{\\mathbf{F}}_{N}} \\, \n",
    "\\mathbf{P} \\, \\mathbf{x} \\\\\n",
    "&= \\begin{bmatrix} \n",
    "\\mathbf{F}_{N/2} & \\boldsymbol{\\Omega}_{N/2} \\, \\mathbf{F}_{N/2} \\\\\n",
    "\\mathbf{F}_{N/2} & -\\boldsymbol{\\Omega}_{N/2} \\, \\mathbf{F}_{N/2}\n",
    "\\end{bmatrix} \n",
    "\\begin{bmatrix}\n",
    "\\mathbf{x}^{e} \\\\ \\mathbf{x}^{o}\n",
    "\\end{bmatrix} \\\\\n",
    "&= \\begin{bmatrix} \n",
    "\\mathbf{I}_{N/2} & \\boldsymbol{\\Omega}_{N/2} \\\\\n",
    "\\mathbf{I}_{N/2} & -\\boldsymbol{\\Omega}_{N/2} \n",
    "\\end{bmatrix} \n",
    "\\begin{bmatrix}\n",
    "\\mathbf{F}_{N/2} \\, \\mathbf{x}^{e} \\\\ \n",
    "\\mathbf{F}_{N/2} \\, \\mathbf{x}^{o}\n",
    "\\end{bmatrix} \n",
    "\\end{split}\n",
    "$$"
   ]
  },
  {
   "cell_type": "markdown",
   "metadata": {},
   "source": [
    "$$\n",
    "\\begin{bmatrix} \n",
    "\\mathbf{y}^{e} \\\\\n",
    "\\mathbf{y}^{o} \n",
    "\\end{bmatrix} = \n",
    "\\begin{bmatrix}\n",
    "\\left( \\mathbf{F}_{N/2} \\, \\mathbf{x}^{e} \\right) \n",
    "+ \\boldsymbol{\\omega}_{N} \\circ \\left( \\mathbf{F}_{N/2} \\, \\mathbf{x}^{o} \\right) \\\\ \n",
    "\\left( \\mathbf{F}_{N/2} \\, \\mathbf{x}^{e} \\right) \n",
    "- \\boldsymbol{\\omega}_{N} \\circ \\left( \\mathbf{F}_{N/2} \\, \\mathbf{x}^{o} \\right)\n",
    "\\end{bmatrix}\n",
    "$$"
   ]
  },
  {
   "cell_type": "code",
   "execution_count": 9,
   "metadata": {},
   "outputs": [],
   "source": [
    "N = 20"
   ]
  },
  {
   "cell_type": "code",
   "execution_count": 10,
   "metadata": {},
   "outputs": [],
   "source": [
    "FN = dft(N, scale=None)"
   ]
  },
  {
   "cell_type": "code",
   "execution_count": 11,
   "metadata": {},
   "outputs": [],
   "source": [
    "w_N = np.exp(-1j*2*np.pi/N)"
   ]
  },
  {
   "cell_type": "code",
   "execution_count": 12,
   "metadata": {},
   "outputs": [],
   "source": [
    "omega_N = np.power(w_N, np.arange(N//2))"
   ]
  },
  {
   "cell_type": "code",
   "execution_count": 13,
   "metadata": {},
   "outputs": [],
   "source": [
    "Omega_N = np.diag(omega_N)"
   ]
  },
  {
   "cell_type": "code",
   "execution_count": 14,
   "metadata": {},
   "outputs": [
    {
     "data": {
      "text/plain": [
       "array([0, 1, 2, 3, 4, 5, 6, 7, 8, 9])"
      ]
     },
     "execution_count": 14,
     "metadata": {},
     "output_type": "execute_result"
    }
   ],
   "source": [
    "np.arange(N//2)"
   ]
  },
  {
   "cell_type": "code",
   "execution_count": 15,
   "metadata": {},
   "outputs": [],
   "source": [
    "FN_half = dft(N//2, scale=None)"
   ]
  },
  {
   "cell_type": "code",
   "execution_count": 16,
   "metadata": {},
   "outputs": [],
   "source": [
    "FN_even = np.vstack([FN_half, \n",
    "                     FN_half])"
   ]
  },
  {
   "cell_type": "code",
   "execution_count": 17,
   "metadata": {},
   "outputs": [],
   "source": [
    "FN_odd = np.vstack([np.dot( Omega_N, FN_half), \n",
    "                    np.dot(-Omega_N, FN_half)])"
   ]
  },
  {
   "cell_type": "code",
   "execution_count": 18,
   "metadata": {},
   "outputs": [
    {
     "data": {
      "text/plain": [
       "True"
      ]
     },
     "execution_count": 18,
     "metadata": {},
     "output_type": "execute_result"
    }
   ],
   "source": [
    "np.allclose(FN[:,0::2],FN_even)"
   ]
  },
  {
   "cell_type": "code",
   "execution_count": 19,
   "metadata": {},
   "outputs": [
    {
     "data": {
      "text/plain": [
       "True"
      ]
     },
     "execution_count": 19,
     "metadata": {},
     "output_type": "execute_result"
    }
   ],
   "source": [
    "np.allclose(FN[:,1::2],FN_odd)"
   ]
  },
  {
   "cell_type": "code",
   "execution_count": null,
   "metadata": {},
   "outputs": [],
   "source": []
  }
 ],
 "metadata": {
  "anaconda-cloud": {},
  "kernelspec": {
   "display_name": "Python 3 (ipykernel)",
   "language": "python",
   "name": "python3"
  },
  "language_info": {
   "codemirror_mode": {
    "name": "ipython",
    "version": 3
   },
   "file_extension": ".py",
   "mimetype": "text/x-python",
   "name": "python",
   "nbconvert_exporter": "python",
   "pygments_lexer": "ipython3",
   "version": "3.11.8"
  }
 },
 "nbformat": 4,
 "nbformat_minor": 4
}
