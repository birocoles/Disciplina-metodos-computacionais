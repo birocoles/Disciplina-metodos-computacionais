{
 "cells": [
  {
   "cell_type": "markdown",
   "metadata": {},
   "source": [
    "# Spline interpolation with Green's functions"
   ]
  },
  {
   "cell_type": "markdown",
   "metadata": {},
   "source": [
    "##### References\n",
    "\n",
    "* Wessel, Paul. 2009. “A General-Purpose Green’s Function-Based Interpolator.” Computers & Geosciences 35 (6): 1247–54. https://doi.org/10.1016/j.cageo.2008.08.012."
   ]
  },
  {
   "cell_type": "markdown",
   "metadata": {},
   "source": [
    "## Theory"
   ]
  },
  {
   "cell_type": "markdown",
   "metadata": {},
   "source": [
    "Let $d_{i}^{o}$ be an observed geophysical data at the position vector $\\mathbf{p}_{i}$, $i = 0, \\dots, N-1$. For convenience, let the $i$th position vector $\\mathbf{p}_{i}$ be defined in a Cartesian or Spherical coordinate system. Spline interpolation using Green’s functions (Wessel, 2009) presumes that the observation $d^{o}_{i}$ can be represented as follows:"
   ]
  },
  {
   "cell_type": "markdown",
   "metadata": {},
   "source": [
    "<a id=\"eq1\"></a>\n",
    "$$\n",
    "d_{i}^{o} = s_{i}(\\mathbf{q}) + \\sum\\limits_{j = 0}^{N-1} c_{j} \\, g_{ij}(t) \\quad , \\tag{1}\n",
    "$$"
   ]
  },
  {
   "cell_type": "markdown",
   "metadata": {},
   "source": [
    "where $s_{i}(\\mathbf{q})$ is a smooth function evaluated at $\\mathbf{p}_{i}$ and defined in terms of parameters $q_{k}$, $k = 0, \\dots, Q-1$, that are arranged in a $Q \\times 1$ vector $\\mathbf{q}$. This smooth function represents a regional trend and can be defined, for example, by a low-degree polynomial or any linear model. The last term in [equation 1](#eq1) represents a linear combination of Green's functions $g_{ij}(t)$ having coefficients $c_{j}$, $j = 0, \\dots, N-1$. These Green's functions can be defined, in a general way, according to:"
   ]
  },
  {
   "cell_type": "markdown",
   "metadata": {},
   "source": [
    "<a id=\"eq2\"></a>\n",
    "$$\n",
    "g_{ij}(t) \\equiv g \\left( \\mathbf{p}_{i}, \\mathbf{p}_{j}, t \\right) \\quad, \\tag{2}\n",
    "$$"
   ]
  },
  {
   "cell_type": "markdown",
   "metadata": {},
   "source": [
    "where $\\mathbf{p}_{j}$ is the position vector of the $j$th observation $d_{j}^{o}$, $j = 0, \\dots, N-1$, and $t$ is an auxiliary variable defining the *tension*. This is will be better understood in the example presented below. Wessel (2009) lists ten Green's functions and their gradients for Cartesian 1D, 2D and 3D coordinates, and also for a spherical surface. The table below shows some of these functions:"
   ]
  },
  {
   "cell_type": "markdown",
   "metadata": {},
   "source": [
    "<a id=\"Table1\"></a>\n",
    "\n",
    "| Coord. system \t| Dimension \t| tension $\\tau^{\\ast}$ \t|                            $g_{ij}(t)$                            \t|\n",
    "|---------------\t|:---------:\t|:--------------:\t|:--------------------------------------------------------------:\t|\n",
    "| Cartesian     \t|     1D    \t|       = 0      \t|                             $r^{3}$                            \t|\n",
    "| Cartesian     \t|     1D    \t|       > 0      \t|                $e^{-\\tau \\, r} + \\tau \\, r - 1$                \t|\n",
    "| Cartesian     \t|     2D    \t|       = 0      \t|                $r^{2} \\left[ \\ln(r) - 1 \\right]$               \t|\n",
    "| Cartesian     \t|     2D    \t|       > 0      \t|              $K_{0}(\\tau \\, r) + \\log(\\tau \\, r)$              \t|\n",
    "| Cartesian     \t|     3D    \t|       = 0      \t|                               $r$                              \t|\n",
    "| Cartesian     \t|     3D    \t|       > 0      \t| $\\frac{1}{\\tau \\, r} \\left( e^{-\\tau \\, r} - 1 \\right) + 1$ \t| \n",
    "\n",
    "$\\tag{Table 1}$"
   ]
  },
  {
   "cell_type": "markdown",
   "metadata": {},
   "source": [
    "where $K_{0}(x)$ is the <a href=\"https://en.wikipedia.org/wiki/Bessel_function#Modified_Bessel_functions:_I%CE%B1,_K%CE%B1\" target=\"_blank\">Modified Bessel function of the second kind of order $0$</a>, "
   ]
  },
  {
   "cell_type": "markdown",
   "metadata": {},
   "source": [
    "<a id=\"eq3\"></a>\n",
    "$$\n",
    "\\tau = \\frac{t}{\\sqrt{1-t}} \\quad , \\quad 0 \\le t < 1 \\quad , \\tag{3}\n",
    "$$"
   ]
  },
  {
   "cell_type": "markdown",
   "metadata": {},
   "source": [
    "and"
   ]
  },
  {
   "cell_type": "markdown",
   "metadata": {},
   "source": [
    "<a id=\"eq4\"></a>\n",
    "$$\n",
    "r = \\| \\mathbf{p}_{i} - \\mathbf{p}_{j} \\|_{2} \\quad . \\tag{4}\n",
    "$$"
   ]
  },
  {
   "cell_type": "markdown",
   "metadata": {},
   "source": [
    "The coefficients $c_{j}$ are determined by requiring [equation 1](#eq1) to be satisfied exactly at all points $\\mathbf{p}_{i}$, $i = 0, \\dots, N-1$. In matrix notation, [equation 1](#eq1) is given by:"
   ]
  },
  {
   "cell_type": "markdown",
   "metadata": {},
   "source": [
    "<a id=\"eq5\"></a>\n",
    "$$\n",
    "\\mathbf{d}^{o} = \\mathbf{s}(\\mathbf{q}) + \\mathbf{G}(t) \\, \\mathbf{c} , \\tag{5}\n",
    "$$"
   ]
  },
  {
   "cell_type": "markdown",
   "metadata": {},
   "source": [
    "where $\\mathbf{s}(\\mathbf{q})$ is an $N \\times 1$ vector with $i$th element $s_{i}(\\mathbf{q})$ ([equation 1](#eq1)), $\\mathbf{G}(t)$ is an $N \\times N$ matrix with element $ij$th defined by the Green's function $g_{ij}(t)$ (equations [1](#eq1) and [2](#eq2)) and $\\mathbf{c}$ is an $N \\times 1$ with $j$th element $c_{j}$ ([equation 1](#eq1)). [Equation 5](#eq5) can be solved in two steps:"
   ]
  },
  {
   "cell_type": "markdown",
   "metadata": {},
   "source": [
    "Estimate a parameter vector $\\tilde{\\mathbf{q}}$ satisfying\n",
    "\n",
    "<a id=\"eq6a\"></a>\n",
    "$$\n",
    "\\mathbf{d}^{o} \\approx \\mathbf{s}(\\tilde{\\mathbf{q}}) \\tag{6a}\n",
    "$$\n",
    "\n",
    "and then a parameter vector $\\tilde{\\mathbf{c}}$ satisfying\n",
    "\n",
    "<a id=\"eq6b\"></a>\n",
    "$$\n",
    "\\mathbf{d}^{o} - \\mathbf{s}(\\tilde{\\mathbf{q}}) =  \\mathbf{G}(t) \\, \\tilde{\\mathbf{c}} \\quad . \\tag{6b}\n",
    "$$"
   ]
  },
  {
   "cell_type": "markdown",
   "metadata": {},
   "source": [
    "By using the estimated parameter vectors $\\tilde{\\mathbf{q}}$ ([equation 6a](#eq6a)) and $\\tilde{\\mathbf{c}}$ ([equation 6b](#eq6b)), the interpolated data can be computed as follows:"
   ]
  },
  {
   "cell_type": "markdown",
   "metadata": {},
   "source": [
    "1. Create a set of $L$ interpolation points $\\breve{\\mathbf{p}}_{l}$, $l = 0, \\dots, L-1$;\n",
    "2. Compute a new $L \\times 1$ regional trend $\\breve{\\mathbf{s}}(\\tilde{\\mathbf{q}})$ at the interpolation points;\n",
    "3. Compute a new $L \\times N$ matrix of Green's functions $\\breve{\\mathbf{G}}(t)$ at the interpolation points by using the same tension $t$;\n",
    "4. Compute $L$ interpolated data $\\breve{\\mathbf{d}}$ as follows:\n",
    "\n",
    "<a id=\"eq7\"></a>\n",
    "$$\n",
    "\\breve{\\mathbf{d}} = \\breve{\\mathbf{s}}(\\tilde{\\mathbf{q}}) + \\breve{\\mathbf{G}}(t) \\, \\tilde{\\mathbf{c}} \\quad . \\tag{7}\n",
    "$$"
   ]
  },
  {
   "cell_type": "code",
   "execution_count": null,
   "metadata": {},
   "outputs": [],
   "source": []
  }
 ],
 "metadata": {
  "kernelspec": {
   "display_name": "Python 3 (ipykernel)",
   "language": "python",
   "name": "python3"
  },
  "language_info": {
   "codemirror_mode": {
    "name": "ipython",
    "version": 3
   },
   "file_extension": ".py",
   "mimetype": "text/x-python",
   "name": "python",
   "nbconvert_exporter": "python",
   "pygments_lexer": "ipython3",
   "version": "3.11.8"
  }
 },
 "nbformat": 4,
 "nbformat_minor": 4
}
