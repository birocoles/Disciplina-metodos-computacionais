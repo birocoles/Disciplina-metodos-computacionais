{
 "cells": [
  {
   "cell_type": "markdown",
   "metadata": {},
   "source": [
    "# Newton-Cotes formulas"
   ]
  },
  {
   "cell_type": "markdown",
   "metadata": {},
   "source": [
    "The Newton-Cotes formulas <sup><a href=\"https://en.wikipedia.org/wiki/Newton%E2%80%93Cotes_formulas\">[1]</a></sup> <sup><a href=\"http://mathworld.wolfram.com/Newton-CotesFormulas.html\">[2]</a></sup> are classical methods used to perform the numerical integration of one-dimensional integrals whose integrand is evaluated in a set of equally spaced points. Here, we limit our discussion to the [Trapezoidal Rule](https://en.wikipedia.org/wiki/Trapezoidal_rule) and [Simpson's Rule](https://en.wikipedia.org/wiki/Simpson%27s_rule), which are particular Newton-Cotes formulas. We also limit our discussion to definite integrals given by:"
   ]
  },
  {
   "cell_type": "markdown",
   "metadata": {},
   "source": [
    "$$\n",
    "\\int \\limits_{a}^{b} f \\, (x) \\, d x \\: ,\n",
    "$$"
   ]
  },
  {
   "cell_type": "markdown",
   "metadata": {},
   "source": [
    "where $a$ and $b$ are given constants. In the examples shown here, consider that we know $f_{i} \\equiv f \\, (x_{i})$, which represent the values of the integrand $f \\, (x)$ on a set of regularly spaced points $x_{i} = a + (i - 1) \\, h$, $i = 1, \\dots, N+1$, where $h$ is a positive constant and $x_{N+1} = b$."
   ]
  },
  {
   "cell_type": "markdown",
   "metadata": {},
   "source": [
    "## Trapezoidal rule"
   ]
  },
  {
   "cell_type": "markdown",
   "metadata": {},
   "source": [
    "Divide the definite integral over $\\left[ a, b \\right]$ into $N$ definite integrals as follows:"
   ]
  },
  {
   "cell_type": "markdown",
   "metadata": {},
   "source": [
    "$$\n",
    "\\int \\limits_{a}^{b} f \\, (x) \\, d x = \n",
    "\\int \\limits_{x_{1}}^{x_{2}} f \\, (x) \\, d x + \n",
    "\\int \\limits_{x_{2}}^{x_{3}} f \\, (x) \\, d x + \n",
    "\\cdots + \\int \\limits_{x_{N}}^{x_{N+1}} f \\, (x) \\, d x \\: .\n",
    "$$"
   ]
  },
  {
   "cell_type": "markdown",
   "metadata": {},
   "source": [
    "Now, consider that each integral can be approximated by:"
   ]
  },
  {
   "cell_type": "markdown",
   "metadata": {},
   "source": [
    "$$\n",
    "\\int \\limits_{x_{i}}^{x_{i+1}} f \\, (x) \\, d x \\approx \\int \\limits_{x_{i}}^{x_{i+1}} P_{1} \\left[ x_{i} , x_{i+1} \\right] \\, d x \\: ,\n",
    "$$"
   ]
  },
  {
   "cell_type": "markdown",
   "metadata": {},
   "source": [
    "where $P_{1} \\left[ x_{i} , x_{i+1} \\right]$ is a Lagrange's polynomial (`interpolation.pdf`) of order 1 passing through the points $x_{i}$ and $x_{i+1}$, $i = 1, \\dots, N$. Here, this polynomial assumes the following form:"
   ]
  },
  {
   "cell_type": "markdown",
   "metadata": {},
   "source": [
    "$$\n",
    "\\begin{split}\n",
    "P_{1} \\left[ x_{i} , x_{i+1} \\right] \n",
    "&= \n",
    "\\left( \\frac{x - x_{i+1}}{x_{i} - x_{i+1}} \\right) \\, f_{i} +\n",
    "\\left( \\frac{x - x_{i}}{x_{i+1} - x_{i}} \\right) \\, f_{i+1} \\\\\\\\\n",
    "&= \n",
    "\\frac{f_{i+1}}{h} \\, \\left( x - x_{i}\\right) - \\frac{f_{i}}{h} \\, \\left( x - x_{i+1}\\right)\n",
    "\\end{split} \\: .\n",
    "$$"
   ]
  },
  {
   "cell_type": "markdown",
   "metadata": {},
   "source": [
    "By using this equation we obtain:"
   ]
  },
  {
   "cell_type": "markdown",
   "metadata": {},
   "source": [
    "$$\n",
    "\\begin{split}\n",
    "\\int \\limits_{x_{i}}^{x_{i+1}} P_{1} \\left[ x_{i} , x_{i+1} \\right] \\, d x \n",
    "&=\n",
    "\\int \\limits_{x_{i}}^{x_{i+1}} \\left[ \\frac{f_{i+1}}{h} \\, \\left( x - x_{i}\\right) - \\frac{f_{i}}{h} \\, \\left( x - x_{i+1}\\right) \\right] dx \\\\\n",
    "&=\n",
    "\\left[ \\frac{f_{i+1}}{h} \\, \\frac{\\left( x - x_{i}\\right)^{2}}{2} - \n",
    "\\frac{f_{i}}{h} \\, \\frac{\\left( x - x_{i+1}\\right)^{2}}{2} \\right] \\Bigg|^{\\, x_{i+1}}_{\\, x_{i}} \\\\\n",
    "&=\n",
    "h \\, \\left( \\frac{f_{i}}{2} + \\frac{f_{i+1}}{2} \\right)\n",
    "\\end{split} \\: ,\n",
    "$$"
   ]
  },
  {
   "cell_type": "markdown",
   "metadata": {},
   "source": [
    "which is known as **trapezoidal rule**. From the Trapezoidal rule, we obtain"
   ]
  },
  {
   "cell_type": "markdown",
   "metadata": {},
   "source": [
    "$$\n",
    "\\begin{split}\n",
    "\\int \\limits_{a}^{b} f \\, (x) \\, d x \n",
    "&\\approx \n",
    "\\int \\limits_{x_{1}}^{x_{2}} P_{1} \\left[ x_{1} , x_{2} \\right] \\, d x + \n",
    "\\int \\limits_{x_{2}}^{x_{3}} P_{1} \\left[ x_{2} , x_{3} \\right] \\, d x + \n",
    "\\cdots + \n",
    "\\int \\limits_{x_{N}}^{x_{N+1}} P_{1} \\left[ x_{N} , x_{N+1} \\right] \\, d x \\\\\\\\\n",
    "&\\approx\n",
    "h \\, \\left( \\frac{f_{1}}{2} + \\frac{f_{2}}{2} \\right) + \n",
    "h \\, \\left( \\frac{f_{2}}{2} + \\frac{f_{3}}{2} \\right) +\n",
    "\\cdots\n",
    "h \\, \\left( \\frac{f_{N}}{2} + \\frac{f_{N+1}}{2} \\right) \\\\\\\\\n",
    "&\\approx\n",
    "h \\, \\left( \\frac{f_{1}}{2} + f_{2} + \\cdots + f_{N} + \\frac{f_{N+1}}{2} \\right)\n",
    "\\end{split} \\: ,\n",
    "$$"
   ]
  },
  {
   "cell_type": "markdown",
   "metadata": {},
   "source": [
    "which is known as the **composite trapezoidal rule**."
   ]
  },
  {
   "cell_type": "markdown",
   "metadata": {},
   "source": [
    "## Simpson's rule"
   ]
  },
  {
   "cell_type": "markdown",
   "metadata": {},
   "source": [
    "Divide the definite integral over $\\left[ a, b \\right]$ into definite integrals as follows:"
   ]
  },
  {
   "cell_type": "markdown",
   "metadata": {},
   "source": [
    "$$\n",
    "\\int \\limits_{a}^{b} f \\, (x) \\, d x = \n",
    "\\int \\limits_{x_{1}}^{x_{3}} f \\, (x) \\, d x + \n",
    "\\int \\limits_{x_{3}}^{x_{5}} f \\, (x) \\, d x + \n",
    "\\cdots + \\int \\limits_{x_{N-1}}^{x_{N+1}} f \\, (x) \\, d x \\: .\n",
    "$$"
   ]
  },
  {
   "cell_type": "markdown",
   "metadata": {},
   "source": [
    "Now, consider that each integral can be approximated by:"
   ]
  },
  {
   "cell_type": "markdown",
   "metadata": {},
   "source": [
    "$$\n",
    "\\int \\limits_{x_{i}}^{x_{i+2}} f \\, (x) \\, d x \\approx \\int \\limits_{x_{i}}^{x_{i+2}} P_{2} \\left[ x_{i} , x_{i+1}, x_{i+2} \\right] \\, d x \\: ,\n",
    "$$"
   ]
  },
  {
   "cell_type": "markdown",
   "metadata": {},
   "source": [
    "where $P_{2} \\left[ x_{i} , x_{i+1}, x_{i+2} \\right]$ is a Lagrange's polynomial (`interpolation.pdf`) of order 2 passing through the points $x_{i}$, $x_{i+1}$, and $x_{i+2}$, $i = 1, 3, 5, \\dots, N-1$. Here, this polynomial assumes the following form:"
   ]
  },
  {
   "cell_type": "markdown",
   "metadata": {},
   "source": [
    "$$\n",
    "\\begin{split}\n",
    "P_{2} \\left[ x_{i} , x_{i+1}, x_{i+2} \\right] \n",
    "&= \n",
    "\\left( \\frac{x - x_{i+1}}{x_{i} - x_{i+1}} \\right) \n",
    "\\left( \\frac{x - x_{i+2}}{x_{i} - x_{i+2}} \\right) \\,\n",
    "f_{i} +\n",
    "\\left( \\frac{x - x_{i}}{x_{i+1} - x_{i}} \\right) \n",
    "\\left( \\frac{x - x_{i+2}}{x_{i+1} - x_{i+2}} \\right) \\,\n",
    "f_{i+1} +\n",
    "\\left( \\frac{x - x_{i}}{x_{i+2} - x_{i}} \\right) \n",
    "\\left( \\frac{x - x_{i+1}}{x_{i+2} - x_{i+1}} \\right) \\,\n",
    "f_{i+2} \\\\\\\\\n",
    "&= \n",
    "\\frac{f_{i}}{2 \\, h^{2}} \\, \\left( x - x_{i+1}\\right) \\left( x - x_{i+2}\\right) - \n",
    "\\frac{f_{i+1}}{h^{2}} \\, \\left( x - x_{i}\\right) \\left( x - x_{i+2}\\right) +\n",
    "\\frac{f_{i+2}}{2 \\, h^{2}} \\, \\left( x - x_{i}\\right) \\left( x - x_{i+1}\\right)\n",
    "\\end{split} \\: .\n",
    "$$"
   ]
  },
  {
   "cell_type": "markdown",
   "metadata": {},
   "source": [
    "For convenience, we rewrite this equation by using $x_{i} = x_{i+1} - h$ and $x_{i+2} = x_{i+1} + h$:"
   ]
  },
  {
   "cell_type": "markdown",
   "metadata": {},
   "source": [
    "$$\n",
    "P_{2} \\left[ x_{i} , x_{i+1}, x_{i+2} \\right] =\n",
    "\\frac{f_{i}}{2 \\, h^{2}} \\, \\left( x - x_{i+1} \\right) \\left( x - x_{i+1} - h \\right) - \n",
    "\\frac{f_{i+1}}{h^{2}} \\, \\left( x - x_{i+1} + h \\right) \\left( x - x_{i+1} - h \\right) +\n",
    "\\frac{f_{i+2}}{2 \\, h^{2}} \\, \\left( x - x_{i+1} + h \\right) \\left( x - x_{i+1}\\right)\n",
    "\\: .\n",
    "$$"
   ]
  },
  {
   "cell_type": "markdown",
   "metadata": {},
   "source": [
    "Now, we define a new variable $m = x - x_{i+1}$ and change the variables of the integral as follows:"
   ]
  },
  {
   "cell_type": "markdown",
   "metadata": {},
   "source": [
    "$$\n",
    "\\begin{split}\n",
    "\\int \\limits_{x_{i}}^{x_{i+2}} P_{2} \\left[ x_{i} , x_{i+1}, x_{i+2} \\right] \\, d x \n",
    "&=\n",
    "\\int \\limits_{-h}^{h} \\frac{f_{i}}{2 \\, h^{2}} \\, \\left( m^{2} - h \\, m \\right) \\, d m  - \n",
    "\\int \\limits_{-h}^{h} \\frac{f_{i+1}}{h^{2}} \\, \\left( m^{2} - h^{2} \\right) \\, d m  +\n",
    "\\int \\limits_{-h}^{h} \\frac{f_{i+2}}{2 \\, h^{2}} \\, \\left( m^{2} + h \\, m \\right) \\, d m \\\\\\\\\n",
    "&=\n",
    "\\left[ \\frac{f_{i}}{2 \\, h^{2}} \\, \\left( \\frac{m^{3}}{3} - h \\, \\frac{m^{2}}{2} \\right) \\right] \\Bigg|^{\\, h}_{\\, -h}  - \n",
    "\\left[ \\frac{f_{i+1}}{h^{2}} \\, \\left( \\frac{m^{3}}{3} - h^{2} \\, m \\right) \\right] \\Bigg|^{\\, h}_{\\, -h}  +\n",
    "\\left[ \\frac{f_{i+2}}{2 \\, h^{2}} \\, \\left( \\frac{m^{3}}{3} + h \\, \\frac{m^{2}}{2} \\right) \\right] \\Bigg|^{\\, h}_{\\, -h} \\\\\\\\\n",
    "&=\n",
    "\\frac{h}{3} \\left( \\, f_{i} + 4 \\, f_{i+1} + f_{i+2} \\, \\right)\n",
    "\\end{split} \\: ,\n",
    "$$"
   ]
  },
  {
   "cell_type": "markdown",
   "metadata": {},
   "source": [
    "which is known as **Simpson's rule**. From the Simpson's rule, we obtain"
   ]
  },
  {
   "cell_type": "markdown",
   "metadata": {},
   "source": [
    "$$\n",
    "\\begin{split}\n",
    "\\int \\limits_{a}^{b} f \\, (x) \\, d x \n",
    "&\\approx \n",
    "\\int \\limits_{x_{1}}^{x_{3}} P_{2} \\left[ x_{1} , x_{2}, x_{3} \\right] \\, d x + \n",
    "\\int \\limits_{x_{3}}^{x_{5}} P_{2} \\left[ x_{3} , x_{4}, x_{5} \\right] \\, d x + \n",
    "\\cdots + \n",
    "\\int \\limits_{x_{N-1}}^{x_{N+1}} P_{2} \\left[ x_{N-1} , x_{N}, x_{N+1} \\right] \\, d x \\\\\\\\\n",
    "&\\approx\n",
    "\\frac{h}{3} \\left( \\, f_{1} + 4 \\, f_{2} + f_{3} \\, \\right) + \n",
    "\\frac{h}{3} \\left( \\, f_{3} + 4 \\, f_{4} + f_{5} \\, \\right) +\n",
    "\\cdots\n",
    "\\frac{h}{3} \\left( \\, f_{N-1} + 4 \\, f_{N} + f_{N+1} \\, \\right) \\\\\\\\\n",
    "&\\approx\n",
    "\\frac{h}{3} \\, \\left( f_{1} + 4 \\, f_{2} + 2 \\, f_{3} +\n",
    "4 \\, f_{4} + 2 \\, f_{5} + 4 \\, f_{6} + 2 \\, f_{7} + \\cdots + f_{N+1} \\right)\n",
    "\\end{split} \\: ,\n",
    "$$"
   ]
  },
  {
   "cell_type": "markdown",
   "metadata": {},
   "source": [
    "which is known as the **composite Simpson's rule**."
   ]
  },
  {
   "cell_type": "code",
   "execution_count": 1,
   "metadata": {},
   "outputs": [],
   "source": [
    "import numpy as np\n",
    "from scipy.special import erf"
   ]
  },
  {
   "cell_type": "code",
   "execution_count": 2,
   "metadata": {},
   "outputs": [],
   "source": [
    "def integrand(t):\n",
    "    result = (2./np.sqrt(np.pi))*np.exp(-t*t)\n",
    "    return result"
   ]
  },
  {
   "cell_type": "code",
   "execution_count": 3,
   "metadata": {},
   "outputs": [],
   "source": [
    "def comp_trapezoidal(N, x0, x1, integrand):\n",
    "    assert x1 > x0, 'x1 must be greater than x0'\n",
    "    h = (x1 - x0)/(N - 1)\n",
    "    t = np.linspace(x0, x1, N)\n",
    "    f = integrand(t)\n",
    "    result = h*(f[0]*0.5 + np.sum(f[1:-2]) + f[-1]*0.5)\n",
    "    return result"
   ]
  },
  {
   "cell_type": "code",
   "execution_count": 4,
   "metadata": {},
   "outputs": [],
   "source": [
    "def comp_simpson(N, x0, x1, integrand):\n",
    "    assert x1 > x0, 'x1 must be greater than x0'\n",
    "    N_3 = N - N%3\n",
    "    h = (x1 - x0)/(N_3 - 1)\n",
    "    t = np.linspace(x0, x1, N_3)\n",
    "    f = integrand(t)\n",
    "    result = (h/3.)*(f[0] + np.sum(f[1:-2:2])*4 + np.sum(f[2:-2:2])*2 + f[-1])\n",
    "    return result"
   ]
  },
  {
   "cell_type": "code",
   "execution_count": 5,
   "metadata": {},
   "outputs": [],
   "source": [
    "x = 0.8"
   ]
  },
  {
   "cell_type": "code",
   "execution_count": 6,
   "metadata": {},
   "outputs": [
    {
     "name": "stdout",
     "output_type": "stream",
     "text": [
      "0.742\n",
      "0.742\n",
      "0.742\n"
     ]
    }
   ],
   "source": [
    "print('%.3f' % erf(x))\n",
    "print('%.3f' % comp_trapezoidal(1200, 0., x, integrand))\n",
    "print('%.3f' % comp_simpson(1200, 0., x, integrand))"
   ]
  },
  {
   "cell_type": "markdown",
   "metadata": {
    "collapsed": true,
    "jupyter": {
     "outputs_hidden": true
    }
   },
   "source": [
    "### Exercise"
   ]
  },
  {
   "cell_type": "markdown",
   "metadata": {},
   "source": [
    "Consider an abrupt temperature perturbation at the surface. The residual temperature $T(z_{i})$ at a depth $z_{i}$ (in meters) and time $t$ (in years) after the perturbation is given by"
   ]
  },
  {
   "cell_type": "markdown",
   "metadata": {},
   "source": [
    "$$\n",
    "T(z_{i}) = A \\left[ 1 - \\text{erf} \\left( \\frac{z_{i}}{\\sqrt{4 \\, \\lambda \\, t}}\\right) \\right]\n",
    "$$"
   ]
  },
  {
   "cell_type": "markdown",
   "metadata": {},
   "source": [
    "where $A$ is the amplitude of the perturbation in $^{\\circ}C$, $\\lambda$ is the thermal diffusivity of the medium in $m^{2}/\\text{year}$, and $\\text{erf}$ is the error function."
   ]
  },
  {
   "cell_type": "markdown",
   "metadata": {},
   "source": [
    "Compute the abrupt temparature perturbation by using: i) the routine [scipy.special.erf](https://docs.scipy.org/doc/scipy/reference/generated/scipy.special.erf.html#scipy.special.erf), ii) the function `comp_trapezoidal`, and iii) the function `comp_simpson` shown above. Compare the three computed temperature perturbations. Consider $\\lambda = 31.5576$ $m^{2}/\\text{year}$."
   ]
  },
  {
   "cell_type": "code",
   "execution_count": null,
   "metadata": {},
   "outputs": [],
   "source": []
  }
 ],
 "metadata": {
  "kernelspec": {
   "display_name": "Python 3 (ipykernel)",
   "language": "python",
   "name": "python3"
  },
  "language_info": {
   "codemirror_mode": {
    "name": "ipython",
    "version": 3
   },
   "file_extension": ".py",
   "mimetype": "text/x-python",
   "name": "python",
   "nbconvert_exporter": "python",
   "pygments_lexer": "ipython3",
   "version": "3.11.8"
  }
 },
 "nbformat": 4,
 "nbformat_minor": 4
}
