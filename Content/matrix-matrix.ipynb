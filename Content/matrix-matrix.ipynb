{
 "cells": [
  {
   "cell_type": "markdown",
   "metadata": {},
   "source": [
    "# Matrix-matrix product"
   ]
  },
  {
   "cell_type": "markdown",
   "metadata": {},
   "source": [
    "### Product of two real matrices"
   ]
  },
  {
   "cell_type": "markdown",
   "metadata": {},
   "source": [
    "Let $\\mathbf{A}$ and $\\mathbf{B}$ be, respectively, $N \\times M$ and $M \\times L$ real matrices. They can be represented *element-by-element*, by using a *row partition* or by using a *colunm partition* as follows:"
   ]
  },
  {
   "cell_type": "markdown",
   "metadata": {},
   "source": [
    "$$\n",
    "\\begin{split}\n",
    "    \\mathbf{A} \n",
    "    & = \\begin{bmatrix}\n",
    "        a_{00} & \\cdots & a_{0(M-1)} \\\\\n",
    "        \\vdots &        & \\vdots \\\\\n",
    "        a_{(N-1)0} & \\cdots & a_{(N-1)(M-1)}\n",
    "    \\end{bmatrix}_{N \\times M} \\\\\\\\\n",
    "    & = \\begin{bmatrix}\n",
    "        \\mathbf{A}[0 \\, , \\, : \\, ] \\\\\n",
    "        \\vdots \\\\\n",
    "        \\mathbf{A}[ N-1 \\, , \\, : \\, ]\n",
    "    \\end{bmatrix}_{N \\times M} \\\\\\\\\n",
    "    & = \\begin{bmatrix}\n",
    "        \\mathbf{A}[ \\, : \\, , \\, 0 ] &\n",
    "        \\cdots &\n",
    "        \\mathbf{A}[ \\, : \\, , \\, M-1]\n",
    "    \\end{bmatrix}_{N \\times M} \\:\n",
    "\\end{split}\n",
    "$$"
   ]
  },
  {
   "cell_type": "markdown",
   "metadata": {},
   "source": [
    "and"
   ]
  },
  {
   "cell_type": "markdown",
   "metadata": {},
   "source": [
    "$$\n",
    "\\begin{split}\n",
    "    \\mathbf{B} \n",
    "    & = \\begin{bmatrix}\n",
    "        b_{00} & \\cdots & b_{0(L-1)} \\\\\n",
    "        \\vdots &        & \\vdots \\\\\n",
    "        b_{(M-1)0} & \\cdots & b_{(M-1)(L-1)}\n",
    "    \\end{bmatrix}_{M \\times L} \\\\\\\\\n",
    "    & = \\begin{bmatrix}\n",
    "        \\mathbf{B}[0 \\, , \\, : \\, ] \\\\\n",
    "        \\vdots \\\\\n",
    "        \\mathbf{B}[ M-1 \\, , \\, : \\, ]\n",
    "    \\end{bmatrix}_{M \\times L} \\\\\\\\\n",
    "    & = \\begin{bmatrix}\n",
    "        \\mathbf{B}[ \\, : \\, , \\, 0 ] &\n",
    "        \\cdots &\n",
    "        \\mathbf{B}[ \\, : \\, , \\, L-1]\n",
    "    \\end{bmatrix}_{M \\times L} \\:\n",
    "\\end{split}\n",
    "$$"
   ]
  },
  {
   "cell_type": "markdown",
   "metadata": {},
   "source": [
    "where $a_{ij} = \\mathbf{A}[i,j]$ and $b_{ij} = \\mathbf{B}[i,j]$, $i = 0, ..., N-1$, $j = 0, ..., M-1$ and $k = 0, ..., L-1$."
   ]
  },
  {
   "cell_type": "markdown",
   "metadata": {
    "collapsed": true,
    "jupyter": {
     "outputs_hidden": true
    }
   },
   "source": [
    "Let $\\mathbf{C}$ be a $N \\times L$ matrix given by:"
   ]
  },
  {
   "cell_type": "markdown",
   "metadata": {},
   "source": [
    "$$\n",
    "\\mathbf{C} = \\mathbf{A} \\, \\mathbf{B} \\: ,\n",
    "$$"
   ]
  },
  {
   "cell_type": "markdown",
   "metadata": {},
   "source": [
    "with elements $c_{ij} = \\mathbf{C}[i,k]$, $i = 0, ..., N-1$, $k = 0, ..., L-1$, defined as follows:"
   ]
  },
  {
   "cell_type": "markdown",
   "metadata": {},
   "source": [
    "$$\n",
    "\\begin{split}\n",
    "\\mathbf{C} \n",
    "    & = \\begin{bmatrix}\n",
    "        c_{00} & \\cdots & c_{0(L-1)} \\\\\n",
    "        \\vdots &        & \\vdots \\\\\n",
    "        c_{(N-1)0} & \\cdots & c_{(N-1)(L-1)}\n",
    "    \\end{bmatrix} \\\\\\\\\n",
    "    & = \\begin{bmatrix}\n",
    "        \\left( a_{00} \\, b_{00} + \\cdots + a_{0(M-1)} \\, b_{(M-1)0} \\right) &\n",
    "        \\cdots &\n",
    "        \\left( a_{10} \\, b_{0(L-1)} + \\cdots + a_{1(M-1)} \\, b_{(M-1)(L-1)} \\right) \\\\\n",
    "        \\vdots & & \\vdots \\\\\n",
    "        \\left( a_{(N-1)0} \\, b_{00} + \\cdots + a_{(N-1)(M-1)} \\, b_{(M-1)0} \\right) &\n",
    "        \\cdots &\n",
    "        \\left( a_{(N-1)0} \\, b_{0(L-1)} + \\cdots + a_{(N-1)(M-1)} \\, b_{(M-1)(L-1)} \\right)\n",
    "    \\end{bmatrix} \\:\\: .    \n",
    "\\end{split}\n",
    "$$"
   ]
  },
  {
   "cell_type": "markdown",
   "metadata": {},
   "source": [
    "The matrix $\\mathbf{C}$ can be calculated by following different approaches:"
   ]
  },
  {
   "cell_type": "markdown",
   "metadata": {},
   "source": [
    "#### 1) The *triply nested for*"
   ]
  },
  {
   "cell_type": "markdown",
   "metadata": {},
   "source": [
    "    matmat_real_simple(A, B):\n",
    "    \n",
    "        N, M = shape(A)\n",
    "        M, L = shape(B)\n",
    "        \n",
    "        C = zeros(N,L)\n",
    "\n",
    "        for i = 0:N-1\n",
    "            for j = 0:L-1\n",
    "                for k = 0:M-1\n",
    "                    C[i,j] += A[i,k]*B[k,j]\n",
    "        \n",
    "        return C"
   ]
  },
  {
   "cell_type": "markdown",
   "metadata": {},
   "source": [
    "#### 2) Dot product formulation"
   ]
  },
  {
   "cell_type": "markdown",
   "metadata": {},
   "source": [
    "    matmat_real_dot(A, B):\n",
    "    \n",
    "        N, M = shape(A)\n",
    "        M, L = shape(B)\n",
    "        \n",
    "        C = zeros(N,L)\n",
    "\n",
    "        for i = 0:N-1\n",
    "            for j = 0:L-1\n",
    "                C[i,j] = dot_real(A[i,:],B[:,j])\n",
    "        \n",
    "        return C"
   ]
  },
  {
   "cell_type": "markdown",
   "metadata": {},
   "source": [
    "Notice that the k-loop was removed."
   ]
  },
  {
   "cell_type": "markdown",
   "metadata": {},
   "source": [
    "#### 3) Vector-matrix product formulation (row update)"
   ]
  },
  {
   "cell_type": "markdown",
   "metadata": {},
   "source": [
    "    matmat_real_rows(A, B):\n",
    "\n",
    "        N, M = shape(A)\n",
    "        M, L = shape(B)\n",
    "\n",
    "        C = zeros(N,L)\n",
    "\n",
    "        for i = 0:N-1\n",
    "            C[i,:] = matvec_real_FUNCTION(B[:,:].T, A[i,:])\n",
    "        \n",
    "        return C"
   ]
  },
  {
   "cell_type": "markdown",
   "metadata": {},
   "source": [
    "Notice that the j- and k-loops were removed. It is also important to notice that `A[i,:]` is a row vector and `B[:,:].T` is the transpose of matrix `B[:,:]`."
   ]
  },
  {
   "cell_type": "markdown",
   "metadata": {},
   "source": [
    "#### 4) Matrix-vector product formulation (colunm update)"
   ]
  },
  {
   "cell_type": "markdown",
   "metadata": {},
   "source": [
    "    matmat_real_columns(A, B):\n",
    "\n",
    "        N, M = shape(A)\n",
    "        M, L = shape(B)\n",
    "\n",
    "        C = zeros(N,L)\n",
    "\n",
    "        for j = 0:L-1\n",
    "            C[:,j] = matvec_real_FUNCTION(A[:,:], B[:,j])\n",
    "        \n",
    "        return C"
   ]
  },
  {
   "cell_type": "markdown",
   "metadata": {},
   "source": [
    "Notice that the i- and k-loops were removed."
   ]
  },
  {
   "cell_type": "markdown",
   "metadata": {},
   "source": [
    "#### 5) Outer product formulation"
   ]
  },
  {
   "cell_type": "markdown",
   "metadata": {},
   "source": [
    "Let's first change the loops order in the *triply nested for* algorithm:"
   ]
  },
  {
   "cell_type": "markdown",
   "metadata": {},
   "source": [
    "    for k = 0:M-1\n",
    "        for j = 0:L-1\n",
    "            for i = 0:N-1\n",
    "                C[i,j] += A[i,k]*B[k,j]"
   ]
  },
  {
   "cell_type": "markdown",
   "metadata": {},
   "source": [
    "Then, remove the i-loop"
   ]
  },
  {
   "cell_type": "markdown",
   "metadata": {},
   "source": [
    "    for k = 0:M-1\n",
    "        for j = 0:L-1\n",
    "            C[:,j] += A[:,k]*B[k,j]"
   ]
  },
  {
   "cell_type": "markdown",
   "metadata": {},
   "source": [
    "Notice that this scheme updates the colunms of `C` iteratively. Finally, remove the j-loop:"
   ]
  },
  {
   "cell_type": "markdown",
   "metadata": {},
   "source": [
    "    matmat_real_outer(A, B):\n",
    "\n",
    "        N, M = shape(A)\n",
    "        M, L = shape(B)\n",
    "\n",
    "        C = zeros(N,L)\n",
    "\n",
    "        for k = 0:M-1\n",
    "            C[:,:] += outer_real_FUNCTION(A[:,k], B[k,:])\n",
    "        \n",
    "        return C"
   ]
  },
  {
   "cell_type": "markdown",
   "metadata": {},
   "source": [
    "### Product of two complex matrices"
   ]
  },
  {
   "cell_type": "markdown",
   "metadata": {},
   "source": [
    "Let $\\mathbf{A}$ be an $N \\times M$ complex matrix and $\\mathbf{B}$ be an $M \\times L$ complex matrix given by:\n",
    "\n",
    "$$\n",
    "\\mathbf{A} = \\mathbf{A}_{R} + imag \\, \\mathbf{A}_{I}\n",
    "$$\n",
    "\n",
    "and\n",
    "\n",
    "$$\n",
    "\\mathbf{B} = \\mathbf{B}_{R} + imag \\, \\mathbf{B}_{I} \\: .\n",
    "$$"
   ]
  },
  {
   "cell_type": "markdown",
   "metadata": {},
   "source": [
    "It can be shown that the product $\\mathbf{A} \\mathbf{B}$ results in the following complex matrix:"
   ]
  },
  {
   "cell_type": "markdown",
   "metadata": {},
   "source": [
    "$$\n",
    "\\mathbf{C} = \\mathbf{C}_{R} + imag \\, \\mathbf{C}_{I} \\: ,\n",
    "$$\n",
    "\n",
    "where\n",
    "\n",
    "$$\n",
    "\\mathbf{C}_{R} = \\mathbf{A}_{R} \\mathbf{B}_{R} - \\mathbf{A}_{I} \\mathbf{B}_{I}\n",
    "$$\n",
    "\n",
    "and\n",
    "\n",
    "$$\n",
    "\\mathbf{C}_{I} = \\mathbf{A}_{R} \\mathbf{B}_{I} + \\mathbf{A}_{I} \\mathbf{B}_{R} \\: .\n",
    "$$"
   ]
  },
  {
   "cell_type": "markdown",
   "metadata": {},
   "source": [
    "This product can be represented by the pseudo-code shown below:"
   ]
  },
  {
   "cell_type": "markdown",
   "metadata": {},
   "source": [
    "    matmat_complex(A, B):\n",
    "\n",
    "        # compute the real and imaginary parts of the product\n",
    "        C_R  = matmat_real[function](Re(A), Re(B))\n",
    "        C_R -= matmat_real[function](Im(A), Im(B))\n",
    "        C_I  = matmat_real[function](Re(A), Im(B))\n",
    "        C_I += matmat_real[function](Im(A), Re(B))\n",
    "        C = C_R + imag*C_I\n",
    "\n",
    "        # return the result        \n",
    "        return C"
   ]
  },
  {
   "cell_type": "markdown",
   "metadata": {},
   "source": [
    "### Exercise"
   ]
  },
  {
   "cell_type": "markdown",
   "metadata": {},
   "source": [
    "Create the functions below: \n",
    "* `matmat_real_simple`\n",
    "* `matmat_real_dot` \n",
    "* `matmat_real_rows`\n",
    "* `matmat_real_columns`\n",
    "* `matmat_real_outer`\n",
    "* `matmat_complex`\n",
    "    \n",
    "These functions must pass the following tests:\n",
    "* `test_matmat_real_input_dont_match`\n",
    "* `test_matmat_real_functions_compare_numpy_dot`\n",
    "* `test_matmat_real_functions_ignore_complex`\n",
    "* `test_matmat_complex_compare_numpy_dot`\n",
    "* `test_matmat_complex_invalid_function`"
   ]
  },
  {
   "cell_type": "code",
   "execution_count": 1,
   "metadata": {},
   "outputs": [],
   "source": [
    "import numpy as np"
   ]
  },
  {
   "cell_type": "code",
   "execution_count": 2,
   "metadata": {},
   "outputs": [],
   "source": [
    "A = np.array([[1.,2.],\n",
    "              [3.,4.],\n",
    "              [5.,6.]])\n",
    "B = np.array([[7., 8.],\n",
    "              [9., 10.]])"
   ]
  },
  {
   "cell_type": "code",
   "execution_count": 8,
   "metadata": {},
   "outputs": [],
   "source": [
    "C = np.dot(A, B)"
   ]
  },
  {
   "cell_type": "code",
   "execution_count": 4,
   "metadata": {},
   "outputs": [
    {
     "name": "stdout",
     "output_type": "stream",
     "text": [
      "[[ 25.  28.]\n",
      " [ 57.  64.]\n",
      " [ 89. 100.]]\n"
     ]
    }
   ],
   "source": [
    "print(C)"
   ]
  },
  {
   "cell_type": "code",
   "execution_count": 5,
   "metadata": {},
   "outputs": [
    {
     "data": {
      "text/plain": [
       "array([[ 25.,  28.],\n",
       "       [ 57.,  64.],\n",
       "       [ 89., 100.]])"
      ]
     },
     "execution_count": 5,
     "metadata": {},
     "output_type": "execute_result"
    }
   ],
   "source": [
    "A@B"
   ]
  },
  {
   "cell_type": "code",
   "execution_count": null,
   "metadata": {},
   "outputs": [],
   "source": []
  }
 ],
 "metadata": {
  "anaconda-cloud": {},
  "kernelspec": {
   "display_name": "Python 3 (ipykernel)",
   "language": "python",
   "name": "python3"
  },
  "language_info": {
   "codemirror_mode": {
    "name": "ipython",
    "version": 3
   },
   "file_extension": ".py",
   "mimetype": "text/x-python",
   "name": "python",
   "nbconvert_exporter": "python",
   "pygments_lexer": "ipython3",
   "version": "3.11.8"
  }
 },
 "nbformat": 4,
 "nbformat_minor": 4
}
