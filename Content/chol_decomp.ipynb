{
 "cells": [
  {
   "cell_type": "markdown",
   "metadata": {},
   "source": [
    "# Cholesky decomposition"
   ]
  },
  {
   "cell_type": "markdown",
   "metadata": {},
   "source": [
    "Consider an $N \\times N$ matrix $\\mathbf{A}$ that is symmetric and [positive definite](http://mathworld.wolfram.com/PositiveDefiniteMatrix.html). Then, it satisfies the following equations:"
   ]
  },
  {
   "cell_type": "markdown",
   "metadata": {},
   "source": [
    "<a id='eq1a'></a>\n",
    "$$\n",
    "\\mathbf{A} = \\mathbf{A}^{\\top} \\tag{1a}\n",
    "$$"
   ]
  },
  {
   "cell_type": "markdown",
   "metadata": {},
   "source": [
    "and"
   ]
  },
  {
   "cell_type": "markdown",
   "metadata": {},
   "source": [
    "<a id='eq1b'></a>\n",
    "$$\n",
    "\\mathbf{x}^{\\top} \\mathbf{A} \\mathbf{x} \\gt 0 \\: , \n",
    "\\quad \\text{for all nonzero} \\: \\mathbf{x} \\in \\mathbb{R}^{N} \\: . \\tag{1b}\n",
    "$$"
   ]
  },
  {
   "cell_type": "markdown",
   "metadata": {},
   "source": [
    "In this case, $\\mathbf{A}$ satisfies the following theorem (Golub and Van Loan, 2013):"
   ]
  },
  {
   "cell_type": "markdown",
   "metadata": {},
   "source": [
    "**THEOREM:** If $\\mathbf{A} \\in \\mathbb{R}^{N \\times N}$ is symmetric and positive definite, then there exists a unique lower triangular matrix $\\mathbf{G} \\in \\mathbb{R}^{N \\times N}$ with positive diagonal entries such that $\\mathbf{A} = \\mathbf{G} \\mathbf{G}^{\\top}$."
   ]
  },
  {
   "cell_type": "markdown",
   "metadata": {},
   "source": [
    "### Algorithm for computing the Cholesky decomposition"
   ]
  },
  {
   "cell_type": "markdown",
   "metadata": {},
   "source": [
    "The following cells illustrate the Cholesky's decomposition algorithm for the particular case in which $N = 4$."
   ]
  },
  {
   "cell_type": "markdown",
   "metadata": {},
   "source": [
    "$$\n",
    "\\begin{bmatrix}\n",
    "a_{00} & a_{10} & a_{20} & a_{30} \\\\\n",
    "a_{10} & a_{11} & a_{21} & a_{31} \\\\\n",
    "a_{20} & a_{21} & a_{22} & a_{32} \\\\\n",
    "a_{30} & a_{31} & a_{32} & a_{33}\n",
    "\\end{bmatrix} =\n",
    "\\begin{bmatrix}\n",
    "g_{00} &  &  &  \\\\\n",
    "g_{10} & g_{12} & & \\\\\n",
    "g_{20} & g_{22} & g_{22} & \\\\\n",
    "g_{30} & g_{32} & g_{32} & g_{33}\n",
    "\\end{bmatrix}\n",
    "\\begin{bmatrix}\n",
    "g_{00} & g_{10} & g_{20} & g_{30} \\\\\n",
    " & g_{11} & g_{21} & g_{31} \\\\\n",
    " & & g_{22} & g_{32} \\\\\n",
    " & & & g_{33}\n",
    "\\end{bmatrix}\n",
    "$$"
   ]
  },
  {
   "cell_type": "markdown",
   "metadata": {},
   "source": [
    "Column 0 $\\left( \\, j = 0 \\, \\right)$\n",
    "\n",
    "$$\n",
    "\\begin{split}\n",
    "a_{00} &= g_{00} g_{00} &\\longrightarrow \\: &g_{00} = \\sqrt{a_{00}} \\\\\\\\\n",
    "a_{10} &= g_{00} g_{10} &\\longrightarrow \\: &g_{10} = \\frac{a_{10}}{g_{00}} \\\\\\\\\n",
    "a_{20} &= g_{00} g_{20} &\\longrightarrow \\: &g_{20} = \\frac{a_{20}}{g_{00}} \\\\\\\\\n",
    "a_{30} &= g_{00} g_{30} &\\longrightarrow \\: &g_{30} = \\frac{a_{30}}{g_{00}}\n",
    "\\end{split}\n",
    "$$"
   ]
  },
  {
   "cell_type": "markdown",
   "metadata": {},
   "source": [
    "Column 1 $\\left( \\, j = 1 \\, \\right)$\n",
    "\n",
    "$$\n",
    "\\begin{split}\n",
    "a_{11} &= g_{10} g_{10} + g_{11} g_{11} &\\longrightarrow \\: &g_{11} = \\sqrt{a_{11} - g_{10} g_{10}} \\\\\\\\\n",
    "a_{21} &= g_{10} g_{20} + g_{11} g_{21} &\\longrightarrow \\: &g_{21} = \\frac{a_{21} - g_{10} g_{20}}{g_{11}} \\\\\\\\\n",
    "a_{31} &= g_{10} g_{30} + g_{11} g_{31} &\\longrightarrow \\: &g_{31} = \\frac{a_{31} - g_{10} g_{30}}{g_{11}} \\\\\\\\\n",
    "\\end{split}\n",
    "$$"
   ]
  },
  {
   "cell_type": "markdown",
   "metadata": {},
   "source": [
    "Column 2 $\\left( \\, j = 2 \\, \\right)$\n",
    "\n",
    "$$\n",
    "\\begin{split}\n",
    "a_{22} &= g_{20} g_{20} + g_{21} g_{21} + g_{22} g_{22} &\\longrightarrow \\: &g_{22} = \\sqrt{a_{22} - g_{20} g_{20} - g_{21} g_{21}} \\\\\\\\\n",
    "a_{32} &= g_{20} g_{30} + g_{21} g_{31} + g_{22} g_{32} &\\longrightarrow \\: &g_{32} = \\frac{a_{32} - g_{20} g_{30} - g_{21} g_{31}}{g_{22}} \\\\\\\\\n",
    "\\end{split}\n",
    "$$"
   ]
  },
  {
   "cell_type": "markdown",
   "metadata": {},
   "source": [
    "Column 3 $\\left( \\, j = 3 \\, \\right)$\n",
    "\n",
    "$$\n",
    "\\begin{split}\n",
    "a_{33} &= g_{30} g_{30} + g_{31} g_{31} + g_{32} g_{32} + g_{33} g_{33} &\\longrightarrow \\: &g_{33} = \\sqrt{a_{33} - g_{30} g_{30} - g_{31} g_{31} - g_{32} g_{32}}\n",
    "\\end{split}\n",
    "$$"
   ]
  },
  {
   "cell_type": "markdown",
   "metadata": {},
   "source": [
    "The example given above can be easily generalized for any symmetric and positive definite $N \\times N$ matrix $\\mathbf{A}$.\n",
    "\n",
    "The Cholesky decomposition can be implemented as follows:"
   ]
  },
  {
   "cell_type": "markdown",
   "metadata": {},
   "source": [
    "    def Cholesky_decomp(A, check_input=True):\n",
    "        N = A.shape[0]\n",
    "        if check_input is True:\n",
    "            assert A.ndim == 2, 'A must be a matrix'\n",
    "            assert A.shape[1] == N, 'A must be square'\n",
    "            assert np.all(A.T == A), 'A must be symmetric'\n",
    "        \n",
    "        G = N x N matrix of zeros \n",
    "\n",
    "        for j = 0:N-1\n",
    "\n",
    "            G[j,j] = A[j,j] - dot(G[j,:j-1],G[j,:j-1])\n",
    "\n",
    "            G[j,j] = sqrt(G[j,j])\n",
    "\n",
    "            G[j+1:,j] = (A[j+1:,j] - dot(G[j+1:,:j-1], G[j,:j-1]))/G[j,j]\n",
    "        \n",
    "        return G"
   ]
  },
  {
   "cell_type": "markdown",
   "metadata": {},
   "source": [
    "Note that this algorithm can be used to verify if a given symmetric matrix is positive definite. If a given matrix is not positive definite, there will be a negative argument in the square root presented above.\n",
    "\n",
    "An alternative implementation overwrites the lower triangle of $\\mathbf{A}$, including the main diagonal, with the Cholesky factor $\\mathbf{G}$."
   ]
  },
  {
   "cell_type": "markdown",
   "metadata": {},
   "source": [
    "    def Cholesky_decomp_overwrite(A, check_input=True):\n",
    "        N = A.shape[0]\n",
    "        if check_input is True:\n",
    "            assert A.ndim == 2, 'A must be a matrix'\n",
    "            assert A.shape[1] == N, 'A must be square'\n",
    "            assert np.all(A.T == A), 'A must be symmetric'\n",
    "\n",
    "        for j = 0:N-1\n",
    "            if j > 0:\n",
    "                A[j:,j] = A[j:,j] - dot(A[j:,:j-1], A[j,:j-1])\n",
    "            A[:,j] = A[:,j]/np.sqrt(A[j,j])"
   ]
  },
  {
   "cell_type": "markdown",
   "metadata": {},
   "source": [
    "#### Testing the function `Cholesky_decomp`"
   ]
  },
  {
   "cell_type": "raw",
   "metadata": {},
   "source": [
    "# import stuff\n",
    "import numpy as np\n",
    "from scipy.linalg import cholesky"
   ]
  },
  {
   "cell_type": "raw",
   "metadata": {},
   "source": [
    "# define N\n",
    "N = 7"
   ]
  },
  {
   "cell_type": "raw",
   "metadata": {},
   "source": [
    "# create a symmetric and positive definite matrix A\n",
    "A = np.random.rand(N,N) + 2*np.identity(N)\n",
    "A = 0.5*(A + A.T)"
   ]
  },
  {
   "cell_type": "raw",
   "metadata": {},
   "source": [
    "# compute the Cholesky decomposition\n",
    "G = Cholesky_decomp(A)"
   ]
  },
  {
   "cell_type": "raw",
   "metadata": {},
   "source": [
    "# verify if product GGT is equal to A\n",
    "np.allclose(A, np.dot(G, G.T))"
   ]
  },
  {
   "cell_type": "raw",
   "metadata": {},
   "source": [
    "# compute the Cholesky decomposition with scipy\n",
    "G_scipy = cholesky(A, lower=True)"
   ]
  },
  {
   "cell_type": "raw",
   "metadata": {},
   "source": [
    "# compare with your result\n",
    "np.allclose(G_scipy, G)"
   ]
  },
  {
   "cell_type": "markdown",
   "metadata": {},
   "source": [
    "#### Testing the function `Cholesky_decomp_overwrite`"
   ]
  },
  {
   "cell_type": "raw",
   "metadata": {},
   "source": [
    "# compute the Cholesky decomposition overwriting A\n",
    "Cholesky_decomp_overwrite(A)"
   ]
  },
  {
   "cell_type": "raw",
   "metadata": {},
   "source": [
    "# compare the lower triangle of A with the previously computed G\n",
    "np.allclose(np.tril(A), G)"
   ]
  },
  {
   "cell_type": "markdown",
   "metadata": {},
   "source": [
    "### Computing inverses by using the Cholesky decomposition"
   ]
  },
  {
   "cell_type": "markdown",
   "metadata": {},
   "source": [
    "As we have learned in the notebook `gauss-elim-pivoting`, each column of the inverse of a matrix can be computed by solving a linear system. If the matrix is symmetric and positive definite, we may use the Cholesky decomposition to compute its inverse. In this case, we need to compute the matrix $\\mathbf{G}$ just once and use it to solve the $N$ required linear systems, each one for a different column of the inverse."
   ]
  },
  {
   "cell_type": "markdown",
   "metadata": {},
   "source": [
    "### Solving a linear system by applying the Cholesky decomposition"
   ]
  },
  {
   "cell_type": "markdown",
   "metadata": {},
   "source": [
    "Consider a linear system"
   ]
  },
  {
   "cell_type": "markdown",
   "metadata": {},
   "source": [
    "<a id='eq2'></a>\n",
    "$$\n",
    "\\mathbf{A} \\mathbf{x} = \\mathbf{y} \\: , \\tag{2}\n",
    "$$"
   ]
  },
  {
   "cell_type": "markdown",
   "metadata": {},
   "source": [
    "where $\\mathbf{A}$ is a symmetric positive definite matrix. In this case, the linear system can be rewritten as follows:"
   ]
  },
  {
   "cell_type": "markdown",
   "metadata": {},
   "source": [
    "<a id='eq3'></a>\n",
    "$$\n",
    "\\begin{align}\n",
    "\\mathbf{A} \\, \\mathbf{x} &= \\mathbf{y} \\tag{3a} \\\\\n",
    "\\mathbf{G} \\, \\mathbf{G}^{\\top} \\mathbf{x} &= \\mathbf{y} \\tag{3b}\n",
    "\\end{align}\n",
    "$$"
   ]
  },
  {
   "cell_type": "markdown",
   "metadata": {},
   "source": [
    "So, the linear system can be solved in two steps:"
   ]
  },
  {
   "cell_type": "markdown",
   "metadata": {},
   "source": [
    "<a id='eq4'></a>\n",
    "$$\n",
    "\\begin{align}\n",
    "\\mathbf{G} \\, \\mathbf{w} &= \\mathbf{y} \\tag{4a} \\\\\n",
    "\\mathbf{G}^{\\top} \\, \\mathbf{x} &= \\mathbf{w} \\tag{4b}\n",
    "\\end{align}\n",
    "$$"
   ]
  },
  {
   "cell_type": "markdown",
   "metadata": {},
   "source": [
    "### References\n",
    "\n",
    "* Golub, G. H. and C. F. Van Loan, (2013), Matrix computations, 4th edition, Johns Hopkins University Press, ISBN 978-1-4214-0794-4."
   ]
  },
  {
   "cell_type": "markdown",
   "metadata": {},
   "source": [
    "### Exercise 1 (optional)"
   ]
  },
  {
   "cell_type": "markdown",
   "metadata": {},
   "source": [
    "1) Create a function called `cho_decomp` for computing the matrix `G` from a symmetric and positive definite matrix `A`. The function must receive `A` and return the matrix `G`.\n",
    "\n",
    "2) Use the function `cho_decomp` to verify if $\\mathbf{A} = \\mathbf{G}\\mathbf{G}^{\\top}$."
   ]
  },
  {
   "cell_type": "markdown",
   "metadata": {},
   "source": [
    "### Exercise 2 (optional)"
   ]
  },
  {
   "cell_type": "markdown",
   "metadata": {},
   "source": [
    "1) Create a function called `cho_solve` to solve a linear system by using the calculated `G`. The function must receive `G` and `y` and return the solution vector `x`. Use the functions you have implemented previously for solving triangular and diagonal systems.\n",
    "\n",
    "2) Compare the solution obtained by using the function `cho_solve` with the solution obtained by using the routine [`numpy.linalg.solve`](https://numpy.org/doc/stable/reference/generated/numpy.linalg.solve.html)"
   ]
  },
  {
   "cell_type": "markdown",
   "metadata": {},
   "source": [
    "### Exercise 3 (optional)"
   ]
  },
  {
   "cell_type": "markdown",
   "metadata": {},
   "source": [
    "1) Create a function called `cho_inverse` to compute the inverse of a symmetric positive definite matrix. The code must receive a matrix `A` and calculate its inverse `Ainv`, column by column, by using the functions `cho_decomp` and `cho_solve`.\n",
    "\n",
    "2) Use the function `cho_inverse` to compute the inverse of a symmetric positive definite matrix and verify if $\\mathbf{A} \\mathbf{A}^{-1} = \\mathbf{I}$."
   ]
  },
  {
   "cell_type": "code",
   "execution_count": null,
   "metadata": {},
   "outputs": [],
   "source": []
  }
 ],
 "metadata": {
  "kernelspec": {
   "display_name": "Python 3 (ipykernel)",
   "language": "python",
   "name": "python3"
  },
  "language_info": {
   "codemirror_mode": {
    "name": "ipython",
    "version": 3
   },
   "file_extension": ".py",
   "mimetype": "text/x-python",
   "name": "python",
   "nbconvert_exporter": "python",
   "pygments_lexer": "ipython3",
   "version": "3.11.8"
  }
 },
 "nbformat": 4,
 "nbformat_minor": 4
}
