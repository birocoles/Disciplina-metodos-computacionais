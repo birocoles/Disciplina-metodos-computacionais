{
 "cells": [
  {
   "cell_type": "markdown",
   "metadata": {},
   "source": [
    "# Cholesky decomposition"
   ]
  },
  {
   "cell_type": "markdown",
   "metadata": {},
   "source": [
    "Consider an $N \\times N$ matrix $\\mathbf{A}$ that is symmetric and [positive definite](http://mathworld.wolfram.com/PositiveDefiniteMatrix.html). Then, it satisfies the following equations:"
   ]
  },
  {
   "cell_type": "markdown",
   "metadata": {},
   "source": [
    "<a id='eq1a'></a>\n",
    "$$\n",
    "\\mathbf{A} = \\mathbf{A}^{\\top} \\tag{1a}\n",
    "$$"
   ]
  },
  {
   "cell_type": "markdown",
   "metadata": {},
   "source": [
    "and"
   ]
  },
  {
   "cell_type": "markdown",
   "metadata": {},
   "source": [
    "<a id='eq1b'></a>\n",
    "$$\n",
    "\\mathbf{x}^{\\top} \\mathbf{A} \\mathbf{x} \\gt 0 \\: , \n",
    "\\quad \\text{for all nonzero} \\: \\mathbf{x} \\in \\mathbb{R}^{N} \\: . \\tag{1b}\n",
    "$$"
   ]
  },
  {
   "cell_type": "markdown",
   "metadata": {},
   "source": [
    "In this case, $\\mathbf{A}$ satisfies the following theorem (Golub and Van Loan, 2013):"
   ]
  },
  {
   "cell_type": "markdown",
   "metadata": {},
   "source": [
    "**THEOREM:** If $\\mathbf{A} \\in \\mathbb{R}^{N \\times N}$ is symmetric and positive definite, then there exists a unique lower triangular matrix $\\mathbf{G} \\in \\mathbb{R}^{N \\times N}$ with positive diagonal entries such that $\\mathbf{A} = \\mathbf{G} \\mathbf{G}^{\\top}$."
   ]
  },
  {
   "cell_type": "markdown",
   "metadata": {},
   "source": [
    "### Algorithm for computing the Cholesky decomposition"
   ]
  },
  {
   "cell_type": "markdown",
   "metadata": {},
   "source": [
    "The following cells illustrate the Cholesky's decomposition algorithm for the particular case in which $N = 4$."
   ]
  },
  {
   "cell_type": "markdown",
   "metadata": {},
   "source": [
    "$$\n",
    "\\begin{bmatrix}\n",
    "a_{00} & a_{10} & a_{20} & a_{30} \\\\\n",
    "a_{10} & a_{11} & a_{21} & a_{31} \\\\\n",
    "a_{20} & a_{21} & a_{22} & a_{32} \\\\\n",
    "a_{30} & a_{31} & a_{32} & a_{33}\n",
    "\\end{bmatrix} =\n",
    "\\begin{bmatrix}\n",
    "g_{00} &  &  &  \\\\\n",
    "g_{10} & g_{11} & & \\\\\n",
    "g_{20} & g_{21} & g_{22} & \\\\\n",
    "g_{30} & g_{31} & g_{32} & g_{33}\n",
    "\\end{bmatrix}\n",
    "\\begin{bmatrix}\n",
    "g_{00} & g_{10} & g_{20} & g_{30} \\\\\n",
    " & g_{11} & g_{21} & g_{31} \\\\\n",
    " & & g_{22} & g_{32} \\\\\n",
    " & & & g_{33}\n",
    "\\end{bmatrix}\n",
    "$$"
   ]
  },
  {
   "cell_type": "markdown",
   "metadata": {},
   "source": [
    "Column 0 $\\left( \\, j = 0 \\, \\right)$\n",
    "\n",
    "$$\n",
    "\\begin{split}\n",
    "a_{00} &= g_{00} g_{00} &\\longrightarrow \\: &g_{00} = \\sqrt{a_{00}} \\\\\\\\\n",
    "a_{10} &= g_{00} g_{10} &\\longrightarrow \\: &g_{10} = \\frac{a_{10}}{g_{00}} \\\\\\\\\n",
    "a_{20} &= g_{00} g_{20} &\\longrightarrow \\: &g_{20} = \\frac{a_{20}}{g_{00}} \\\\\\\\\n",
    "a_{30} &= g_{00} g_{30} &\\longrightarrow \\: &g_{30} = \\frac{a_{30}}{g_{00}}\n",
    "\\end{split}\n",
    "$$"
   ]
  },
  {
   "cell_type": "markdown",
   "metadata": {},
   "source": [
    "Column 1 $\\left( \\, j = 1 \\, \\right)$\n",
    "\n",
    "$$\n",
    "\\begin{split}\n",
    "a_{11} &= g_{10} g_{10} + g_{11} g_{11} &\\longrightarrow \\: &g_{11} = \\sqrt{a_{11} - g_{10} g_{10}} \\\\\\\\\n",
    "a_{21} &= g_{10} g_{20} + g_{11} g_{21} &\\longrightarrow \\: &g_{21} = \\frac{a_{21} - g_{10} g_{20}}{g_{11}} \\\\\\\\\n",
    "a_{31} &= g_{10} g_{30} + g_{11} g_{31} &\\longrightarrow \\: &g_{31} = \\frac{a_{31} - g_{10} g_{30}}{g_{11}} \\\\\\\\\n",
    "\\end{split}\n",
    "$$"
   ]
  },
  {
   "cell_type": "markdown",
   "metadata": {},
   "source": [
    "Column 2 $\\left( \\, j = 2 \\, \\right)$\n",
    "\n",
    "$$\n",
    "\\begin{split}\n",
    "a_{22} &= g_{20} g_{20} + g_{21} g_{21} + g_{22} g_{22} &\\longrightarrow \\: &g_{22} = \\sqrt{a_{22} - g_{20} g_{20} - g_{21} g_{21}} \\\\\\\\\n",
    "a_{32} &= g_{20} g_{30} + g_{21} g_{31} + g_{22} g_{32} &\\longrightarrow \\: &g_{32} = \\frac{a_{32} - g_{20} g_{30} - g_{21} g_{31}}{g_{22}} \\\\\\\\\n",
    "\\end{split}\n",
    "$$"
   ]
  },
  {
   "cell_type": "markdown",
   "metadata": {},
   "source": [
    "Column 3 $\\left( \\, j = 3 \\, \\right)$\n",
    "\n",
    "$$\n",
    "\\begin{split}\n",
    "a_{33} &= g_{30} g_{30} + g_{31} g_{31} + g_{32} g_{32} + g_{33} g_{33} &\\longrightarrow \\: &g_{33} = \\sqrt{a_{33} - g_{30} g_{30} - g_{31} g_{31} - g_{32} g_{32}}\n",
    "\\end{split}\n",
    "$$"
   ]
  },
  {
   "cell_type": "markdown",
   "metadata": {},
   "source": [
    "The example given above can be easily generalized for any symmetric and positive definite $N \\times N$ matrix $\\mathbf{A}$."
   ]
  },
  {
   "cell_type": "markdown",
   "metadata": {},
   "source": [
    "### Computing inverses by using the Cholesky decomposition"
   ]
  },
  {
   "cell_type": "markdown",
   "metadata": {},
   "source": [
    "As we have learned in the notebook `gauss-elim-pivoting`, each column of the inverse of a matrix can be computed by solving a linear system. If the matrix is symmetric and positive definite, we may use the Cholesky decomposition to compute its inverse. In this case, we need to compute the matrix $\\mathbf{G}$ just once and use it to solve the $N$ required linear systems, each one for a different column of the inverse."
   ]
  },
  {
   "cell_type": "markdown",
   "metadata": {},
   "source": [
    "### Solving a linear system by applying the Cholesky decomposition"
   ]
  },
  {
   "cell_type": "markdown",
   "metadata": {},
   "source": [
    "Consider a linear system"
   ]
  },
  {
   "cell_type": "markdown",
   "metadata": {},
   "source": [
    "<a id='eq2'></a>\n",
    "$$\n",
    "\\mathbf{A} \\mathbf{x} = \\mathbf{y} \\: , \\tag{2}\n",
    "$$"
   ]
  },
  {
   "cell_type": "markdown",
   "metadata": {},
   "source": [
    "where $\\mathbf{A}$ is a symmetric positive definite matrix. In this case, the linear system can be rewritten as follows:"
   ]
  },
  {
   "cell_type": "markdown",
   "metadata": {},
   "source": [
    "<a id='eq3'></a>\n",
    "$$\n",
    "\\begin{align}\n",
    "\\mathbf{A} \\, \\mathbf{x} &= \\mathbf{y} \\tag{3a} \\\\\n",
    "\\mathbf{G} \\, \\mathbf{G}^{\\top} \\mathbf{x} &= \\mathbf{y} \\tag{3b}\n",
    "\\end{align}\n",
    "$$"
   ]
  },
  {
   "cell_type": "markdown",
   "metadata": {},
   "source": [
    "So, the linear system can be solved in two steps:"
   ]
  },
  {
   "cell_type": "markdown",
   "metadata": {},
   "source": [
    "<a id='eq4'></a>\n",
    "$$\n",
    "\\begin{align}\n",
    "\\mathbf{G} \\, \\mathbf{w} &= \\mathbf{y} \\tag{4a} \\\\\n",
    "\\mathbf{G}^{\\top} \\, \\mathbf{x} &= \\mathbf{w} \\tag{4b}\n",
    "\\end{align}\n",
    "$$"
   ]
  },
  {
   "cell_type": "markdown",
   "metadata": {},
   "source": [
    "### References\n",
    "\n",
    "* Golub, G. H. and C. F. Van Loan, (2013), Matrix computations, 4th edition, Johns Hopkins University Press, ISBN 978-1-4214-0794-4."
   ]
  },
  {
   "cell_type": "markdown",
   "metadata": {},
   "source": [
    "### Exercise 1"
   ]
  },
  {
   "cell_type": "markdown",
   "metadata": {},
   "source": [
    "Create a function `cho_decomp` according to the template below:"
   ]
  },
  {
   "cell_type": "markdown",
   "metadata": {},
   "source": [
    "```python\n",
    "def cho_decomp(A, check_input=True):\n",
    "    '''\n",
    "    Compute the Cholesky decomposition of a symmetric and \n",
    "    positive definite matrix A. Matrix A is not modified.\n",
    "    \n",
    "    Parameters\n",
    "    ----------\n",
    "    A : numpy narray 2d\n",
    "        Full square matrix of the linear system.\n",
    "    check_input : boolean\n",
    "        If True, verify if the input is valid. Default is True.\n",
    "    Returns\n",
    "    -------\n",
    "    G : numpy array 2d\n",
    "        Lower triangular matrix representing the Cholesky factor of matrix A.\n",
    "    '''\n",
    "    N = A.shape[0]\n",
    "    if check_input is True:\n",
    "        assert A.ndim == 2, 'A must be a matrix'\n",
    "        assert A.shape[1] == N, 'A must be square'\n",
    "        assert np.all(A.T == A), 'A must be symmetric'\n",
    "    \n",
    "    G = N x N matrix of zeros \n",
    "    for j = 0:N-1\n",
    "        G[j,j] = A[j,j] - dot(G[j,:j-1],G[j,:j-1])\n",
    "        if G[j,j] <= 0:\n",
    "            raise ValueError(\"A is not positive definite\")\n",
    "        G[j,j] = sqrt(G[j,j])\n",
    "        G[j+1:,j] = (A[j+1:,j] - dot(G[j+1:,:j-1], G[j,:j-1]))/G[j,j]\n",
    "    \n",
    "    return G\n",
    "```"
   ]
  },
  {
   "cell_type": "markdown",
   "metadata": {},
   "source": [
    "Note that the function `cho_decomp` can be used to verify if a given symmetric matrix is positive definite. If a given matrix is not positive definite, there will be a negative argument in the square root presented above."
   ]
  },
  {
   "cell_type": "markdown",
   "metadata": {},
   "source": [
    "Additionally, create at least **two tests**:\n",
    "\n",
    "* Define a symmetric and positive definite matrix `A`, compute the Cholesky decomposition with function `cho_decomp`, verify if `A` = `G` `G`<sup>T</sup>.\n",
    "* Define a symmetric and positive definite matrix `A`, define a vector `x`, compute a vector `y`, compute the Cholesky decomposition of `A` with your function `cho_decomp`, use the computed Cholesky factor and your functions to solve triangular systems to obtain a solution `x1` of the system `A x1 = y`, compare `x1` with the true solution `x`."
   ]
  },
  {
   "cell_type": "markdown",
   "metadata": {},
   "source": [
    "### Exercise 2"
   ]
  },
  {
   "cell_type": "markdown",
   "metadata": {},
   "source": [
    "An alternative implementation overwrites the lower triangle of $\\mathbf{A}$, including the main diagonal, with the Cholesky factor $\\mathbf{G}$:"
   ]
  },
  {
   "cell_type": "markdown",
   "metadata": {},
   "source": [
    "```python\n",
    "def cho_decomp_overwrite(A, check_input=True):\n",
    "    '''\n",
    "    Compute the Cholesky decomposition of a symmetric and \n",
    "    positive definite matrix A. The lower triangle of A, including its main\n",
    "    diagonal, is overwritten by its Cholesky factor.\n",
    "    \n",
    "    Parameters\n",
    "    ----------\n",
    "    A : numpy narray 2d\n",
    "        Full square matrix of the linear system.\n",
    "    check_input : boolean\n",
    "        If True, verify if the input is valid. Default is True.\n",
    "    Returns\n",
    "    -------\n",
    "    A : numpy array 2d\n",
    "        Modified matrix A with its lower triangle, including its main diagonal, overwritten \n",
    "        by its corresponding Cholesky factor.\n",
    "    '''\n",
    "    N = A.shape[0]\n",
    "    if check_input is True:\n",
    "        assert A.ndim == 2, 'A must be a matrix'\n",
    "        assert A.shape[1] == N, 'A must be square'\n",
    "        assert np.all(A.T == A), 'A must be symmetric'\n",
    "    for j = 0:N-1\n",
    "        if j > 0:\n",
    "            A[j:,j] = A[j:,j] - dot(A[j:,:j-1], A[j,:j-1])\n",
    "        if np.sqrt(A[j,j]) <= 0:\n",
    "            raise ValueError(\"A is not positive definite\")\n",
    "        A[:,j] = A[:,j]/np.sqrt(A[j,j])\n",
    "    return A\n",
    "```"
   ]
  },
  {
   "cell_type": "markdown",
   "metadata": {},
   "source": [
    "Additionally, create at least **two tests**:\n",
    "\n",
    "* Define a symmetric and positive definite matrix `A`, define a copy `A1` of matrix `A`, compute the Cholesky decomposition of `A1` with your function `cho_decomp_overwrite`, verify if `A` = `G` `G`<sup>T</sup>.\n",
    "* Define a symmetric and positive definite matrix `A`, define a vector `x`, compute a vector `y`, compute the Cholesky decomposition of `A` with your function `cho_decomp_overwrite`, use the computed Cholesky factor and your functions to solve triangular systems to obtain a solution `x1` of the system `A x1 = y`, compare `x1` with the true solution `x`."
   ]
  },
  {
   "cell_type": "markdown",
   "metadata": {},
   "source": [
    "### Exercise 3"
   ]
  },
  {
   "cell_type": "markdown",
   "metadata": {},
   "source": [
    "Create a function called `cho_inverse` to compute the inverse of a symmetric positive definite matrix according to the template below: "
   ]
  },
  {
   "cell_type": "markdown",
   "metadata": {},
   "source": [
    "```python\n",
    "def cho_inverse(G, check_input=True):\n",
    "    '''\n",
    "    Compute the inverse of a symmetric and positive definite matrix A \n",
    "    by using its Cholesky factor.\n",
    "    \n",
    "    Parameters\n",
    "    ----------\n",
    "    G : numpy narray 2d\n",
    "        Cholesky factor of matrix A (output of function 'cho_decomp' or 'cho_decomp_overwrite').\n",
    "    check_input : boolean\n",
    "        If True, verify if the input is valid. Default is True.\n",
    "    Returns\n",
    "    -------\n",
    "    Ainv : numpy array 2d\n",
    "        Inverse of A.\n",
    "    '''\n",
    "    N = G.shape[0]\n",
    "    if check_input is True:\n",
    "        assert G.ndim == 2, 'G must be a matrix'\n",
    "        assert G.shape[1] == N, 'G must be square'\n",
    "\n",
    "    # create your code here\n",
    "    \n",
    "    return Ainv\n",
    "\n",
    "\n",
    "```"
   ]
  },
  {
   "cell_type": "markdown",
   "metadata": {},
   "source": [
    "The code must receive a matrix `A` and calculate its inverse `Ainv`, column by column, by using the functions `cho_decomp` and `cho_solve`.\n",
    "\n",
    "2) Use the function `cho_inverse` to compute the inverse of a symmetric positive definite matrix and verify if $\\mathbf{A} \\mathbf{A}^{-1} = \\mathbf{I}$."
   ]
  },
  {
   "cell_type": "markdown",
   "metadata": {},
   "source": [
    "Additionally, create at least **two tests**:\n",
    "* Create a symmetric and positive definit matrix `A`, compute its inverse `Ainv` with your function `cho_inverse`, verify if the products `A` `Ainv` and `Ainv` `A` produce the identity matrix.\n",
    "* Compare the inverse obtained with your function `cho_inverse` with that obtained by the function [`numpy.linalg.inv`](https://numpy.org/doc/stable/reference/generated/numpy.linalg.inv.html)."
   ]
  },
  {
   "cell_type": "markdown",
   "metadata": {},
   "source": [
    "#### Testing the function `cho_decomp`"
   ]
  },
  {
   "cell_type": "raw",
   "metadata": {},
   "source": [
    "# import stuff\n",
    "import numpy as np\n",
    "from scipy.linalg import cholesky"
   ]
  },
  {
   "cell_type": "raw",
   "metadata": {},
   "source": [
    "# define N\n",
    "N = 7"
   ]
  },
  {
   "cell_type": "raw",
   "metadata": {},
   "source": [
    "# create a symmetric and positive definite matrix A\n",
    "A = np.random.rand(N,N) + 2*np.identity(N)\n",
    "A = 0.5*(A + A.T)"
   ]
  },
  {
   "cell_type": "raw",
   "metadata": {},
   "source": [
    "# compute the Cholesky decomposition\n",
    "G = cho_decomp(A)"
   ]
  },
  {
   "cell_type": "raw",
   "metadata": {},
   "source": [
    "# verify if product GGT is equal to A\n",
    "np.allclose(A, np.dot(G, G.T))"
   ]
  },
  {
   "cell_type": "raw",
   "metadata": {},
   "source": [
    "# compute the Cholesky decomposition with scipy\n",
    "G_scipy = cholesky(A, lower=True)"
   ]
  },
  {
   "cell_type": "raw",
   "metadata": {},
   "source": [
    "# compare with your result\n",
    "np.allclose(G_scipy, G)"
   ]
  },
  {
   "cell_type": "markdown",
   "metadata": {},
   "source": [
    "#### Testing the function `cho_decomp_overwrite`"
   ]
  },
  {
   "cell_type": "raw",
   "metadata": {},
   "source": [
    "# compute the Cholesky decomposition overwriting A\n",
    "cho_decomp_overwrite(A)"
   ]
  },
  {
   "cell_type": "raw",
   "metadata": {},
   "source": [
    "# compare the lower triangle of A with the previously computed G\n",
    "np.allclose(np.tril(A), G)"
   ]
  }
 ],
 "metadata": {
  "kernelspec": {
   "display_name": "Python 3 (ipykernel)",
   "language": "python",
   "name": "python3"
  },
  "language_info": {
   "codemirror_mode": {
    "name": "ipython",
    "version": 3
   },
   "file_extension": ".py",
   "mimetype": "text/x-python",
   "name": "python",
   "nbconvert_exporter": "python",
   "pygments_lexer": "ipython3",
   "version": "3.11.8"
  }
 },
 "nbformat": 4,
 "nbformat_minor": 4
}
