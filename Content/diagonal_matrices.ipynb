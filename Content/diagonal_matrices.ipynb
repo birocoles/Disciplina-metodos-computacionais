{
 "cells": [
  {
   "cell_type": "markdown",
   "metadata": {},
   "source": [
    "# Diagonal matrices - part 1"
   ]
  },
  {
   "cell_type": "markdown",
   "metadata": {},
   "source": [
    "Consider an $N \\times N$ matrix $\\mathbf{D}$ given by:"
   ]
  },
  {
   "cell_type": "markdown",
   "metadata": {},
   "source": [
    "$$\\mathbf{D} \n",
    "= \\left[ \\begin{array}{ccc}\n",
    "d_{00} &  &  \\\\\n",
    " & \\ddots &  \\\\\n",
    " &  & d_{N-1N-1}\n",
    "\\end{array} \\right] \\: .\n",
    "$$"
   ]
  },
  {
   "cell_type": "markdown",
   "metadata": {},
   "source": [
    "This matrix is called **diagonal**. Only the diagonal elements are different from zero. In this case, most of the matrix elements are zero and, consequently, do not need to be stored. Such matrices can be represented by an $N \\times 1$ vector defined as follows:"
   ]
  },
  {
   "cell_type": "markdown",
   "metadata": {},
   "source": [
    "$$\\mathbf{d} = diag \\left( \\mathbf{D} \\right) = \n",
    "\\left[ \\begin{array}{c}\n",
    "d_{00} \\\\\n",
    "\\vdots \\\\\n",
    "d_{N-1N-1}\n",
    "\\end{array} \\right] \\: .\n",
    "$$"
   ]
  },
  {
   "cell_type": "markdown",
   "metadata": {},
   "source": [
    "Let $\\mathbf{x}$ be an $N \\times 1$ vector given by:"
   ]
  },
  {
   "cell_type": "markdown",
   "metadata": {},
   "source": [
    "$$\\mathbf{x} = \n",
    "\\left[ \\begin{array}{c}\n",
    "x_{0} \\\\\n",
    "\\vdots \\\\\n",
    "x_{N-1}\n",
    "\\end{array} \\right] \\: .\n",
    "$$"
   ]
  },
  {
   "cell_type": "markdown",
   "metadata": {},
   "source": [
    "In this case, it can be easily shown that"
   ]
  },
  {
   "cell_type": "markdown",
   "metadata": {},
   "source": [
    "$$\n",
    "\\mathbf{D} \\mathbf{x} = \\mathbf{d} \\circ \\mathbf{x} \\: ,\n",
    "$$\n",
    "\n",
    "which represents the Hadamard (or entrywise) product of $\\mathbf{d}$ and $\\mathbf{x}$."
   ]
  },
  {
   "cell_type": "markdown",
   "metadata": {},
   "source": [
    "Now, consider a full $N \\times N$ matrix $\\mathbf{B}$. It can be show that the resultant matrix $\\mathbf{C} = \\mathbf{D} \\mathbf{B}$ can be calculated as follows:"
   ]
  },
  {
   "cell_type": "markdown",
   "metadata": {},
   "source": [
    "    for i = 0:N-1\n",
    "        C[i, :] = d[i]*B[i,:]"
   ]
  },
  {
   "cell_type": "markdown",
   "metadata": {},
   "source": [
    "Similarly, it can be shown that the product $\\mathbf{E} = \\mathbf{B} \\mathbf{D}$ can be calculated as follows:"
   ]
  },
  {
   "cell_type": "markdown",
   "metadata": {},
   "source": [
    "    for j = 0:N-1\n",
    "        E[:,j] = d[j]*B[:,j]"
   ]
  },
  {
   "cell_type": "markdown",
   "metadata": {},
   "source": [
    "### Exercise"
   ]
  },
  {
   "cell_type": "markdown",
   "metadata": {},
   "source": [
    "Deduce the pseudo-codes shown above for computing $\\mathbf{D}\\mathbf{x}$, $\\mathbf{D}\\mathbf{B}$ and $\\mathbf{B}\\mathbf{D}$."
   ]
  },
  {
   "cell_type": "markdown",
   "metadata": {},
   "source": [
    "#### Creating the diagonal matrix $\\mathbf{D}$ and the vector $\\mathbf{d}$ containing its diagonal elements"
   ]
  },
  {
   "cell_type": "code",
   "execution_count": 1,
   "metadata": {},
   "outputs": [],
   "source": [
    "import numpy as np"
   ]
  },
  {
   "cell_type": "markdown",
   "metadata": {},
   "source": [
    "Create a vector `d` by using, for example, the function [`numpy.random.rand`](https://docs.scipy.org/doc/numpy/reference/generated/numpy.random.rand.html)"
   ]
  },
  {
   "cell_type": "code",
   "execution_count": 2,
   "metadata": {},
   "outputs": [],
   "source": [
    "d = np.random.rand(5)"
   ]
  },
  {
   "cell_type": "code",
   "execution_count": 3,
   "metadata": {},
   "outputs": [
    {
     "data": {
      "text/plain": [
       "array([0.3063378 , 0.56646481, 0.26361068, 0.16406177, 0.47066708])"
      ]
     },
     "execution_count": 3,
     "metadata": {},
     "output_type": "execute_result"
    }
   ],
   "source": [
    "d"
   ]
  },
  {
   "cell_type": "markdown",
   "metadata": {
    "collapsed": true,
    "jupyter": {
     "outputs_hidden": true
    }
   },
   "source": [
    "Now, create the diagonal matrix `D` by using the routine [`numpy.diag`](https://docs.scipy.org/doc/numpy/reference/generated/numpy.diag.html)"
   ]
  },
  {
   "cell_type": "code",
   "execution_count": 4,
   "metadata": {},
   "outputs": [],
   "source": [
    "D = np.diag(d)"
   ]
  },
  {
   "cell_type": "code",
   "execution_count": 5,
   "metadata": {},
   "outputs": [
    {
     "data": {
      "text/plain": [
       "array([[0.3063378 , 0.        , 0.        , 0.        , 0.        ],\n",
       "       [0.        , 0.56646481, 0.        , 0.        , 0.        ],\n",
       "       [0.        , 0.        , 0.26361068, 0.        , 0.        ],\n",
       "       [0.        , 0.        , 0.        , 0.16406177, 0.        ],\n",
       "       [0.        , 0.        , 0.        , 0.        , 0.47066708]])"
      ]
     },
     "execution_count": 5,
     "metadata": {},
     "output_type": "execute_result"
    }
   ],
   "source": [
    "D"
   ]
  },
  {
   "cell_type": "markdown",
   "metadata": {
    "collapsed": true,
    "jupyter": {
     "outputs_hidden": true
    }
   },
   "source": [
    "You can also extract the diagonal of a given matrix by using the routine [`numpy.diag`](https://docs.scipy.org/doc/numpy/reference/generated/numpy.diag.html)"
   ]
  },
  {
   "cell_type": "code",
   "execution_count": 6,
   "metadata": {},
   "outputs": [
    {
     "data": {
      "text/plain": [
       "array([0.3063378 , 0.56646481, 0.26361068, 0.16406177, 0.47066708])"
      ]
     },
     "execution_count": 6,
     "metadata": {},
     "output_type": "execute_result"
    }
   ],
   "source": [
    "np.diag(D)"
   ]
  },
  {
   "cell_type": "code",
   "execution_count": null,
   "metadata": {},
   "outputs": [],
   "source": []
  }
 ],
 "metadata": {
  "anaconda-cloud": {},
  "kernelspec": {
   "display_name": "Python 3 (ipykernel)",
   "language": "python",
   "name": "python3"
  },
  "language_info": {
   "codemirror_mode": {
    "name": "ipython",
    "version": 3
   },
   "file_extension": ".py",
   "mimetype": "text/x-python",
   "name": "python",
   "nbconvert_exporter": "python",
   "pygments_lexer": "ipython3",
   "version": "3.11.8"
  }
 },
 "nbformat": 4,
 "nbformat_minor": 4
}
