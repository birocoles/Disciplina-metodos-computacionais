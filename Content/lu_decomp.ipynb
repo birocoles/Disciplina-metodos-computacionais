{
 "cells": [
  {
   "cell_type": "markdown",
   "metadata": {},
   "source": [
    "# LU decomposition - introduction"
   ]
  },
  {
   "cell_type": "markdown",
   "metadata": {},
   "source": [
    "The Gaussian elimination enshrines the LU decompositon. The LU decomposition is a factorization process that describes a matrix $\\mathbf{A}$ as a product of a unit triangular matrix $\\mathbf{L}$ (i.e., all the entries of its main diagonal are equal to one) and an upper triangular matrix $\\mathbf{U}$.\n",
    "\n",
    "For details, see:\n",
    "\n",
    "* Turing, A.M. (1948). \"Rounding-Off Errors in Matrix Processes\". The Quarterly Journal of Mechanics and Applied Mathematics. 1: 287–308. doi: [10.1093/qjmam/1.1.287](https://doi.org/10.1093/qjmam/1.1.287)\n",
    "\n",
    "* A. Schwarzenberg-Czerny (1995). \"On matrix factorization and efficient least squares solution\". Astronomy and Astrophysics Supplement. 110: 405-410. Bibliographic Code ADS: [1995A&AS..110..405S](http://adsabs.harvard.edu/abs/1995A%26AS..110..405S)\n",
    "\n",
    "* Golub, G. H. and C. F. Van Loan, (2013), Matrix computations, 4th edition, Johns Hopkins University Press, ISBN 978-1-4214-0794-4."
   ]
  },
  {
   "cell_type": "markdown",
   "metadata": {},
   "source": [
    "Let's first recall the $3 \\times 3$ linear system $\\mathbf{A}\\mathbf{x} = \\mathbf{y}$ presented in our last classes:"
   ]
  },
  {
   "cell_type": "code",
   "execution_count": 1,
   "metadata": {},
   "outputs": [],
   "source": [
    "import numpy as np\n",
    "from scipy.linalg import lu"
   ]
  },
  {
   "cell_type": "code",
   "execution_count": 2,
   "metadata": {},
   "outputs": [],
   "source": [
    "A = np.array([[2.,1.,-1.],\n",
    "              [-3.,-1.,2.],\n",
    "              [-2.,1.,2.]])"
   ]
  },
  {
   "cell_type": "code",
   "execution_count": 3,
   "metadata": {},
   "outputs": [],
   "source": [
    "y = np.array([8., -11., -3.])"
   ]
  },
  {
   "cell_type": "markdown",
   "metadata": {},
   "source": [
    "The solution of this system is given by:"
   ]
  },
  {
   "cell_type": "code",
   "execution_count": 4,
   "metadata": {},
   "outputs": [],
   "source": [
    "x = np.linalg.solve(A,y)"
   ]
  },
  {
   "cell_type": "code",
   "execution_count": 5,
   "metadata": {},
   "outputs": [
    {
     "name": "stdout",
     "output_type": "stream",
     "text": [
      "[ 2.  3. -1.]\n"
     ]
    }
   ],
   "source": [
    "print(x)"
   ]
  },
  {
   "cell_type": "markdown",
   "metadata": {},
   "source": [
    "Let's remember the solution of this linear system by using the Gaussian elimination without pivoting."
   ]
  },
  {
   "cell_type": "markdown",
   "metadata": {},
   "source": [
    "<a id='eq1'></a>\n",
    "$$\n",
    "\\begin{align}\n",
    "\\mathbf{A}^{(0)} = \\mathbf{A} & & & \\mathbf{y}^{(0)} = \\mathbf{y} \\tag{1a} \\\\\n",
    "\\mathbf{A}^{(1)} = \\left(\\mathbf{I} - \\mathbf{M}^{(1)}\\right) \\mathbf{A}^{(0)} & & &\n",
    "\\mathbf{y}^{(1)} = \\left(\\mathbf{I} - \\mathbf{M}^{(1)}\\right) \\mathbf{y}^{(0)} \\tag{1b} \\\\\n",
    "\\mathbf{A}^{(2)} = \\left(\\mathbf{I} - \\mathbf{M}^{(2)}\\right) \\mathbf{A}^{(1)} & & &\n",
    "\\mathbf{y}^{(2)} = \\left(\\mathbf{I} - \\mathbf{M}^{(2)}\\right) \\mathbf{y}^{(1)} \\tag{1c}\n",
    "\\end{align}$$"
   ]
  },
  {
   "cell_type": "markdown",
   "metadata": {},
   "source": [
    "where $\\mathbf{M}^{(k)}$ is a matrix given by"
   ]
  },
  {
   "cell_type": "markdown",
   "metadata": {},
   "source": [
    "<a id='eq2'></a>\n",
    "$$\n",
    "\\mathbf{M}^{(k)} = \\mathbf{t}^{(k)} \\cdot \\left( \\mathbf{u}^{(k-1)} \\right)^{\\top} \\: , \\tag{2}\n",
    "$$"
   ]
  },
  {
   "cell_type": "markdown",
   "metadata": {},
   "source": [
    "$\\mathbf{u}^{(k-1)}$ is a $3 \\times 1$ vector with all elements equal to $0$, except the $(k-1)$th element, which is equal to $1$, and $\\mathbf{t}^{(k)}$ is a $3 \\times 1$ vector whose $i$th element $t_{i}^{(k)}$ is given by:"
   ]
  },
  {
   "cell_type": "markdown",
   "metadata": {},
   "source": [
    "<a id='eq3'></a>\n",
    "$$\n",
    "t_{i}^{(k)} = \\begin{cases} 0 & \\quad \\text{if } i < k \\\\\\\\ \\dfrac{a^{(k-1)}_{i(k-1)}}{a^{(k-1)}_{(k-1)(k-1)}} & \\quad \\text{if } i \\ge k\\\\ \\end{cases} \\: , \\tag{3}\n",
    "$$"
   ]
  },
  {
   "cell_type": "markdown",
   "metadata": {},
   "source": [
    "where $a^{(k-1)}_{ij}$ is the $ij$ element of the matrix $\\mathbf{A}^{(k-1)}$."
   ]
  },
  {
   "cell_type": "markdown",
   "metadata": {},
   "source": [
    "At the end of this algorithm, the original matrix $\\mathbf{A}$ ([equation 1a](#eq1)) is transformed into an upper triangular matrix $\\mathbf{A}^{(2)}$ ([equation 1c](#eq1))."
   ]
  },
  {
   "cell_type": "markdown",
   "metadata": {},
   "source": [
    "Now, let's analyze the matrices $\\mathbf{M}^{(1)}$ and $\\mathbf{M}^{(2)}$. They are given by:"
   ]
  },
  {
   "cell_type": "markdown",
   "metadata": {
    "collapsed": true,
    "jupyter": {
     "outputs_hidden": true
    }
   },
   "source": [
    "<a id='eq4a'></a>\n",
    "$$\n",
    "\\begin{split}\n",
    "\\mathbf{M}^{(1)} &= \\mathbf{t}^{(1)} \\cdot \\left( \\mathbf{u}^{(0)} \\right)^{\\top}  \\\\\n",
    "&= \\left[ \n",
    "\\begin{array}{c}\n",
    "0 \\\\\n",
    "t_{1}^{(1)} \\\\\n",
    "t_{2}^{(1)}\n",
    "\\end{array} \\right] \\cdot \n",
    "\\left[ \\begin{array}{ccc}\n",
    "1 & 0 & 0\n",
    "\\end{array} \\right] \\\\\n",
    "&= \\left[ \\begin{array}{ccc}\n",
    "0 & 0 & 0 \\\\\n",
    "t_{1}^{(1)} & 0 & 0 \\\\\n",
    "t_{2}^{(1)} & 0 & 0\n",
    "\\end{array} \\right]\n",
    "\\end{split} \\tag{4a}\n",
    "$$"
   ]
  },
  {
   "cell_type": "markdown",
   "metadata": {
    "collapsed": true,
    "jupyter": {
     "outputs_hidden": true
    }
   },
   "source": [
    "and, similarly, "
   ]
  },
  {
   "cell_type": "markdown",
   "metadata": {
    "collapsed": true,
    "jupyter": {
     "outputs_hidden": true
    }
   },
   "source": [
    "<a id='eq4b'></a>\n",
    "$$\n",
    "\\begin{split}\n",
    "\\mathbf{M}^{(2)} &= \\mathbf{t}^{(2)} \\cdot \\left( \\mathbf{u}^{(1)} \\right)^{\\top}  \\\\\n",
    "&= \\left[ \n",
    "\\begin{array}{c}\n",
    "0 \\\\\n",
    "0 \\\\\n",
    "t_{2}^{(2)}\n",
    "\\end{array} \\right] \\cdot \n",
    "\\left[ \\begin{array}{ccc}\n",
    "0 & 1 & 0\n",
    "\\end{array} \\right] \\\\\n",
    "&= \\left[ \\begin{array}{ccc}\n",
    "0 & 0 & 0 \\\\\n",
    "0 & 0 & 0 \\\\\n",
    "0 & t_{2}^{(2)} & 0\n",
    "\\end{array} \\right]\n",
    "\\end{split} \\quad . \\tag{4b}\n",
    "$$"
   ]
  },
  {
   "cell_type": "markdown",
   "metadata": {
    "collapsed": true,
    "jupyter": {
     "outputs_hidden": true
    }
   },
   "source": [
    "Notice that, according to the algorithm, the matrix $\\mathbf{A}^{(2)}$ ([equation 1c](#eq1)) can be written as follows:"
   ]
  },
  {
   "cell_type": "markdown",
   "metadata": {},
   "source": [
    "<a id='eq5a'></a>\n",
    "$$\n",
    "\\mathbf{A}^{(2)} = \\mathbf{Q} \\, \\mathbf{A} \\quad , \\tag{5a}\n",
    "$$"
   ]
  },
  {
   "cell_type": "markdown",
   "metadata": {},
   "source": [
    "and"
   ]
  },
  {
   "cell_type": "markdown",
   "metadata": {},
   "source": [
    "<a id='eq5b'></a>\n",
    "$$\n",
    "\\mathbf{Q} = \\mathbf{Q}^{(2)} \\, \\mathbf{Q}^{(1)} \\quad , \\tag{5b}\n",
    "$$"
   ]
  },
  {
   "cell_type": "markdown",
   "metadata": {},
   "source": [
    "were the Gauss transformations $\\mathbf{Q}^{(k)}$ ([equation 5b](#eq5b)), $k = 1, \\dots, N-1$, are given by:"
   ]
  },
  {
   "cell_type": "markdown",
   "metadata": {},
   "source": [
    "<a id='eq6'></a>\n",
    "$$\n",
    "\\begin{split}\n",
    "\\mathbf{Q}^{(1)} &= \\left( \\mathbf{I} - \\mathbf{M}^{(1)} \\right) \\\\\n",
    "\\mathbf{Q}^{(2)} &= \\left( \\mathbf{I} - \\mathbf{M}^{(2)} \\right)\n",
    "\\end{split} \\quad . \\tag{6}\n",
    "$$"
   ]
  },
  {
   "cell_type": "markdown",
   "metadata": {},
   "source": [
    "Then, the original matrix $\\mathbf{A}$ ([equation 1a](#eq1)) can be written as follows:"
   ]
  },
  {
   "cell_type": "markdown",
   "metadata": {},
   "source": [
    "<a id='eq7a'></a>\n",
    "$$\n",
    "\\mathbf{A} = \\mathbf{Q}^{-1} \\, \\mathbf{A}^{(2)} \\quad , \\tag{7a}\n",
    "$$"
   ]
  },
  {
   "cell_type": "markdown",
   "metadata": {},
   "source": [
    "and"
   ]
  },
  {
   "cell_type": "markdown",
   "metadata": {},
   "source": [
    "<a id='eq7b'></a>\n",
    "$$\n",
    "\\mathbf{Q}^{-1} = \\mathbf{Q}^{(-1)} \\, \\mathbf{Q}^{(-2)} \\quad , \\tag{7b}\n",
    "$$"
   ]
  },
  {
   "cell_type": "markdown",
   "metadata": {},
   "source": [
    "where $\\mathbf{Q}^{(-k)}$ represents the inverse of a Gauss transformation $\\mathbf{Q}^{(k)}$ ([equation 6](#eq6)), $k = 1, \\dots, N-1$. We know that $\\mathbf{A}^{(2)}$ ([equation 1c](#eq1)) is an upper triangular matrix. However, what about the matrix $\\mathbf{Q}^{-1}$ ([equation 7b](#eq7b))? To answer this question, let's define a generic $\\mathbf{Q}^{(-k)}$:"
   ]
  },
  {
   "cell_type": "markdown",
   "metadata": {},
   "source": [
    "<a id='eq8'></a>\n",
    "$$\n",
    "\\begin{split}\n",
    "\\mathbf{Q}^{(-k)} &=\n",
    "\\mathbf{I} + \\mathbf{M}^{(k)} \\\\\n",
    "&= \\mathbf{I} + \\mathbf{t}^{(k)} \\cdot \\left( \\mathbf{u}^{(k-1)} \\right)^{\\top}\n",
    "\\end{split} \\: . \\tag{8}\n",
    "$$"
   ]
  },
  {
   "cell_type": "markdown",
   "metadata": {},
   "source": [
    "We can verify that $\\mathbf{Q}^{(-k)}$ ([equation 8](#eq8)) is actually the inverse of a Gauss transformation $\\mathbf{Q}^{(k)}$ ([equation 6](#eq6)) by computing the product $\\mathbf{Q}^{(k)} \\mathbf{Q}^{(-k)}$:"
   ]
  },
  {
   "cell_type": "markdown",
   "metadata": {},
   "source": [
    "<a id='eq9'></a>\n",
    "\n",
    "$$\n",
    "\\begin{split}\n",
    "\\mathbf{Q}^{(k)} \\mathbf{Q}^{(-k)}\n",
    "&= \\left[ \\mathbf{I} - \\mathbf{t}^{(k)} \\cdot \\left( \\mathbf{u}^{(k-1)} \\right)^{\\top} \\right] \\,\n",
    "\\left[ \\mathbf{I} + \\mathbf{t}^{(k)} \\cdot \\left( \\mathbf{u}^{(k-1)} \\right)^{\\top} \\right] \\\\\n",
    "&= \\mathbf{I} - \\mathbf{t}^{(k)} \\cdot \\left( \\mathbf{u}^{(k-1)} \\right)^{\\top}\n",
    "+ \\mathbf{t}^{(k)} \\cdot \\left( \\mathbf{u}^{(k-1)} \\right)^{\\top} -\n",
    "\\mathbf{t}^{(k)} \\cdot \\left( \\mathbf{u}^{(k-1)} \\right)^{\\top} \\, \\mathbf{t}^{(k)} \\cdot \\left( \\mathbf{u}^{(k-1)} \\right)^{\\top} \\\\\n",
    "&= \\mathbf{I} - \n",
    "\\mathbf{t}^{(k)} \\cdot \n",
    "\\underbrace{ \\left( \\mathbf{u}^{(k-1)} \\right)^{\\top} \\mathbf{t}^{(k)} }_{= \\, 0}\n",
    "\\cdot \\left( \\mathbf{u}^{(k-1)} \\right)^{\\top} \\\\\n",
    "&= \\mathbf{I}\n",
    "\\end{split} \\quad . \\tag{9}\n",
    "$$"
   ]
  },
  {
   "cell_type": "markdown",
   "metadata": {},
   "source": [
    "The third row of ([equation 9](#eq9)) uses the fact that $\\left( \\mathbf{u}^{(k-1)} \\right)^{\\top} \\mathbf{t}^{(k)} = 0$. This property can be easily verified by noting that, while the $(k-1)$th element of $\\mathbf{u}^{(k-1)}$ is its only nonzero element, all elements $t_{i}^{(k)}$, $k = 0, \\dots, k-1$, forming the Gauss vector $\\mathbf{t}^{(k)}$ are equal to zero."
   ]
  },
  {
   "cell_type": "markdown",
   "metadata": {},
   "source": [
    "By using this result, we can write the matrix $\\mathbf{Q}^{-1}$ (equations [7a](#eq7a) and [7b](#eq7b)) as follows:"
   ]
  },
  {
   "cell_type": "markdown",
   "metadata": {},
   "source": [
    "<a id='eq10'></a>\n",
    "$$\n",
    "\\begin{split}\n",
    "\\mathbf{Q}^{-1}\n",
    "&= \\left[ \\mathbf{I} + \\mathbf{t}^{(1)} \\cdot \\left( \\mathbf{u}^{(0)} \\right)^{\\top} \\right]\n",
    "   \\left[ \\mathbf{I} + \\mathbf{t}^{(2)} \\cdot \\left( \\mathbf{u}^{(1)} \\right)^{\\top} \\right] \\\\\n",
    "&= \\mathbf{I} + \\mathbf{t}^{(1)} \\cdot \\left( \\mathbf{u}^{(0)} \\right)^{\\top} +\n",
    "   \\mathbf{t}^{(2)} \\cdot \\left( \\mathbf{u}^{(1)} \\right)^{\\top} + \n",
    "   \\mathbf{t}^{(1)} \\cdot \n",
    "   \\underbrace{ \\left( \\mathbf{u}^{(0)} \\right)^{\\top} \\mathbf{t}^{(2)}}_{= \\, 0}\n",
    "   \\cdot \\left( \\mathbf{u}^{(1)} \\right)^{\\top} \\\\\n",
    "&= \\mathbf{I} + \\mathbf{t}^{(1)} \\cdot \\left( \\mathbf{u}^{(0)} \\right)^{\\top} +\n",
    "   \\mathbf{t}^{(2)} \\cdot \\left( \\mathbf{u}^{(1)} \\right)^{\\top} \\\\\n",
    "&= \n",
    "\\left[ \\begin{array}{ccc}\n",
    "1 & 0 & 0 \\\\\n",
    "0 & 1 & 0 \\\\\n",
    "0 & 0 & 1\n",
    "\\end{array} \\right] +\n",
    "\\left[ \\begin{array}{ccc}\n",
    "0 & 0 & 0 \\\\\n",
    "t_{1}^{(1)} & 0 & 0 \\\\\n",
    "t_{2}^{(1)} & 0 & 0\n",
    "\\end{array} \\right] +\n",
    "\\left[ \\begin{array}{ccc}\n",
    "0 & 0 & 0 \\\\\n",
    "0 & 0 & 0 \\\\\n",
    "0 & t_{2}^{(2)} & 0\n",
    "\\end{array} \\right] \\\\\n",
    "&=\n",
    "\\left[ \\begin{array}{ccc}\n",
    "1 & 0 & 0 \\\\\n",
    "t_{1}^{(1)} & 1 & 0 \\\\\n",
    "t_{2}^{(1)} & t_{2}^{(2)} & 1\n",
    "\\end{array} \\right]\n",
    "\\end{split} \\quad\\quad . \\tag{10}\n",
    "$$"
   ]
  },
  {
   "cell_type": "markdown",
   "metadata": {},
   "source": [
    "[Equation 10](#eq10) shows that $\\mathbf{Q}^{-1}$ (equations [7a](#eq7a) and [7b](#eq7b)) is a unit **L**ower triangular matrix containing the Gauss multipliers. Because of that, $\\mathbf{Q}^{-1}$ is commonly defined as $\\mathbf{L}$. Similarly, the **U**pper triangular matrix $\\mathbf{A}^{(2)}$ is defined as $\\mathbf{U}$ and the original matrix $\\mathbf{A}$ is factored as follows:"
   ]
  },
  {
   "cell_type": "markdown",
   "metadata": {},
   "source": [
    "<a id='eq11'></a>\n",
    "$$\n",
    "\\mathbf{A} = \\mathbf{L} \\, \\mathbf{U} \\: . \\tag{11}\n",
    "$$"
   ]
  },
  {
   "cell_type": "markdown",
   "metadata": {},
   "source": [
    "The mathematical development presented here is valid for $3 \\times 3$ matrices, however, it can be easily generalized for $N \\times N$ matrices."
   ]
  },
  {
   "cell_type": "markdown",
   "metadata": {},
   "source": [
    "## Solving a linear system by using the LU decomposition"
   ]
  },
  {
   "cell_type": "markdown",
   "metadata": {},
   "source": [
    "Once the triangular matrices $\\mathbf{L}$ and $\\mathbf{U}$ are calculated ([equation 11](#eq11)), we may use them to solve a linear system $\\mathbf{A} \\mathbf{x} = \\mathbf{y}$. Let's first substitute the LU decomposition into the linear system:"
   ]
  },
  {
   "cell_type": "markdown",
   "metadata": {},
   "source": [
    "<a id='eq12'></a>\n",
    "$$\n",
    "\\begin{split}\n",
    "\\mathbf{A} \\mathbf{x} &= \\mathbf{y} \\\\\n",
    "\\mathbf{L} \\mathbf{U} \\mathbf{x} &= \\mathbf{y}\n",
    "\\end{split} \\quad . \\tag{12}\n",
    "$$"
   ]
  },
  {
   "cell_type": "markdown",
   "metadata": {},
   "source": [
    "This equation shows that the original linear system can be represented by two triangular systems:"
   ]
  },
  {
   "cell_type": "markdown",
   "metadata": {},
   "source": [
    "<a id='eq13'></a>\n",
    "$$\n",
    "\\begin{align}\n",
    "\\mathbf{L}\\mathbf{w} &= \\mathbf{y} \\tag{13a} \\\\\n",
    "\\mathbf{U}\\mathbf{x} &= \\mathbf{w} \\tag{13b}\n",
    "\\end{align}\n",
    "$$"
   ]
  },
  {
   "cell_type": "markdown",
   "metadata": {},
   "source": [
    "where $\\mathbf{w}$ is a dummy vector. Therefore, the linear system ([equation 12](#eq12)) can be solved in two steps: \n",
    "\n",
    "1. Solve the lower triangular system for $\\mathbf{w}$ ([equation 13a](#eq13)) and\n",
    "2. Use it to solve the upper triangular system for $\\mathbf{x}$ ([equation 13b](#eq13)) ."
   ]
  },
  {
   "cell_type": "markdown",
   "metadata": {
    "collapsed": true,
    "jupyter": {
     "outputs_hidden": true
    }
   },
   "source": [
    "## Existence of the LU decomposition"
   ]
  },
  {
   "cell_type": "markdown",
   "metadata": {},
   "source": [
    "The LU decomposition may not exist. Based on our previous classes, it is relatively easy to notice that the existence of the LU decomposition requires all the pivots be nonzero. However, there is a formal definition of the conditions under which the LU decomposition exists (Golub and Van Loan, 2013):"
   ]
  },
  {
   "cell_type": "markdown",
   "metadata": {},
   "source": [
    "**THEOREM:** If $\\mathbf{A} \\in \\mathbb{R}^{N \\times N}$ and $\\text{det} \\left( \\mathbf{A} \\left[1:k \\, , 1:k \\right] \\right) \\ne 0$ for $k = 1 : N-1$, then there exists a lower triangular matrix $\\mathbf{L} \\in \\mathbb{R}^{N \\times N}$ and an upper triangular matrix $\\mathbf{U} \\in \\mathbb{R}^{N \\times N}$ such that $\\mathbf{A} = \\mathbf{L} \\mathbf{U}$. If this is the case and $\\mathbf{A}$ is nonsingular, then the factorization is unique and $\\text{det} \\left( \\mathbf{A} \\right) = u_{11} \\cdots u_{NN}$."
   ]
  },
  {
   "cell_type": "markdown",
   "metadata": {
    "collapsed": true,
    "jupyter": {
     "outputs_hidden": true
    }
   },
   "source": [
    "### Exercises"
   ]
  },
  {
   "cell_type": "markdown",
   "metadata": {},
   "source": [
    "Create a function `lu_decomp` tha computes the LU decomposition of a given square matrix according to the template below:"
   ]
  },
  {
   "cell_type": "markdown",
   "metadata": {},
   "source": [
    "```python\n",
    "def lu_decomp(A, check_input=True):\n",
    "    '''\n",
    "    Compute the LU decomposition for a matrix A.\n",
    "    \n",
    "    Parameters\n",
    "    ----------\n",
    "    A : numpy narray 2d\n",
    "        Full square matrix of the linear system.\n",
    "    check_input : boolean\n",
    "        If True, verify if the input is valid. Default is True.\n",
    "    Returns\n",
    "    -------\n",
    "    C : numpy array 2d\n",
    "        Full square matrix containing the element of L below the \n",
    "        main diagonal and the elements of U in the upper triangle \n",
    "        (including the elements on the main diagonal).\n",
    "    '''\n",
    "    N = A.shape[0]\n",
    "    if check_input is True:\n",
    "        assert A.ndim == 2, 'A must be a matrix'\n",
    "        assert A.shape[1] == N, 'A must be square'\n",
    "    # create matrix C as a copy of A\n",
    "    C = \n",
    "    for k = 1:N-1\n",
    "        # assert the pivot is nonzero\n",
    "        assert C[k-1,k-1] != 0., 'null pivot!'\n",
    "        # calculate the Gauss multipliers and store them \n",
    "        # in the lower part of C\n",
    "        C[k:,k-1] = \n",
    "        # zeroing of the elements in the (k-1)th column\n",
    "        C[k:,k:] = \n",
    "    # return matrix C\n",
    "    return C\n",
    "```"
   ]
  },
  {
   "cell_type": "markdown",
   "metadata": {},
   "source": [
    "Note that the function `lu_decomp` receives a square matrix $\\mathbf{A}$ and returns a matrix $\\mathbf{C}$ containing the triangular matrices $\\mathbf{L}$ and $\\mathbf{U}$. The elements of $\\mathbf{L}$, except the unitary elements of its main diagonal, are stored below the main diagonal of $\\mathbf{C}$. The elements of $\\mathbf{U}$ are stored in the upper part of $\\mathbf{C}$, including its main diagonal."
   ]
  },
  {
   "cell_type": "markdown",
   "metadata": {},
   "source": [
    "Additionally, create a function called `lu_solve` that receives the output of function `lu_decomp` and a vector `y` and return the solution vector `x` of the linear system $\\mathbf{A \\, x} = \\mathbf{y}$. Use the template below:"
   ]
  },
  {
   "cell_type": "markdown",
   "metadata": {},
   "source": [
    "```python\n",
    "def lu_solve(C, y, check_input=True):\n",
    "    '''\n",
    "    Solve the linear system Ax = y for x by using the LU decomposition \n",
    "    of matrix A.\n",
    "    \n",
    "    Parameters\n",
    "    ----------\n",
    "    C : numpy narray 2d\n",
    "        Full square matrix containing the elements of L below the main diagonal and \n",
    "        the elements of U in the upper triangle (including the elements on the main diagonal).\n",
    "        (Output of the function 'lu_decomp').\n",
    "    y : numpy array 1d\n",
    "        Independent vector of the linear system.\n",
    "    check_input : boolean\n",
    "        If True, verify if the input is valid. Default is True.\n",
    "    Returns\n",
    "    -------\n",
    "    x : numpy array 1d\n",
    "        Solution of the linear system Ax=y.\n",
    "    '''\n",
    "    N = C.shape[0]\n",
    "    if check_input is True:\n",
    "        assert C.ndim == 2, 'C must be a matrix'\n",
    "        assert C.shape[1] == N, 'C must be square'\n",
    "        assert y.ndim == 1, 'y must be a vector'\n",
    "        assert y.size == N, 'C columns must be equal to y size'\n",
    "    \n",
    "    # create your code here\n",
    "    \n",
    "    return x\n",
    "```"
   ]
  },
  {
   "cell_type": "markdown",
   "metadata": {},
   "source": [
    "The function `lu_solve` must use one of your function to solve triangular systems."
   ]
  },
  {
   "cell_type": "markdown",
   "metadata": {},
   "source": [
    "Finally, create at least **three tests**:\n",
    "\n",
    "* Define a square matrix `A`, compute a matrix `C` by using the function `lu_decomp`, use `C` to create the triangular matrices `L` and `U` and verify the if condition `A = LU` is satisfied (see the example below).\n",
    "\n",
    "* Compare the solution of the linear system obtained by `lu_solve` and the solution obtained by [`numpy.linalg.solve`](https://numpy.org/doc/stable/reference/generated/numpy.linalg.solve.html).\n",
    "\n",
    "* Define a matrix `A0` and a vector `x0` and use them to compute a vector `A0x0 = y0`. Then, use the functions `lu_decomp` and `lu_solve` to compute a vector `x1` by solving the linear system. Finally, compare the computed vector `x1` and the expected vector `x0`."
   ]
  },
  {
   "cell_type": "markdown",
   "metadata": {},
   "source": [
    "#### Testing the function `lu_decomp`"
   ]
  },
  {
   "cell_type": "raw",
   "metadata": {},
   "source": [
    "# define N\n",
    "N = 10"
   ]
  },
  {
   "cell_type": "raw",
   "metadata": {},
   "source": [
    "# Create a matrix A\n",
    "A = np.random.rand(N,N) + np.identity(N)"
   ]
  },
  {
   "cell_type": "raw",
   "metadata": {},
   "source": [
    "# use the lu_decomp to compute L and U\n",
    "C = lu_decomp(A)"
   ]
  },
  {
   "cell_type": "raw",
   "metadata": {},
   "source": [
    "# retrieve L and U from C\n",
    "L = np.identity(N) + np.tril(C, k=-1)\n",
    "U = np.triu(C)"
   ]
  },
  {
   "cell_type": "raw",
   "metadata": {},
   "source": [
    "# verify that the product LU is equal to A\n",
    "np.allclose(A, np.dot(L, U))"
   ]
  },
  {
   "cell_type": "code",
   "execution_count": null,
   "metadata": {},
   "outputs": [],
   "source": []
  }
 ],
 "metadata": {
  "kernelspec": {
   "display_name": "Python 3 (ipykernel)",
   "language": "python",
   "name": "python3"
  },
  "language_info": {
   "codemirror_mode": {
    "name": "ipython",
    "version": 3
   },
   "file_extension": ".py",
   "mimetype": "text/x-python",
   "name": "python",
   "nbconvert_exporter": "python",
   "pygments_lexer": "ipython3",
   "version": "3.11.8"
  }
 },
 "nbformat": 4,
 "nbformat_minor": 4
}
