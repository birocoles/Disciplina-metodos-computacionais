{
 "cells": [
  {
   "cell_type": "markdown",
   "metadata": {},
   "source": [
    "# Spline interpolation with Green's functions - 2D"
   ]
  },
  {
   "cell_type": "markdown",
   "metadata": {},
   "source": [
    "##### References\n",
    "\n",
    "* Lancaster, P., Salkauskas, K., 1980. Curve and Surface Fitting: An Introduction. Academic Press, London, UK pp 280.\n",
    "\n",
    "* Wessel, Paul. 2009. “A General-Purpose Green’s Function-Based Interpolator.” Computers & Geosciences 35 (6): 1247–54. https://doi.org/10.1016/j.cageo.2008.08.012."
   ]
  },
  {
   "cell_type": "markdown",
   "metadata": {},
   "source": [
    "## Synthetic relief model"
   ]
  },
  {
   "cell_type": "markdown",
   "metadata": {},
   "source": [
    "The cells below compute the synthetic relief model proposed by Lancaster and Salkauskas (1980, p. 150). This model contains two flat regions separated by a linear slope, with a Gaussian peak placed on lower level."
   ]
  },
  {
   "cell_type": "code",
   "execution_count": 1,
   "metadata": {},
   "outputs": [
    {
     "ename": "ModuleNotFoundError",
     "evalue": "No module named 'ipympl'",
     "output_type": "error",
     "traceback": [
      "\u001b[0;31m---------------------------------------------------------------------------\u001b[0m",
      "\u001b[0;31mModuleNotFoundError\u001b[0m                       Traceback (most recent call last)",
      "Cell \u001b[0;32mIn[1], line 4\u001b[0m\n\u001b[1;32m      1\u001b[0m \u001b[38;5;66;03m# Enabling the `widget` backend.\u001b[39;00m\n\u001b[1;32m      2\u001b[0m \u001b[38;5;66;03m# This requires jupyter-matplotlib a.k.a. ipympl.\u001b[39;00m\n\u001b[1;32m      3\u001b[0m \u001b[38;5;66;03m# ipympl can be install via pip or conda.\u001b[39;00m\n\u001b[0;32m----> 4\u001b[0m \u001b[43mget_ipython\u001b[49m\u001b[43m(\u001b[49m\u001b[43m)\u001b[49m\u001b[38;5;241;43m.\u001b[39;49m\u001b[43mrun_line_magic\u001b[49m\u001b[43m(\u001b[49m\u001b[38;5;124;43m'\u001b[39;49m\u001b[38;5;124;43mmatplotlib\u001b[39;49m\u001b[38;5;124;43m'\u001b[39;49m\u001b[43m,\u001b[49m\u001b[43m \u001b[49m\u001b[38;5;124;43m'\u001b[39;49m\u001b[38;5;124;43mwidget\u001b[39;49m\u001b[38;5;124;43m'\u001b[39;49m\u001b[43m)\u001b[49m\n\u001b[1;32m      5\u001b[0m \u001b[38;5;66;03m# aka import ipympl\u001b[39;00m\n",
      "File \u001b[0;32m~/anaconda3/lib/python3.11/site-packages/IPython/core/interactiveshell.py:2456\u001b[0m, in \u001b[0;36mInteractiveShell.run_line_magic\u001b[0;34m(self, magic_name, line, _stack_depth)\u001b[0m\n\u001b[1;32m   2454\u001b[0m     kwargs[\u001b[38;5;124m'\u001b[39m\u001b[38;5;124mlocal_ns\u001b[39m\u001b[38;5;124m'\u001b[39m] \u001b[38;5;241m=\u001b[39m \u001b[38;5;28mself\u001b[39m\u001b[38;5;241m.\u001b[39mget_local_scope(stack_depth)\n\u001b[1;32m   2455\u001b[0m \u001b[38;5;28;01mwith\u001b[39;00m \u001b[38;5;28mself\u001b[39m\u001b[38;5;241m.\u001b[39mbuiltin_trap:\n\u001b[0;32m-> 2456\u001b[0m     result \u001b[38;5;241m=\u001b[39m \u001b[43mfn\u001b[49m\u001b[43m(\u001b[49m\u001b[38;5;241;43m*\u001b[39;49m\u001b[43margs\u001b[49m\u001b[43m,\u001b[49m\u001b[43m \u001b[49m\u001b[38;5;241;43m*\u001b[39;49m\u001b[38;5;241;43m*\u001b[39;49m\u001b[43mkwargs\u001b[49m\u001b[43m)\u001b[49m\n\u001b[1;32m   2458\u001b[0m \u001b[38;5;66;03m# The code below prevents the output from being displayed\u001b[39;00m\n\u001b[1;32m   2459\u001b[0m \u001b[38;5;66;03m# when using magics with decorator @output_can_be_silenced\u001b[39;00m\n\u001b[1;32m   2460\u001b[0m \u001b[38;5;66;03m# when the last Python token in the expression is a ';'.\u001b[39;00m\n\u001b[1;32m   2461\u001b[0m \u001b[38;5;28;01mif\u001b[39;00m \u001b[38;5;28mgetattr\u001b[39m(fn, magic\u001b[38;5;241m.\u001b[39mMAGIC_OUTPUT_CAN_BE_SILENCED, \u001b[38;5;28;01mFalse\u001b[39;00m):\n",
      "File \u001b[0;32m~/anaconda3/lib/python3.11/site-packages/IPython/core/magics/pylab.py:99\u001b[0m, in \u001b[0;36mPylabMagics.matplotlib\u001b[0;34m(self, line)\u001b[0m\n\u001b[1;32m     97\u001b[0m     \u001b[38;5;28mprint\u001b[39m(\u001b[38;5;124m\"\u001b[39m\u001b[38;5;124mAvailable matplotlib backends: \u001b[39m\u001b[38;5;132;01m%s\u001b[39;00m\u001b[38;5;124m\"\u001b[39m \u001b[38;5;241m%\u001b[39m backends_list)\n\u001b[1;32m     98\u001b[0m \u001b[38;5;28;01melse\u001b[39;00m:\n\u001b[0;32m---> 99\u001b[0m     gui, backend \u001b[38;5;241m=\u001b[39m \u001b[38;5;28;43mself\u001b[39;49m\u001b[38;5;241;43m.\u001b[39;49m\u001b[43mshell\u001b[49m\u001b[38;5;241;43m.\u001b[39;49m\u001b[43menable_matplotlib\u001b[49m\u001b[43m(\u001b[49m\u001b[43margs\u001b[49m\u001b[38;5;241;43m.\u001b[39;49m\u001b[43mgui\u001b[49m\u001b[38;5;241;43m.\u001b[39;49m\u001b[43mlower\u001b[49m\u001b[43m(\u001b[49m\u001b[43m)\u001b[49m\u001b[43m \u001b[49m\u001b[38;5;28;43;01mif\u001b[39;49;00m\u001b[43m \u001b[49m\u001b[38;5;28;43misinstance\u001b[39;49m\u001b[43m(\u001b[49m\u001b[43margs\u001b[49m\u001b[38;5;241;43m.\u001b[39;49m\u001b[43mgui\u001b[49m\u001b[43m,\u001b[49m\u001b[43m \u001b[49m\u001b[38;5;28;43mstr\u001b[39;49m\u001b[43m)\u001b[49m\u001b[43m \u001b[49m\u001b[38;5;28;43;01melse\u001b[39;49;00m\u001b[43m \u001b[49m\u001b[43margs\u001b[49m\u001b[38;5;241;43m.\u001b[39;49m\u001b[43mgui\u001b[49m\u001b[43m)\u001b[49m\n\u001b[1;32m    100\u001b[0m     \u001b[38;5;28mself\u001b[39m\u001b[38;5;241m.\u001b[39m_show_matplotlib_backend(args\u001b[38;5;241m.\u001b[39mgui, backend)\n",
      "File \u001b[0;32m~/anaconda3/lib/python3.11/site-packages/IPython/core/interactiveshell.py:3648\u001b[0m, in \u001b[0;36mInteractiveShell.enable_matplotlib\u001b[0;34m(self, gui)\u001b[0m\n\u001b[1;32m   3644\u001b[0m         \u001b[38;5;28mprint\u001b[39m(\u001b[38;5;124m'\u001b[39m\u001b[38;5;124mWarning: Cannot change to a different GUI toolkit: \u001b[39m\u001b[38;5;132;01m%s\u001b[39;00m\u001b[38;5;124m.\u001b[39m\u001b[38;5;124m'\u001b[39m\n\u001b[1;32m   3645\u001b[0m                 \u001b[38;5;124m'\u001b[39m\u001b[38;5;124m Using \u001b[39m\u001b[38;5;132;01m%s\u001b[39;00m\u001b[38;5;124m instead.\u001b[39m\u001b[38;5;124m'\u001b[39m \u001b[38;5;241m%\u001b[39m (gui, \u001b[38;5;28mself\u001b[39m\u001b[38;5;241m.\u001b[39mpylab_gui_select))\n\u001b[1;32m   3646\u001b[0m         gui, backend \u001b[38;5;241m=\u001b[39m pt\u001b[38;5;241m.\u001b[39mfind_gui_and_backend(\u001b[38;5;28mself\u001b[39m\u001b[38;5;241m.\u001b[39mpylab_gui_select)\n\u001b[0;32m-> 3648\u001b[0m \u001b[43mpt\u001b[49m\u001b[38;5;241;43m.\u001b[39;49m\u001b[43mactivate_matplotlib\u001b[49m\u001b[43m(\u001b[49m\u001b[43mbackend\u001b[49m\u001b[43m)\u001b[49m\n\u001b[1;32m   3649\u001b[0m configure_inline_support(\u001b[38;5;28mself\u001b[39m, backend)\n\u001b[1;32m   3651\u001b[0m \u001b[38;5;66;03m# Now we must activate the gui pylab wants to use, and fix %run to take\u001b[39;00m\n\u001b[1;32m   3652\u001b[0m \u001b[38;5;66;03m# plot updates into account\u001b[39;00m\n",
      "File \u001b[0;32m~/anaconda3/lib/python3.11/site-packages/IPython/core/pylabtools.py:368\u001b[0m, in \u001b[0;36mactivate_matplotlib\u001b[0;34m(backend)\u001b[0m\n\u001b[1;32m    363\u001b[0m \u001b[38;5;66;03m# Due to circular imports, pyplot may be only partially initialised\u001b[39;00m\n\u001b[1;32m    364\u001b[0m \u001b[38;5;66;03m# when this function runs.\u001b[39;00m\n\u001b[1;32m    365\u001b[0m \u001b[38;5;66;03m# So avoid needing matplotlib attribute-lookup to access pyplot.\u001b[39;00m\n\u001b[1;32m    366\u001b[0m \u001b[38;5;28;01mfrom\u001b[39;00m \u001b[38;5;21;01mmatplotlib\u001b[39;00m \u001b[38;5;28;01mimport\u001b[39;00m pyplot \u001b[38;5;28;01mas\u001b[39;00m plt\n\u001b[0;32m--> 368\u001b[0m \u001b[43mplt\u001b[49m\u001b[38;5;241;43m.\u001b[39;49m\u001b[43mswitch_backend\u001b[49m\u001b[43m(\u001b[49m\u001b[43mbackend\u001b[49m\u001b[43m)\u001b[49m\n\u001b[1;32m    370\u001b[0m plt\u001b[38;5;241m.\u001b[39mshow\u001b[38;5;241m.\u001b[39m_needmain \u001b[38;5;241m=\u001b[39m \u001b[38;5;28;01mFalse\u001b[39;00m\n\u001b[1;32m    371\u001b[0m \u001b[38;5;66;03m# We need to detect at runtime whether show() is called by the user.\u001b[39;00m\n\u001b[1;32m    372\u001b[0m \u001b[38;5;66;03m# For this, we wrap it into a decorator which adds a 'called' flag.\u001b[39;00m\n",
      "File \u001b[0;32m~/anaconda3/lib/python3.11/site-packages/matplotlib/pyplot.py:342\u001b[0m, in \u001b[0;36mswitch_backend\u001b[0;34m(newbackend)\u001b[0m\n\u001b[1;32m    339\u001b[0m \u001b[38;5;66;03m# have to escape the switch on access logic\u001b[39;00m\n\u001b[1;32m    340\u001b[0m old_backend \u001b[38;5;241m=\u001b[39m \u001b[38;5;28mdict\u001b[39m\u001b[38;5;241m.\u001b[39m\u001b[38;5;21m__getitem__\u001b[39m(rcParams, \u001b[38;5;124m'\u001b[39m\u001b[38;5;124mbackend\u001b[39m\u001b[38;5;124m'\u001b[39m)\n\u001b[0;32m--> 342\u001b[0m module \u001b[38;5;241m=\u001b[39m \u001b[43mimportlib\u001b[49m\u001b[38;5;241;43m.\u001b[39;49m\u001b[43mimport_module\u001b[49m\u001b[43m(\u001b[49m\u001b[43mcbook\u001b[49m\u001b[38;5;241;43m.\u001b[39;49m\u001b[43m_backend_module_name\u001b[49m\u001b[43m(\u001b[49m\u001b[43mnewbackend\u001b[49m\u001b[43m)\u001b[49m\u001b[43m)\u001b[49m\n\u001b[1;32m    343\u001b[0m canvas_class \u001b[38;5;241m=\u001b[39m module\u001b[38;5;241m.\u001b[39mFigureCanvas\n\u001b[1;32m    345\u001b[0m required_framework \u001b[38;5;241m=\u001b[39m canvas_class\u001b[38;5;241m.\u001b[39mrequired_interactive_framework\n",
      "File \u001b[0;32m~/anaconda3/lib/python3.11/importlib/__init__.py:126\u001b[0m, in \u001b[0;36mimport_module\u001b[0;34m(name, package)\u001b[0m\n\u001b[1;32m    124\u001b[0m             \u001b[38;5;28;01mbreak\u001b[39;00m\n\u001b[1;32m    125\u001b[0m         level \u001b[38;5;241m+\u001b[39m\u001b[38;5;241m=\u001b[39m \u001b[38;5;241m1\u001b[39m\n\u001b[0;32m--> 126\u001b[0m \u001b[38;5;28;01mreturn\u001b[39;00m \u001b[43m_bootstrap\u001b[49m\u001b[38;5;241;43m.\u001b[39;49m\u001b[43m_gcd_import\u001b[49m\u001b[43m(\u001b[49m\u001b[43mname\u001b[49m\u001b[43m[\u001b[49m\u001b[43mlevel\u001b[49m\u001b[43m:\u001b[49m\u001b[43m]\u001b[49m\u001b[43m,\u001b[49m\u001b[43m \u001b[49m\u001b[43mpackage\u001b[49m\u001b[43m,\u001b[49m\u001b[43m \u001b[49m\u001b[43mlevel\u001b[49m\u001b[43m)\u001b[49m\n",
      "File \u001b[0;32m<frozen importlib._bootstrap>:1204\u001b[0m, in \u001b[0;36m_gcd_import\u001b[0;34m(name, package, level)\u001b[0m\n",
      "File \u001b[0;32m<frozen importlib._bootstrap>:1176\u001b[0m, in \u001b[0;36m_find_and_load\u001b[0;34m(name, import_)\u001b[0m\n",
      "File \u001b[0;32m<frozen importlib._bootstrap>:1126\u001b[0m, in \u001b[0;36m_find_and_load_unlocked\u001b[0;34m(name, import_)\u001b[0m\n",
      "File \u001b[0;32m<frozen importlib._bootstrap>:241\u001b[0m, in \u001b[0;36m_call_with_frames_removed\u001b[0;34m(f, *args, **kwds)\u001b[0m\n",
      "File \u001b[0;32m<frozen importlib._bootstrap>:1204\u001b[0m, in \u001b[0;36m_gcd_import\u001b[0;34m(name, package, level)\u001b[0m\n",
      "File \u001b[0;32m<frozen importlib._bootstrap>:1176\u001b[0m, in \u001b[0;36m_find_and_load\u001b[0;34m(name, import_)\u001b[0m\n",
      "File \u001b[0;32m<frozen importlib._bootstrap>:1140\u001b[0m, in \u001b[0;36m_find_and_load_unlocked\u001b[0;34m(name, import_)\u001b[0m\n",
      "\u001b[0;31mModuleNotFoundError\u001b[0m: No module named 'ipympl'"
     ]
    }
   ],
   "source": [
    "# Enabling the `widget` backend.\n",
    "# This requires jupyter-matplotlib a.k.a. ipympl.\n",
    "# ipympl can be install via pip or conda.\n",
    "%matplotlib widget\n",
    "# aka import ipympl"
   ]
  },
  {
   "cell_type": "code",
   "execution_count": null,
   "metadata": {},
   "outputs": [],
   "source": [
    "import matplotlib.pyplot as plt\n",
    "from mpl_toolkits import mplot3d\n",
    "\n",
    "import numpy as np\n",
    "from scipy.special import k0 as K0"
   ]
  },
  {
   "cell_type": "code",
   "execution_count": null,
   "metadata": {},
   "outputs": [],
   "source": [
    "def synthetic_relief(x, y):\n",
    "    '''\n",
    "    Compute the synthetic relief model presented by \n",
    "    Lancaster and Salkauskas (1980, p. 150).\n",
    "    \n",
    "    Parameters\n",
    "    ----------\n",
    "    x, y : arrays\n",
    "        Coordinates x and y of points on the synthetic model.\n",
    "    \n",
    "    Returns\n",
    "    -------\n",
    "    z : array\n",
    "        Coordinates z of the model at the given points (x, y).\n",
    "    '''\n",
    "    shapex = x.shape\n",
    "    shapey = y.shape\n",
    "    assert shapex == shapey, 'x and y must have the same shape'\n",
    "\n",
    "    mask1 = ((y - x) >= 0.5)\n",
    "    mask2 = ((0 <= (y - x)) & ((y - x) < 0.5))\n",
    "    mask3 = ((x - 1.5)**2 + (y - 0.5)**2 <= 1/16)\n",
    "\n",
    "    z = np.zeros_like(x)\n",
    "\n",
    "    z[mask1] = 1\n",
    "    z[mask2] = 2*(y[mask2] - x[mask2])\n",
    "    z[mask3] = 0.5*(np.cos(4*np.pi*np.sqrt((x[mask3] - 1.5)**2 + (y[mask3] - 0.5)**2)) + 1)\n",
    "\n",
    "    return z"
   ]
  },
  {
   "cell_type": "code",
   "execution_count": null,
   "metadata": {},
   "outputs": [],
   "source": [
    "# Number of points along x and y\n",
    "Nx = 100\n",
    "Ny = 50\n",
    "\n",
    "# Boundaries of the modelled area\n",
    "xmin = 0\n",
    "xmax = 2\n",
    "ymin = 0\n",
    "ymax = 1\n",
    "\n",
    "# Grid of coordinates x and y\n",
    "x_grid, y_grid = np.meshgrid(np.linspace(xmin, xmax, Nx),\n",
    "                             np.linspace(ymin, ymax, Ny))"
   ]
  },
  {
   "cell_type": "code",
   "execution_count": null,
   "metadata": {},
   "outputs": [],
   "source": [
    "# z coordinates of the relief model\n",
    "z_grid = synthetic_relief(x_grid, y_grid)"
   ]
  },
  {
   "cell_type": "code",
   "execution_count": null,
   "metadata": {},
   "outputs": [],
   "source": [
    "fig, ax = plt.subplots(nrows=1, ncols=1)\n",
    "\n",
    "colormap = ax.pcolormesh(x_grid, y_grid, z_grid, cmap=plt.get_cmap('viridis'))\n",
    "fig.colorbar(colormap, ax=ax).set_label('z', fontsize=16)\n",
    "ax.set_xlabel('x', fontsize=16)\n",
    "ax.set_ylabel('y', fontsize=16)\n",
    "\n",
    "plt.show()"
   ]
  },
  {
   "cell_type": "code",
   "execution_count": null,
   "metadata": {},
   "outputs": [],
   "source": [
    "fig = plt.figure()\n",
    "ax = plt.axes(projection=\"3d\")\n",
    "colormap3D = ax.plot_surface(x_grid, y_grid, z_grid, rstride=1, cstride=1, cmap=plt.get_cmap('viridis'))\n",
    "fig.colorbar(colormap3D, ax=ax).set_label('z', fontsize=16)\n",
    "ax.set_xlabel('x', fontsize=16)\n",
    "ax.set_ylabel('y', fontsize=16)\n",
    "plt.show()"
   ]
  },
  {
   "cell_type": "markdown",
   "metadata": {},
   "source": [
    "## Generate irregularly-spaced points for testing interpolation"
   ]
  },
  {
   "cell_type": "code",
   "execution_count": null,
   "metadata": {},
   "outputs": [],
   "source": [
    "# Set the random number generator\n",
    "np.random.seed(31)\n",
    "\n",
    "# Number of points\n",
    "N = 150\n",
    "\n",
    "# x and y coordinates of the irregularly-spaced points\n",
    "x = xmin + (xmax - xmin)*np.random.rand(N)\n",
    "y = ymin + (ymax - ymin)*np.random.rand(N)"
   ]
  },
  {
   "cell_type": "code",
   "execution_count": null,
   "metadata": {},
   "outputs": [],
   "source": [
    "fig, ax = plt.subplots(nrows=1, ncols=1)\n",
    "\n",
    "colormap = ax.pcolormesh(x_grid, y_grid, z_grid, cmap=plt.get_cmap('viridis'))\n",
    "fig.colorbar(colormap, ax=ax).set_label('z', fontsize=16)\n",
    "ax.plot(x, y, color='k', marker='o', markersize=3, linewidth=0)\n",
    "ax.set_xlabel('x', fontsize=16)\n",
    "ax.set_ylabel('y', fontsize=16)\n",
    "\n",
    "plt.show()"
   ]
  },
  {
   "cell_type": "markdown",
   "metadata": {},
   "source": [
    "## 2D interpolation"
   ]
  },
  {
   "cell_type": "markdown",
   "metadata": {},
   "source": [
    "Implement the 2D Cartesian Green's functions (Table 1 of notebook `greens_interp_theory`) to interpolate the irregularly-spaced data on the synthetic relief model. For convenience, neglect the trend term $\\mathbf{s}(\\mathbf{q})$ (equation 5 of notebook `greens_interp_theory`)."
   ]
  },
  {
   "cell_type": "code",
   "execution_count": null,
   "metadata": {},
   "outputs": [],
   "source": [
    "def G_2D(p, t=0, p_interp=None):\n",
    "    '''\n",
    "    Compute matrix G formed by 2D Cartesian Green's functions.\n",
    "    \n",
    "    Parameters\n",
    "    ----------\n",
    "    p : array 2D\n",
    "        Matrix with N rows and 2 columns. The first and second \n",
    "        columns contain, respectively, the coordinates x and y\n",
    "        of the data points.\n",
    "\n",
    "    t : float\n",
    "        Positive scalar, in the interval [0, 1[ , controlling the\n",
    "        tension in spline surface.\n",
    "\n",
    "    p_interp : array 2D\n",
    "        Matrix with N rows and 2 columns. The first and second \n",
    "        columns contain, respectively, the coordinates x and y\n",
    "        of the interpolating points.\n",
    "\n",
    "    Returns\n",
    "    -------\n",
    "    G : array 2D\n",
    "        Matrix of Green's functions.\n",
    "    '''\n",
    "\n",
    "    p = np.asarray(p)\n",
    "\n",
    "    assert p.ndim == 2, 'p must be a matrix'\n",
    "    assert p.shape[1] == 2, 'p must have two columns'\n",
    "    assert p.shape[0] > 2, 'p must have more than two rows'\n",
    "    assert np.isscalar(t), 't must be a scalar'\n",
    "    assert (t >= 0) and (t < 1), 't must be greater than or equal to zero and lower lower than one' \n",
    "\n",
    "    tau = np.sqrt(t/(1-t))\n",
    "\n",
    "    if p_interp is not None:\n",
    "        p_interp = np.asarray(p_interp)\n",
    "        assert p_interp.ndim == 2, 'p_interp must be a matrix'\n",
    "        assert p_interp.shape[1] == 2, 'p_interp must have two columns'\n",
    "        assert p_interp.shape[0] > 2, 'p must have more than two rows'\n",
    "        y = p_interp\n",
    "    else:\n",
    "        y = p\n",
    "    \n",
    "    G = np.empty((y.shape[0],p.shape[0]))\n",
    "    if tau == 0:\n",
    "        for j, (xj, yj) in enumerate(p):\n",
    "            Dx = y[:,0] - xj\n",
    "            Dy = y[:,1] - yj\n",
    "            r = np.sqrt(Dx**2 + Dy**2)\n",
    "            G[:,j] = r*r*(np.log(r + 1e-15) - 1)\n",
    "    else:\n",
    "        for j, (xj, yj) in enumerate(p):\n",
    "            Dx = y[:,0] - xj\n",
    "            Dy = y[:,1] - yj\n",
    "            r = np.sqrt(Dx**2 + Dy**2)\n",
    "            #G[:,j] = K0(tau*r + 1e-15) + np.log10(tau*r + 1e-15)\n",
    "            G[:,j] = K0(tau*r + 1e-15) + np.log(tau*r + 1e-15)\n",
    "\n",
    "    return G"
   ]
  },
  {
   "cell_type": "markdown",
   "metadata": {},
   "source": [
    "### Estimate 2D spline coefficients"
   ]
  },
  {
   "cell_type": "code",
   "execution_count": null,
   "metadata": {},
   "outputs": [],
   "source": [
    "dobs = synthetic_relief(x, y)"
   ]
  },
  {
   "cell_type": "code",
   "execution_count": null,
   "metadata": {},
   "outputs": [],
   "source": [
    "# G matrix without tension\n",
    "G2D_no_tension = G_2D(p=np.vstack([x, y]).T, t=0, p_interp=None)"
   ]
  },
  {
   "cell_type": "code",
   "execution_count": null,
   "metadata": {},
   "outputs": [],
   "source": [
    "# Coefficients without tension\n",
    "coeffs_no_tension = np.linalg.solve(G2D_no_tension, dobs)"
   ]
  },
  {
   "cell_type": "code",
   "execution_count": null,
   "metadata": {},
   "outputs": [],
   "source": [
    "# G matrix with tension\n",
    "G2D_tension = G_2D(p=np.vstack([x, y]).T, t=0.998, p_interp=None)"
   ]
  },
  {
   "cell_type": "code",
   "execution_count": null,
   "metadata": {},
   "outputs": [],
   "source": [
    "# Coefficients with tension\n",
    "coeffs_tension = np.linalg.solve(G2D_tension, dobs)"
   ]
  },
  {
   "cell_type": "markdown",
   "metadata": {},
   "source": [
    "### Interpolate 2D data"
   ]
  },
  {
   "cell_type": "markdown",
   "metadata": {},
   "source": [
    "Use the regular grid (`x_grid` and `y_grid`) as interpolation coordinates."
   ]
  },
  {
   "cell_type": "code",
   "execution_count": null,
   "metadata": {},
   "outputs": [],
   "source": [
    "# Compute interpolated data without tension\n",
    "G2D_no_tension_interp = G_2D(p=np.vstack([x, y]).T, t=0, \n",
    "                             p_interp=np.vstack([np.ravel(x_grid), np.ravel(y_grid)]).T)\n",
    "y_no_tension_interp = np.dot(G2D_no_tension_interp, coeffs_no_tension)"
   ]
  },
  {
   "cell_type": "code",
   "execution_count": null,
   "metadata": {},
   "outputs": [],
   "source": [
    "# Compute interpolated data with tension\n",
    "G2D_tension_interp = G_2D(p=np.vstack([x, y]).T, t=0.998, \n",
    "                          p_interp=np.vstack([np.ravel(x_grid), np.ravel(y_grid)]).T)\n",
    "y_tension_interp = np.dot(G2D_tension_interp, coeffs_tension)"
   ]
  },
  {
   "cell_type": "code",
   "execution_count": null,
   "metadata": {},
   "outputs": [],
   "source": [
    "# reshape the interpolated points for plotting\n",
    "y_no_tension_interp = np.reshape(y_no_tension_interp, (Ny, Nx))\n",
    "y_tension_interp = np.reshape(y_tension_interp, (Ny, Nx))"
   ]
  },
  {
   "cell_type": "code",
   "execution_count": null,
   "metadata": {},
   "outputs": [],
   "source": [
    "# True model\n",
    "fig = plt.figure()\n",
    "ax = plt.axes(projection=\"3d\")\n",
    "colormap3D = ax.plot_surface(x_grid, y_grid, z_grid, rstride=1, cstride=1, cmap=plt.get_cmap('viridis'))\n",
    "fig.colorbar(colormap3D, ax=ax).set_label('z', fontsize=16)\n",
    "ax.set_xlabel('x', fontsize=16)\n",
    "ax.set_ylabel('y', fontsize=16)\n",
    "plt.show()"
   ]
  },
  {
   "cell_type": "code",
   "execution_count": null,
   "metadata": {},
   "outputs": [],
   "source": [
    "# Interpolated points without tension\n",
    "fig = plt.figure()\n",
    "ax = plt.axes(projection=\"3d\")\n",
    "colormap3D = ax.plot_surface(x_grid, y_grid, y_no_tension_interp, \n",
    "                             rstride=1, cstride=1, cmap=plt.get_cmap('viridis'))\n",
    "fig.colorbar(colormap3D, ax=ax).set_label('z', fontsize=16)\n",
    "ax.set_xlabel('x', fontsize=16)\n",
    "ax.set_ylabel('y', fontsize=16)\n",
    "plt.show()"
   ]
  },
  {
   "cell_type": "code",
   "execution_count": null,
   "metadata": {},
   "outputs": [],
   "source": [
    "# Interpolated points with tension\n",
    "fig = plt.figure()\n",
    "ax = plt.axes(projection=\"3d\")\n",
    "colormap3D = ax.plot_surface(x_grid, y_grid, y_tension_interp, \n",
    "                             rstride=1, cstride=1, cmap=plt.get_cmap('viridis'))\n",
    "fig.colorbar(colormap3D, ax=ax).set_label('z', fontsize=16)\n",
    "ax.set_xlabel('x', fontsize=16)\n",
    "ax.set_ylabel('y', fontsize=16)\n",
    "plt.show()"
   ]
  },
  {
   "cell_type": "code",
   "execution_count": null,
   "metadata": {},
   "outputs": [],
   "source": []
  }
 ],
 "metadata": {
  "kernelspec": {
   "display_name": "Python 3 (ipykernel)",
   "language": "python",
   "name": "python3"
  },
  "language_info": {
   "codemirror_mode": {
    "name": "ipython",
    "version": 3
   },
   "file_extension": ".py",
   "mimetype": "text/x-python",
   "name": "python",
   "nbconvert_exporter": "python",
   "pygments_lexer": "ipython3",
   "version": "3.11.8"
  }
 },
 "nbformat": 4,
 "nbformat_minor": 4
}
