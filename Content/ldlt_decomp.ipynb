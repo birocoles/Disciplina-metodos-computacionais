{
 "cells": [
  {
   "cell_type": "markdown",
   "metadata": {},
   "source": [
    "# LDL<sup>T</sup> decomposition"
   ]
  },
  {
   "cell_type": "markdown",
   "metadata": {},
   "source": [
    "Consider an $N \\times N$ matrix $\\mathbf{A}$ that is symmetric and admits an LU decomposition, e.g., the matrix $\\mathbf{A}$ satisfies the following equations:"
   ]
  },
  {
   "cell_type": "markdown",
   "metadata": {},
   "source": [
    "<a id='eq1'></a>\n",
    "$$\n",
    "\\begin{align}\n",
    "\\mathbf{A} &= \\mathbf{A}^{\\top} \\tag{1a} \\\\\n",
    "\\mathbf{A} &= \\mathbf{L} \\, \\mathbf{U} \\tag{1b}\n",
    "\\end{align}\n",
    "$$"
   ]
  },
  {
   "cell_type": "markdown",
   "metadata": {},
   "source": [
    "By considering the existence of the inverse $\\mathbf{L}^{-1}$, we may rewrite the equation above as follows:"
   ]
  },
  {
   "cell_type": "markdown",
   "metadata": {},
   "source": [
    "<a id='eq2'></a>\n",
    "$$\n",
    "\\begin{align}\n",
    "\\mathbf{L}^{-1} \\, \\mathbf{A} &= \\mathbf{U} \\tag{2a} \\\\\n",
    "\\mathbf{L}^{-1} \\, \\mathbf{A} \\, \\mathbf{L}^{-\\top} &= \\mathbf{U} \\, \\mathbf{L}^{-\\top} \\tag{2b}\n",
    "\\end{align}\n",
    "$$"
   ]
  },
  {
   "cell_type": "markdown",
   "metadata": {},
   "source": [
    "where $\\mathbf{L}^{-\\top} \\equiv \\left( \\mathbf{L}^{-1} \\right)^{\\top} = \\left( \\mathbf{L}^{\\top} \\right)^{-1}$. Notice that"
   ]
  },
  {
   "cell_type": "markdown",
   "metadata": {},
   "source": [
    "<a id='eq3'></a>\n",
    "$$\n",
    "\\begin{split}\n",
    "\\left( \\mathbf{L}^{-1} \\, \\mathbf{A} \\, \\mathbf{L}^{-\\top} \\right)^{\\top} \n",
    "&= \\left( \\mathbf{L}^{-\\top} \\right)^{\\top} \\, \\mathbf{A}^{\\top} \\, \\left( \\mathbf{L}^{-1} \\right)^{\\top}\\\\\n",
    "&= \\left[ \\left( \\mathbf{L}^{-1} \\right)^{\\top} \\right]^{\\top} \\, \\mathbf{A} \\, \\mathbf{L}^{-\\top} \\\\\n",
    "&= \\mathbf{L}^{-1} \\, \\mathbf{A} \\, \\mathbf{L}^{-\\top}\n",
    "\\end{split} \\: , \\tag{3}\n",
    "$$"
   ]
  },
  {
   "cell_type": "markdown",
   "metadata": {},
   "source": [
    "which means that $\\mathbf{L}^{-1} \\, \\mathbf{A} \\, \\mathbf{L}^{-\\top}$ **and, consequently,** $\\mathbf{U} \\, \\mathbf{L}^{-\\top}$ **are symmetric matrices** ([equation 2b](#eq2)). Now, let's analyze the matrix $\\mathbf{U} \\, \\mathbf{L}^{-\\top}$. First, consider two square matrices $\\mathbf{B}$ and $\\mathbf{C}$. Then, bear in mind that:\n",
    "\n",
    "1. If $\\mathbf{B}$ is upper (lower) triangular, then $\\mathbf{B}^{-1}$ is also upper (lower) triangular;\n",
    "\n",
    "2. If $\\mathbf{B}$ and $\\mathbf{C}$ are upper (lower) triangular, then $\\mathbf{BC}$ is also upper (lower) triangular;\n",
    "\n",
    "3. If $\\mathbf{B}$ is unit upper (lower) triangular, then $\\mathbf{B}^{-1}$ is also unit upper (lower) triangular;\n",
    "\n",
    "4. If $\\mathbf{B}$ and $\\mathbf{C}$ are unit upper (lower) triangular, then $\\mathbf{BC}$ is also unit upper (lower) triangular."
   ]
  },
  {
   "cell_type": "markdown",
   "metadata": {},
   "source": [
    "Then, we conclude that, besides being symmetric, $\\mathbf{U} \\, \\mathbf{L}^{-\\top}$ ([equation 2b](#eq2)) is also upper triangular. In this case, $\\mathbf{U} \\, \\mathbf{L}^{-\\top}$ must be a diagonal matrix, which we conveniently represent as $\\mathbf{D}$. So, [equation 2b](#eq2) can be rewritten as follows"
   ]
  },
  {
   "cell_type": "markdown",
   "metadata": {},
   "source": [
    "<a id='eq4'></a>\n",
    "$$\n",
    "\\mathbf{L}^{-1} \\, \\mathbf{A} \\, \\mathbf{L}^{-\\top} = \\mathbf{D} \\tag{4}\n",
    "$$"
   ]
  },
  {
   "cell_type": "markdown",
   "metadata": {},
   "source": [
    "and, finally, matrix $\\mathbf{A}$ ([equations 1a-b](#eq1)) is given by"
   ]
  },
  {
   "cell_type": "markdown",
   "metadata": {},
   "source": [
    "<a id='eq5'></a>\n",
    "$$\n",
    "\\mathbf{A} = \\mathbf{L} \\, \\mathbf{D} \\, \\mathbf{L}^{\\top} \\quad . \\tag{5}\n",
    "$$"
   ]
  },
  {
   "cell_type": "markdown",
   "metadata": {},
   "source": [
    "This is the LDL<sup>T</sup> decomposition. Any matrix that admits the LU decomposition and is symmetric admits an LDL<sup>T</sup> decomposition."
   ]
  },
  {
   "cell_type": "markdown",
   "metadata": {},
   "source": [
    "In a most rigorous definition (Golub and Van Loan, 2013):"
   ]
  },
  {
   "cell_type": "markdown",
   "metadata": {},
   "source": [
    "**THEOREM:** If $\\mathbf{A} \\in \\mathbb{R}^{N \\times N}$ is symmetric and the principal submatrix $\\mathbf{A} \\left[1:k \\, , 1:k \\right]$ is nonsingular for $k = 1 : N-1$, then there exists a unit lower triangular matrix $\\mathbf{L} \\in \\mathbb{R}^{N \\times N}$ and a diagonal matrix $\\mathbf{D} \\in \\mathbb{R}^{N \\times N}$ such that $\\mathbf{A} = \\mathbf{L} \\mathbf{D} \\mathbf{L}^{\\top}$. The factorization is unique."
   ]
  },
  {
   "cell_type": "markdown",
   "metadata": {},
   "source": [
    "### Algorithm for computing the LDL<sup>T</sup>"
   ]
  },
  {
   "cell_type": "markdown",
   "metadata": {},
   "source": [
    "The following cells illustrate the LDL<sup>T</sup> algorithm for the particular case in which $N = 4$."
   ]
  },
  {
   "cell_type": "markdown",
   "metadata": {},
   "source": [
    "$$\n",
    "\\begin{split}\n",
    "\\begin{bmatrix}\n",
    "a_{00} & a_{10} & a_{20} & a_{30} \\\\\n",
    "a_{10} & a_{11} & a_{21} & a_{31} \\\\\n",
    "a_{20} & a_{21} & a_{22} & a_{32} \\\\\n",
    "a_{30} & a_{31} & a_{32} & a_{33}\n",
    "\\end{bmatrix}\n",
    "&=\n",
    "\\begin{bmatrix}\n",
    "1 &  &  &  \\\\\n",
    "l_{10} & 1 & & \\\\\n",
    "l_{20} & l_{21} & 1 & \\\\\n",
    "l_{30} & l_{31} & l_{32} & 1\n",
    "\\end{bmatrix}\n",
    "\\begin{bmatrix}\n",
    "d_{00} &  &  &  \\\\\n",
    "& d_{11} & & \\\\\n",
    "& & d_{22} & \\\\\n",
    "& & & d_{33}\n",
    "\\end{bmatrix}\n",
    "\\begin{bmatrix}\n",
    "1 & l_{10} & l_{20} & l_{30} \\\\\n",
    " & 1 & l_{21} & l_{31} \\\\\n",
    " & & 1 & l_{32} \\\\\n",
    " & & & 1\n",
    "\\end{bmatrix} \\\\\\\\\n",
    "&=\n",
    "\\begin{bmatrix}\n",
    "1 &  &  &  \\\\\n",
    "l_{10} & 1 & & \\\\\n",
    "l_{20} & l_{21} & 1 & \\\\\n",
    "l_{30} & l_{31} & l_{32} & 1\n",
    "\\end{bmatrix}\n",
    "\\begin{bmatrix}\n",
    "d_{00} & d_{00} \\, l_{10} & d_{00} \\, l_{20} & d_{00} \\, l_{30} \\\\\n",
    " & d_{11} & d_{11} \\, l_{21} & d_{11} \\, l_{31} \\\\\n",
    " & & d_{22} & d_{22} \\, l_{32} \\\\\n",
    " & & & d_{33}\n",
    "\\end{bmatrix}\n",
    "\\end{split}\n",
    "$$"
   ]
  },
  {
   "cell_type": "markdown",
   "metadata": {},
   "source": [
    "Column 0 $\\left( \\, j = 0 \\, \\right)$\n",
    "\n",
    "$$\n",
    "\\begin{split}\n",
    "a_{00} &= d_{00} &\\longrightarrow \\: &d_{00} = a_{00} \\\\\\\\\n",
    "a_{10} &= d_{00} l_{10} &\\longrightarrow \\: &l_{10} = \\frac{a_{10}}{d_{00}} \\\\\\\\\n",
    "a_{20} &= d_{00} l_{20} &\\longrightarrow \\: &l_{20} = \\frac{a_{20}}{d_{00}} \\\\\\\\\n",
    "a_{30} &= d_{00} l_{30} &\\longrightarrow \\: &l_{30} = \\frac{a_{30}}{d_{00}}\n",
    "\\end{split}\n",
    "$$"
   ]
  },
  {
   "cell_type": "markdown",
   "metadata": {},
   "source": [
    "Column 1 $\\left( \\, j = 1 \\, \\right)$\n",
    "\n",
    "$$\n",
    "\\begin{split}\n",
    "a_{11} &= (d_{00} l_{10}) l_{10} + d_{11} &\\longrightarrow \\: \n",
    "&d_{11} = a_{11} - (d_{00} l_{10}) l_{10} \\\\\\\\\n",
    "a_{21} &= (d_{00} l_{10}) l_{20} + d_{11} l_{21} &\\longrightarrow \\: \n",
    "&l_{21} = \\frac{a_{21} - (d_{00} l_{10}) l_{20}}{d_{11}} \\\\\\\\\n",
    "a_{31} &= (d_{00} l_{10}) l_{30} + d_{11} l_{31} &\\longrightarrow \\: \n",
    "&l_{31} = \\frac{a_{31} - (d_{00} l_{10}) l_{30}}{d_{11}} \\\\\\\\\n",
    "\\end{split}\n",
    "$$"
   ]
  },
  {
   "cell_type": "markdown",
   "metadata": {},
   "source": [
    "Column 2 $\\left( \\, j = 2 \\, \\right)$\n",
    "\n",
    "$$\n",
    "\\begin{split}\n",
    "a_{22} &= (d_{00} l_{20}) l_{20} + (d_{11} l_{21}) l_{21} + d_{22} &\\longrightarrow \\: \n",
    "&d_{22} = a_{22} - (d_{00} l_{20}) l_{20} - (d_{11} l_{21}) l_{21} \\\\\\\\\n",
    "a_{32} &= (d_{00} l_{20}) l_{30} + (d_{11} l_{21}) l_{31} + d_{22} l_{32} &\\longrightarrow \\: \n",
    "&l_{32} = \\frac{a_{32} -(d_{00} l_{20}) l_{30} - (d_{11} l_{21}) l_{31}}{d_{22}} \\\\\\\\\n",
    "\\end{split}\n",
    "$$"
   ]
  },
  {
   "cell_type": "markdown",
   "metadata": {},
   "source": [
    "Column 3 $\\left( \\, j = 3 \\, \\right)$\n",
    "\n",
    "$$\n",
    "\\begin{split}\n",
    "a_{33} &= (d_{00} l_{30}) l_{30} + (d_{11} l_{31}) l_{31} + (d_{22} l_{32}) l_{32} + d_{33} &\\longrightarrow \\: \n",
    "&l_{33} = a_{33} - (d_{00} l_{30}) l_{30} - (d_{11} l_{31}) l_{31} - (d_{22} l_{32}) l_{32}\n",
    "\\end{split}\n",
    "$$"
   ]
  },
  {
   "cell_type": "markdown",
   "metadata": {},
   "source": [
    "The example given above can be easily generalized for any symmetric $N \\times N$ matrix $\\mathbf{A}$. Based on the example given above, the LDL<sup>T</sup> algorithm can be implemented as follows:"
   ]
  },
  {
   "cell_type": "markdown",
   "metadata": {},
   "source": [
    "    def ldlt_decomp(A, check_input=True):\n",
    "        N = A.shape[0]\n",
    "        if check_input is True:\n",
    "            assert A.ndim == 2, 'A must be a matrix'\n",
    "            assert A.shape[1] == N, 'A must be square'\n",
    "            assert np.all(A.T == A), 'A must be symmetric'\n",
    "\n",
    "        L = identity matrix of order N\n",
    "        d = vector of zeros with N elements\n",
    "\n",
    "        for j = 0:N-1\n",
    "\n",
    "            v = L[j,:j-1]*d[:j-1]\n",
    "\n",
    "            d[j] = A[j,j] - dot(L[j,:j-1], v)\n",
    "\n",
    "            L[j+1:,j] = (A[j+1:,j] - dot(L[j+1:,:j-1],v))/d[j]\n",
    "        \n",
    "        return L, d"
   ]
  },
  {
   "cell_type": "markdown",
   "metadata": {},
   "source": [
    "where `v` is an auxiliary variable. This algorithm receives a square matrix $\\mathbf{A}$ and returns the lower triangular matrix $\\mathbf{L}$ and a vector $\\mathbf{d}$ containing the diagonal elements of $\\mathbf{D}$. An alternative implementation overwrites the elements below the main diagonal of $\\mathbf{A}$ with the corresponding elements of $\\mathbf{L}$ and returns only the vector $\\mathbf{d}$."
   ]
  },
  {
   "cell_type": "markdown",
   "metadata": {},
   "source": [
    "    def ldlt_decomp_overwrite(A, check_input=True):\n",
    "        N = A.shape[0]\n",
    "        if check_input is True:\n",
    "            assert A.ndim == 2, 'A must be a matrix'\n",
    "            assert A.shape[1] == N, 'A must be square'\n",
    "            assert np.all(A.T == A), 'A must be symmetric'\n",
    "\n",
    "        d = vector of zeros with N elements\n",
    "        \n",
    "        for j = 0:N-1\n",
    "        \n",
    "            v = A[j,:j-1]*d[:j-1]\n",
    "            \n",
    "            d[j] = A[j,j] - dot(A[j,:j-1], v)\n",
    "            \n",
    "            A[j+1:,j] = (A[j+1:,j] - dot(A[j+1:,:j-1],v))/d[j]\n",
    "\n",
    "        return d"
   ]
  },
  {
   "cell_type": "markdown",
   "metadata": {},
   "source": [
    "#### Testing the function `ldlt_decomp`"
   ]
  },
  {
   "cell_type": "raw",
   "metadata": {},
   "source": [
    "# import stuff\n",
    "import numpy as np\n",
    "from numpy.linalg import multi_dot"
   ]
  },
  {
   "cell_type": "raw",
   "metadata": {},
   "source": [
    "# Define N\n",
    "N = 5"
   ]
  },
  {
   "cell_type": "raw",
   "metadata": {},
   "source": [
    "# create a symmetric matrix A\n",
    "A = np.random.rand(N,N) + np.identity(N)\n",
    "A = 0.5*(A + A.T)"
   ]
  },
  {
   "cell_type": "raw",
   "metadata": {},
   "source": [
    "# compute LDLT decomposition\n",
    "L, d = ldlt_decomp(A)"
   ]
  },
  {
   "cell_type": "raw",
   "metadata": {},
   "source": [
    "# compute a matrix by using L and d\n",
    "A2 = multi_dot([L, np.diag(d), L.T])"
   ]
  },
  {
   "cell_type": "raw",
   "metadata": {},
   "source": [
    "# compare matrix A2 with original matrix A\n",
    "# they must be equal to each other\n",
    "np.allclose(A, A2)"
   ]
  },
  {
   "cell_type": "markdown",
   "metadata": {},
   "source": [
    "#### Testing the function `ldlt_decomp_overwrite`"
   ]
  },
  {
   "cell_type": "raw",
   "metadata": {},
   "source": [
    "# Define N\n",
    "N = 5"
   ]
  },
  {
   "cell_type": "raw",
   "metadata": {},
   "source": [
    "# create a symmetric matrix A\n",
    "A = np.random.rand(N,N) + np.identity(N)\n",
    "A = 0.5*(A + A.T)"
   ]
  },
  {
   "cell_type": "raw",
   "metadata": {},
   "source": [
    "# compute the LDLT decomposition \n",
    "d = ldlt_decomp2(A)"
   ]
  },
  {
   "cell_type": "raw",
   "metadata": {},
   "source": [
    "# retrieve matrix L from A\n",
    "L = np.identity(N) + np.tril(A, k=-1) # k=-1 excludes the main diagonal of A"
   ]
  },
  {
   "cell_type": "raw",
   "metadata": {},
   "source": [
    "# compute a matrix by using L and d\n",
    "A3 = multi_dot([L, np.diag(d), L.T])"
   ]
  },
  {
   "cell_type": "raw",
   "metadata": {},
   "source": [
    "# verify that A3 is symmetric\n",
    "np.allclose(A3, A3.T)"
   ]
  },
  {
   "cell_type": "raw",
   "metadata": {},
   "source": [
    "# compare the upper triangle of matrices matrix A3 and A\n",
    "# they must be equal to each other\n",
    "np.allclose(np.triu(A), np.triu(A3))"
   ]
  },
  {
   "cell_type": "markdown",
   "metadata": {},
   "source": [
    "### Solving a linear system by applying the LDL<sup>T</sup> decomposition"
   ]
  },
  {
   "cell_type": "markdown",
   "metadata": {},
   "source": [
    "Consider a linear system"
   ]
  },
  {
   "cell_type": "markdown",
   "metadata": {},
   "source": [
    "<a id='eq6'></a>\n",
    "$$\n",
    "\\mathbf{A} \\mathbf{x} = \\mathbf{y} \\: , \\tag{6}\n",
    "$$"
   ]
  },
  {
   "cell_type": "markdown",
   "metadata": {},
   "source": [
    "where $\\mathbf{A}$ is a square symmetric matrix that admits a LU decomposition. In this case, the linear system can be rewritten as follows:"
   ]
  },
  {
   "cell_type": "markdown",
   "metadata": {},
   "source": [
    "<a id='eq7'></a>\n",
    "$$\n",
    "\\begin{align}\n",
    "\\mathbf{A} \\, \\mathbf{x} &= \\mathbf{y} \\tag{7a} \\\\\n",
    "\\mathbf{L} \\, \\mathbf{D} \\, \\mathbf{L}^{\\top} \\mathbf{x} &= \\mathbf{y} \\tag{7b}\n",
    "\\end{align}\n",
    "$$"
   ]
  },
  {
   "cell_type": "markdown",
   "metadata": {},
   "source": [
    "So, the linear system ([equation 6](#eq6)) can be solved in three steps:"
   ]
  },
  {
   "cell_type": "markdown",
   "metadata": {},
   "source": [
    "<a id='eq8'></a>\n",
    "$$\n",
    "\\begin{align}\n",
    "\\mathbf{L} \\, \\mathbf{w} &= \\mathbf{y} \\tag{8a} \\\\\n",
    "\\mathbf{D} \\, \\mathbf{z} &= \\mathbf{w} \\tag{8b} \\\\\n",
    "\\mathbf{L}^{\\top} \\mathbf{x} &= \\mathbf{z} \\tag{8c}\n",
    "\\end{align}\n",
    "$$"
   ]
  },
  {
   "cell_type": "markdown",
   "metadata": {},
   "source": [
    "### Computing inverses by using the LDL<sup>T</sup> decomposition"
   ]
  },
  {
   "cell_type": "markdown",
   "metadata": {},
   "source": [
    "As we have learned in the notebook `gauss-elim-pivoting`, each column of the inverse of a matrix can be computed by solving a linear system. It means that computing the inverse of an $N \\times N$ matrix requires the solution of $N$ linear systems. Note that, if the matrix is symmetric, we may use the LDL<sup>T</sup> decomposition to compute its inverse. In this case, we need to compute the matrices $\\mathbf{L}$ and $\\mathbf{D}$ just once and use them to solve the $N$ required linear systems, each one for a different column of the inverse."
   ]
  },
  {
   "cell_type": "markdown",
   "metadata": {},
   "source": [
    "### References\n",
    "\n",
    "* Golub, G. H. and C. F. Van Loan, (2013), Matrix computations, 4th edition, Johns Hopkins University Press, ISBN 978-1-4214-0794-4."
   ]
  },
  {
   "cell_type": "markdown",
   "metadata": {},
   "source": [
    "### Statements about triangular matrices"
   ]
  },
  {
   "cell_type": "markdown",
   "metadata": {},
   "source": [
    "These statements can be verified numericaly by running the cells at the end of this notebook. It uses the routines [`numpy.random.rand`](http://docs.scipy.org/doc/numpy/reference/generated/numpy.random.rand.html), [`numpy.triu`](http://docs.scipy.org/doc/numpy/reference/generated/numpy.triu.html), [`numpy.tril`](http://docs.scipy.org/doc/numpy/reference/generated/numpy.tril.html), [`numpy.indentity`](http://docs.scipy.org/doc/numpy/reference/generated/numpy.identity.html), [`numpy.dot`](http://docs.scipy.org/doc/numpy/reference/generated/numpy.dot.html) and [`numpy.linalg.inv`](http://docs.scipy.org/doc/numpy/reference/generated/numpy.linalg.inv.html)."
   ]
  },
  {
   "cell_type": "code",
   "execution_count": 1,
   "metadata": {},
   "outputs": [],
   "source": [
    "import numpy as np"
   ]
  },
  {
   "cell_type": "code",
   "execution_count": 2,
   "metadata": {},
   "outputs": [],
   "source": [
    "N = 5"
   ]
  },
  {
   "cell_type": "code",
   "execution_count": 3,
   "metadata": {},
   "outputs": [
    {
     "name": "stdout",
     "output_type": "stream",
     "text": [
      "B = \n",
      " [[0.35830366 0.18276014 0.26340443 0.50440721 0.54493817]\n",
      " [0.         0.94348407 0.13860105 0.03062381 0.9753346 ]\n",
      " [0.         0.         0.57398788 0.38955512 0.42186669]\n",
      " [0.         0.         0.         0.02900644 0.29509011]\n",
      " [0.         0.         0.         0.         0.63521721]]\n",
      "\n",
      "\n",
      "B^-1 = \n",
      " [[  2.79092878  -0.54062441  -1.15021922 -32.51467088  14.30440342]\n",
      " [  0.           1.05990131  -0.25593473   2.31819112  -2.53435099]\n",
      " [  0.           0.           1.74219707 -23.39762502   9.71232023]\n",
      " [  0.           0.           0.          34.47510346 -16.01540717]\n",
      " [  0.           0.           0.           0.           1.57426465]]\n",
      "\n",
      "\n",
      "BC = \n",
      " [[0.10686431 0.35862642 0.52558321 0.72062197 1.01349923]\n",
      " [0.         0.48547806 0.17190221 0.79732817 1.21406876]\n",
      " [0.         0.         0.36586855 0.47437335 0.74964302]\n",
      " [0.         0.         0.         0.00706524 0.27955112]\n",
      " [0.         0.         0.         0.         0.59675359]]\n"
     ]
    }
   ],
   "source": [
    "#Example of upper triangular matrices\n",
    "B = np.triu(np.reshape(np.random.rand(N*N), (N,N)))\n",
    "C = np.triu(np.reshape(np.random.rand(N*N), (N,N)))\n",
    "\n",
    "#Example of lower triangular matrices\n",
    "#B = np.tril(np.reshape(np.random.rand(N*N), (N,N)))\n",
    "#C = np.tril(np.reshape(np.random.rand(N*N), (N,N)))\n",
    "\n",
    "#Example of unit upper triangular matrices\n",
    "#B = np.triu(np.reshape(np.random.rand(N*N), (N,N)), k=1)\n",
    "#B += np.identity(N)\n",
    "#C = np.triu(np.reshape(np.random.rand(N*N), (N,N)), k=1)\n",
    "#C += np.identity(N)\n",
    "\n",
    "#Example of unit lower triangular matrices\n",
    "#B = np.tril(np.reshape(np.random.rand(N*N), (N,N)), k=1)\n",
    "#B += np.identity(N)\n",
    "#C = np.tril(np.reshape(np.random.rand(N*N), (N,N)), k=1)\n",
    "#C += np.identity(N)\n",
    "\n",
    "Binv = np.linalg.inv(B)\n",
    "\n",
    "BC = np.dot(B,C)\n",
    "\n",
    "print('B = \\n', B)\n",
    "print('\\n')\n",
    "print('B^-1 = \\n', Binv)\n",
    "print('\\n')\n",
    "print('BC = \\n', BC)"
   ]
  },
  {
   "cell_type": "markdown",
   "metadata": {},
   "source": [
    "### Exercise 1 (optional)"
   ]
  },
  {
   "cell_type": "markdown",
   "metadata": {},
   "source": [
    "1) Create a function called `ldlt_decomp` for computing the matrices `L` and `D` from a symmetric matrix `A`. The function must receive a symmetric matrix `A` and return a lower triangular matrix `L` and an 1D array `d` with the diagonal elements of the matrix `D`.\n",
    "\n",
    "2) Use the function `ldlt_decomp` to verify if a given symmetric matrix $\\mathbf{A}$ satisfies the condition  $\\mathbf{A} = \\mathbf{L}\\mathbf{D}\\mathbf{L}^{\\top}$."
   ]
  },
  {
   "cell_type": "markdown",
   "metadata": {},
   "source": [
    "### Exercise 2 (optional)"
   ]
  },
  {
   "cell_type": "markdown",
   "metadata": {},
   "source": [
    "1) Create a function called `ldlt_solve` to solve a linear system by using the calculated `L` and `d`. The function must receive `L`, `d` and `y` and return the solution vector `x`. Use the functions you have implemented previously for solving triangular and diagonal systems.\n",
    "\n",
    "2) Compare the solution obtained by using the function `ldlt_solve` with the solution obtained by using the routine [`numpy.linalg.solve`](https://numpy.org/doc/stable/reference/generated/numpy.linalg.solve.html)"
   ]
  },
  {
   "cell_type": "markdown",
   "metadata": {},
   "source": [
    "### Exercise 3 (optional)"
   ]
  },
  {
   "cell_type": "markdown",
   "metadata": {},
   "source": [
    "1) Create a function called `ldlt_inverse` to compute the inverse of a symmetric matrix. The code must receive a symmetric matrix `A` and calculate its inverse `Ainv`, column by column, by using the functions `ldlt_decomp` and `ldlt_solve`.\n",
    "\n",
    "2) Use the function `ldlt_inverse` to compute the inverse of a symmetric matrix and verify if $\\mathbf{A} \\mathbf{A}^{-1} = \\mathbf{I}$."
   ]
  },
  {
   "cell_type": "code",
   "execution_count": null,
   "metadata": {},
   "outputs": [],
   "source": []
  }
 ],
 "metadata": {
  "kernelspec": {
   "display_name": "Python 3 (ipykernel)",
   "language": "python",
   "name": "python3"
  },
  "language_info": {
   "codemirror_mode": {
    "name": "ipython",
    "version": 3
   },
   "file_extension": ".py",
   "mimetype": "text/x-python",
   "name": "python",
   "nbconvert_exporter": "python",
   "pygments_lexer": "ipython3",
   "version": "3.11.8"
  }
 },
 "nbformat": 4,
 "nbformat_minor": 4
}
