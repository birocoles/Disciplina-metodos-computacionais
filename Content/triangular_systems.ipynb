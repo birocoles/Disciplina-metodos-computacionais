{
 "cells": [
  {
   "cell_type": "markdown",
   "metadata": {},
   "source": [
    "## Triangular systems"
   ]
  },
  {
   "cell_type": "markdown",
   "metadata": {},
   "source": [
    "Consider the linear system"
   ]
  },
  {
   "cell_type": "markdown",
   "metadata": {},
   "source": [
    "$$\n",
    "\\mathbf{A} \\mathbf{x} = \\mathbf{y} \\: ,\n",
    "$$"
   ]
  },
  {
   "cell_type": "markdown",
   "metadata": {},
   "source": [
    "where $\\mathbf{A}$ is a $N \\times N$ matrix and $\\mathbf{y}$ is an $N \\times 1$ vector. We consider that $\\mathbf{A}$, $\\mathbf{y}$ and $\\mathbf{x}$ are formed by real elements."
   ]
  },
  {
   "cell_type": "markdown",
   "metadata": {},
   "source": [
    "### Upper triangular systems"
   ]
  },
  {
   "cell_type": "markdown",
   "metadata": {},
   "source": [
    "Let us consider that $\\mathbf{A}$ is an $N \\times N$ upper triangular matrix of order 4 ($N = 4$), so that the linear system is given by:"
   ]
  },
  {
   "cell_type": "markdown",
   "metadata": {},
   "source": [
    "$$\n",
    "\\mathbf{A} = \n",
    "\\begin{bmatrix}\n",
    "a_{00} & a_{01} & a_{02} & a_{03} \\\\\n",
    "0 & a_{11} & a_{12} & a_{13} \\\\\n",
    "0 & 0 & a_{22} & a_{23} \\\\\n",
    "0 & 0 & 0 & a_{33}\n",
    "\\end{bmatrix} \\quad , \\quad\n",
    "\\mathbf{y} = \\begin{bmatrix} y_{0} \\\\ y_{1} \\\\ y_{2} \\\\ y_{3} \\end{bmatrix} \\quad , \\quad\n",
    "\\mathbf{x} = \\begin{bmatrix} x_{0} \\\\ x_{1} \\\\ x_{2} \\\\ x_{3} \\end{bmatrix}\n",
    "$$"
   ]
  },
  {
   "cell_type": "markdown",
   "metadata": {},
   "source": [
    "$$\n",
    "\\begin{bmatrix}\n",
    "a_{00} & a_{01} & a_{02} & a_{03} \\\\\n",
    "0 & a_{11} & a_{12} & a_{13} \\\\\n",
    "0 & 0 & a_{22} & a_{23} \\\\\n",
    "0 & 0 & 0 & a_{33}\n",
    "\\end{bmatrix} \\, \\begin{bmatrix} x_{0} \\\\ x_{1} \\\\ x_{2} \\\\ x_{3} \\end{bmatrix} = \\begin{bmatrix} y_{0} \\\\ y_{1} \\\\ y_{2} \\\\ y_{3} \\end{bmatrix}\n",
    "$$"
   ]
  },
  {
   "cell_type": "markdown",
   "metadata": {},
   "source": [
    "In this case, the solution $\\mathbf{x}$ can be obtained as follows:"
   ]
  },
  {
   "cell_type": "markdown",
   "metadata": {},
   "source": [
    "$$\n",
    "\\begin{split}\n",
    "x_{3} &= \\frac{y_{3}}{a_{33}} \\\\\n",
    "x_{2} &= \\frac{y_{2} - a_{23} x_{3}}{a_{22}} \\\\\n",
    "x_{1} &= \\frac{y_{1} - a_{12} x_{2} - a_{13} x_{3}}{a_{11}} \\\\\n",
    "x_{0} &= \\frac{y_{0} - a_{01} x_{1} - a_{02} x_{2} - a_{03} x_{3}}{a_{00}}\n",
    "\\end{split}\n",
    "$$"
   ]
  },
  {
   "cell_type": "markdown",
   "metadata": {},
   "source": [
    "This algorithm can be represented by the following pseudocode:"
   ]
  },
  {
   "cell_type": "markdown",
   "metadata": {},
   "source": [
    "    for i = N-1:0:-1\n",
    "        x[i] = y[i]\n",
    "        for j = i+1:N-1\n",
    "            x[i] = x[i] - A[i,j]*x[j]\n",
    "        x[i] = x[i]/A[i,i]"
   ]
  },
  {
   "cell_type": "markdown",
   "metadata": {},
   "source": [
    "or, by using the colon notation,"
   ]
  },
  {
   "cell_type": "markdown",
   "metadata": {},
   "source": [
    "    for i = N-1:0:-1\n",
    "        x[i] = y[i] - dot(A[i,i+1:],x[i+1:])\n",
    "        x[i] = x[i]/A[i,i]"
   ]
  },
  {
   "cell_type": "markdown",
   "metadata": {},
   "source": [
    "This algorithm is called **back substitution**."
   ]
  },
  {
   "cell_type": "markdown",
   "metadata": {},
   "source": [
    "### Lower triangular systems"
   ]
  },
  {
   "cell_type": "markdown",
   "metadata": {},
   "source": [
    "Let us now consider that $\\mathbf{A}$ is an $N \\times N$ lower triangular matrix of order 4 ($N = 4$), so that the linear system is given by:"
   ]
  },
  {
   "cell_type": "markdown",
   "metadata": {},
   "source": [
    "$$\n",
    "\\mathbf{A} = \n",
    "\\begin{bmatrix}\n",
    "a_{00} & 0 & 0 & 0 \\\\\n",
    "a_{10} & a_{11} & 0 & 0 \\\\\n",
    "a_{20} & a_{21} & a_{22} & 0 \\\\\n",
    "a_{30} & a_{31} & a_{32} & a_{33}\n",
    "\\end{bmatrix} \\quad , \\quad\n",
    "\\mathbf{y} = \\begin{bmatrix} y_{0} \\\\ y_{1} \\\\ y_{2} \\\\ y_{3} \\end{bmatrix} \\quad , \\quad\n",
    "\\mathbf{x} = \\begin{bmatrix} x_{0} \\\\ x_{1} \\\\ x_{2} \\\\ x_{3} \\end{bmatrix}\n",
    "$$"
   ]
  },
  {
   "cell_type": "markdown",
   "metadata": {},
   "source": [
    "$$\n",
    "\\begin{bmatrix}\n",
    "a_{00} & 0 & 0 & 0 \\\\\n",
    "a_{10} & a_{11} & 0 & 0 \\\\\n",
    "a_{20} & a_{21} & a_{22} & 0 \\\\\n",
    "a_{30} & a_{31} & a_{32} & a_{33}\n",
    "\\end{bmatrix} \\, \\begin{bmatrix} x_{0} \\\\ x_{1} \\\\ x_{2} \\\\ x_{3} \\end{bmatrix} = \\begin{bmatrix} y_{0} \\\\ y_{1} \\\\ y_{2} \\\\ y_{3} \\end{bmatrix}\n",
    "$$"
   ]
  },
  {
   "cell_type": "markdown",
   "metadata": {},
   "source": [
    "In this case, the solution $\\mathbf{x}$ can be obtained as follows:"
   ]
  },
  {
   "cell_type": "markdown",
   "metadata": {},
   "source": [
    "$$\n",
    "\\begin{split}\n",
    "x_{0} &= \\frac{y_{0}}{a_{00}} \\\\\n",
    "x_{1} &= \\frac{y_{1} - a_{10} x_{0}}{a_{11}} \\\\\n",
    "x_{2} &= \\frac{y_{2} - a_{20} x_{0} - a_{21} x_{1}}{a_{22}} \\\\\n",
    "x_{3} &= \\frac{y_{3} - a_{30} x_{0} - a_{31} x_{1} - a_{32} x_{2}}{a_{33}}\n",
    "\\end{split}\n",
    "$$"
   ]
  },
  {
   "cell_type": "markdown",
   "metadata": {},
   "source": [
    "This algorithm can be represented by the following pseudocode:"
   ]
  },
  {
   "cell_type": "markdown",
   "metadata": {},
   "source": [
    "    for i = 0:N-1\n",
    "        x[i] = y[i]\n",
    "        for j = 0:i-1\n",
    "            x[i] = x[i] - A[i,j]*x[j]\n",
    "        x[i] = x[i]/A[i,i]"
   ]
  },
  {
   "cell_type": "markdown",
   "metadata": {},
   "source": [
    "or, by using the colon notation,"
   ]
  },
  {
   "cell_type": "markdown",
   "metadata": {},
   "source": [
    "    for i = 0:N-1\n",
    "        x[i] = y[i] - dot(A[i,:i-1],x[:i-1])\n",
    "        x[i] = x[i]/A[i,i]"
   ]
  },
  {
   "cell_type": "markdown",
   "metadata": {},
   "source": [
    "This algorithm is called **forward substitution**."
   ]
  },
  {
   "cell_type": "markdown",
   "metadata": {},
   "source": [
    "### Exercise 1"
   ]
  },
  {
   "cell_type": "markdown",
   "metadata": {},
   "source": [
    "Create a function `triu_system` to implement the back substitution according to the template given below:"
   ]
  },
  {
   "cell_type": "markdown",
   "metadata": {},
   "source": [
    "```python\n",
    "def triu_system(A, x, check_input=True):\n",
    "    '''\n",
    "    Solve the linear system Ax = y for x by using back substitution.\n",
    "\n",
    "    The elements of x are computed by using a 'dot' within a single for.\n",
    "\n",
    "    Parameters\n",
    "    ----------\n",
    "    A : numpy array 2d\n",
    "        Upper triangular matrix.\n",
    "    y : numpy array 1d\n",
    "        Independent vector of the linear system.\n",
    "    check_input : boolean\n",
    "        If True, verify if the input is valid. Default is True.\n",
    "\n",
    "    Returns\n",
    "    -------\n",
    "    result : numpy array 1d\n",
    "        Solution x of the linear system.\n",
    "    '''\n",
    "\n",
    "    # create your code here\n",
    "    \n",
    "    return result\n",
    "```"
   ]
  },
  {
   "cell_type": "markdown",
   "metadata": {},
   "source": [
    "The function `triu_system` **must**: \n",
    "* verify if the given triangular matrix is square;\n",
    "* verify if `y` is a numpy array with ndim = 1;\n",
    "* assert that the number of rows/columns of the triangular matrix is equal to the number of elements forming `y`;\n",
    "* ignore possible imaginary of the input parameters;\n",
    "* use your `dot_real` function."
   ]
  },
  {
   "cell_type": "markdown",
   "metadata": {},
   "source": [
    "Additionally, **create at least two tests**:\n",
    "* create an UPPER triangular matrix `A0` and a vector `x0` and use them to compute a vector `A0x0 = y0`. Then, use `A0` and `y0` to compute a vector `x` with the function `triu_system`. Finally, compare the computed vector `x` and the expected vector `x0`;\n",
    "* compare the result produced by your `triu_system` and the result produced by the [`numpy.linalg.solve`](https://numpy.org/doc/stable/reference/generated/numpy.linalg.solve.html) (see the example presented below)."
   ]
  },
  {
   "cell_type": "markdown",
   "metadata": {},
   "source": [
    "### Exercise 2"
   ]
  },
  {
   "cell_type": "markdown",
   "metadata": {},
   "source": [
    "Create a function `tril_system` to implement the forward substitution according to the template given below:"
   ]
  },
  {
   "cell_type": "markdown",
   "metadata": {},
   "source": [
    "```python\n",
    "def tril_system(A, x, check_input=True):\n",
    "    '''\n",
    "    Solve the linear system Ax = y for x by using forward substitution.\n",
    "\n",
    "    The elements of x are computed by using a 'dot' within a single for.\n",
    "\n",
    "    Parameters\n",
    "    ----------\n",
    "    A : numpy array 2d\n",
    "        Lower triangular matrix.\n",
    "    y : numpy array 1d\n",
    "        Independent vector of the linear system.\n",
    "    check_input : boolean\n",
    "        If True, verify if the input is valid. Default is True.\n",
    "\n",
    "    Returns\n",
    "    -------\n",
    "    result : numpy array 1d\n",
    "        Solution x of the linear system.\n",
    "    '''\n",
    "\n",
    "    # create your code here\n",
    "    \n",
    "    return result\n",
    "```"
   ]
  },
  {
   "cell_type": "markdown",
   "metadata": {},
   "source": [
    "The function `tril_system` **must**: \n",
    "* verify if the given triangular matrix is square;\n",
    "* verify if `y` is a numpy array with ndim = 1;\n",
    "* assert that the number of rows/columns of the triangular matrix is equal to the number of elements forming `y`;\n",
    "* ignore possible imaginary of the input parameters;\n",
    "* use your `dot_real` function."
   ]
  },
  {
   "cell_type": "markdown",
   "metadata": {},
   "source": [
    "Additionally, **create at least two tests**:\n",
    "* create an LOWER triangular matrix `A0` and a vector `x0` and use them to compute a vector `A0x0 = y0`. Then, use `A0` and `y0` to compute a vector `x` with the function `tril_system`. Finally, compare the computed vector `x` and the expected vector `x0`;\n",
    "* compare the result produced by your `tril_system` and the result produced by the [`numpy.linalg.solve`](https://numpy.org/doc/stable/reference/generated/numpy.linalg.solve.html) (see the example presented below)."
   ]
  },
  {
   "cell_type": "markdown",
   "metadata": {},
   "source": [
    "### Routine [`numpy.linalg.solve`](https://numpy.org/doc/stable/reference/generated/numpy.linalg.solve.html)"
   ]
  },
  {
   "cell_type": "code",
   "execution_count": 1,
   "metadata": {},
   "outputs": [],
   "source": [
    "import numpy as np"
   ]
  },
  {
   "cell_type": "code",
   "execution_count": 2,
   "metadata": {},
   "outputs": [],
   "source": [
    "N = 5"
   ]
  },
  {
   "cell_type": "code",
   "execution_count": 10,
   "metadata": {},
   "outputs": [],
   "source": [
    "rng = np.random.default_rng(12765)"
   ]
  },
  {
   "cell_type": "code",
   "execution_count": 11,
   "metadata": {},
   "outputs": [
    {
     "name": "stdout",
     "output_type": "stream",
     "text": [
      "[[5.44 4.26 8.6  2.69 7.95]\n",
      " [2.61 4.4  3.41 4.89 1.53]\n",
      " [8.09 4.79 4.94 3.19 3.45]\n",
      " [2.39 7.23 8.47 6.66 5.35]\n",
      " [5.95 7.15 3.61 3.53 5.59]]\n"
     ]
    }
   ],
   "source": [
    "A = 10*np.around(rng.random((N,N)), decimals=3) + 0.1*np.identity(N)\n",
    "print(A)"
   ]
  },
  {
   "cell_type": "code",
   "execution_count": 12,
   "metadata": {},
   "outputs": [
    {
     "name": "stdout",
     "output_type": "stream",
     "text": [
      "[[5.44 0.   0.   0.   0.  ]\n",
      " [2.61 4.4  0.   0.   0.  ]\n",
      " [8.09 4.79 4.94 0.   0.  ]\n",
      " [2.39 7.23 8.47 6.66 0.  ]\n",
      " [5.95 7.15 3.61 3.53 5.59]]\n"
     ]
    }
   ],
   "source": [
    "L = np.tril(A)\n",
    "print(L)"
   ]
  },
  {
   "cell_type": "code",
   "execution_count": 13,
   "metadata": {},
   "outputs": [
    {
     "name": "stdout",
     "output_type": "stream",
     "text": [
      "[[5.44 4.26 8.6  2.69 7.95]\n",
      " [0.   4.4  3.41 4.89 1.53]\n",
      " [0.   0.   4.94 3.19 3.45]\n",
      " [0.   0.   0.   6.66 5.35]\n",
      " [0.   0.   0.   0.   5.59]]\n"
     ]
    }
   ],
   "source": [
    "U = np.triu(A)\n",
    "print(U)"
   ]
  },
  {
   "cell_type": "code",
   "execution_count": 14,
   "metadata": {},
   "outputs": [
    {
     "name": "stdout",
     "output_type": "stream",
     "text": [
      "[0.287 0.93  0.196 0.116 0.635]\n"
     ]
    }
   ],
   "source": [
    "x_true = np.around(rng.random(N), decimals=3)\n",
    "print(x_true)"
   ]
  },
  {
   "cell_type": "code",
   "execution_count": 15,
   "metadata": {},
   "outputs": [],
   "source": [
    "yu = np.dot(U, x_true)"
   ]
  },
  {
   "cell_type": "code",
   "execution_count": 16,
   "metadata": {},
   "outputs": [],
   "source": [
    "xu = np.linalg.solve(U, yu)"
   ]
  },
  {
   "cell_type": "code",
   "execution_count": 17,
   "metadata": {},
   "outputs": [
    {
     "data": {
      "text/plain": [
       "True"
      ]
     },
     "execution_count": 17,
     "metadata": {},
     "output_type": "execute_result"
    }
   ],
   "source": [
    "np.allclose(x_true, xu)"
   ]
  },
  {
   "cell_type": "code",
   "execution_count": 18,
   "metadata": {},
   "outputs": [],
   "source": [
    "yl = np.dot(L, x_true)"
   ]
  },
  {
   "cell_type": "code",
   "execution_count": 19,
   "metadata": {},
   "outputs": [],
   "source": [
    "xl = xu = np.linalg.solve(L, yl)"
   ]
  },
  {
   "cell_type": "code",
   "execution_count": 20,
   "metadata": {},
   "outputs": [
    {
     "data": {
      "text/plain": [
       "True"
      ]
     },
     "execution_count": 20,
     "metadata": {},
     "output_type": "execute_result"
    }
   ],
   "source": [
    "np.allclose(x_true, xl)"
   ]
  }
 ],
 "metadata": {
  "kernelspec": {
   "display_name": "Python 3 (ipykernel)",
   "language": "python",
   "name": "python3"
  },
  "language_info": {
   "codemirror_mode": {
    "name": "ipython",
    "version": 3
   },
   "file_extension": ".py",
   "mimetype": "text/x-python",
   "name": "python",
   "nbconvert_exporter": "python",
   "pygments_lexer": "ipython3",
   "version": "3.11.8"
  }
 },
 "nbformat": 4,
 "nbformat_minor": 4
}
