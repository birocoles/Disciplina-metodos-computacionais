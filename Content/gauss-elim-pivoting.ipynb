{
 "cells": [
  {
   "cell_type": "markdown",
   "metadata": {},
   "source": [
    "# Gaussian elimination - pivoting"
   ]
  },
  {
   "cell_type": "markdown",
   "metadata": {},
   "source": [
    "#### References\n",
    "\n",
    "* Golub, G. H. and C. F. Van Loan, (2013), Matrix computations, 4th edition, Johns Hopkins University Press, ISBN 978-1-4214-0794-4."
   ]
  },
  {
   "cell_type": "markdown",
   "metadata": {},
   "source": [
    "The [Gaussian elimination](https://en.wikipedia.org/wiki/Gaussian_elimination) iteratively transforms an unstructured linear system $\\mathbf{A}\\mathbf{x} = \\mathbf{y}$ into an equivalent triangular system $\\mathbf{B}\\mathbf{x} = \\mathbf{z}$ having the same solution $\\mathbf{x}$. The file `Content/Gaussian_elimination.pdf` shows an example of Gaussian elimination for $N = 4$. As pointed out in the previous class, the **pivots** needed for computing the **Gauss multipliers** must be nonzero. The presence of small pivots produces arbitrarily poor results, even for well-conditioned problems, showing that Gauss elimination may be an unstable method, depending on the elements of $\\mathbf{A}$ (Golub and Van Loan, 2013, p. 125)."
   ]
  },
  {
   "cell_type": "markdown",
   "metadata": {},
   "source": [
    "To avoid the division by small pivots and guarantee that the pivot has the largest absolute value, we may always swap the lines. The file `Content/Gaussian_elimination_pivoting.pdf` shows an example of this proccess for $N = 4$."
   ]
  },
  {
   "cell_type": "markdown",
   "metadata": {},
   "source": [
    "Let's recall the linear system $\\mathbf{A}\\mathbf{x} = \\mathbf{y}$ presented in the previous class:"
   ]
  },
  {
   "cell_type": "code",
   "execution_count": 1,
   "metadata": {},
   "outputs": [],
   "source": [
    "import numpy as np"
   ]
  },
  {
   "cell_type": "code",
   "execution_count": 2,
   "metadata": {},
   "outputs": [],
   "source": [
    "N = 3"
   ]
  },
  {
   "cell_type": "code",
   "execution_count": 3,
   "metadata": {},
   "outputs": [],
   "source": [
    "A = np.array([[ 2., 1.,-1.],\n",
    "              [-3.,-1., 2.],\n",
    "              [-2., 1., 2.]])"
   ]
  },
  {
   "cell_type": "code",
   "execution_count": 4,
   "metadata": {},
   "outputs": [],
   "source": [
    "y = np.array([8., -11., -3.])"
   ]
  },
  {
   "cell_type": "markdown",
   "metadata": {},
   "source": [
    "The solution of this system is given by:"
   ]
  },
  {
   "cell_type": "code",
   "execution_count": 5,
   "metadata": {},
   "outputs": [],
   "source": [
    "x = np.linalg.solve(A,y)"
   ]
  },
  {
   "cell_type": "code",
   "execution_count": 6,
   "metadata": {},
   "outputs": [
    {
     "name": "stdout",
     "output_type": "stream",
     "text": [
      "[ 2.  3. -1.]\n"
     ]
    }
   ],
   "source": [
    "print(x)"
   ]
  },
  {
   "cell_type": "markdown",
   "metadata": {},
   "source": [
    "This system can be solved by Gaussian elimination as follows:"
   ]
  },
  {
   "cell_type": "code",
   "execution_count": 7,
   "metadata": {},
   "outputs": [],
   "source": [
    "I = np.identity(N)"
   ]
  },
  {
   "cell_type": "markdown",
   "metadata": {},
   "source": [
    "**Iteration k = 1:**"
   ]
  },
  {
   "cell_type": "markdown",
   "metadata": {},
   "source": [
    "Notice that, in this case, the pivot of the next Gauss transform is `2`. The pivot is not a small number. However, let's apply the partial pivoting for illustrating the procedure and showing that it does not change the final result."
   ]
  },
  {
   "cell_type": "markdown",
   "metadata": {},
   "source": [
    "In this case, we interchange the first and second rows/elements of `A0`/`y0`. This is equivalent to premultiply `A0` and `y0` by the following matrix:"
   ]
  },
  {
   "cell_type": "code",
   "execution_count": 8,
   "metadata": {},
   "outputs": [
    {
     "name": "stdout",
     "output_type": "stream",
     "text": [
      "[[0. 1. 0.]\n",
      " [1. 0. 0.]\n",
      " [0. 0. 1.]]\n"
     ]
    }
   ],
   "source": [
    "P1 = np.identity(N)[[1,0,2]]\n",
    "\n",
    "print(P1)"
   ]
  },
  {
   "cell_type": "code",
   "execution_count": 9,
   "metadata": {},
   "outputs": [
    {
     "name": "stdout",
     "output_type": "stream",
     "text": [
      "[[ 2.  1. -1.]\n",
      " [-3. -1.  2.]\n",
      " [-2.  1.  2.]]\n"
     ]
    }
   ],
   "source": [
    "print(A)"
   ]
  },
  {
   "cell_type": "code",
   "execution_count": 10,
   "metadata": {},
   "outputs": [
    {
     "name": "stdout",
     "output_type": "stream",
     "text": [
      "[[-3. -1.  2.]\n",
      " [ 2.  1. -1.]\n",
      " [-2.  1.  2.]]\n"
     ]
    }
   ],
   "source": [
    "print(np.dot(P1, A))"
   ]
  },
  {
   "cell_type": "code",
   "execution_count": 11,
   "metadata": {},
   "outputs": [
    {
     "name": "stdout",
     "output_type": "stream",
     "text": [
      "[  8. -11.  -3.]\n"
     ]
    }
   ],
   "source": [
    "print(y)"
   ]
  },
  {
   "cell_type": "code",
   "execution_count": 12,
   "metadata": {},
   "outputs": [
    {
     "name": "stdout",
     "output_type": "stream",
     "text": [
      "[-11.   8.  -3.]\n"
     ]
    }
   ],
   "source": [
    "print(np.dot(P1, y))"
   ]
  },
  {
   "cell_type": "markdown",
   "metadata": {},
   "source": [
    "Notice that this row permutation changed the pivot from `2` to `-3`."
   ]
  },
  {
   "cell_type": "code",
   "execution_count": 13,
   "metadata": {},
   "outputs": [],
   "source": [
    "u0 = np.array([1., 0., 0.])"
   ]
  },
  {
   "cell_type": "code",
   "execution_count": 14,
   "metadata": {},
   "outputs": [],
   "source": [
    "t1 = np.array([0., \n",
    "               np.dot(P1, A)[1][0]/np.dot(P1, A)[0][0], \n",
    "               np.dot(P1, A)[2][0]/np.dot(P1, A)[0][0]])"
   ]
  },
  {
   "cell_type": "code",
   "execution_count": 15,
   "metadata": {},
   "outputs": [
    {
     "name": "stdout",
     "output_type": "stream",
     "text": [
      "[ 0.         -0.66666667  0.66666667]\n"
     ]
    }
   ],
   "source": [
    "print(t1)"
   ]
  },
  {
   "cell_type": "code",
   "execution_count": 16,
   "metadata": {},
   "outputs": [],
   "source": [
    "A1 = (I - np.outer(t1, u0)).dot(np.dot(P1,A))"
   ]
  },
  {
   "cell_type": "code",
   "execution_count": 17,
   "metadata": {},
   "outputs": [
    {
     "name": "stdout",
     "output_type": "stream",
     "text": [
      "[[ 2.  1. -1.]\n",
      " [-3. -1.  2.]\n",
      " [-2.  1.  2.]]\n"
     ]
    }
   ],
   "source": [
    "print(A)"
   ]
  },
  {
   "cell_type": "code",
   "execution_count": 18,
   "metadata": {},
   "outputs": [
    {
     "name": "stdout",
     "output_type": "stream",
     "text": [
      "[[-3.         -1.          2.        ]\n",
      " [ 0.          0.33333333  0.33333333]\n",
      " [ 0.          1.66666667  0.66666667]]\n"
     ]
    }
   ],
   "source": [
    "print(A1)"
   ]
  },
  {
   "cell_type": "code",
   "execution_count": 19,
   "metadata": {},
   "outputs": [],
   "source": [
    "y1 = (I - np.outer(t1, u0)).dot(np.dot(P1,y))"
   ]
  },
  {
   "cell_type": "code",
   "execution_count": 20,
   "metadata": {},
   "outputs": [
    {
     "name": "stdout",
     "output_type": "stream",
     "text": [
      "[-11.           0.66666667   4.33333333]\n"
     ]
    }
   ],
   "source": [
    "print(y1)"
   ]
  },
  {
   "cell_type": "markdown",
   "metadata": {},
   "source": [
    "**Iteration k = 2:**"
   ]
  },
  {
   "cell_type": "markdown",
   "metadata": {},
   "source": [
    "Now, we interchange the second and third rows/elements of `A1`/`y1`. This is equivalent to premultiply `A1` and `y1` by the following matrix:"
   ]
  },
  {
   "cell_type": "code",
   "execution_count": 21,
   "metadata": {},
   "outputs": [
    {
     "name": "stdout",
     "output_type": "stream",
     "text": [
      "[[-3.         -1.          2.        ]\n",
      " [ 0.          0.33333333  0.33333333]\n",
      " [ 0.          1.66666667  0.66666667]]\n"
     ]
    }
   ],
   "source": [
    "print(A1)"
   ]
  },
  {
   "cell_type": "code",
   "execution_count": 22,
   "metadata": {},
   "outputs": [
    {
     "name": "stdout",
     "output_type": "stream",
     "text": [
      "[[1. 0. 0.]\n",
      " [0. 0. 1.]\n",
      " [0. 1. 0.]]\n"
     ]
    }
   ],
   "source": [
    "P2 = np.identity(N)[[0,2,1]]\n",
    "\n",
    "print(P2)"
   ]
  },
  {
   "cell_type": "code",
   "execution_count": 23,
   "metadata": {},
   "outputs": [
    {
     "name": "stdout",
     "output_type": "stream",
     "text": [
      "[[-3.         -1.          2.        ]\n",
      " [ 0.          1.66666667  0.66666667]\n",
      " [ 0.          0.33333333  0.33333333]]\n"
     ]
    }
   ],
   "source": [
    "print(np.dot(P2, A1))"
   ]
  },
  {
   "cell_type": "code",
   "execution_count": 24,
   "metadata": {},
   "outputs": [
    {
     "name": "stdout",
     "output_type": "stream",
     "text": [
      "[-11.           4.33333333   0.66666667]\n"
     ]
    }
   ],
   "source": [
    "print(np.dot(P2, y1))"
   ]
  },
  {
   "cell_type": "code",
   "execution_count": 25,
   "metadata": {},
   "outputs": [],
   "source": [
    "u1 = np.array([0., 1., 0.])"
   ]
  },
  {
   "cell_type": "code",
   "execution_count": 26,
   "metadata": {},
   "outputs": [],
   "source": [
    "t2 = np.array([0., 0., np.dot(P2, A1)[2][1]/np.dot(P2, A1)[1][1]])"
   ]
  },
  {
   "cell_type": "code",
   "execution_count": 27,
   "metadata": {},
   "outputs": [
    {
     "name": "stdout",
     "output_type": "stream",
     "text": [
      "[0.  0.  0.2]\n"
     ]
    }
   ],
   "source": [
    "print(t2)"
   ]
  },
  {
   "cell_type": "code",
   "execution_count": 28,
   "metadata": {},
   "outputs": [],
   "source": [
    "B = (I - np.outer(t2, u1)).dot(np.dot(P2, A1))"
   ]
  },
  {
   "cell_type": "code",
   "execution_count": 29,
   "metadata": {},
   "outputs": [
    {
     "name": "stdout",
     "output_type": "stream",
     "text": [
      "[[-3.         -1.          2.        ]\n",
      " [ 0.          1.66666667  0.66666667]\n",
      " [ 0.          0.          0.2       ]]\n"
     ]
    }
   ],
   "source": [
    "print(B)"
   ]
  },
  {
   "cell_type": "code",
   "execution_count": 30,
   "metadata": {},
   "outputs": [],
   "source": [
    "z = (I - np.outer(t2, u1)).dot(np.dot(P2, y1))"
   ]
  },
  {
   "cell_type": "code",
   "execution_count": 31,
   "metadata": {},
   "outputs": [
    {
     "name": "stdout",
     "output_type": "stream",
     "text": [
      "[-11.           4.33333333  -0.2       ]\n"
     ]
    }
   ],
   "source": [
    "print(z)"
   ]
  },
  {
   "cell_type": "markdown",
   "metadata": {},
   "source": [
    "Solution of this equivalent triangular system:"
   ]
  },
  {
   "cell_type": "code",
   "execution_count": 32,
   "metadata": {},
   "outputs": [
    {
     "name": "stdout",
     "output_type": "stream",
     "text": [
      "[ 2.  3. -1.]\n"
     ]
    }
   ],
   "source": [
    "print(np.linalg.solve(B,z))"
   ]
  },
  {
   "cell_type": "markdown",
   "metadata": {},
   "source": [
    "Solution of the original system:"
   ]
  },
  {
   "cell_type": "code",
   "execution_count": 33,
   "metadata": {},
   "outputs": [
    {
     "name": "stdout",
     "output_type": "stream",
     "text": [
      "[ 2.  3. -1.]\n"
     ]
    }
   ],
   "source": [
    "print(np.linalg.solve(A,y))"
   ]
  },
  {
   "cell_type": "markdown",
   "metadata": {},
   "source": [
    "## Algorithm implementation"
   ]
  },
  {
   "cell_type": "markdown",
   "metadata": {},
   "source": [
    "Our equivalent triangular system can be iteratively calculated according to the following algorithm:"
   ]
  },
  {
   "cell_type": "markdown",
   "metadata": {},
   "source": [
    "<a id='eq1'></a>\n",
    "$$\n",
    "\\begin{align}\n",
    "\\mathbf{A}^{(0)} = \\mathbf{A} & & \\mathbf{y}^{(0)} = \\mathbf{y} \\tag{1a} \\\\\n",
    "\\mathbf{A}^{(1)} = \\left(\\mathbf{I} - \\mathbf{M}^{(1)}\\right) \\mathbf{P}^{(1)}\\mathbf{A}^{(0)} & &\n",
    "\\mathbf{y}^{(1)} = \\left(\\mathbf{I} - \\mathbf{M}^{(1)}\\right) \\mathbf{P}^{(1)}\\mathbf{y}^{(0)} \\tag{1b} \\\\\n",
    "\\mathbf{A}^{(2)} = \\left(\\mathbf{I} - \\mathbf{M}^{(2)}\\right) \\mathbf{P}^{(2)}\\mathbf{A}^{(1)} & &\n",
    "\\mathbf{y}^{(2)} = \\left(\\mathbf{I} - \\mathbf{M}^{(2)}\\right) \\mathbf{P}^{(2)}\\mathbf{y}^{(1)} \\tag{1c}\n",
    "\\end{align}\n",
    "$$"
   ]
  },
  {
   "cell_type": "markdown",
   "metadata": {},
   "source": [
    "where $\\mathbf{P}^{(k)}$, $k = 1, \\dots, N-1$, is the permutation matrix used to interchange the rows and perform the partial pivoting."
   ]
  },
  {
   "cell_type": "markdown",
   "metadata": {},
   "source": [
    "Notice that a matrix $\\mathbf{P}^{(k)}$, $k = 1, \\dots, N-1$, may interchange the set of rows $\\left[ \\, k - 1 \\, : \\, \\right]$. For example, while the matrix $\\mathbf{P}^{(1)}$ can interchange all the rows forming the matrix $\\mathbf{A}^{(0)}$ and vector $\\mathbf{y}^{(0)}$, the matrix $\\mathbf{P}^{(2)}$ can interchange only the set of rows $\\left[ \\, 1 \\, : \\, \\right]$ (from the second on) forming the matrix $\\mathbf{A}^{(1)}$ and vector $\\mathbf{y}^{(1)}$."
   ]
  },
  {
   "cell_type": "code",
   "execution_count": 34,
   "metadata": {},
   "outputs": [
    {
     "name": "stdout",
     "output_type": "stream",
     "text": [
      "[[1. 0. 0.]\n",
      " [0. 1. 0.]\n",
      " [0. 0. 1.]]\n"
     ]
    }
   ],
   "source": [
    "print(np.identity(N))"
   ]
  },
  {
   "cell_type": "code",
   "execution_count": 35,
   "metadata": {},
   "outputs": [
    {
     "name": "stdout",
     "output_type": "stream",
     "text": [
      "[[0. 1. 0.]\n",
      " [1. 0. 0.]\n",
      " [0. 0. 1.]]\n"
     ]
    }
   ],
   "source": [
    "print(P1)"
   ]
  },
  {
   "cell_type": "code",
   "execution_count": 36,
   "metadata": {},
   "outputs": [
    {
     "name": "stdout",
     "output_type": "stream",
     "text": [
      "[[1. 0. 0.]\n",
      " [0. 0. 1.]\n",
      " [0. 1. 0.]]\n"
     ]
    }
   ],
   "source": [
    "print(P2)"
   ]
  },
  {
   "cell_type": "markdown",
   "metadata": {},
   "source": [
    "The [equations 1a-c](#eq1) can be conveniently rewritten as follows:"
   ]
  },
  {
   "cell_type": "markdown",
   "metadata": {},
   "source": [
    "<a id='eq2'></a>\n",
    "$$\n",
    "\\begin{align}\n",
    "\\mathbf{C}^{(0)} &= \\left[ \\: \\mathbf{A} \\: \\vert \\: \\mathbf{y} \\: \\right] \\tag{2a} \\\\\n",
    "\\mathbf{C}^{(1)} &= \\left(\\mathbf{I} - \\mathbf{M}^{(1)}\\right) \\mathbf{P}^{(1)}\\mathbf{C}^{(0)} \\tag{2b} \\\\\n",
    "\\mathbf{C}^{(2)} &= \\left(\\mathbf{I} - \\mathbf{M}^{(2)}\\right) \\mathbf{P}^{(2)}\\mathbf{C}^{(1)} \\tag{2c}\n",
    "\\end{align}\n",
    "$$"
   ]
  },
  {
   "cell_type": "markdown",
   "metadata": {},
   "source": [
    "where $\\mathbf{B} = \\mathbf{C}^{(2)}[ \\, : \\, , \\, :N-1]$ (first $N$ columns of $\\mathbf{C}^{(2)}$) and $\\mathbf{z} = \\mathbf{C}^{(2)}[ \\, : \\, , \\, N]$ (last column of $\\mathbf{C}^{(2)}$)."
   ]
  },
  {
   "cell_type": "markdown",
   "metadata": {},
   "source": [
    "For convenience, let's define \n",
    "\n",
    "<a id='eq3'></a>\n",
    "$$\n",
    "\\tilde{\\mathbf{C}}^{(k-1)} = \\mathbf{P}^{(k)} \\mathbf{C}^{(k-1)} \\: . \\tag{3}\n",
    "$$"
   ]
  },
  {
   "cell_type": "code",
   "execution_count": 37,
   "metadata": {},
   "outputs": [],
   "source": [
    "C0 = np.vstack([A.T, y]).T"
   ]
  },
  {
   "cell_type": "code",
   "execution_count": 38,
   "metadata": {},
   "outputs": [],
   "source": [
    "C0_tilde = np.dot(P1, C0)"
   ]
  },
  {
   "cell_type": "code",
   "execution_count": 39,
   "metadata": {},
   "outputs": [],
   "source": [
    "C1 = np.vstack([A1.T, y1]).T"
   ]
  },
  {
   "cell_type": "code",
   "execution_count": 40,
   "metadata": {},
   "outputs": [],
   "source": [
    "C1_tilde = np.dot(P2, C1)"
   ]
  },
  {
   "cell_type": "code",
   "execution_count": 41,
   "metadata": {},
   "outputs": [],
   "source": [
    "C2 = np.vstack([B.T, z]).T"
   ]
  },
  {
   "cell_type": "code",
   "execution_count": 42,
   "metadata": {},
   "outputs": [
    {
     "name": "stdout",
     "output_type": "stream",
     "text": [
      "[[  2.   1.  -1.   8.]\n",
      " [ -3.  -1.   2. -11.]\n",
      " [ -2.   1.   2.  -3.]]\n"
     ]
    }
   ],
   "source": [
    "print(C0)"
   ]
  },
  {
   "cell_type": "code",
   "execution_count": 43,
   "metadata": {},
   "outputs": [
    {
     "name": "stdout",
     "output_type": "stream",
     "text": [
      "[[ -3.  -1.   2. -11.]\n",
      " [  2.   1.  -1.   8.]\n",
      " [ -2.   1.   2.  -3.]]\n"
     ]
    }
   ],
   "source": [
    "print(C0_tilde)"
   ]
  },
  {
   "cell_type": "code",
   "execution_count": 44,
   "metadata": {},
   "outputs": [
    {
     "name": "stdout",
     "output_type": "stream",
     "text": [
      "[[ -3.          -1.           2.         -11.        ]\n",
      " [  0.           0.33333333   0.33333333   0.66666667]\n",
      " [  0.           1.66666667   0.66666667   4.33333333]]\n"
     ]
    }
   ],
   "source": [
    "print(C1)"
   ]
  },
  {
   "cell_type": "code",
   "execution_count": 45,
   "metadata": {},
   "outputs": [
    {
     "name": "stdout",
     "output_type": "stream",
     "text": [
      "[[ -3.          -1.           2.         -11.        ]\n",
      " [  0.           1.66666667   0.66666667   4.33333333]\n",
      " [  0.           0.33333333   0.33333333   0.66666667]]\n"
     ]
    }
   ],
   "source": [
    "print(C1_tilde)"
   ]
  },
  {
   "cell_type": "code",
   "execution_count": 46,
   "metadata": {},
   "outputs": [
    {
     "name": "stdout",
     "output_type": "stream",
     "text": [
      "[[ -3.          -1.           2.         -11.        ]\n",
      " [  0.           1.66666667   0.66666667   4.33333333]\n",
      " [  0.           0.           0.2         -0.2       ]]\n"
     ]
    }
   ],
   "source": [
    "print(C2)"
   ]
  },
  {
   "cell_type": "markdown",
   "metadata": {},
   "source": [
    "By using [equation 3](#eq3), matrices $\\mathbf{C}^{(k)}$ ([equations 2b-c](#eq2)) can be rewritten as follows:"
   ]
  },
  {
   "cell_type": "markdown",
   "metadata": {},
   "source": [
    "<a id='eq4'></a>\n",
    "$$\n",
    "\\begin{split}\n",
    "\\mathbf{C}^{(k)} &= \\left( \\mathbf{I} - \\mathbf{M}^{(k)} \\right) \\tilde{\\mathbf{C}}^{(k-1)} \\\\\\\\\n",
    "&= \\tilde{\\mathbf{C}}^{(k-1)} - \\mathbf{M}^{(k)}\\tilde{\\mathbf{C}}^{(k-1)} \\\\\\\\\n",
    "&= \\tilde{\\mathbf{C}}^{(k-1)} - \\mathbf{t}^{(k)} \\cdot \\left(\\mathbf{u}^{(k-1)}\\right)^{\\top}\\tilde{\\mathbf{C}}^{(k-1)} \\\\\\\\\n",
    "&= \\tilde{\\mathbf{C}}^{(k-1)} - \\mathbf{t}^{(k)} \\cdot \\tilde{\\mathbf{C}}^{(k-1)}\n",
    "\\left[ \\, k - 1 \\, , \\, : \\, \\right]\n",
    "\\end{split} \\quad . \\tag{4}\n",
    "$$"
   ]
  },
  {
   "cell_type": "markdown",
   "metadata": {},
   "source": [
    "The term $- \\, \\mathbf{t}^{(k)} \\cdot \\tilde{\\mathbf{C}}^{(k-1)}\\left[ \\, k - 1 \\, , \\, : \\, \\right]$, in which $\\mathbf{t}^{(k)} \\left[ \\, : k - 1 \\right] = 0$ and"
   ]
  },
  {
   "cell_type": "markdown",
   "metadata": {},
   "source": [
    "<a id='eq5'></a>\n",
    "$$\n",
    "\\mathbf{t}^{(k)}[k:] = \\frac{\\tilde{\\mathbf{C}}^{(k-1)}[k: \\, , \\, k-1]}{\\tilde{\\mathbf{C}}^{(k-1)}[k-1, k-1]} \\quad , \\tag{5}\n",
    "$$"
   ]
  },
  {
   "cell_type": "markdown",
   "metadata": {},
   "source": [
    "represents an outer product that affects only the terms $\\left[ \\, k : \\, ,  \\, k - 1 : \\, \\right]$ of matrix $\\mathbf{C}^{(k)}$. See the file `Content/Gaussian_elimination_pivoting.pdf`."
   ]
  },
  {
   "cell_type": "code",
   "execution_count": 47,
   "metadata": {},
   "outputs": [
    {
     "name": "stdout",
     "output_type": "stream",
     "text": [
      "[[ -3.  -1.   2. -11.]\n",
      " [  2.   1.  -1.   8.]\n",
      " [ -2.   1.   2.  -3.]]\n",
      "[[ -3.          -1.           2.         -11.        ]\n",
      " [  0.           0.33333333   0.33333333   0.66666667]\n",
      " [  0.           1.66666667   0.66666667   4.33333333]]\n"
     ]
    }
   ],
   "source": [
    "# k = 1\n",
    "\n",
    "print(C0_tilde)\n",
    "\n",
    "print(C0_tilde - np.outer(t1, C0_tilde[0, :]))"
   ]
  },
  {
   "cell_type": "code",
   "execution_count": 48,
   "metadata": {},
   "outputs": [
    {
     "name": "stdout",
     "output_type": "stream",
     "text": [
      "[[ -3.          -1.           2.         -11.        ]\n",
      " [  0.           1.66666667   0.66666667   4.33333333]\n",
      " [  0.           0.33333333   0.33333333   0.66666667]]\n",
      "[[ -3.          -1.           2.         -11.        ]\n",
      " [  0.           1.66666667   0.66666667   4.33333333]\n",
      " [  0.           0.           0.2         -0.2       ]]\n"
     ]
    }
   ],
   "source": [
    "# k = 2\n",
    "\n",
    "print(C1_tilde)\n",
    "\n",
    "print(C1_tilde - np.outer(t2, C1_tilde[1, :]))"
   ]
  },
  {
   "cell_type": "markdown",
   "metadata": {},
   "source": [
    "Note that $\\mathbf{C}^{(k)}\\left[ \\, k \\, : \\, , \\, k - 1 \\, \\right] = 0$."
   ]
  },
  {
   "cell_type": "code",
   "execution_count": 49,
   "metadata": {},
   "outputs": [
    {
     "name": "stdout",
     "output_type": "stream",
     "text": [
      "[[ -3.          -1.           2.         -11.        ]\n",
      " [  0.           0.33333333   0.33333333   0.66666667]\n",
      " [  0.           1.66666667   0.66666667   4.33333333]]\n"
     ]
    }
   ],
   "source": [
    "# k = 1\n",
    "print(C1)"
   ]
  },
  {
   "cell_type": "code",
   "execution_count": 50,
   "metadata": {},
   "outputs": [
    {
     "name": "stdout",
     "output_type": "stream",
     "text": [
      "[[ -3.          -1.           2.         -11.        ]\n",
      " [  0.           1.66666667   0.66666667   4.33333333]\n",
      " [  0.           0.           0.2         -0.2       ]]\n"
     ]
    }
   ],
   "source": [
    "# k = 2\n",
    "print(C2)"
   ]
  },
  {
   "cell_type": "markdown",
   "metadata": {},
   "source": [
    "Then, we may simplify [equation 4](#eq4) as follows:"
   ]
  },
  {
   "cell_type": "markdown",
   "metadata": {},
   "source": [
    "<a id='eq6'></a>\n",
    "$$\n",
    "\\mathbf{C}^{(k)} \\left[ \\, k : \\, ,  \\, k : \\, \\right] = \n",
    "\\tilde{\\mathbf{C}}^{(k-1)} \\left[ \\, k : \\, ,  \\, k : \\, \\right] - \n",
    "\\mathbf{t}^{(k)} \\left[ \\, k : \\, \\right] \\cdot \n",
    "\\tilde{\\mathbf{C}}^{(k-1)}\n",
    "\\left[ \\, k - 1 \\, , \\, k : \\, \\right] \\quad . \\tag{6}\n",
    "$$"
   ]
  },
  {
   "cell_type": "markdown",
   "metadata": {},
   "source": [
    "Finally, we can store the Gauss vector $\\mathbf{t}^{(k)} \\left[ \\, k : \\, \\right]$ below the main diagonal of the matrix $\\tilde{\\mathbf{C}}^{(k-1)}$, at the column $k-1$:"
   ]
  },
  {
   "cell_type": "markdown",
   "metadata": {},
   "source": [
    "<a id='eq7'></a>\n",
    "$$\n",
    "\\tilde{\\mathbf{C}}^{(k-1)} \\left[ \\, k : \\, ,  \\, k - 1 \\, \\right] = \n",
    "\\mathbf{t}^{(k)} \\left[ \\, k : \\, \\right] \\tag{7}\n",
    "$$"
   ]
  },
  {
   "cell_type": "markdown",
   "metadata": {},
   "source": [
    "and, consequently (see the file `Content/Gaussian_elimination_pivoting.pdf`),"
   ]
  },
  {
   "cell_type": "markdown",
   "metadata": {},
   "source": [
    "<a id='eq8'></a>\n",
    "$$\n",
    "\\mathbf{C}^{(k)} \\left[ \\, k : \\, ,  \\, k : \\, \\right] = \n",
    "\\tilde{\\mathbf{C}}^{(k-1)} \\left[ \\, k : \\, ,  \\, k : \\, \\right] - \n",
    "\\tilde{\\mathbf{C}}^{(k-1)} \\left[ \\, k : \\, ,  \\, k - 1 \\, \\right] \\cdot \n",
    "\\tilde{\\mathbf{C}}^{(k-1)}\n",
    "\\left[ \\, k - 1 \\, , \\, k : \\, \\right] \\quad . \\tag{8}\n",
    "$$"
   ]
  },
  {
   "cell_type": "markdown",
   "metadata": {},
   "source": [
    "## Inverse matrices"
   ]
  },
  {
   "cell_type": "markdown",
   "metadata": {
    "collapsed": true,
    "jupyter": {
     "outputs_hidden": true
    }
   },
   "source": [
    "Computing the inverse of a matrix is a very important task. The inverse of an $N \\times N$ matrix $\\mathbf{A}$ is commonly represented by $\\mathbf{A}^{-1}$. The inverse satisfies:"
   ]
  },
  {
   "cell_type": "markdown",
   "metadata": {},
   "source": [
    "<a id='eq9'></a>\n",
    "$$\n",
    "\\begin{align}\n",
    "\\mathbf{A}^{-1} \\mathbf{A} &= \\mathbf{I} \\tag{9a} \\\\\n",
    "\\mathbf{A} \\mathbf{A}^{-1} &= \\mathbf{I} \\tag{9b}\n",
    "\\end{align}\n",
    "$$"
   ]
  },
  {
   "cell_type": "markdown",
   "metadata": {},
   "source": [
    "where $\\mathbf{I}$ represents the identity matrix."
   ]
  },
  {
   "cell_type": "markdown",
   "metadata": {},
   "source": [
    "[Equation 9b](#eq9) can be conveniently rewritten by using a column partition given by:"
   ]
  },
  {
   "cell_type": "markdown",
   "metadata": {},
   "source": [
    "<a id='eq10'></a>\n",
    "$$\n",
    "\\mathbf{A} \n",
    "\\left[ \\mathbf{A}^{-1}\\left[ \\, : \\, , \\, 0  \\right] \\cdots \\mathbf{A}^{-1} \\left[ \\, : \\, , \\, N-1  \\right]  \\right] = \n",
    "\\left[ \\mathbf{u}_{0} \\cdots \\mathbf{u}_{N-1} \\right] \\: , \\tag{10}\n",
    "$$"
   ]
  },
  {
   "cell_type": "markdown",
   "metadata": {},
   "source": [
    "where $\\mathbf{u}_{i}$, $i = 0, \\dots, N-1$, is a $N \\times 1$ vector with all elements equal to zero, except the $i$th element, which is equal to $1$. The vectors $\\mathbf{A}^{-1}\\left[ \\, : \\, , \\, i  \\right]$ and $\\mathbf{u}_{i}$ represent the $i$th column of $\\mathbf{A}^{-1}$ and $\\mathbf{I}$, respectively. [Equation 10](#eq10) can then be separated into $N$ linear systems:"
   ]
  },
  {
   "cell_type": "markdown",
   "metadata": {},
   "source": [
    "<a id='eq11'></a>\n",
    "$$\n",
    "\\begin{split}\n",
    "\\mathbf{A} \\, \\mathbf{A}^{-1} \\left[ \\, : \\, , \\, 0 \\right] &= \\mathbf{u}_{0} \\\\\n",
    "\\mathbf{A} \\, \\mathbf{A}^{-1} \\left[ \\, : \\, , \\, 1 \\right] &= \\mathbf{u}_{1} \\\\\n",
    "\\vdots \\\\\n",
    "\\mathbf{A} \\, \\mathbf{A}^{-1} \\left[ \\, : \\, , \\, N-1 \\right] &= \\mathbf{u}_{N-1}\n",
    "\\end{split} \\: . \\tag{11}\n",
    "$$"
   ]
  },
  {
   "cell_type": "markdown",
   "metadata": {},
   "source": [
    "[Equation 11](#eq11) shows that each column of the inverse matrix $\\mathbf{A}^{-1}$ can be calculated by solving an independent linear system. The same strategy used in equations [2a-c](#eq2) can be used here. The difference is that, in the present case, matrix $\\mathbf{C}^{(0)}$ ([equation 2a](#eq2)) is given by:"
   ]
  },
  {
   "cell_type": "markdown",
   "metadata": {},
   "source": [
    "<a id='eq12'></a>\n",
    "$$\n",
    "\\mathbf{C}^{(0)} = \\left[ \\: \\mathbf{A} \\: \\vert \\: \\mathbf{I} \\: \\right] \\quad . \\tag{12}\n",
    "$$"
   ]
  },
  {
   "cell_type": "markdown",
   "metadata": {},
   "source": [
    "The following steps are exactly the same as those shown by equations [2b-c](#eq2)."
   ]
  },
  {
   "cell_type": "markdown",
   "metadata": {},
   "source": [
    "### Exercise 1"
   ]
  },
  {
   "cell_type": "markdown",
   "metadata": {},
   "source": [
    "Create a function `Gauss_elim` that implement the Gaussian elimination according to the following template:"
   ]
  },
  {
   "cell_type": "markdown",
   "metadata": {},
   "source": [
    "```python\n",
    "def Gauss_elim(A, y, check_input=True):\n",
    "    '''\n",
    "    Compute the equivalent triangular system for a system Ax = y.\n",
    "    \n",
    "    Parameters\n",
    "    ----------\n",
    "    A : numpy narray 2d\n",
    "        Full square matrix of the linear system.\n",
    "    y : numpy array 1d\n",
    "        Independent vector of the linear system.\n",
    "    check_input : boolean\n",
    "        If True, verify if the input is valid. Default is True.\n",
    "    Returns\n",
    "    -------\n",
    "    C[:, :N] : numpy array 2d\n",
    "        Upper triangular matrix of the equivalent system.\n",
    "    C[:,N] : numpy array 1d\n",
    "        Independent vector of the equivalent system.\n",
    "    '''\n",
    "    N = A.shape[0]\n",
    "    if check_input is True:\n",
    "        assert A.ndim == 2, 'A must be a matrix'\n",
    "        assert y.ndim == 1, 'y must be a vector'\n",
    "        assert A.shape[1] == N, 'A must be square'\n",
    "        assert y.size == N, 'A columns must be equal to y size'\n",
    "    # create matrix C by stacking A and y\n",
    "    C = \n",
    "    for k = 1:N-1\n",
    "        # permutation step (computation of C tilde - eq. 3)\n",
    "        p, C = permut(C, k-1)\n",
    "        # assert the pivot is nonzero\n",
    "        assert C[k-1,k-1] != 0., 'null pivot!'\n",
    "        # calculate the Gauss multipliers and store them \n",
    "        # in the lower part of C (equations 5 and 7)\n",
    "        C[k:,k-1] = \n",
    "        # zeroing of the elements in the (k-1)th column (equation 8)\n",
    "        C[k:,k:] -= \n",
    "    # return the equivalent triangular system and Gauss multipliers\n",
    "    return C[:,:N], C[:,N]\n",
    "```"
   ]
  },
  {
   "cell_type": "markdown",
   "metadata": {},
   "source": [
    "The permutation function can be defined as follows:"
   ]
  },
  {
   "cell_type": "code",
   "execution_count": 51,
   "metadata": {},
   "outputs": [],
   "source": [
    "def permut (C, i):\n",
    "    p = [j for j in range(C.shape[0])]\n",
    "    imax = i + np.argmax(np.abs(C[i:,i]))\n",
    "    if imax != i:\n",
    "        p[i], p[imax] = p[imax], p[i]\n",
    "    return p, C[p,:]"
   ]
  },
  {
   "attachments": {},
   "cell_type": "markdown",
   "metadata": {},
   "source": [
    "Additionally, create **at least three tests**:\n",
    "\n",
    "* Create a linear system and the associated equivalent triangular system (do not use the function `Gauss_elim`!). Then use the function `Gauss_elim` to compute an equivalent triangular system. Finally, compare the true and the computed triangular system. They must be equal to each other.\n",
    "\n",
    "* Create a matrix `A0` and a vector `x0` and use them to compute a vector `A0x0 = y0`. Then, use the function `Gauss_elim` to compute the equivalent triangular system. Use one of your functions to compute a vector `x1` by solving the equivalent triangular system. Finally, compare the computed vector `x1` and the expected vector `x0`.\n",
    "\n",
    "* Create a reference input and a reference output for the `permut` function. Then, compare the result produced by the function `permut` and the reference output."
   ]
  },
  {
   "cell_type": "markdown",
   "metadata": {},
   "source": [
    "#### Testing the function `Gauss_elim`"
   ]
  },
  {
   "cell_type": "raw",
   "metadata": {},
   "source": [
    "# define N\n",
    "N = 7"
   ]
  },
  {
   "cell_type": "raw",
   "metadata": {},
   "source": [
    "# Create a matrix A\n",
    "A = 10*np.random.rand(N,N)"
   ]
  },
  {
   "cell_type": "raw",
   "metadata": {},
   "source": [
    "# create a vector x\n",
    "x = 3*np.random.rand(N)"
   ]
  },
  {
   "cell_type": "raw",
   "metadata": {},
   "source": [
    "# compute the vector y\n",
    "y = np.dot(A, x)"
   ]
  },
  {
   "cell_type": "raw",
   "metadata": {},
   "source": [
    "# use the Gauss_elim to compute the equivalent triagular system\n",
    "B, z = Gauss_elim(A, y)"
   ]
  },
  {
   "cell_type": "raw",
   "metadata": {},
   "source": [
    "# solve the equivalent triangular system\n",
    "xeq = np.linalg.solve(B, z)"
   ]
  },
  {
   "cell_type": "raw",
   "metadata": {},
   "source": [
    "# compare the true vector x with the computed xeq\n",
    "# they must be equal to each other\n",
    "np.allclose(x, xeq)"
   ]
  },
  {
   "cell_type": "markdown",
   "metadata": {},
   "source": [
    "### Exercise 2"
   ]
  },
  {
   "cell_type": "markdown",
   "metadata": {},
   "source": [
    "1) In your functions file, create a function called `Gauss_elim_expanded` to compute the expanded equivalent system. The code must receive a matrix `A` and a matrix `Y` and return the matrix `C` (the same for function `Gauss_elim`) and the matriz `Z` containing all vector of the equivalent system.\n",
    "\n",
    "2) In your test file, create two tests. In the first test, create a matrix `A`, compute its inverse `Ainv` with function `Gauss_elim_expanded` and verify if the products `A Ainv` and `Ainv A` are equal to the identity matrix. The second test must compare the computed inverse matrix and that computed by using the routine [`numpy.linalg.inv`](https://docs.scipy.org/doc/numpy/reference/generated/numpy.linalg.inv.html). "
   ]
  },
  {
   "cell_type": "markdown",
   "metadata": {},
   "source": [
    "Create a function `Gauss_elim_expanded` to implement the \"expanded\" Gaussian elimination according to the template below:"
   ]
  },
  {
   "cell_type": "markdown",
   "metadata": {},
   "source": [
    "```python\n",
    "def Gauss_elim_expanded(A, Y, check_input=True):\n",
    "    '''\n",
    "    Compute the equivalent triangular system for an \"expended\" system Ax = Y.\n",
    "    \n",
    "    Parameters\n",
    "    ----------\n",
    "    A : numpy narray 2d\n",
    "        Full square matrix of the linear system.\n",
    "    Y : numpy array 2d\n",
    "        Independent vectors of the linear system.\n",
    "    check_input : boolean\n",
    "        If True, verify if the input is valid. Default is True.\n",
    "    Returns\n",
    "    -------\n",
    "    C[:, :N] : numpy array 2d\n",
    "        Upper triangular matrix of the equivalent system.\n",
    "    C[:,N:] : numpy array 2d\n",
    "        Independent vectors of the equivalent system.\n",
    "    '''\n",
    "    N = A.shape[0]\n",
    "    if check_input is True:\n",
    "        assert A.ndim == Y.ndim == 2, 'A and Y must be matrices'\n",
    "        assert A.shape[1] == N, 'A must be square'\n",
    "        assert Y.shape[0] == N, 'A columns must have the same size as Y rows'\n",
    "    # create matrix C by stacking A and y\n",
    "    C = \n",
    "    for k = 1:N-1\n",
    "        # permutation step (computation of C tilde - eq. 3)\n",
    "        p, C = permut(C, k-1)\n",
    "        # assert the pivot is nonzero\n",
    "        assert C[k-1,k-1] != 0., 'null pivot!'\n",
    "        # calculate the Gauss multipliers and store them \n",
    "        # in the lower part of C (equations 5 and 7)\n",
    "        C[k:,k-1] = \n",
    "        # zeroing of the elements in the (k-1)th column (equation 8)\n",
    "        C[k:,k:] -= \n",
    "    # return the triangular matrix with Gauss multipliers and \n",
    "    # all equivalent vectors\n",
    "    return C[:,:N], C[:,N:]\n",
    "```"
   ]
  },
  {
   "cell_type": "markdown",
   "metadata": {},
   "source": [
    "#### Testing the function `Gauss_elim_expanded`"
   ]
  },
  {
   "cell_type": "raw",
   "metadata": {},
   "source": [
    "# define N\n",
    "N = 10"
   ]
  },
  {
   "cell_type": "raw",
   "metadata": {},
   "source": [
    "# Create a matrix A\n",
    "A = np.random.rand(N,N) + 2*np.identity(N)"
   ]
  },
  {
   "cell_type": "raw",
   "metadata": {},
   "source": [
    "# use the Gauss_elim_expanded to compute the expanded system\n",
    "# When computing the inverse, the second input is the identity\n",
    "B, Z = Gauss_elim_expanded(A, np.identity(N))"
   ]
  },
  {
   "cell_type": "raw",
   "metadata": {},
   "source": [
    "# compute the columns of A_inv by iterating over the columns of Z\n",
    "A_inv = []\n",
    "for zj in Z.T:\n",
    "    A_inv.append(np.linalg.solve(B, zj))\n",
    "A_inv = np.vstack(A_inv).T"
   ]
  },
  {
   "cell_type": "raw",
   "metadata": {},
   "source": [
    "# compare the product A A_inv and the identity matrix\n",
    "# they must be equal to each other\n",
    "np.allclose(np.dot(A, A_inv), np.identity(N))"
   ]
  },
  {
   "cell_type": "code",
   "execution_count": null,
   "metadata": {},
   "outputs": [],
   "source": []
  }
 ],
 "metadata": {
  "kernelspec": {
   "display_name": "Python 3 (ipykernel)",
   "language": "python",
   "name": "python3"
  },
  "language_info": {
   "codemirror_mode": {
    "name": "ipython",
    "version": 3
   },
   "file_extension": ".py",
   "mimetype": "text/x-python",
   "name": "python",
   "nbconvert_exporter": "python",
   "pygments_lexer": "ipython3",
   "version": "3.11.8"
  }
 },
 "nbformat": 4,
 "nbformat_minor": 4
}
