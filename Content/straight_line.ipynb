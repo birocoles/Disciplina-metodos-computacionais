{
 "cells": [
  {
   "cell_type": "markdown",
   "metadata": {},
   "source": [
    "# Fitting a straight line"
   ]
  },
  {
   "cell_type": "markdown",
   "metadata": {},
   "source": [
    "Consider a $N \\times 1$ data vector $\\mathbf{d}$ whose $i$th element $d_{i}$ is given by:"
   ]
  },
  {
   "cell_type": "markdown",
   "metadata": {},
   "source": [
    "$$\n",
    "d_{i} \\approx f(x_{i}) \\: ,\n",
    "$$"
   ]
  },
  {
   "cell_type": "markdown",
   "metadata": {},
   "source": [
    "where $f(x)$ is an unknown function depending on the variable $x$. Besides, consider that each $d_{i}$ can be approximated as follows:"
   ]
  },
  {
   "cell_type": "markdown",
   "metadata": {},
   "source": [
    "$$\n",
    "d_{i} \\approx a + b \\, x_{i} \\: ,\n",
    "$$"
   ]
  },
  {
   "cell_type": "markdown",
   "metadata": {},
   "source": [
    "where $a$ and $b$ are unknown constants."
   ]
  },
  {
   "cell_type": "markdown",
   "metadata": {},
   "source": [
    "### Exercise 1"
   ]
  },
  {
   "cell_type": "markdown",
   "metadata": {},
   "source": [
    "1.1) Create a function called `straight_line_matrix` that receives a coordinate vector $\\mathbf{x}$ and returns the matrix $\\mathbf{A}$ according to the template below:"
   ]
  },
  {
   "cell_type": "markdown",
   "metadata": {},
   "source": [
    "```python\n",
    "def straight_line_matrix(x, check_input=True):\n",
    "    '''\n",
    "    Compute the matrix associated with the straight line fitting.\n",
    "\n",
    "    Parameters\n",
    "    ----------\n",
    "    x : numpy array 1d\n",
    "        Vector containing the coordinates of data points.\n",
    "    check_input : boolean\n",
    "        If True, verify if the input is valid. Default is True.\n",
    "    Returns\n",
    "    -------\n",
    "    A : numpy array 2d\n",
    "        Computed matrix.\n",
    "    '''\n",
    "    # if check_input is True, assert that x is a numpy array with ndim=1\n",
    "\n",
    "    # create your code here\n",
    "\n",
    "    return A\n",
    "```"
   ]
  },
  {
   "cell_type": "markdown",
   "metadata": {},
   "source": [
    "  \n",
    "Hint: compute $\\mathbf{A}$ by stacking to a vector of ones and the coordinate vector $\\mathbf{x}$ (see the cells at the end of this notebook)."
   ]
  },
  {
   "cell_type": "markdown",
   "metadata": {},
   "source": [
    "1.2) Create a function called `straight_line` that receives a data vector $\\mathbf{d}$ and a coordinate vector $\\mathbf{x}$ and returns a numpy array $\\mathbf{p}$ containing the estimated constants $a$ and $b$. Use the function `straight_line_matrix` created at item 1 and your previously implemented functions for calculating any matrix operation and/or solving any linear system. The function `straight_line` must follow the template below:"
   ]
  },
  {
   "cell_type": "markdown",
   "metadata": {},
   "source": [
    "```python\n",
    "def straight_line(d, x, check_input=True):\n",
    "    '''\n",
    "    Compute the matrix associated with the straight line fitting.\n",
    "\n",
    "    Parameters\n",
    "    ----------\n",
    "    d : numpy array 1d\n",
    "        Vector containing the measured data.\n",
    "    x : numpy array 1d\n",
    "        Vector containing the coordinates of data points.\n",
    "    check_input : boolean\n",
    "        If True, verify if the input is valid. Default is True.\n",
    "    Returns\n",
    "    -------\n",
    "    p : numpy array 1d\n",
    "        Vector containing the coeficients of the fitted straight line.\n",
    "    '''\n",
    "    # if check_input is True, \n",
    "    # 1) assert that x is a numpy array with ndim=1\n",
    "    # 2) assert that d is a numpy array with ndim=1\n",
    "    # 3) assert that x and d have the same size\n",
    "\n",
    "    # create your code here\n",
    "\n",
    "    return p\n",
    "```"
   ]
  },
  {
   "cell_type": "markdown",
   "metadata": {},
   "source": [
    "1.3) Create a function called `parameter_covariance` that receives a constant data standard deviation $\\sigma_{\\mathbf{d}}$ and the matrix $\\mathbf{A}$ and returns the covariance matrix $\\mathbf{\\Sigma}_{\\mathbf{p}}$ ([equation 22](#eq22)). Use your previously implemented functions for computing the inverse. Use the template below:"
   ]
  },
  {
   "cell_type": "markdown",
   "metadata": {},
   "source": [
    "```python\n",
    "def parameter_covariance(sigma_d, A, check_input=True):\n",
    "    '''\n",
    "    Compute the parameters covariance matrix.\n",
    "\n",
    "    Parameters\n",
    "    ----------\n",
    "    sigma_d : positive scalar\n",
    "        Standard deviation of the measured data.\n",
    "    A : numpy array 2d\n",
    "        Matrix associated with the straight line fitting (output of the\n",
    "        'straight_line_matrix' function.\n",
    "    check_input : boolean\n",
    "        If True, verify if the input is valid. Default is True.\n",
    "    Returns\n",
    "    -------\n",
    "    Sigma_p : numpy array 2d\n",
    "        Parameters covariance matrix.\n",
    "    '''\n",
    "    # if check_input is True, \n",
    "    # 1) assert that sigma_d is a positive int or float\n",
    "    # 2) assert that A is a numpy array with ndim=2 and two columns\n",
    "\n",
    "    # create your code here\n",
    "\n",
    "    return Sigma_p\n",
    "```"
   ]
  },
  {
   "cell_type": "markdown",
   "metadata": {},
   "source": [
    "### Exercise 2"
   ]
  },
  {
   "cell_type": "markdown",
   "metadata": {},
   "source": [
    "2.1) Create a test to compare the result of your function `straight_line_matrix` with [`numpy.polynomial.polynomial.polyvander`](https://numpy.org/doc/stable/reference/generated/numpy.polynomial.polynomial.polyvander.html#numpy.polynomial.polynomial.polyvander). (see the cell at the end of this notebook).\n",
    "\n",
    "2.2) Create a regularly spaced coordinate vector `x`; create coefficients `a` and `b`; compute a data vector `d` by using your function `straight_line_matrix` (see the cells at the end of this notebook); use your function `straight_line` to compute a parameter vector `p_estimated`; compare `p_estimated` and `p_true = [a, b]`.\n",
    "\n",
    "2.3) Create a simple matrix $\\mathbf{A}$ (without necessarily using the function `straight_line_matrix`) that results in a matrix $\\mathbf{A}^{\\top}\\mathbf{A}$ with known inverse $\\left( \\mathbf{A}^{\\top}\\mathbf{A} \\right)^{-1}$; set a value for $\\sigma_{\\mathbf{d}}$; use $\\sigma_{\\mathbf{d}}$ and $\\left( \\mathbf{A}^{\\top}\\mathbf{A} \\right)^{-1}$ to compute $\\mathbf{\\Sigma}_{\\mathbf{p}}$ ([equation 22](#eq22)); compare this result with that produced by function `parameter_covariance`."
   ]
  },
  {
   "cell_type": "markdown",
   "metadata": {},
   "source": [
    "### Exercise 3"
   ]
  },
  {
   "cell_type": "markdown",
   "metadata": {},
   "source": [
    "In a Jupyter Notebook called `least_squares_YOURNAME`:\n",
    "\n",
    "3.1) Create a coordinate vector `x`.\n",
    "\n",
    "3.2) Define values for parameters `a` and `b`of the true straight line.\n",
    "\n",
    "3.3) Calculate a noise-free data vector `d_noise_free` (see the cells below).\n",
    "\n",
    "3.4) Create a noise-corrupted data vector `d_noisy` by using the noise-free data `d_noise_free` and the `numpy Random Generator` (see the cells below).\n",
    "\n",
    "3.5) Estimate the parameter vector `p_estimated` and the standard deviation of coefficients `a` and `b` by using `straight_line` and `parameter_covariance`.\n",
    "\n",
    "3.6) Use one of your functions for matrix-vector multiplication to compute the predicted data vector `d_predicted` by using the estimated parameter vector `p_estimated`.\n",
    "\n",
    "3.7) Compute the parameters uncertainties by using your function `parameter_covariance`.\n",
    "\n",
    "3.8) Plot the noise-corrupted data `d_noisy`, the predicted data `d_predicted`, the estimated coefficients `a` and `b` and their uncertainties."
   ]
  },
  {
   "cell_type": "markdown",
   "metadata": {},
   "source": [
    "#### Simulating noise-free and noise-corrupted data"
   ]
  },
  {
   "cell_type": "markdown",
   "metadata": {},
   "source": [
    "The noise are generated by using the routine [`numpy Random Generator`](https://numpy.org/doc/stable/reference/random/generator.html)."
   ]
  },
  {
   "cell_type": "code",
   "execution_count": 1,
   "metadata": {},
   "outputs": [],
   "source": [
    "import numpy as np\n",
    "import matplotlib.pyplot as plt"
   ]
  },
  {
   "cell_type": "code",
   "execution_count": 2,
   "metadata": {},
   "outputs": [],
   "source": [
    "# number of data\n",
    "N = 31\n",
    "\n",
    "# coordinates of the data\n",
    "x = np.linspace(0., 30., N)\n",
    "\n",
    "xmax = np.max(x)\n",
    "xmin = np.min(x)\n",
    "Dx = xmax - xmin\n",
    "\n",
    "# true constants a and b\n",
    "a = -5.\n",
    "b = 0.1\n",
    "\n",
    "# noise-free data vector\n",
    "d_free = a + b*x\n",
    "\n",
    "# Gaussian noise with null mean and standard deviation defined \n",
    "#by the variable stdev\n",
    "stdev = 0.3\n",
    "rng = np.random.default_rng(seed=76245680864342)\n",
    "noise = rng.normal(loc = 0., scale=stdev, size=N)\n",
    "\n",
    "# noise-corrupted data vector\n",
    "d_noisy = d_free + noise\n",
    "\n",
    "dmin = np.min(d_noisy)\n",
    "dmax = np.max(d_noisy)\n",
    "Dd = dmax - dmin"
   ]
  },
  {
   "cell_type": "code",
   "execution_count": 3,
   "metadata": {},
   "outputs": [
    {
     "data": {
      "image/png": "[encoded data removed]",
      "text/plain": [
       "<Figure size 1000x800 with 1 Axes>"
      ]
     },
     "metadata": {},
     "output_type": "display_data"
    }
   ],
   "source": [
    "plt.close('all')\n",
    "plt.figure(figsize=(10,8))\n",
    "plt.plot(x, d_free, 'ko', label='noise-free data')\n",
    "plt.plot(x, d_noisy, 'ro', label='noise-corrupted data')\n",
    "plt.xlim(xmin - 0.05*Dx, xmax + 0.05*Dx)\n",
    "plt.ylim(dmin - 0.05*Dd, dmax + 0.05*Dd)\n",
    "plt.xlabel('coordinates x', fontsize=16)\n",
    "plt.ylabel('data', fontsize=16)\n",
    "plt.grid()\n",
    "plt.legend(loc='best', fontsize=12)\n",
    "plt.show()"
   ]
  },
  {
   "cell_type": "markdown",
   "metadata": {},
   "source": [
    "#### Illustrating the function [`numpy.polynomial.polynomial.polyvander`](https://numpy.org/doc/stable/reference/generated/numpy.polynomial.polynomial.polyvander.html#numpy.polynomial.polynomial.polyvander)"
   ]
  },
  {
   "cell_type": "code",
   "execution_count": 4,
   "metadata": {},
   "outputs": [],
   "source": [
    "x = np.arange(10)"
   ]
  },
  {
   "cell_type": "code",
   "execution_count": 5,
   "metadata": {},
   "outputs": [
    {
     "data": {
      "text/plain": [
       "array([[1.],\n",
       "       [1.],\n",
       "       [1.],\n",
       "       [1.],\n",
       "       [1.],\n",
       "       [1.],\n",
       "       [1.],\n",
       "       [1.],\n",
       "       [1.],\n",
       "       [1.]])"
      ]
     },
     "execution_count": 5,
     "metadata": {},
     "output_type": "execute_result"
    }
   ],
   "source": [
    "np.polynomial.polynomial.polyvander(x, deg=0)"
   ]
  },
  {
   "cell_type": "code",
   "execution_count": 6,
   "metadata": {},
   "outputs": [
    {
     "data": {
      "text/plain": [
       "array([[1., 0.],\n",
       "       [1., 1.],\n",
       "       [1., 2.],\n",
       "       [1., 3.],\n",
       "       [1., 4.],\n",
       "       [1., 5.],\n",
       "       [1., 6.],\n",
       "       [1., 7.],\n",
       "       [1., 8.],\n",
       "       [1., 9.]])"
      ]
     },
     "execution_count": 6,
     "metadata": {},
     "output_type": "execute_result"
    }
   ],
   "source": [
    "np.polynomial.polynomial.polyvander(x, deg=1)"
   ]
  },
  {
   "cell_type": "code",
   "execution_count": 7,
   "metadata": {},
   "outputs": [
    {
     "data": {
      "text/plain": [
       "array([[ 1.,  0.,  0.],\n",
       "       [ 1.,  1.,  1.],\n",
       "       [ 1.,  2.,  4.],\n",
       "       [ 1.,  3.,  9.],\n",
       "       [ 1.,  4., 16.],\n",
       "       [ 1.,  5., 25.],\n",
       "       [ 1.,  6., 36.],\n",
       "       [ 1.,  7., 49.],\n",
       "       [ 1.,  8., 64.],\n",
       "       [ 1.,  9., 81.]])"
      ]
     },
     "execution_count": 7,
     "metadata": {},
     "output_type": "execute_result"
    }
   ],
   "source": [
    "np.polynomial.polynomial.polyvander(x, deg=2)"
   ]
  },
  {
   "cell_type": "code",
   "execution_count": null,
   "metadata": {},
   "outputs": [],
   "source": []
  }
 ],
 "metadata": {
  "kernelspec": {
   "display_name": "Python 3 (ipykernel)",
   "language": "python",
   "name": "python3"
  },
  "language_info": {
   "codemirror_mode": {
    "name": "ipython",
    "version": 3
   },
   "file_extension": ".py",
   "mimetype": "text/x-python",
   "name": "python",
   "nbconvert_exporter": "python",
   "pygments_lexer": "ipython3",
   "version": "3.11.8"
  }
 },
 "nbformat": 4,
 "nbformat_minor": 4
}
