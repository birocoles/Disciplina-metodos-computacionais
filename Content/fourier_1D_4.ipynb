{
 "cells": [
  {
   "cell_type": "markdown",
   "metadata": {},
   "source": [
    "# 1D Fourier Transform - part 4"
   ]
  },
  {
   "cell_type": "markdown",
   "metadata": {},
   "source": [
    "## Contents"
   ]
  },
  {
   "cell_type": "markdown",
   "metadata": {},
   "source": [
    "* [1D Fourier Transform](#sec1)\n",
    "\n",
    "\n",
    "* [1D Discrete Fourier Transform](#sec2)\n",
    "    * [Sampling Theorem](#sec2.1)\n",
    "    * [Numerical approximations for equations 39 and 40](#sec2.2)\n",
    "    * [Discrete Fourier Transform in matrix notation](#sec2.3)\n",
    "\n",
    "\n",
    "* [References](#sec3)\n",
    "\n",
    "\n",
    "* [Exercise 1](#ex1)\n",
    "\n",
    "\n",
    "* [Exercise 2](#ex2)\n",
    "\n",
    "\n",
    "* [Exercise 3](#ex3)"
   ]
  },
  {
   "cell_type": "markdown",
   "metadata": {},
   "source": [
    "<a id='sec1'></a>\n",
    "## 1D Fourier Transform"
   ]
  },
  {
   "cell_type": "markdown",
   "metadata": {},
   "source": [
    "By substituting the coefficient $c_{n}$ ([equation 37](https://nbviewer.jupyter.org/github/birocoles/Disciplina-metodos-computacionais/blob/2022/Content/fourier_1D_3.ipynb#eq37)) into the Fourier series of $g(y)$ ([equation 36](https://nbviewer.jupyter.org/github/birocoles/Disciplina-metodos-computacionais/blob/2022/Content/fourier_1D_3.ipynb#eq36)) and using the definition of fundamental frequency $f_{0}$ ([equation 31b](https://nbviewer.jupyter.org/github/birocoles/Disciplina-metodos-computacionais/blob/2022/Content/fourier_1D_3.ipynb#eq31b)), we obtain:"
   ]
  },
  {
   "cell_type": "markdown",
   "metadata": {},
   "source": [
    "<a id='eq38a'></a>\n",
    "\n",
    "$$\n",
    "\\begin{split}\n",
    "g(y) &= \\sum \\limits_{n=-N}^{N} \\left[ \n",
    "\\frac{1}{T_{0}} \\int \\limits_{-\\frac{T_{0}}{2}}^{\\frac{T_{0}}{2}} e^{\\, -i \\, 2 \\, \\pi \\, n \\, f_{0} \\, y} \\, g(y) \\; dy\n",
    "\\right] e^{\\, i \\, 2 \\, \\pi \\, n \\, f_{0} \\, y} \\\\\n",
    "&= \\sum \\limits_{n=-N}^{N} \\left[ \n",
    "\\int \\limits_{-\\frac{T_{0}}{2}}^{\\frac{T_{0}}{2}} \n",
    "e^{\\, -i \\, 2 \\, \\pi \\, n \\, f_{0} \\, y} \\, g(y) \\; dy\n",
    "\\right] e^{\\, i \\, 2 \\, \\pi \\, n \\, f_{0} \\, y} \\: f_{0} \\\\\n",
    "&= \\sum \\limits_{n=-N}^{N} G \\left( f_{n} \\right) \\, e^{\\, i \\, 2 \\, \\pi \\, f_{n} \\, y} \\: f_{0}\n",
    "\\end{split} \\: , \\quad \\quad \\text{for} \\; N \\to \\infty \\: , \\tag{38a}\n",
    "$$"
   ]
  },
  {
   "cell_type": "markdown",
   "metadata": {},
   "source": [
    "where"
   ]
  },
  {
   "cell_type": "markdown",
   "metadata": {},
   "source": [
    "<a id='eq38b'></a>\n",
    "\n",
    "$$\n",
    "G \\left( f_{n} \\right) = \\int \\limits_{-\\frac{T_{0}}{2}}^{\\frac{T_{0}}{2}} \n",
    "e^{\\, -i \\, 2 \\, \\pi \\, f_{n} \\, y} \\, g(y) \\; dy \\quad , \\tag{38b}\n",
    "$$"
   ]
  },
  {
   "cell_type": "markdown",
   "metadata": {},
   "source": [
    "and $f_{n} = n \\, f_{0}$. [Equation 38b](#eq38b) represents a function evaluated at discrete values of the variable $f_{n}$. Notice that $f_{0}$ represents the increment in the variable $f_{n}$. Moreover, $n \\to \\pm \\infty$, $f_{n} \\to \\pm \\infty$. By letting $T_{0} \\rightarrow \\infty$, $f_{0}$ tends to an infinitesimal $df$, $f_{n}$ tends to a continuous variable and the functions $g(y)$ ([equation 38a](#eq38a)) and $G(f_{n})$ ([equation 38b](#eq38b)) becomes (see Osgood, 2007, p. 68, for a much better description of this process)"
   ]
  },
  {
   "cell_type": "markdown",
   "metadata": {},
   "source": [
    "<a id='eq39'></a>\n",
    "\n",
    "$$\n",
    "g(y) = \\int \\limits_{-\\infty}^{\\infty} \n",
    "G(f) \\, e^{\\, i \\, 2 \\, \\pi \\, f \\, y} \\; d f \\quad , \\tag{39}\n",
    "$$"
   ]
  },
  {
   "cell_type": "markdown",
   "metadata": {},
   "source": [
    "and"
   ]
  },
  {
   "cell_type": "markdown",
   "metadata": {},
   "source": [
    "<a id='eq40'></a>\n",
    "\n",
    "$$\n",
    "G(f) = \\int \\limits_{-\\infty}^{\\infty} \n",
    "g(y) \\, e^{\\, -i \\, 2 \\, \\pi \\, f \\, y} \\; d y \\quad . \\tag{40}\n",
    "$$"
   ]
  },
  {
   "cell_type": "markdown",
   "metadata": {},
   "source": [
    "Equations [39](#eq39) and [40](#eq40) are known as **Inverse Fourier Transform** and **Fourier Transform**, respectively. By considering that $y$ is length/time, we say that $g(y)$ is in space/time domain and $G(f)$ is in Fourier domain. If $y$ is measured in seconds, then $f$ is in cycles per second, or Hertz (the unit of frequency). If $y$ is measured in meters, $f$ cycles per meter, or inverse wavelength. For many purposes it is useful to think of $g(y)$ and $G(f)$ as being two different representations of the same function.\n",
    "\n",
    "\n",
    "Notice that equations [39](#eq39) and [40](#eq40) deal with continuous functions that are integrated from $-\\infty$ to $\\infty$. In practical situations, we want to calculate the Fourier Transform $G(f)$ ([equation 40](#eq40)) of a function $g(y)$ that is evaluated on a discrete set of points $y$. In this case, we solve [equation 40](#eq40) numerically in order to obtain estimates of $G(f)$ at a discrete set of points $f$. These discrete forms of equations [39](#eq39) and [40](#eq40) are called **Inverse Discrete Fourier Transform** and **Discrete Fourier Transform**, respectively."
   ]
  },
  {
   "cell_type": "markdown",
   "metadata": {},
   "source": [
    "<a id='sec2'></a>\n",
    "## 1D Discrete Fourier Transform"
   ]
  },
  {
   "cell_type": "markdown",
   "metadata": {},
   "source": [
    "Consider a function $g(y)$ that is sampled at evenly spaced intervals $\\Delta y$ (sampling interval), so that we have "
   ]
  },
  {
   "cell_type": "markdown",
   "metadata": {},
   "source": [
    "<a id='eq41a'></a>\n",
    "\n",
    "$$\n",
    "g_{k} \\equiv g(y_{k}) \\: , \\tag{41a}\n",
    "$$"
   ]
  },
  {
   "cell_type": "markdown",
   "metadata": {},
   "source": [
    "<a id='eq41b'></a>\n",
    "\n",
    "$$\n",
    "y_{k} = k \\, \\Delta y \\: , \\quad k = 0, 1, \\dots , N-1 \\: . \\tag{41b}\n",
    "$$"
   ]
  },
  {
   "cell_type": "markdown",
   "metadata": {},
   "source": [
    "For simplicity, let's consider that $N$ is even."
   ]
  },
  {
   "cell_type": "markdown",
   "metadata": {},
   "source": [
    "<a id='sec2.1'></a>\n",
    "### Sampling Theorem"
   ]
  },
  {
   "cell_type": "markdown",
   "metadata": {},
   "source": [
    "For any sampling interval $\\Delta y$, there is also a special frequency $f_{c}$, called the **Nyquist critical frequency**, given by (Press et al., 2007, p. 605):"
   ]
  },
  {
   "cell_type": "markdown",
   "metadata": {},
   "source": [
    "<a id='eq42'></a>\n",
    "\n",
    "$$\n",
    "f_{c} = \\frac{1}{2 \\Delta y} \\: . \\tag{42}\n",
    "$$"
   ]
  },
  {
   "cell_type": "markdown",
   "metadata": {},
   "source": [
    "According to the **sampling theorem**: If a continuous function $g(y)$, sampled at an interval $\\Delta y$, happens to be bandwidth limited to frequencies smaller in magnitude than $f_{c}$, i.e., if $G(f) = 0$ for all $\\lvert \\, f \\, \\rvert  \\ge f_{c} \\,$, then the function $g(y)$ is completely determined by its samples $g_{i}$ (Press et al., 2007, p. 605)."
   ]
  },
  {
   "cell_type": "markdown",
   "metadata": {},
   "source": [
    "<a id='sec2.2'></a>\n",
    "### Numerical approximations for equations [39](#eq39) and [40](#eq40)"
   ]
  },
  {
   "cell_type": "markdown",
   "metadata": {},
   "source": [
    "Let's consider the Fourier Transform $G(f)$ evaluated at evenly spaced points $f_{n}$ given by:"
   ]
  },
  {
   "cell_type": "markdown",
   "metadata": {},
   "source": [
    "<a id='eq43'></a>\n",
    "\n",
    "$$\n",
    "f_{n} = \\frac{n}{N \\Delta y} \\: , \\quad n = -\\frac{N}{2}, \\dots , \\frac{N}{2} - 1 \\: . \\tag{43}\n",
    "$$"
   ]
  },
  {
   "cell_type": "markdown",
   "metadata": {},
   "source": [
    "Take a look at the supplementary file `fourier_1D_4_example.pdf` to see an example for $N = 6$."
   ]
  },
  {
   "cell_type": "markdown",
   "metadata": {},
   "source": [
    "Equation [40](#eq40) can then be approximated as follows:"
   ]
  },
  {
   "cell_type": "markdown",
   "metadata": {},
   "source": [
    "<a id='eq44'></a>\n",
    "\n",
    "$$\n",
    "\\begin{split}\n",
    "G(f_{n}) &\\approx \\sum \\limits_{k = 0}^{N-1} \n",
    "g_{k} \\, e^{\\, -i \\, 2 \\, \\pi \\, f_{n} \\, y_{k}} \\; \\Delta y \\\\\n",
    "&\\approx \\Delta y \\sum \\limits_{k = 0}^{N-1} \n",
    "g_{k} \\, e^{\\, -i \\, 2 \\, \\pi \\, \\left( \\frac{n}{N \\Delta y} \\right) \\, \\left( k \\, \\Delta y\\right)} \\\\\n",
    "&\\approx \\Delta y \\sum \\limits_{k = 0}^{N-1} \n",
    "g_{k} \\, e^{\\, -i \\, 2 \\, \\pi \\, n \\, k \\, \\mathbin{/} \\, N}\n",
    "\\end{split} \\quad . \\tag{44}\n",
    "$$"
   ]
  },
  {
   "cell_type": "markdown",
   "metadata": {},
   "source": [
    "The **Discrete Fourier Transform** is defined as follows:"
   ]
  },
  {
   "cell_type": "markdown",
   "metadata": {},
   "source": [
    "<a id='eq45'></a>\n",
    "\n",
    "$$\n",
    "G_{n} \\equiv \\sum \\limits_{k = 0}^{N-1} \n",
    "g_{k} \\, w_{N}^{\\, n \\, k \\,} \\quad , \\tag{45}\n",
    "$$"
   ]
  },
  {
   "cell_type": "markdown",
   "metadata": {},
   "source": [
    "where $G(f_{n}) \\approx \\Delta y \\, G_{n}$ (Press et al., 2007, p. 607) and"
   ]
  },
  {
   "cell_type": "markdown",
   "metadata": {},
   "source": [
    "<a id='eq46'></a>\n",
    "\n",
    "$$\n",
    "w_{N} = e^{-i \\, 2 \\, \\pi \\, / \\, N} \\quad . \\tag{46}\n",
    "$$"
   ]
  },
  {
   "cell_type": "markdown",
   "metadata": {},
   "source": [
    "Similarly to the approximation defined by equation [44](#ep44), we can approximate the integral [39](#eq39) as follows (Press et al., 2007, p. 608):"
   ]
  },
  {
   "cell_type": "markdown",
   "metadata": {},
   "source": [
    "<a id='eq47'></a>\n",
    "\n",
    "$$\n",
    "\\begin{split}\n",
    "g(y_{k}) &\\approx \\sum \\limits_{n = -\\frac{N}{2}}^{\\frac{N}{2} - 1} \n",
    "G(f_{n}) \\, e^{\\, i \\, 2 \\, \\pi \\, f_{n} \\, y_{k}} \\; \\Delta f \\\\\n",
    "&\\approx \\sum \\limits_{n = -\\frac{N}{2}}^{\\frac{N}{2} - 1} \n",
    "G(f_{n}) \\, e^{\\, i \\, 2 \\, \\pi \\, \\left( \\frac{n}{N \\Delta y} \\right) \\, \\left( k \\, \\Delta y\\right)} \n",
    "\\frac{1}{N \\Delta y} \\\\\n",
    "&\\approx \\frac{1}{N} \\, \\sum \\limits_{n = -\\frac{N}{2}}^{\\frac{N}{2} - 1} \n",
    "\\frac{G(f_{n})}{\\Delta y} \\, e^{\\, i \\, 2 \\, \\pi \\, n \\, k \\, \\mathbin{/} \\, N} \\\\\n",
    "&\\approx \\frac{1}{N} \\, \\sum \\limits_{n = -\\frac{N}{2}}^{\\frac{N}{2} - 1} \n",
    "G_{n} \\, \\tilde{w}_{N}^{\\, n \\, k \\,}\n",
    "\\end{split} \\quad , \\tag{47}\n",
    "$$"
   ]
  },
  {
   "cell_type": "markdown",
   "metadata": {},
   "source": [
    "where $\\tilde{w}_{N}$ denotes the [complex conjugate](https://en.wikipedia.org/wiki/Complex_conjugate) of $w_{N}$ ([equation 46](#eq46))."
   ]
  },
  {
   "cell_type": "markdown",
   "metadata": {},
   "source": [
    "In equations [43](#eq43)-[46](#eq46), $n$ varies from $−\\frac{N}{2}$ to $\\frac{N}{2}-1$. Let's take a look in the example below, with $N = 4$. In this case, $n = -2, -1, 0, 1$ and $k = 0, 1, 2, 3$."
   ]
  },
  {
   "cell_type": "markdown",
   "metadata": {},
   "source": [
    "Table below shows the relationship between the indices $n$, $k$ and the product $n \\, k$ for our example with $N = 4$:"
   ]
  },
  {
   "cell_type": "markdown",
   "metadata": {},
   "source": [
    "|       | $k$           | 0     | 1     | 2     | 3     |\n",
    "|----   |-----------    |-----  |-----  |-----  |-----  |\n",
    "| $n$   | $G_n \\big \\\\ g_k$     | $g_0$     | $g_1$     | $g_2$     | $g_3$     |\n",
    "| **-2**    | $G_{-2}$          | 0     | -2    | -4    | -6    |\n",
    "| **-1**    | $G_{-1}$          | 0     | -1    | -2    | -3    |\n",
    "| **0**     | $G_0$         | 0     | 0     | 0     | 0     |\n",
    "| **1**     | $G_1$         | 0     | 1     | 2     | 3     |"
   ]
  },
  {
   "cell_type": "markdown",
   "metadata": {},
   "source": [
    "Notice that ..."
   ]
  },
  {
   "cell_type": "markdown",
   "metadata": {},
   "source": [
    "$$\n",
    "w^{nk}_{N} = \\cos \\left( \\frac{2 \\, \\pi \\, n \\, k}{N} \\right) - i \\sin \\left( \\frac{2 \\, \\pi \\, n \\, k}{N} \\right)\n",
    "$$"
   ]
  },
  {
   "cell_type": "markdown",
   "metadata": {},
   "source": [
    "and"
   ]
  },
  {
   "cell_type": "markdown",
   "metadata": {},
   "source": [
    "$$\n",
    "w^{(n+N)k}_{N} = \\cos \\left( \\frac{2 \\, \\pi \\, n \\, k}{N} + 2 \\, \\pi \\, k \\right) - i \\sin \\left( \\frac{2 \\, \\pi \\, n \\, k}{N} + 2 \\, \\pi \\, k \\right) = w^{nk}_{N} \\: .\n",
    "$$"
   ]
  },
  {
   "cell_type": "markdown",
   "metadata": {},
   "source": [
    "Therefore, $G_{n}$ ([equation 45](#eq45)) is periodic $n$, with period $N$. It means that  $G_{-N/2} = G_{N/2}$ or, in a general form, $G_{n} = G_{n+N}$, $n = 1, 2, \\dots$ . Consequently, table above can be rewritten as follows:"
   ]
  },
  {
   "cell_type": "markdown",
   "metadata": {},
   "source": [
    "|       | $k$           | 0     | 1     | 2     | 3     |\n",
    "|----   |-----------    |-----  |-----  |-----  |-----  |\n",
    "| $n$   | $G_n \\big \\\\ g_k$     | $g_0$     | $g_1$     | $g_2$     | $g_3$     |\n",
    "| **0**     | $G_0$         | 0     | 0     | 0     | 0     |\n",
    "| **1**     | $G_1$         | 0     | 1     | 2     | 3     |\n",
    "| **2**     | $G_2$         | 0     | 2     | 4     | 6     |\n",
    "| **3**     | $G_3$         | 0     | 3     | 6     | 9     |"
   ]
  },
  {
   "cell_type": "markdown",
   "metadata": {},
   "source": [
    "With this conversion in mind, one generally lets $n$ varies from $0$ to $N − 1$ (one complete period). Then $n$ and $k$ vary exactly over the same range. When this convention is followed, you must remember that zero frequency corresponds to $n = 0$, positive frequencies $0 < f < f_{c}$ correspond to values $1 \\le n \\le (N/2) − 1$, and negative frequencies $−f_{c} < f < 0$ correspond to $(N/2) \\le n \\le N−1$. The value $n = N/2$ corresponds to both $G_{-N/2}$ and $G_{N/2}$ (Press et al., 2007, p. 608)."
   ]
  },
  {
   "cell_type": "markdown",
   "metadata": {},
   "source": [
    "Based on the approximation defined by [equation 46a](#eq46a) and the considerations given above, the **Discrete Inverse Fourier Transform** can be written as follows (Press et al., 2007, p. 608):"
   ]
  },
  {
   "cell_type": "markdown",
   "metadata": {},
   "source": [
    "<a id='eq48'></a>\n",
    "\n",
    "$$\n",
    "g_{k} \\equiv \\frac{1}{N} \\sum \\limits_{n = 0}^{N-1} \n",
    "G_{n} \\, e^{\\, i \\, 2 \\, \\pi \\, n \\, k \\, \\mathbin{/} \\, N} \\quad . \\tag{48}\n",
    "$$"
   ]
  },
  {
   "cell_type": "markdown",
   "metadata": {},
   "source": [
    "<a id='sec2.3'></a>\n",
    "### Discrete Fourier Transform in matrix notation"
   ]
  },
  {
   "cell_type": "markdown",
   "metadata": {},
   "source": [
    "In practical situations, the Discrete Fourier Transform ([equation 45](#eq45)) is written in matrix notation, as follows:"
   ]
  },
  {
   "cell_type": "markdown",
   "metadata": {},
   "source": [
    "<a id='eq49'></a>\n",
    "\n",
    "$$\n",
    "\\mathbf{G} = \\mathbf{F}_{N} \\, \\mathbf{g} \\quad, \\tag{49}\n",
    "$$"
   ]
  },
  {
   "cell_type": "markdown",
   "metadata": {},
   "source": [
    "where $\\mathbf{F}_{N}$ is an $N \\times N$ complex matrix called *Discrete Fourier Transform Matrix* or simply *DFT matrix*, with element $nk$ given by $w^{nk}_{N}$ ([equation 47a](#eq47a))."
   ]
  },
  {
   "cell_type": "markdown",
   "metadata": {},
   "source": [
    "It can be shown that:\n",
    "\n",
    "* $\\mathbf{F}^{\\ast}_{N} = \\mathbf{F}^{H}_{N}$\n",
    "\n",
    "* $\\mathbf{F}^{-1}_{N} = \\frac{1}{N} \\, \\mathbf{F}^{\\ast}_{N}$\n",
    "\n",
    "* $N \\, \\mathbf{I} = \\mathbf{F}^{H}_{N} \\mathbf{F}_{N}$\n",
    "\n",
    "where $\\mathbf{F}^{\\ast}_{N}$ is the complex conjugate without transposition and $\\mathbf{F}^{H}_{N}$ is the conjugate transpose."
   ]
  },
  {
   "cell_type": "markdown",
   "metadata": {},
   "source": [
    "In practical situations, the *Inverse Discrete Fourier Transform* ([equation 46](#eq46)) is written in matrix notation, as follows:"
   ]
  },
  {
   "cell_type": "markdown",
   "metadata": {},
   "source": [
    "<a id='eq50'></a>\n",
    "\n",
    "$$\n",
    "\\mathbf{g} = \\frac{1}{N} \\, \\mathbf{F}^{H}_{N} \\, \\mathbf{G} \\quad, \\tag{50}\n",
    "$$"
   ]
  },
  {
   "cell_type": "markdown",
   "metadata": {},
   "source": [
    "where $\\mathbf{F}^{H}_{N}$ has the $kn$ element given by $\\tilde{w}^{nk}_{N}$ ([equation 47b](#eq47b))."
   ]
  },
  {
   "cell_type": "markdown",
   "metadata": {},
   "source": [
    "Take a look at the supplementary file `fourier_1D_4_example.pdf` to see an example for $N = 6$."
   ]
  },
  {
   "cell_type": "markdown",
   "metadata": {},
   "source": [
    "Notice that, to compute the Discrete Inverse Fourier Transform ([equation 50](#eq50)), it is necessary to multiply by the scale factor $1 / N$. The scale factor used in the IDFT depends on that used in the DFT. There are three possible scale factors combinations:"
   ]
  },
  {
   "cell_type": "markdown",
   "metadata": {},
   "source": [
    "#### 1) Unscaled DFT"
   ]
  },
  {
   "cell_type": "markdown",
   "metadata": {},
   "source": [
    "$$\n",
    "\\begin{split}\n",
    "\\mathbf{g} &\\xrightarrow[]{1} \\mathbf{G} \\\\\n",
    "\\mathbf{g} &\\xleftarrow[\\frac{1}{N}]{} \\mathbf{G}\n",
    "\\end{split}\n",
    "$$"
   ]
  },
  {
   "cell_type": "markdown",
   "metadata": {},
   "source": [
    "#### 2) $\\sqrt{N}$-scaled DFT"
   ]
  },
  {
   "cell_type": "markdown",
   "metadata": {},
   "source": [
    "$$\n",
    "\\begin{split}\n",
    "\\mathbf{g} &\\xrightarrow[]{\\frac{1}{\\sqrt{N}}} \\mathbf{G} \\\\\n",
    "\\mathbf{g} &\\xleftarrow[\\frac{1}{\\sqrt{N}}]{} \\mathbf{G}\n",
    "\\end{split}\n",
    "$$"
   ]
  },
  {
   "cell_type": "markdown",
   "metadata": {},
   "source": [
    "#### 3) $N$-scaled DFT"
   ]
  },
  {
   "cell_type": "markdown",
   "metadata": {},
   "source": [
    "$$\n",
    "\\begin{split}\n",
    "\\mathbf{g} &\\xrightarrow[]{\\frac{1}{N}} \\mathbf{G} \\\\\n",
    "\\mathbf{g} &\\xleftarrow[1]{} \\mathbf{G}\n",
    "\\end{split}\n",
    "$$"
   ]
  },
  {
   "cell_type": "markdown",
   "metadata": {},
   "source": [
    "The three possible scale factors combinations presented above lead to three different DFT/IDFT combinations. Because of that, let's rewrite equations [49](#eq49) and [50](#eq50) as follows:"
   ]
  },
  {
   "cell_type": "markdown",
   "metadata": {},
   "source": [
    "<a id='eq51'></a>\n",
    "\n",
    "$$\n",
    "\\mathbf{G} = \\mathbf{H} \\, \\mathbf{g} \\quad, \\tag{51}\n",
    "$$"
   ]
  },
  {
   "cell_type": "markdown",
   "metadata": {},
   "source": [
    "and"
   ]
  },
  {
   "cell_type": "markdown",
   "metadata": {},
   "source": [
    "<a id='eq52'></a>\n",
    "\n",
    "$$\n",
    "\\mathbf{g} = \\mathbf{H}^{-1} \\, \\mathbf{G} \\quad. \\tag{52}\n",
    "$$"
   ]
  },
  {
   "cell_type": "markdown",
   "metadata": {},
   "source": [
    "Equations [51](#eq51) and [52](#eq52) define the DFT and IDFT in terms of a matrix $\\mathbf{H}$ and its inverse $\\mathbf{H}^{-1}$, respectively. These new matrices, in turn, are defined according to the scale factor as follows:"
   ]
  },
  {
   "cell_type": "markdown",
   "metadata": {},
   "source": [
    "<a id='tab1'></a>\n",
    "\n",
    "| $\\mathbf{H}$ | $\\mathbf{H}^{-1}$ |\n",
    "| ---- | ---- |\n",
    "| $\\mathbf{F}_{N}$ | $\\frac{1}{N} \\, \\mathbf{F}_{N}^{\\ast}$ |\n",
    "| $\\frac{1}{\\sqrt{N}} \\, \\mathbf{F}_{N}$ | $\\frac{1}{\\sqrt{N}} \\, \\mathbf{F}_{N}^{\\ast}$ |\n",
    "| $\\frac{1}{N} \\, \\mathbf{F}_{N}$ | $\\mathbf{F}_{N}^{\\ast}$ | \n",
    "\n",
    "$\\tag{Tab. 1}$"
   ]
  },
  {
   "cell_type": "markdown",
   "metadata": {},
   "source": [
    "This table show the required scaled factor combination to define matrices $\\mathbf{H}$ and its inverse $\\mathbf{H}^{-1}$."
   ]
  },
  {
   "cell_type": "markdown",
   "metadata": {},
   "source": [
    "<a id='sec2.4'></a>\n",
    "### Scipy DFT matrix ([`scipy.linalg.dft`](https://docs.scipy.org/doc/scipy/reference/generated/scipy.linalg.dft.html))"
   ]
  },
  {
   "cell_type": "code",
   "execution_count": 1,
   "metadata": {},
   "outputs": [],
   "source": [
    "from scipy.linalg import dft\n",
    "import numpy as np"
   ]
  },
  {
   "cell_type": "code",
   "execution_count": 2,
   "metadata": {},
   "outputs": [],
   "source": [
    "N=16"
   ]
  },
  {
   "cell_type": "code",
   "execution_count": 3,
   "metadata": {},
   "outputs": [],
   "source": [
    "# Compute the DFT matrix by using different scale factors\n",
    "FN_unscaled = dft(N, scale=None)\n",
    "FN_sqrtn = dft(N, scale='sqrtn')\n",
    "FN_n = dft(N, scale='n')"
   ]
  },
  {
   "cell_type": "code",
   "execution_count": 4,
   "metadata": {},
   "outputs": [
    {
     "data": {
      "text/plain": [
       "True"
      ]
     },
     "execution_count": 4,
     "metadata": {},
     "output_type": "execute_result"
    }
   ],
   "source": [
    "# All these DFT matrices are symmetric\n",
    "np.allclose(FN_unscaled, FN_unscaled.T)"
   ]
  },
  {
   "cell_type": "code",
   "execution_count": 5,
   "metadata": {},
   "outputs": [
    {
     "data": {
      "text/plain": [
       "True"
      ]
     },
     "execution_count": 5,
     "metadata": {},
     "output_type": "execute_result"
    }
   ],
   "source": [
    "np.allclose(FN_sqrtn, FN_sqrtn.T)"
   ]
  },
  {
   "cell_type": "code",
   "execution_count": 6,
   "metadata": {},
   "outputs": [
    {
     "data": {
      "text/plain": [
       "True"
      ]
     },
     "execution_count": 6,
     "metadata": {},
     "output_type": "execute_result"
    }
   ],
   "source": [
    "np.allclose(FN_n, FN_n.T)"
   ]
  },
  {
   "cell_type": "code",
   "execution_count": 7,
   "metadata": {},
   "outputs": [],
   "source": [
    "# Identity matrix\n",
    "I = np.identity(N)"
   ]
  },
  {
   "cell_type": "code",
   "execution_count": 8,
   "metadata": {},
   "outputs": [],
   "source": [
    "# Conjugate of the unscaled DFT matrix\n",
    "FN_unscaled_ast = np.conjugate(FN_unscaled)"
   ]
  },
  {
   "cell_type": "code",
   "execution_count": 9,
   "metadata": {},
   "outputs": [
    {
     "data": {
      "text/plain": [
       "True"
      ]
     },
     "execution_count": 9,
     "metadata": {},
     "output_type": "execute_result"
    }
   ],
   "source": [
    "# The conjugate of the unscaled DFT matrix is also symmetric\n",
    "# Note that FN_unscaled_ast.T is the conjugate transpose of the unscaled DFT matrix\n",
    "np.allclose(FN_unscaled_ast, FN_unscaled_ast.T)"
   ]
  },
  {
   "cell_type": "code",
   "execution_count": 10,
   "metadata": {},
   "outputs": [
    {
     "data": {
      "text/plain": [
       "True"
      ]
     },
     "execution_count": 10,
     "metadata": {},
     "output_type": "execute_result"
    }
   ],
   "source": [
    "# Define the inverse of the unscaled DFT matrix\n",
    "np.allclose(np.dot(FN_unscaled, (1/N)*FN_unscaled_ast), I)"
   ]
  },
  {
   "cell_type": "code",
   "execution_count": 12,
   "metadata": {},
   "outputs": [
    {
     "data": {
      "text/plain": [
       "True"
      ]
     },
     "execution_count": 12,
     "metadata": {},
     "output_type": "execute_result"
    }
   ],
   "source": [
    "# Define the inverse of the sqrtn-scaled DFT matrix\n",
    "np.allclose(np.dot(FN_sqrtn, (1/np.sqrt(N))*FN_unscaled_ast), I)"
   ]
  },
  {
   "cell_type": "code",
   "execution_count": 13,
   "metadata": {},
   "outputs": [
    {
     "data": {
      "text/plain": [
       "True"
      ]
     },
     "execution_count": 13,
     "metadata": {},
     "output_type": "execute_result"
    }
   ],
   "source": [
    "# Define the inverse of the n-scaled DFT matrix\n",
    "np.allclose(np.dot(FN_n, FN_unscaled_ast), I)"
   ]
  },
  {
   "cell_type": "markdown",
   "metadata": {},
   "source": [
    "<a id='sec2.5'></a>\n",
    "### Scipy FFT ([`scipy.fft.fft`](https://docs.scipy.org/doc/scipy/reference/generated/scipy.fft.fft.html))"
   ]
  },
  {
   "cell_type": "code",
   "execution_count": 14,
   "metadata": {},
   "outputs": [],
   "source": [
    "from scipy.fft import fft, ifft"
   ]
  },
  {
   "cell_type": "code",
   "execution_count": 15,
   "metadata": {},
   "outputs": [],
   "source": [
    "# Generate synthetic data\n",
    "g = np.random.rand(N)"
   ]
  },
  {
   "cell_type": "code",
   "execution_count": 16,
   "metadata": {},
   "outputs": [],
   "source": [
    "# Compute the Fourier transform by using different scale factors\n",
    "G_unscaled = np.dot(FN_unscaled, g)\n",
    "G_sqrtn = np.dot(FN_sqrtn, g)\n",
    "G_n = np.dot(FN_n, g)"
   ]
  },
  {
   "cell_type": "code",
   "execution_count": 17,
   "metadata": {},
   "outputs": [],
   "source": [
    "# Compute the DFT with Scipy\n",
    "G_unscaled_sp = fft(x=g, norm='backward')\n",
    "G_sqrtn_sp = fft(x=g, norm='ortho')\n",
    "G_n_sp = fft(x=g, norm='forward')"
   ]
  },
  {
   "cell_type": "code",
   "execution_count": 18,
   "metadata": {},
   "outputs": [
    {
     "data": {
      "text/plain": [
       "True"
      ]
     },
     "execution_count": 18,
     "metadata": {},
     "output_type": "execute_result"
    }
   ],
   "source": [
    "np.allclose(G_unscaled, G_unscaled_sp)"
   ]
  },
  {
   "cell_type": "code",
   "execution_count": 19,
   "metadata": {},
   "outputs": [
    {
     "data": {
      "text/plain": [
       "True"
      ]
     },
     "execution_count": 19,
     "metadata": {},
     "output_type": "execute_result"
    }
   ],
   "source": [
    "np.allclose(G_sqrtn, G_sqrtn_sp)"
   ]
  },
  {
   "cell_type": "code",
   "execution_count": 20,
   "metadata": {},
   "outputs": [
    {
     "data": {
      "text/plain": [
       "True"
      ]
     },
     "execution_count": 20,
     "metadata": {},
     "output_type": "execute_result"
    }
   ],
   "source": [
    "np.allclose(G_n, G_n_sp)"
   ]
  },
  {
   "cell_type": "markdown",
   "metadata": {},
   "source": [
    "<a id='sec3'></a>\n",
    "## References"
   ]
  },
  {
   "cell_type": "markdown",
   "metadata": {},
   "source": [
    "Osgood, B. G. (2007). *Lecture Notes for EE 261 The Fourier Transform and its Applications*, Electrical Engineering Department, Stanford University. url: https://see.stanford.edu/Course/EE261\n",
    "\n",
    "Press, William H., Teukolsky, Saul A., Vetterling, William T., Flannery, Brian P. (2007). *Numerical Recipes: The Art of Scientific Computing*, 3rd ed., New York: Cambridge University Press. ISBN 978-0-521-88068-8"
   ]
  },
  {
   "cell_type": "markdown",
   "metadata": {
    "jupyter": {
     "outputs_hidden": true
    }
   },
   "source": [
    "<a id='ex1'></a>\n",
    "\n",
    "### Exercise 1"
   ]
  },
  {
   "cell_type": "markdown",
   "metadata": {},
   "source": [
    "1. In your functions file, create a function called `DFT_matrix`. The function must receive the positive integer $N$ and a string called `scale` representing the scale factor $s$. This string may assume three possible values: `None`, `'n'` or `'sqrtn'`. Your function must define the scale factor $s$ based on the string `scale`. Hint: the DFT matrix and can be defined by using `outer(n, n)`, where `n` is a vector with elements varying from `0` to `N-1`.\n",
    "2. In your test file, create three tests for the function `DFT_matrix`. One test must compare the result produced by `DFT_matrix` and an expected result produced by a specific input. The other test must compare the result produced by your function and the result produced by the routine [`scipy.linalg.dft`](https://docs.scipy.org/doc/scipy/reference/generated/scipy.linalg.dft.html). The last test must verify that $\\mathbf{F}_{N}$ satisfy the following conditions: $\\mathbf{F}_{N}^{\\ast} = \\mathbf{F}_{N}^{H}$, $\\mathbf{F}_{N}^{-1} = \\frac{1}{N} \\, \\mathbf{F}_{N}^{\\ast}$ and $N \\mathbf{I} = \\mathbf{F}_{N}^{H} \\mathbf{F}_{N}$."
   ]
  },
  {
   "cell_type": "markdown",
   "metadata": {},
   "source": [
    "<a id='ex2'></a>\n",
    "\n",
    "### Exercise 2"
   ]
  },
  {
   "cell_type": "markdown",
   "metadata": {},
   "source": [
    "3. In your functions file, create a function called `fft1D`. The function must receive the data vector $\\mathbf{g}$ and the string `scale` representing the scale factor $s$ (the same defined for your function `DFT_matrix`). Your function `fft1D` must return the Discrete Fourier Transform of $\\mathbf{g}$. This function must create the DFT matrix $\\mathbf{H}$ ([equation 51](#eq51)) by using your function `DFT_matrix` and must compute the matrix-vector product by using your function `matvec_complex`.\n",
    "4. In your test file, create one test for the function `fft1D`. This test must compare the result produced by `fft1D` and the result produced by the routine [`scipy.fft.fft`](https://docs.scipy.org/doc/scipy/reference/generated/scipy.fft.fft.html) by using the three possible scale factors."
   ]
  },
  {
   "cell_type": "markdown",
   "metadata": {},
   "source": [
    "<a id='ex3'></a>\n",
    "\n",
    "### Exercise 3"
   ]
  },
  {
   "cell_type": "markdown",
   "metadata": {},
   "source": [
    "5. In your functions file, create a function called `ifft1D`. The function must receive a complex vector $\\mathbf{G}$ and the string `scale` representing the scale factor $s$ (the same defined for your functions `DFT_matrix` and `fft1D`). Your function `ifft1D` must return the Inverse Discrete Fourier Transform of $\\mathbf{G}$. This function must create the DFT matrix $\\mathbf{H}^{-1}$ ([equation 52](#eq52)) by using your function `DFT_matrix` and must compute the matrix-vector product by using your function `matvec_complex`. Hint: given a complex numpy array 2D `A`, its conjugate transpose is given by `np.conj(A).T`.\n",
    "6. In your test file, create two tests for the function `ifft1D`. The first test must compare the result produced by `ifft1D` and the result produced by the routine [`scipy.fft.ifft`](https://docs.scipy.org/doc/scipy/reference/generated/scipy.fft.ifft.html). The second test must create a real data vector $\\mathbf{g}$, compute its DFT $\\mathbf{G}$ with your function `fft1D` and then compare the computed the IDFT of $\\mathbf{G}$ with the original vector $\\mathbf{g}$ by using your function `ifft1D`."
   ]
  },
  {
   "cell_type": "code",
   "execution_count": null,
   "metadata": {},
   "outputs": [],
   "source": []
  }
 ],
 "metadata": {
  "anaconda-cloud": {},
  "kernelspec": {
   "display_name": "Python 3 (ipykernel)",
   "language": "python",
   "name": "python3"
  },
  "language_info": {
   "codemirror_mode": {
    "name": "ipython",
    "version": 3
   },
   "file_extension": ".py",
   "mimetype": "text/x-python",
   "name": "python",
   "nbconvert_exporter": "python",
   "pygments_lexer": "ipython3",
   "version": "3.11.8"
  }
 },
 "nbformat": 4,
 "nbformat_minor": 4
}
