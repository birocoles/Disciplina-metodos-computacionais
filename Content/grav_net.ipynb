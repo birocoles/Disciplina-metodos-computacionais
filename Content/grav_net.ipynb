{
 "cells": [
  {
   "cell_type": "markdown",
   "metadata": {},
   "source": [
    "# Simple gravity network"
   ]
  },
  {
   "cell_type": "markdown",
   "metadata": {},
   "source": [
    "Consider the simple gravity network represented in the figure below:"
   ]
  },
  {
   "cell_type": "markdown",
   "metadata": {},
   "source": [
    "<img src='grav_net/grav_net.jpg' width=700>"
   ]
  },
  {
   "cell_type": "markdown",
   "metadata": {},
   "source": [
    "This network is formed by 6 nodes and 5 connections. The nodes represent points on the Earth's surface. Consider that, at each node $i$, $i = 0, \\dots, 5$, there is a gravity value $g_{i}$. Moreover, consider that the gravity values at the nodes $0$ and $5$ are known and that, on each connection (dashed lines), there is a differential gravity measurement $\\ell_{ij}$ defined by:\n",
    "\n",
    "$$\n",
    "\\ell_{ij} = g_{j} - g_{i} \\: , \\quad j \\ne i \\: ,\n",
    "$$\n",
    "\n",
    "where $g_{j}$ and $g_{i}$ are, respectively, the gravity values at positions $j$ and $i$."
   ]
  },
  {
   "cell_type": "markdown",
   "metadata": {},
   "source": [
    "In this case, we have the following equations for the differential gravity measurements:"
   ]
  },
  {
   "cell_type": "markdown",
   "metadata": {},
   "source": [
    "$$\n",
    "\\begin{split}\n",
    "\\ell_{01} &= g_{1} - g_{0} \\\\\n",
    "\\ell_{12} &= g_{2} - g_{1} \\\\\n",
    "\\ell_{25} &= g_{5} - g_{2} \\\\\n",
    "\\ell_{34} &= g_{4} - g_{3} \\\\\n",
    "\\ell_{23} &= g_{3} - g_{2}\n",
    "\\end{split} \\: ,\n",
    "$$"
   ]
  },
  {
   "cell_type": "markdown",
   "metadata": {},
   "source": [
    "and the following equations for the known gravity values:"
   ]
  },
  {
   "cell_type": "markdown",
   "metadata": {},
   "source": [
    "$$\n",
    "\\begin{split}\n",
    "g_{0} &= \\tilde{g}_{0} \\\\\n",
    "g_{5} &= \\tilde{g}_{5}\n",
    "\\end{split} \\: ,\n",
    "$$"
   ]
  },
  {
   "cell_type": "markdown",
   "metadata": {},
   "source": [
    "where $\\tilde{g}_{0}$ and $\\tilde{g}_{5}$ represent, respectively, the absolute gravity values measured at the nodes $0$ and $5$."
   ]
  },
  {
   "cell_type": "markdown",
   "metadata": {},
   "source": [
    "Let's define a vector $\\mathbf{g}$ containing the gravity values at each node (the parameter vector),"
   ]
  },
  {
   "cell_type": "markdown",
   "metadata": {},
   "source": [
    "$$\n",
    "\\mathbf{g} = \\left[ \\begin{array}{c}\n",
    "g_{0} \\\\\n",
    "g_{1} \\\\\n",
    "g_{2} \\\\\n",
    "g_{3} \\\\\n",
    "g_{4} \\\\\n",
    "g_{5}\n",
    "\\end{array} \\right] \\: ,\n",
    "$$"
   ]
  },
  {
   "cell_type": "markdown",
   "metadata": {},
   "source": [
    "and a vector $\\mathbf{d}$ containing the data (the observed data vector),"
   ]
  },
  {
   "cell_type": "markdown",
   "metadata": {},
   "source": [
    "$$\n",
    "\\mathbf{d} = \\left[ \\begin{array}{c}\n",
    "\\ell_{01} \\\\\n",
    "\\ell_{12} \\\\\n",
    "\\ell_{25} \\\\\n",
    "\\ell_{34} \\\\\n",
    "\\ell_{23} \\\\\n",
    "\\tilde{g}_{0} \\\\\n",
    "\\tilde{g}_{5}\n",
    "\\end{array} \\right] \\: .\n",
    "$$"
   ]
  },
  {
   "cell_type": "markdown",
   "metadata": {},
   "source": [
    "Besides, let's consider that:\n",
    "\n",
    "(i) all gravity differences have the same standard deviation $\\sigma_{\\ell}$;\n",
    "(ii) all absolute gravity values have the same standard deviation $\\sigma_{g}$ and\n",
    "(iii) the data are statistically uncorrelated.\n",
    "\n",
    "In this case, it is possible to estimate the particular parameter vector $\\mathbf{g}^{\\ast}$ minimizing the goal function:"
   ]
  },
  {
   "cell_type": "markdown",
   "metadata": {},
   "source": [
    "$$\n",
    "\\Phi(\\mathbf{g}) = \\left[\\mathbf{d} - \\mathbf{A \\, g} \\right]^{\\top}\\mathbf{W}\\left[\\mathbf{d} - \\mathbf{A \\, g} \\right] \\: ,\n",
    "$$"
   ]
  },
  {
   "cell_type": "markdown",
   "metadata": {},
   "source": [
    "where $\\mathbf{W}$ is a diagonal matrix given by"
   ]
  },
  {
   "cell_type": "markdown",
   "metadata": {},
   "source": [
    "$$\n",
    "\\mathbf{W} = \\left( \\mathbf{W}^{\\frac{1}{2}} \\right)^{\\top} \\left( \\mathbf{W}^{\\frac{1}{2}} \\right) \\quad ,\n",
    "$$"
   ]
  },
  {
   "cell_type": "markdown",
   "metadata": {},
   "source": [
    "where"
   ]
  },
  {
   "cell_type": "markdown",
   "metadata": {},
   "source": [
    "$$\n",
    "\\mathbf{W}^{\\frac{1}{2}} =\n",
    "\\begin{bmatrix}\n",
    "\\sigma_{\\ell}^{-1} & 0 & 0 & 0 & 0 & 0 & 0 \\\\\n",
    "0 & \\sigma_{\\ell}^{-1} & 0 & 0 & 0 & 0 & 0 \\\\\n",
    "0 & 0 & \\sigma_{\\ell}^{-1} & 0 & 0 & 0 & 0 \\\\\n",
    "0 & 0 & 0 & \\sigma_{\\ell}^{-1} & 0 & 0 & 0 \\\\\n",
    "0 & 0 & 0 & 0 & \\sigma_{\\ell}^{-1} & 0 & 0 \\\\\n",
    "0 & 0 & 0 & 0 & 0 & \\sigma_{\\tilde{g}}^{-1} & 0 \\\\\n",
    "0 & 0 & 0 & 0 & 0 & 0 & \\sigma_{\\tilde{g}}^{-1}\n",
    "\\end{bmatrix} \\: .\n",
    "$$"
   ]
  },
  {
   "cell_type": "markdown",
   "metadata": {},
   "source": [
    "The particular parameter vector $\\mathbf{g}^{\\ast}$ satisfies the condition:"
   ]
  },
  {
   "cell_type": "markdown",
   "metadata": {},
   "source": [
    "$$\n",
    "\\nabla \\Phi(\\mathbf{g}^{\\ast}) = \\mathbf{0} \\: .\n",
    "$$"
   ]
  },
  {
   "cell_type": "markdown",
   "metadata": {},
   "source": [
    "The gradient of $\\Phi(\\mathbf{g})$ with respect to $\\mathbf{g}$ is given by:"
   ]
  },
  {
   "cell_type": "markdown",
   "metadata": {},
   "source": [
    "$$\n",
    "\\nabla \\Phi(\\mathbf{g}) = -2 \\, \\mathbf{A}^{\\top}\\mathbf{W}\\left[\\mathbf{d} - \\mathbf{A} \\mathbf{g} \\right] \\: .\n",
    "$$"
   ]
  },
  {
   "cell_type": "markdown",
   "metadata": {},
   "source": [
    "By substituting $\\mathbf{g}^{\\ast}$ in the equation above and setting the result to the null vector we obtain the following linear system:"
   ]
  },
  {
   "cell_type": "markdown",
   "metadata": {},
   "source": [
    "$$\n",
    "\\mathbf{A}^{\\top}\\mathbf{W}\\mathbf{A} \\, \\mathbf{g}^{\\ast} = \\mathbf{A}^{\\top}\\mathbf{W} \\; \\mathbf{d} \\: .\n",
    "$$"
   ]
  },
  {
   "cell_type": "markdown",
   "metadata": {},
   "source": [
    "The solution of this linear system gives the gravity values at all nodes of our simple gravity network. This is an example of the **weighted least-squares estimator**, where $\\mathbf{W}$ is the **weighting matrix**."
   ]
  },
  {
   "cell_type": "markdown",
   "metadata": {},
   "source": [
    "According to the notebook `least_squares`, we may compute the covariance matrix $\\mathbf{\\Sigma}_{\\mathbf{g}}$ of the parameter vector as follows:"
   ]
  },
  {
   "cell_type": "markdown",
   "metadata": {},
   "source": [
    "$$\n",
    "\\mathbf{\\Sigma}_{\\mathbf{g}} = \\left( \\mathbf{A}^{\\top}\\mathbf{W}\\mathbf{A} \\right)^{-1} \\mathbf{A}^{\\top}\\mathbf{W}^{\\frac{1}{2}}\n",
    "\\, \\mathbf{\\Sigma}_{\\mathbf{d}} \\,\n",
    "\\mathbf{W}^{\\frac{1}{2}} \\mathbf{A} \\left( \\mathbf{A}^{\\top}\\mathbf{W}\\mathbf{A} \\right)^{-1} \\: ,\n",
    "$$"
   ]
  },
  {
   "cell_type": "markdown",
   "metadata": {},
   "source": [
    "where $\\mathbf{\\Sigma}_{\\mathbf{d}}$ is covariance matrix of $\\mathbf{d}$. Note that $\\mathbf{\\Sigma}_{\\mathbf{d}}$ represents the inverse of the weighting matrix $\\mathbf{W}$."
   ]
  },
  {
   "cell_type": "markdown",
   "metadata": {},
   "source": [
    "### Exercise"
   ]
  },
  {
   "cell_type": "markdown",
   "metadata": {},
   "source": [
    "The cells below simulate differential and absolute gravity measurements."
   ]
  },
  {
   "cell_type": "code",
   "execution_count": 1,
   "metadata": {},
   "outputs": [],
   "source": [
    "import numpy as np"
   ]
  },
  {
   "cell_type": "code",
   "execution_count": 2,
   "metadata": {},
   "outputs": [],
   "source": [
    "# number of nodes\n",
    "N = 6"
   ]
  },
  {
   "cell_type": "code",
   "execution_count": 3,
   "metadata": {},
   "outputs": [
    {
     "name": "stdout",
     "output_type": "stream",
     "text": [
      "978163.0\n"
     ]
    }
   ],
   "source": [
    "# reference gravity value in mGal\n",
    "g_ref = 978163.000\n",
    "\n",
    "print(g_ref)"
   ]
  },
  {
   "cell_type": "code",
   "execution_count": 4,
   "metadata": {},
   "outputs": [
    {
     "name": "stdout",
     "output_type": "stream",
     "text": [
      "978174.8697978038\n",
      "978226.232674692\n",
      "978346.2278419608\n",
      "978312.7181588083\n",
      "978223.5684985011\n",
      "978168.3974813303\n"
     ]
    }
   ],
   "source": [
    "# true gravity values at each node\n",
    "rng = np.random.default_rng(seed=78888880864342)\n",
    "g_true = g_ref + 200.*rng.random(N)\n",
    "\n",
    "for gi in g_true:\n",
    "    print(gi)"
   ]
  },
  {
   "cell_type": "code",
   "execution_count": 5,
   "metadata": {},
   "outputs": [],
   "source": [
    "# indices of the stations gi and gj\n",
    "# used to compute the gravity differences\n",
    "i = [0, 1, 2, 3, 2]\n",
    "j = [1, 2, 5, 4, 3]"
   ]
  },
  {
   "cell_type": "code",
   "execution_count": 6,
   "metadata": {},
   "outputs": [
    {
     "name": "stdout",
     "output_type": "stream",
     "text": [
      "51.36287688813172\n",
      "119.99516726890579\n",
      "-177.83036063052714\n",
      "-89.14966030721553\n",
      "-33.50968315254431\n"
     ]
    }
   ],
   "source": [
    "# true gravity differences\n",
    "l_true = g_true[j] - g_true[i]\n",
    "\n",
    "for li in l_true:\n",
    "    print(li)"
   ]
  },
  {
   "cell_type": "code",
   "execution_count": 7,
   "metadata": {},
   "outputs": [
    {
     "name": "stdout",
     "output_type": "stream",
     "text": [
      "978174.8697978038\n",
      "978168.3974813303\n"
     ]
    }
   ],
   "source": [
    "# true absolute gravity values\n",
    "g_abs_true = g_true[[0, 5]]\n",
    "\n",
    "for gabs in g_abs_true:\n",
    "    print(gabs)"
   ]
  },
  {
   "cell_type": "code",
   "execution_count": 8,
   "metadata": {},
   "outputs": [],
   "source": [
    "# Variance of the absolute gravity data in (mGal)**2\n",
    "var_g_abs = 0.008\n",
    "\n",
    "# Variance of the differential gravity data in (mGal)**2\n",
    "var_l = 0.030"
   ]
  },
  {
   "cell_type": "code",
   "execution_count": 9,
   "metadata": {},
   "outputs": [
    {
     "name": "stdout",
     "output_type": "stream",
     "text": [
      "51.421\n",
      "119.852\n",
      "-177.632\n",
      "-89.289\n",
      "-33.109\n"
     ]
    }
   ],
   "source": [
    "# noise-corrupted differences data\n",
    "noise_l = np.random.normal(loc=0., scale=np.sqrt(var_l), size=l_true.size)\n",
    "l = l_true + noise_l\n",
    "l = np.round(l, decimals=3)\n",
    "\n",
    "for li in l:\n",
    "    print(li)"
   ]
  },
  {
   "cell_type": "code",
   "execution_count": 10,
   "metadata": {},
   "outputs": [
    {
     "name": "stdout",
     "output_type": "stream",
     "text": [
      "978174.786\n",
      "978168.471\n"
     ]
    }
   ],
   "source": [
    "# noise-corrupted absolute data\n",
    "noise_abs = np.random.normal(loc=0., scale=np.sqrt(var_g_abs), size=g_abs_true.size)\n",
    "g_abs = g_abs_true + noise_abs\n",
    "g_abs = np.round(g_abs, decimals=3)\n",
    "    \n",
    "for gabsi in g_abs:\n",
    "    print(gabsi)"
   ]
  },
  {
   "cell_type": "markdown",
   "metadata": {},
   "source": [
    "By using the data set given above, estimate the gravity values at all nodes of our simple gravity network.\n",
    "\n",
    "In a Jupyter Notebook called `grav_net_YOURNAME`:\n",
    "\n",
    "1. Create the matrix $\\mathbf{A}$ by using the indices `i` and `j`;\n",
    "2. Create the data vector $\\mathbf{d}$ by using the arrays `l` and `g`;\n",
    "3. Create the weighting matrix $\\mathbf{W}$ by using the variances `var_g_abs` and `var_l`;\n",
    "4. Solve the linear system $\\mathbf{A}^{\\top}\\mathbf{W A} \\, \\mathbf{g}^{\\ast} = \\mathbf{A}^{\\top}\\mathbf{W} \\mathbf{d}$. You must use your previous functions for solving the linear system and compute all matrix operations;\n",
    "5. Compute the covariance matrix $\\mathbf{\\Sigma_{g}}$ and use it to compute the standard deviation of the estimated gravity values. "
   ]
  },
  {
   "cell_type": "code",
   "execution_count": null,
   "metadata": {},
   "outputs": [],
   "source": []
  }
 ],
 "metadata": {
  "kernelspec": {
   "display_name": "Python 3 (ipykernel)",
   "language": "python",
   "name": "python3"
  },
  "language_info": {
   "codemirror_mode": {
    "name": "ipython",
    "version": 3
   },
   "file_extension": ".py",
   "mimetype": "text/x-python",
   "name": "python",
   "nbconvert_exporter": "python",
   "pygments_lexer": "ipython3",
   "version": "3.11.8"
  }
 },
 "nbformat": 4,
 "nbformat_minor": 4
}
