{
 "cells": [
  {
   "cell_type": "markdown",
   "metadata": {},
   "source": [
    "# LU decomposition - pivoting"
   ]
  },
  {
   "cell_type": "markdown",
   "metadata": {},
   "source": [
    "#### References\n",
    "\n",
    "* Turing, A.M. (1948). \"Rounding-Off Errors in Matrix Processes\". The Quarterly Journal of Mechanics and Applied Mathematics. 1: 287–308. doi: [10.1093/qjmam/1.1.287](https://doi.org/10.1093/qjmam/1.1.287)\n",
    "\n",
    "* A. Schwarzenberg-Czerny (1995). \"On matrix factorization and efficient least squares solution\". Astronomy and Astrophysics Supplement. 110: 405-410. Bibliographic Code ADS: [1995A&AS..110..405S](http://adsabs.harvard.edu/abs/1995A%26AS..110..405S)\n",
    "\n",
    "* Golub, G. H. and C. F. Van Loan, (2013), Matrix computations, 4th edition, Johns Hopkins University Press, ISBN 978-1-4214-0794-4."
   ]
  },
  {
   "cell_type": "markdown",
   "metadata": {},
   "source": [
    "The previous notebook (`lu_decomp_intro`) presents an algorithm for computing the [LU decomposition](https://en.wikipedia.org/wiki/LU_decomposition). The algotithm, however, does not apply any pivoting scheme for preventing spurious errors due to numerical instabilities. The algorithm presented here, on the other hand, shows how the partial pivoting changes our previous algorithm for computing the LU decomposition."
   ]
  },
  {
   "cell_type": "markdown",
   "metadata": {},
   "source": [
    "Let's consider the solution of a linear system by using the Gaussian elimination with partial pivoting:"
   ]
  },
  {
   "cell_type": "markdown",
   "metadata": {},
   "source": [
    "<a id='eq1'></a>\n",
    "$$\n",
    "\\begin{align}\n",
    "\\mathbf{A}^{(0)} = \\mathbf{A} & & & \\mathbf{y}^{(0)} = \\mathbf{y} \\tag{1a} \\\\\n",
    "\\mathbf{A}^{(1)} = \\mathbf{Q}^{(1)} \\, \\mathbf{P}^{(1)} \\, \\mathbf{A}^{(0)} & & &\n",
    "\\mathbf{y}^{(1)} = \\mathbf{Q}^{(1)} \\, \\mathbf{P}^{(1)} \\, \\mathbf{y}^{(0)} \\tag{1b} \\\\\n",
    "\\mathbf{A}^{(2)} = \\mathbf{Q}^{(2)} \\, \\mathbf{P}^{(2)} \\, \\mathbf{A}^{(1)} & & &\n",
    "\\mathbf{y}^{(2)} = \\mathbf{Q}^{(2)} \\, \\mathbf{P}^{(2)} \\, \\mathbf{y}^{(1)} \\tag{1c} \\\\\n",
    "\\mathbf{A}^{(3)} = \\mathbf{Q}^{(3)} \\, \\mathbf{P}^{(3)} \\, \\mathbf{A}^{(2)} & & &\n",
    "\\mathbf{y}^{(3)} = \\mathbf{Q}^{(3)} \\, \\mathbf{P}^{(3)} \\, \\mathbf{y}^{(2)} \\tag{1d}\n",
    "\\end{align}\n",
    "$$"
   ]
  },
  {
   "cell_type": "markdown",
   "metadata": {},
   "source": [
    "where $\\mathbf{P}^{(k)}$, $k = 1, \\dots, N-1$, is the permutation matrix used to interchange rows and perform the partial pivoting and $\\mathbf{Q}^{(k)}$ is the $k$th Gauss transformation (see the notebooks `gauss-elim-outer` and `lu_decomp_intro`) given by:"
   ]
  },
  {
   "cell_type": "markdown",
   "metadata": {},
   "source": [
    "<a id='eq2'></a>\n",
    "$$\n",
    "\\mathbf{Q}^{(k)} = \\left( \\mathbf{I} - \\mathbf{M}^{(k)} \\right) \\quad . \\tag{2}\n",
    "$$"
   ]
  },
  {
   "cell_type": "markdown",
   "metadata": {},
   "source": [
    "At the end of this algorithm, the original matrix $\\mathbf{A}$ ([equation 1a](#eq1)) is transformed into an upper triangular matrix $\\mathbf{A}^{(N-1)}$ ([equation 1c](#eq1)), where $N = 4$."
   ]
  },
  {
   "cell_type": "markdown",
   "metadata": {
    "collapsed": true,
    "jupyter": {
     "outputs_hidden": true
    }
   },
   "source": [
    "Note that, according to the algorithm, the matrix $\\mathbf{A}^{(3)}$ ([equation 1d](#eq1)) can be written as follows:"
   ]
  },
  {
   "cell_type": "markdown",
   "metadata": {},
   "source": [
    "<a id='eq3'></a>\n",
    "$$\n",
    "\\begin{split}\n",
    "\\mathbf{A}^{(3)} \n",
    "&= \n",
    "\\mathbf{Q}^{(3)} \\, \\mathbf{P}^{(3)} \\,\n",
    "\\mathbf{Q}^{(2)} \\, \\mathbf{P}^{(2)} \\,\n",
    "\\mathbf{Q}^{(1)} \\, \\mathbf{P}^{(1)} \\,\n",
    "\\mathbf{A} \\\\\n",
    "&=\n",
    "\\underbrace{\\left( \\mathbf{I} - \\mathbf{M}^{(3)} \\right)}_{\\tilde{\\mathbf{Q}}^{(3)}}\n",
    "\\underbrace{\\mathbf{P}^{(3)} \\left( \\mathbf{I} - \\mathbf{M}^{(2)} \\right) \\mathbf{P}^{(-3)}}_{\\tilde{\\mathbf{Q}}^{(2)}} \\,\n",
    "\\underbrace{\\mathbf{P}^{(3)} \\, \\mathbf{P}^{(2)} \\left( \\mathbf{I} - \\mathbf{M}^{(1)} \\right) \\mathbf{P}^{(-2)} \\mathbf{P}^{(-3)}}_{\\tilde{\\mathbf{Q}}^{(1)}} \\,\n",
    "\\underbrace{\\mathbf{P}^{(3)} \\, \\mathbf{P}^{(2)} \\, \\mathbf{P}^{(1)}}_{\\mathbf{P}} \\,\n",
    "\\mathbf{A} \\\\\n",
    "&= \\tilde{\\mathbf{Q}} \\, \\mathbf{P} \\, \\mathbf{A}\n",
    "\\end{split} \\: , \\tag{3}\n",
    "$$"
   ]
  },
  {
   "cell_type": "markdown",
   "metadata": {},
   "source": [
    "where "
   ]
  },
  {
   "cell_type": "markdown",
   "metadata": {},
   "source": [
    "<a id='eq4'></a>\n",
    "$$\n",
    "\\mathbf{P}^{(-k)} \\equiv \\left( \\mathbf{P}^{(k)} \\right)^{-1} \\quad ,\\tag{4}\n",
    "$$"
   ]
  },
  {
   "cell_type": "markdown",
   "metadata": {},
   "source": [
    "<a id='eq5'></a>\n",
    "$$\n",
    "\\mathbf{P} = \\mathbf{P}^{(N-1)}\\mathbf{P}^{(N-2)} \\cdots  \\mathbf{P}^{(1)} \\quad , \\tag{5}\n",
    "$$"
   ]
  },
  {
   "cell_type": "markdown",
   "metadata": {},
   "source": [
    "<a id='eq6'></a>\n",
    "$$\n",
    "\\tilde{\\mathbf{Q}} = \\tilde{\\mathbf{Q}}^{(N-1)} \\tilde{\\mathbf{Q}}^{(N-2)} \\cdots \\tilde{\\mathbf{Q}}^{(1)} \\quad , \\tag{6}\n",
    "$$"
   ]
  },
  {
   "cell_type": "markdown",
   "metadata": {},
   "source": [
    "<a id='eq7'></a>\n",
    "$$\n",
    "\\tilde{\\mathbf{Q}}^{(k)} = \n",
    "\\begin{cases}\n",
    "\\tilde{\\mathbf{P}}^{(k)} \\, \\mathbf{Q}^{(k)} \\, \\tilde{\\mathbf{P}}^{(-k)} \\: &, \\quad k < N - 1 \\\\\n",
    "\\mathbf{Q}^{(k)} \\: &, \\quad k = N - 1\n",
    "\\end{cases} \\tag{7}\n",
    "$$"
   ]
  },
  {
   "cell_type": "markdown",
   "metadata": {},
   "source": [
    "and"
   ]
  },
  {
   "cell_type": "markdown",
   "metadata": {},
   "source": [
    "<a id='eq8'></a>\n",
    "$$\n",
    "\\tilde{\\mathbf{P}}^{(k)} = \\mathbf{P}^{(N-1)} \\cdots \\mathbf{P}^{(k+2)} \\, \\mathbf{P}^{(k+1)} \\: . \\tag{8}\n",
    "$$"
   ]
  },
  {
   "cell_type": "markdown",
   "metadata": {},
   "source": [
    "It is worth noting the diference between the matrices $\\tilde{\\mathbf{Q}}$ ([equation 6](#eq6)) and the matrix $\\mathbf{Q}$ ([equation 2](#eq2)), as well as between the permutation matrices $\\mathbf{P}^{(k)}$ and $\\tilde{\\mathbf{P}}^{(k)}$ ([equation 8](#eq8))."
   ]
  },
  {
   "cell_type": "markdown",
   "metadata": {},
   "source": [
    "The permuted matrix $\\mathbf{P}\\mathbf{A}$ ([equation 3](#eq3)) can be written as follows:"
   ]
  },
  {
   "cell_type": "markdown",
   "metadata": {},
   "source": [
    "<a id='eq9'></a>\n",
    "$$\n",
    "\\mathbf{P} \\, \\mathbf{A} = \\tilde{\\mathbf{Q}}^{-1} \\, \\mathbf{A}^{(N-1)} \\: , \\tag{9}\n",
    "$$"
   ]
  },
  {
   "cell_type": "markdown",
   "metadata": {},
   "source": [
    "where"
   ]
  },
  {
   "cell_type": "markdown",
   "metadata": {},
   "source": [
    "<a id='eq10'></a>\n",
    "$$\n",
    "\\tilde{\\mathbf{Q}}^{-1} =  \\tilde{\\mathbf{Q}}^{(-1)} \\, \\tilde{\\mathbf{Q}}^{(-2)} \\cdots \\tilde{\\mathbf{Q}}^{(-N+1)} \\tag{10}\n",
    "$$"
   ]
  },
  {
   "cell_type": "markdown",
   "metadata": {},
   "source": [
    "is the inverse of matrix $\\tilde{\\mathbf{Q}}$ ([equation 6](#eq6)),"
   ]
  },
  {
   "cell_type": "markdown",
   "metadata": {},
   "source": [
    "<a id='eq11'></a>\n",
    "$$\n",
    "\\tilde{\\mathbf{Q}}^{(-k)} \\equiv \\left( \\tilde{\\mathbf{Q}}^{(k)} \\right)^{-1} = \n",
    "\\begin{cases}\n",
    "\\tilde{\\mathbf{P}}^{(k)} \\, \\mathbf{Q}^{(-k)} \\, \\tilde{\\mathbf{P}}^{(-k)} \\: &, \\quad k < N - 1 \\\\\n",
    "\\mathbf{Q}^{(-k)} \\: &, \\quad k = N - 1\n",
    "\\end{cases} \\quad , \\tag{11}\n",
    "$$"
   ]
  },
  {
   "cell_type": "markdown",
   "metadata": {},
   "source": [
    "is the inverse of matrix $\\tilde{\\mathbf{Q}}^{(k)}$ ([equation 7](#eq7)) ."
   ]
  },
  {
   "cell_type": "markdown",
   "metadata": {},
   "source": [
    "<a id='eq12'></a>\n",
    "$$\n",
    "\\mathbf{Q}^{(-k)} = \\left( \\mathbf{I} + \\mathbf{M}^{(k)} \\right) \\tag{12}\n",
    "$$"
   ]
  },
  {
   "cell_type": "markdown",
   "metadata": {},
   "source": [
    "is the inverse of the $k$th Gauss transformation $\\mathbf{Q}^{(k)}$ ([equation 2](#eq2)) and"
   ]
  },
  {
   "cell_type": "markdown",
   "metadata": {},
   "source": [
    "<a id='eq13'></a>\n",
    "$$\n",
    "\\tilde{\\mathbf{P}}^{(-k)} \\equiv \\left( \\tilde{\\mathbf{P}}^{(k)} \\right)^{-1} \\tag{13}\n",
    "$$"
   ]
  },
  {
   "cell_type": "markdown",
   "metadata": {},
   "source": [
    "is the inverse of the permutation matrix $\\tilde{\\mathbf{P}}^{(k)}$ ([equation 8](#eq8))."
   ]
  },
  {
   "cell_type": "markdown",
   "metadata": {},
   "source": [
    "Permutation matrices are orthogonal and, consequently, equations [4](#eq4), [5](#eq5) and [13](#eq13) can be rewritten as follows:"
   ]
  },
  {
   "cell_type": "markdown",
   "metadata": {},
   "source": [
    "<a id='eq14'></a>\n",
    "$$\n",
    "\\begin{align}\n",
    "\\mathbf{P}^{(-k)} &= \\left( \\mathbf{P}^{(k)} \\right)^{\\top} \\quad , \\tag{14a} \\\\\n",
    "\\mathbf{P}^{-1} &= \\mathbf{P}^{\\top} \\tag{14b} \\\\\n",
    "\\tilde{\\mathbf{P}}^{(-k)} &= \\left( \\tilde{\\mathbf{P}}^{(k)} \\right)^{\\top} \\quad . \\tag{14c}\n",
    "\\end{align}\n",
    "$$ "
   ]
  },
  {
   "cell_type": "markdown",
   "metadata": {},
   "source": [
    "Now, let's analyze the matrix $\\tilde{\\mathbf{Q}}^{(-k)}$ ([equation 11](#eq11)). "
   ]
  },
  {
   "cell_type": "markdown",
   "metadata": {},
   "source": [
    "<a id='eq15'></a>\n",
    "$$\n",
    "\\begin{split}\n",
    "\\tilde{\\mathbf{Q}}^{(-k)} \n",
    "&= \\tilde{\\mathbf{P}}^{(k)} \\, \\mathbf{Q}^{(-k)} \\, \\tilde{\\mathbf{P}}^{(-k)} \\\\\n",
    "&= \\tilde{\\mathbf{P}}^{(k)} \\,\n",
    "\\left( \\mathbf{I} + \\mathbf{M}^{(k)} \\right) \\,\n",
    "\\tilde{\\mathbf{P}}^{(-k)} \\\\\n",
    "&= \\mathbf{I} + \\tilde{\\mathbf{P}}^{(k)} \\,\n",
    "\\, \\mathbf{M}^{(k)} \\,\n",
    "\\tilde{\\mathbf{P}}^{(-k)} \\\\\n",
    "&= \\mathbf{I} + \\tilde{\\mathbf{P}}^{(k)} \\,\n",
    "\\mathbf{t}^{(k)} \\cdot \\left( \\mathbf{u}^{(k-1)} \\right)^{\\top} \\,\n",
    "\\tilde{\\mathbf{P}}^{(-k)}\n",
    "\\end{split} \\quad . \\tag{15}\n",
    "$$"
   ]
  },
  {
   "cell_type": "markdown",
   "metadata": {},
   "source": [
    "To understand [equation 15](#eq15), let's analyze the permutation matrices $\\tilde{\\mathbf{P}}^{(k)}$ ([equation 8](#eq8)) and $\\tilde{\\mathbf{P}}^{(-k)}$ (equations [13](#eq13) and [14c](#eq14)). When matrix $\\tilde{\\mathbf{P}}^{(k)}$ multiplies an arbitrary vector $\\mathbf{v}$, it swaps only the elements $\\left[ \\, k \\, : \\, \\right]$ of $\\mathbf{v}$. This can be verified by remembering that $\\mathbf{P}^{(k+1)}$ swaps only the elements $\\left[ \\, k \\, : \\, \\right]$, $\\mathbf{P}^{(k+2)}$ swaps only the elements $\\left[ \\, k+1 \\, : \\, \\right]$ and so on. The same reasoning can be used to conclude that matrix $\\tilde{\\mathbf{P}}^{(-k)}$ also swaps only the elements $\\left[ \\, k \\, : \\, \\right]$ of $\\mathbf{v}$."
   ]
  },
  {
   "cell_type": "markdown",
   "metadata": {},
   "source": [
    "As a consequence, "
   ]
  },
  {
   "cell_type": "markdown",
   "metadata": {},
   "source": [
    "<a id='eq16a'></a>\n",
    "$$\n",
    "\\tilde{\\mathbf{t}}^{(k)} = \\tilde{\\mathbf{P}}^{(k)} \\, \\mathbf{t}^{(k)} \\tag{16a}\n",
    "$$ "
   ]
  },
  {
   "cell_type": "markdown",
   "metadata": {},
   "source": [
    "is a new vector obtained by interchanging all Gauss multipliers."
   ]
  },
  {
   "cell_type": "markdown",
   "metadata": {},
   "source": [
    "By using [equation 14c](#eq14), we can see that \n",
    "$\\left( \\mathbf{u}^{(k-1)} \\right)^{\\top} \\, \\tilde{\\mathbf{P}}^{(-k)} = \\tilde{\\mathbf{P}}^{(k)} \\, \\mathbf{u}^{(k-1)}$ and"
   ]
  },
  {
   "cell_type": "markdown",
   "metadata": {},
   "source": [
    "<a id='eq16b'></a>\n",
    "$$\n",
    "\\tilde{\\mathbf{P}}^{(k)} \\, \\mathbf{u}^{(k-1)} = \\mathbf{u}^{(k-1)} \\tag{16b}\n",
    "$$ "
   ]
  },
  {
   "cell_type": "markdown",
   "metadata": {},
   "source": [
    "because, in this case, $\\tilde{\\mathbf{P}}^{(k)}$ swaps only null elements of $\\mathbf{u}^{(k-1)}$ ."
   ]
  },
  {
   "cell_type": "markdown",
   "metadata": {},
   "source": [
    "Then, by using equations [16a](#eq16a) and [16b](#eq16b), matrix $\\tilde{\\mathbf{Q}}^{(-k)}$ ([equation 15](#eq15)) can be rewritten as follows:"
   ]
  },
  {
   "cell_type": "markdown",
   "metadata": {},
   "source": [
    "<a id='eq17'></a>\n",
    "$$\n",
    "\\tilde{\\mathbf{Q}}^{(-k)} = \\mathbf{I} + \\tilde{\\mathbf{t}}^{(k)} \\cdot \\left( \\mathbf{u}^{(k-1)} \\right)^{\\top} \\: . \\tag{17}\n",
    "$$"
   ]
  },
  {
   "cell_type": "markdown",
   "metadata": {},
   "source": [
    "By using [equation 17](#eq17), we can verify that "
   ]
  },
  {
   "cell_type": "markdown",
   "metadata": {},
   "source": [
    "<a id='eq18'></a>\n",
    "$$\n",
    "\\begin{split}\n",
    "\\tilde{\\mathbf{Q}}^{(-k)} \\cdot \\tilde{\\mathbf{Q}}^{(-k-1)}\n",
    "&= \\left[ \\mathbf{I} + \\tilde{\\mathbf{t}}^{(k)} \\cdot \\left( \\mathbf{u}^{(k-1)} \\right)^{\\top} \\right]\n",
    "   \\left[ \\mathbf{I} + \\tilde{\\mathbf{t}}^{(k+1)} \\cdot \\left( \\mathbf{u}^{(k)} \\right)^{\\top} \\right] \\\\\n",
    "&= \\mathbf{I} + \\tilde{\\mathbf{t}}^{(k)} \\cdot \\left( \\mathbf{u}^{(k-1)} \\right)^{\\top} +\n",
    "   \\tilde{\\mathbf{t}}^{(k+1)} \\cdot \\left( \\mathbf{u}^{(k)} \\right)^{\\top} + \n",
    "   \\tilde{\\mathbf{t}}^{(k)} \\cdot \n",
    "   \\underbrace{ \\left( \\mathbf{u}^{(k-1)} \\right)^{\\top} \\tilde{\\mathbf{t}}^{(k+1)}}_{= \\, 0}\n",
    "   \\cdot \\left( \\mathbf{u}^{(k)} \\right)^{\\top} \\\\\n",
    "&= \\mathbf{I} + \\tilde{\\mathbf{t}}^{(k)} \\cdot \\left( \\mathbf{u}^{(k-1)} \\right)^{\\top} +\n",
    "   \\tilde{\\mathbf{t}}^{(k+1)} \\cdot \\left( \\mathbf{u}^{(k)} \\right)^{\\top} \\quad .\n",
    "\\end{split} \\tag{18}\n",
    "$$"
   ]
  },
  {
   "cell_type": "markdown",
   "metadata": {},
   "source": [
    "Finally, we use [equation 18](#eq18) to show that matrix $\\tilde{\\mathbf{Q}}^{-1}$ ([equation 10](#eq10)) is given by:"
   ]
  },
  {
   "cell_type": "markdown",
   "metadata": {},
   "source": [
    "<a id='eq19'></a>\n",
    "$$\n",
    "\\begin{split}\n",
    "\\tilde{\\mathbf{Q}}^{-1}\n",
    "&= \\left[ \\mathbf{I} + \\tilde{\\mathbf{t}}^{(1)} \\cdot \\left( \\mathbf{u}^{(0)} \\right)^{\\top} \\right]\n",
    "   \\left[ \\mathbf{I} + \\tilde{\\mathbf{t}}^{(2)} \\cdot \\left( \\mathbf{u}^{(1)} \\right)^{\\top} \\right] \\dots \n",
    "   \\left[ \\mathbf{I} + \\tilde{\\mathbf{t}}^{(N-1)} \\cdot \\left( \\mathbf{u}^{(N-2)} \\right)^{\\top} \\right] \\\\\n",
    "&= \\mathbf{I} + \\tilde{\\mathbf{t}}^{(1)} \\cdot \\left( \\mathbf{u}^{(0)} \\right)^{\\top} +\n",
    "   \\tilde{\\mathbf{t}}^{(2)} \\cdot \\left( \\mathbf{u}^{(1)} \\right)^{\\top} + \\cdots +\n",
    "   \\tilde{\\mathbf{t}}^{(N-1)} \\cdot \\left( \\mathbf{u}^{(N-2)} \\right)^{\\top}\n",
    "\\end{split} \\quad . \\tag{19}\n",
    "$$"
   ]
  },
  {
   "cell_type": "markdown",
   "metadata": {},
   "source": [
    "For our example with $N = 4$, "
   ]
  },
  {
   "cell_type": "markdown",
   "metadata": {},
   "source": [
    "$$\n",
    "\\tilde{\\mathbf{Q}}^{-1} = \n",
    "\\left[ \\begin{array}{cccc}\n",
    "1 & 0 & 0 & 0 \\\\\n",
    "\\tilde{t}_{0}^{(1)} & 1 & 0 & 0 \\\\\n",
    "\\tilde{t}_{1}^{(1)} & \\tilde{t}_{1}^{(2)} & 1 & 0 \\\\\n",
    "\\tilde{t}_{2}^{(1)} & \\tilde{t}_{2}^{(2)} & \\tilde{t}_{2}^{(3)} & 1\n",
    "\\end{array} \\right] \\quad .\n",
    "$$"
   ]
  },
  {
   "cell_type": "markdown",
   "metadata": {},
   "source": [
    "Then, matrix $\\tilde{\\mathbf{Q}}^{-1}$ is a unit **Lower** triangular matrix $\\tilde{\\mathbf{L}}$ containing the permuted Gauss multipliers. Similarly to the previous class, we define the **Upper** triangular matrix $\\mathbf{A}^{(N-1)}$ as $\\mathbf{U}$, so that the original matrix $\\mathbf{A}$ ([equation 9](#eq9)) is factored as follows:"
   ]
  },
  {
   "cell_type": "markdown",
   "metadata": {},
   "source": [
    "<a id='eq20'></a>\n",
    "$$\n",
    "\\mathbf{P} \\, \\mathbf{A} = \\tilde{\\mathbf{L}} \\, \\mathbf{U} \\: , \\tag{20}\n",
    "$$"
   ]
  },
  {
   "cell_type": "markdown",
   "metadata": {},
   "source": [
    "where $\\mathbf{P}$ ([equation 5](#eq5)) is the product of all permutation matrices."
   ]
  },
  {
   "cell_type": "markdown",
   "metadata": {},
   "source": [
    "## Solving a linear system by using the LU decomposition with partial pivoting"
   ]
  },
  {
   "cell_type": "markdown",
   "metadata": {},
   "source": [
    "Once the permutation matrix $\\mathbf{P}$ and the triangular matrices $\\tilde{\\mathbf{L}}$ and $\\mathbf{U}$ are calculated, we may use them to solve a linear system $\\mathbf{A} \\mathbf{x} = \\mathbf{y}$. Let's first substitute the LU decomposition into the linear system:"
   ]
  },
  {
   "cell_type": "markdown",
   "metadata": {},
   "source": [
    "<a id='eq21'></a>\n",
    "$$\n",
    "\\begin{align}\n",
    "\\mathbf{A} \\mathbf{x} &= \\mathbf{y} \\tag{21a} \\\\\n",
    "\\mathbf{P} \\mathbf{A} \\mathbf{x} &= \\mathbf{P} \\mathbf{y} \\tag{21b} \\\\\n",
    "\\tilde{\\mathbf{L}} \\mathbf{U} \\mathbf{x} &= \\mathbf{P} \\mathbf{y} \\tag{21c}\n",
    "\\end{align}\n",
    "$$"
   ]
  },
  {
   "cell_type": "markdown",
   "metadata": {},
   "source": [
    "This equation shows that the original linear system can be represented by two triangular systems:"
   ]
  },
  {
   "cell_type": "markdown",
   "metadata": {},
   "source": [
    "<a id='eq22'></a>\n",
    "$$\n",
    "\\begin{align}\n",
    "\\tilde{\\mathbf{L}}\\mathbf{w} &= \\mathbf{P} \\mathbf{y} \\tag{22a} \\\\\n",
    "\\mathbf{U}\\mathbf{x} &= \\mathbf{w} \\tag{22b}\n",
    "\\end{align}\n",
    "$$"
   ]
  },
  {
   "cell_type": "markdown",
   "metadata": {},
   "source": [
    "where $\\mathbf{w}$ is a dummy variable. Therefore, the linear system can be solved in two steps:\n",
    "\n",
    "1. Solve the lower triangular system for $\\mathbf{w}$ ([equation 22a](#eq22)) and \n",
    "2. Use it to solve the upper triangular system for $\\mathbf{x}$ ([equation 22b](#eq22)) ."
   ]
  },
  {
   "cell_type": "markdown",
   "metadata": {},
   "source": [
    "## Computing inverses by using the LU decomposition"
   ]
  },
  {
   "cell_type": "markdown",
   "metadata": {},
   "source": [
    "As we have learned in the notebook `gauss-elim-pivoting`, each column of the inverse of a matrix can be computed by solving a linear system. It means that computing the inverse of an $N \\times N$ matrix requires the solution of $N$ linear systems. Note that, by using the Gaussian elimination (with or without partial pivoting), we need to compute the triangular matrix just once, but a different 'data vector' for each one of the $N$ columns of the inverse matrix. If we instead use the LU decomposition (with or without partial pivoting), we need to compute the matrices $\\mathbf{L}$ and $\\mathbf{U}$ just once."
   ]
  },
  {
   "cell_type": "markdown",
   "metadata": {},
   "source": [
    "### Exercises"
   ]
  },
  {
   "cell_type": "markdown",
   "metadata": {},
   "source": [
    "Create a function `lu_decomp_pivoting` according to the following template:"
   ]
  },
  {
   "cell_type": "markdown",
   "metadata": {},
   "source": [
    "```python\n",
    "def lu_decomp_pivoting(A, check_input=True):\n",
    "    '''\n",
    "    Compute the LU decomposition for a matrix A by applying partial pivoting.\n",
    "    \n",
    "    Parameters\n",
    "    ----------\n",
    "    A : numpy narray 2d\n",
    "        Full square matrix of the linear system.\n",
    "    check_input : boolean\n",
    "        If True, verify if the input is valid. Default is True.\n",
    "    Returns\n",
    "    -------\n",
    "    P : list of integers\n",
    "        List containing all permuations.\n",
    "    C : numpy array 2d\n",
    "        Full square matrix containing the element of L below the main diagonal and \n",
    "        the elements of U in the upper triangle (including the elements on the main diagonal).\n",
    "    '''\n",
    "    N = A.shape[0]\n",
    "    if check_input is True:\n",
    "        assert A.ndim == 2, 'A must be a matrix'\n",
    "        assert A.shape[1] == N, 'A must be square'\n",
    "    # create matrix C as a copy of A\n",
    "    C = \n",
    "    # initial list\n",
    "    P = list containing elements varying from 0 to N-1\n",
    "    \n",
    "    for k = 1:N-1\n",
    "        # permutation step\n",
    "        p, C = permut(C, k-1)\n",
    "        # update P\n",
    "        P = P[p]\n",
    "        # assert the pivot is nonzero\n",
    "        assert C[k-1,k-1] != 0., 'null pivot!'\n",
    "        # calculate the Gauss multipliers and store them \n",
    "        # in the lower part of C\n",
    "        C[k:,k-1] = \n",
    "        # zeroing of the elements in the (k-1)th column\n",
    "        C[k:,k:] = \n",
    "    # return matrix C\n",
    "    return P, C\n",
    "```"
   ]
  },
  {
   "cell_type": "markdown",
   "metadata": {},
   "source": [
    "The permutation function `permut` is the same defined in the notebook `gauss-elim-pivoting`."
   ]
  },
  {
   "cell_type": "markdown",
   "metadata": {},
   "source": [
    "Note that the function `lu_decomp_pivoting` receives a square matrix $\\mathbf{A}$ and returns the permutation matrix $\\mathbf{P}$ (actually a list!) and a matrix $\\mathbf{C}$ containing the triangular matrices $\\tilde{\\mathbf{L}}$ and $\\mathbf{U}$. The elements of $\\tilde{\\mathbf{L}}$, except the unitary elements of its main diagonal, are stored below the main diagonal of $\\mathbf{C}$. The elements of $\\mathbf{U}$ are stored in the upper part of $\\mathbf{C}$, including its main diagonal."
   ]
  },
  {
   "cell_type": "markdown",
   "metadata": {},
   "source": [
    "Additionally, create a function called `lu_solve_pivoting` that receives the output of function `lu_decomp` and a vector `y` and return the solution vector `x` of the linear system $\\mathbf{A \\, x} = \\mathbf{y}$. Use the template below:"
   ]
  },
  {
   "cell_type": "markdown",
   "metadata": {},
   "source": [
    "```python\n",
    "def lu_solve_pivoting(P, C, y, check_input=True):\n",
    "    '''\n",
    "    Solve the linear system Ax = y for x by using the LU decomposition \n",
    "    of matrix A with partial pivoting.\n",
    "    \n",
    "    Parameters\n",
    "    ----------\n",
    "    P : list of integers\n",
    "        List containing all permutations defined to compute the LU decomposition \n",
    "        with partial pivoting (output of function 'lu_decomp_pivoting').\n",
    "    C : numpy narray 2d\n",
    "        Full square matrix containing the elements of L below the main diagonal and \n",
    "        the elements of U in the upper triangle (including the elements on the main diagonal).\n",
    "        (Output of the function 'lu_decomp_pivoting').\n",
    "    y : numpy array 1d\n",
    "        Independent vector of the linear system.\n",
    "    check_input : boolean\n",
    "        If True, verify if the input is valid. Default is True.\n",
    "    Returns\n",
    "    -------\n",
    "    x : numpy array 1d\n",
    "        Solution of the linear system Ax=y.\n",
    "    '''\n",
    "    N = C.shape[0]\n",
    "    if check_input is True:\n",
    "        assert C.ndim == 2, 'C must be a matrix'\n",
    "        assert C.shape[1] == N, 'C must be square'\n",
    "        assert type(P) == list, 'P must be a list'\n",
    "        assert len(P) == N, 'P must have N elements'\n",
    "        assert y.ndim == 1, 'y must be a vector'\n",
    "        assert y.size == N, 'C columns must be equal to y size'\n",
    "    \n",
    "    # create your code here\n",
    "    \n",
    "    return x\n",
    "```"
   ]
  },
  {
   "cell_type": "markdown",
   "metadata": {},
   "source": [
    "The function `lu_solve_pivoting` must use one of your function to solve triangular systems."
   ]
  },
  {
   "cell_type": "markdown",
   "metadata": {},
   "source": [
    "Finally, create at least **three tests**:\n",
    "\n",
    "* Define a square matrix `A`, compute a matrix `C` by using the function `lu_decomp_pivoting`, use `C` to create the triangular matrices `L_tilde` and `U` and verify the if condition `A[P] = LU` is satisfied (see the example below).\n",
    "\n",
    "* Compare the matrices `I[P]`, `L`, `U` obtainted by using your function `lu_decomp_pivoting` (where `I` is the identity) with the matrices `P`, `L`, `U` obtainted by using the function [`scipy.linalg.lu`](https://docs.scipy.org/doc/scipy/reference/generated/scipy.linalg.lu.html). Be careful! The matrix `P` calculated by the routine `scipy.linalg.lu` is equal to the transpose of the matrix `I[P]` calculated by using `lu_decomp_pivoting`. \n",
    "\n",
    "* Define a matrix `A0` and a vector `x0` and use them to compute a vector `A0x0 = y0`. Then, use the functions `lu_decomp_pivoting` and `lu_solve_pivoting` to compute a vector `x1` by solving the linear system. Finally, compare the computed vector `x1` and the expected vector `x0`."
   ]
  },
  {
   "cell_type": "markdown",
   "metadata": {},
   "source": [
    "#### Testing the function `lu_decomp_pivoting`"
   ]
  },
  {
   "cell_type": "raw",
   "metadata": {},
   "source": [
    "import numpy as np"
   ]
  },
  {
   "cell_type": "raw",
   "metadata": {},
   "source": [
    "# define N\n",
    "N = 10"
   ]
  },
  {
   "cell_type": "raw",
   "metadata": {},
   "source": [
    "# Create a matrix A\n",
    "A = np.random.rand(N,N) + np.identity(N)"
   ]
  },
  {
   "cell_type": "raw",
   "metadata": {},
   "source": [
    "# use the lu_decomp to compute L and U\n",
    "P, C = lu_decomp_pivoting(A)"
   ]
  },
  {
   "cell_type": "raw",
   "metadata": {},
   "source": [
    "# retrieve L and U from C\n",
    "I = np.identity(N)\n",
    "L_tilde = I + np.tril(C, k=-1)\n",
    "U = np.triu(C)"
   ]
  },
  {
   "cell_type": "raw",
   "metadata": {},
   "source": [
    "# verify that the product LU is equal to A\n",
    "np.allclose(A[P], np.dot(L_tilde, U))"
   ]
  },
  {
   "cell_type": "raw",
   "metadata": {},
   "source": [
    "# import the function scipy.linalg.lu\n",
    "from scipy.linalg import lu"
   ]
  },
  {
   "cell_type": "raw",
   "metadata": {},
   "source": [
    "# compute the LU decomposition with scipy\n",
    "P_scipy, L_scipy, U_scipy = lu(A)"
   ]
  },
  {
   "cell_type": "raw",
   "metadata": {},
   "source": [
    "# compare the computed L matrix with scipy\n",
    "np.allclose(L_scipy, L_tilde)"
   ]
  },
  {
   "cell_type": "raw",
   "metadata": {},
   "source": [
    "# compare the computed U matrix with scipy\n",
    "np.allclose(U_scipy, U)"
   ]
  },
  {
   "cell_type": "raw",
   "metadata": {},
   "source": [
    "# compare the computed permutation matrix with the transposed of that \n",
    "# obtained with scipy\n",
    "np.allclose(P_scipy.T, I[P])"
   ]
  },
  {
   "cell_type": "code",
   "execution_count": null,
   "metadata": {},
   "outputs": [],
   "source": []
  },
  {
   "cell_type": "code",
   "execution_count": null,
   "metadata": {},
   "outputs": [],
   "source": []
  }
 ],
 "metadata": {
  "kernelspec": {
   "display_name": "Python 3 (ipykernel)",
   "language": "python",
   "name": "python3"
  },
  "language_info": {
   "codemirror_mode": {
    "name": "ipython",
    "version": 3
   },
   "file_extension": ".py",
   "mimetype": "text/x-python",
   "name": "python",
   "nbconvert_exporter": "python",
   "pygments_lexer": "ipython3",
   "version": "3.11.8"
  }
 },
 "nbformat": 4,
 "nbformat_minor": 4
}
