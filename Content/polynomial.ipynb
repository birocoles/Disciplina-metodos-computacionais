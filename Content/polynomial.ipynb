{
 "cells": [
  {
   "cell_type": "markdown",
   "metadata": {},
   "source": [
    "# Polynomial fitting"
   ]
  },
  {
   "cell_type": "markdown",
   "metadata": {},
   "source": [
    "As we could see in the notebooks `straight_line` and `parabola`, the problem of fitting a <a href=\"https://en.wikipedia.org/wiki/Polynomial\" target=\"_blank\">polynomial</a> to $N$ data $d_{i}$, $i = 0, \\dots, N-1$, can be represented by a linear system:"
   ]
  },
  {
   "cell_type": "markdown",
   "metadata": {},
   "source": [
    "<a id=\"eq1\"></a>\n",
    "$$\n",
    "\\mathbf{d}^{o} \\approx \\mathbf{d}(\\mathbf{q}) = \\mathbf{A} \\mathbf{q} \\quad , \\tag{1}\n",
    "$$"
   ]
  },
  {
   "cell_type": "markdown",
   "metadata": {},
   "source": [
    "where $\\mathbf{d}$ and $\\mathbf{d}(\\mathbf{q})$ are the observed and predicted $N \\times 1$ data vectors, respectively, $\\mathbf{q}$ is the $M \\times 1$ parameter vector containing the coefficients of the polynomial and $\\mathbf{A}$ is an $N \\times M$ matrix depending on the coordinates of the observation points and the degree of the polynomial function."
   ]
  },
  {
   "cell_type": "markdown",
   "metadata": {},
   "source": [
    "By estimating a parameter vector $\\tilde{\\mathbf{q}}$ satisfying [equation 1](#eq1), we can compute the polynomial not only at the observation points, but also at other points where there are no data. To do this, we must:"
   ]
  },
  {
   "cell_type": "markdown",
   "metadata": {},
   "source": [
    "1. Create a set of $L$ interpolation points;\n",
    "2. Compute a new $L \\times M$ matrix $\\breve{\\mathbf{A}}$ at the interpolation points;\n",
    "4. Compute $L$ interpolated data $\\breve{\\mathbf{d}}(\\tilde{\\mathbf{q}})$ as follows:\n",
    "\n",
    "<a id=\"eq2\"></a>\n",
    "$$\n",
    "\\breve{\\mathbf{d}}(\\tilde{\\mathbf{q}}) = \\breve{\\mathbf{A}} \\, \\tilde{\\mathbf{q}} \\quad . \\tag{2}\n",
    "$$"
   ]
  },
  {
   "cell_type": "markdown",
   "metadata": {},
   "source": [
    "Note that the key point here is computing the matrix $\\mathbf{A}$. "
   ]
  },
  {
   "cell_type": "markdown",
   "metadata": {},
   "source": [
    "#### Example of the routine [`numpy.polynomial.polynomial.polyvander`](https://numpy.org/doc/stable/reference/generated/numpy.polynomial.polynomial.polyvander.html)"
   ]
  },
  {
   "cell_type": "code",
   "execution_count": 1,
   "metadata": {},
   "outputs": [],
   "source": [
    "import numpy as np"
   ]
  },
  {
   "cell_type": "code",
   "execution_count": 2,
   "metadata": {},
   "outputs": [],
   "source": [
    "from numpy.polynomial.polynomial import polyvander, polyvander2d"
   ]
  },
  {
   "cell_type": "code",
   "execution_count": 4,
   "metadata": {},
   "outputs": [],
   "source": [
    "x = np.arange(1, 5)\n",
    "degree = 3"
   ]
  },
  {
   "cell_type": "code",
   "execution_count": 5,
   "metadata": {},
   "outputs": [
    {
     "name": "stdout",
     "output_type": "stream",
     "text": [
      "[1 2 3 4]\n"
     ]
    }
   ],
   "source": [
    "print(x)"
   ]
  },
  {
   "cell_type": "markdown",
   "metadata": {},
   "source": [
    "This example computes the matrix associated with the following polynomial:\n",
    "\n",
    "$$\n",
    "d_{i}(\\mathbf{p}) = p_{0} \\, x^{0}_{i} + p_{1} \\, x^{1}_{i} + p_{2} \\, x^{2}_{i} + p_{3} \\, x^{3}_{i} \\quad .\n",
    "$$"
   ]
  },
  {
   "cell_type": "code",
   "execution_count": 6,
   "metadata": {},
   "outputs": [
    {
     "name": "stdout",
     "output_type": "stream",
     "text": [
      "[[ 1.  1.  1.  1.]\n",
      " [ 1.  2.  4.  8.]\n",
      " [ 1.  3.  9. 27.]\n",
      " [ 1.  4. 16. 64.]]\n"
     ]
    }
   ],
   "source": [
    "print(polyvander(x, degree))"
   ]
  },
  {
   "cell_type": "markdown",
   "metadata": {},
   "source": [
    "The matrix in the cell above is used in the 1D polynomial fitting."
   ]
  },
  {
   "cell_type": "markdown",
   "metadata": {},
   "source": [
    "#### Example of the routine [`numpy.polynomial.polynomial.polyvander2d`](https://numpy.org/doc/stable/reference/generated/numpy.polynomial.polynomial.polyvander2d.html)"
   ]
  },
  {
   "cell_type": "code",
   "execution_count": 7,
   "metadata": {},
   "outputs": [],
   "source": [
    "N = 10\n",
    "x = np.ones(N)+1\n",
    "y = np.arange(1, N+1)"
   ]
  },
  {
   "cell_type": "code",
   "execution_count": 8,
   "metadata": {},
   "outputs": [
    {
     "name": "stdout",
     "output_type": "stream",
     "text": [
      "[2. 2. 2. 2. 2. 2. 2. 2. 2. 2.]\n",
      "[ 1  2  3  4  5  6  7  8  9 10]\n"
     ]
    }
   ],
   "source": [
    "print(x)\n",
    "print(y)"
   ]
  },
  {
   "cell_type": "code",
   "execution_count": 9,
   "metadata": {},
   "outputs": [],
   "source": [
    "degreex = 2 # maximum degree in x\n",
    "degreey = 2 # maximum degree in y"
   ]
  },
  {
   "cell_type": "markdown",
   "metadata": {},
   "source": [
    "This example computes the matrix associated with the following polynomial:\n",
    "\n",
    "$$\n",
    "\\begin{split}\n",
    "d_{i}(\\mathbf{p}) = \\: \n",
    "&p_{0} \\left(  x^{0}_{i} \\, y^{0}_{i} \\right) + p_{1} \\left(  x^{1}_{i} \\, y^{0}_{i} \\right) + p_{2} \\left(  x^{2}_{i} \\, y^{0}_{i} \\right) + \\\\\n",
    "&p_{3} \\left(  x^{0}_{i} \\, y^{1}_{i} \\right) + p_{4} \\left(  x^{1}_{i} \\, y^{1}_{i} \\right) + p_{5} \\left(  x^{2}_{i} \\, y^{1}_{i} \\right) + \\\\\n",
    "&p_{6} \\left(  x^{0}_{i} \\, y^{2}_{i} \\right) + p_{7} \\left(  x^{1}_{i} \\, y^{2}_{i} \\right) + p_{8} \\left(  x^{2}_{i} \\, y^{2}_{i} \\right)\n",
    "\\end{split} \\quad .\n",
    "$$"
   ]
  },
  {
   "cell_type": "code",
   "execution_count": 10,
   "metadata": {},
   "outputs": [
    {
     "name": "stdout",
     "output_type": "stream",
     "text": [
      "[[  1.   1.   1.   2.   2.   2.   4.   4.   4.]\n",
      " [  1.   2.   4.   2.   4.   8.   4.   8.  16.]\n",
      " [  1.   3.   9.   2.   6.  18.   4.  12.  36.]\n",
      " [  1.   4.  16.   2.   8.  32.   4.  16.  64.]\n",
      " [  1.   5.  25.   2.  10.  50.   4.  20. 100.]\n",
      " [  1.   6.  36.   2.  12.  72.   4.  24. 144.]\n",
      " [  1.   7.  49.   2.  14.  98.   4.  28. 196.]\n",
      " [  1.   8.  64.   2.  16. 128.   4.  32. 256.]\n",
      " [  1.   9.  81.   2.  18. 162.   4.  36. 324.]\n",
      " [  1.  10. 100.   2.  20. 200.   4.  40. 400.]]\n"
     ]
    }
   ],
   "source": [
    "print(polyvander2d(x, y, [degreex, degreey]))"
   ]
  },
  {
   "cell_type": "markdown",
   "metadata": {},
   "source": [
    "The matrix in the cell above is used in the 2D polynomial fitting."
   ]
  },
  {
   "cell_type": "code",
   "execution_count": null,
   "metadata": {},
   "outputs": [],
   "source": []
  }
 ],
 "metadata": {
  "kernelspec": {
   "display_name": "Python 3 (ipykernel)",
   "language": "python",
   "name": "python3"
  },
  "language_info": {
   "codemirror_mode": {
    "name": "ipython",
    "version": 3
   },
   "file_extension": ".py",
   "mimetype": "text/x-python",
   "name": "python",
   "nbconvert_exporter": "python",
   "pygments_lexer": "ipython3",
   "version": "3.11.8"
  }
 },
 "nbformat": 4,
 "nbformat_minor": 4
}
