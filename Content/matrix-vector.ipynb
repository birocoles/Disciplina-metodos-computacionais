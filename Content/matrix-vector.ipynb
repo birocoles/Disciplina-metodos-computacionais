{
 "cells": [
  {
   "cell_type": "markdown",
   "metadata": {},
   "source": [
    "# Matrix-vector product"
   ]
  },
  {
   "cell_type": "markdown",
   "metadata": {},
   "source": [
    "### Product of a real matrix and a real vector"
   ]
  },
  {
   "cell_type": "markdown",
   "metadata": {},
   "source": [
    "Let $\\mathbf{A}$ be a $N \\times M$ real matrix and $\\mathbf{x}$ be a $M \\times 1$ real vector. $\\mathbf{A}$ can be represented by using a *row partition* or by a *column partition* as follows:"
   ]
  },
  {
   "cell_type": "markdown",
   "metadata": {},
   "source": [
    "$$\n",
    "\\begin{split}\n",
    "    \\mathbf{A} \n",
    "    & = \\left[\n",
    "    \\begin{array}{ccc}\n",
    "        a_{00} & \\cdots & a_{0(M-1)} \\\\\n",
    "        \\vdots &        & \\vdots \\\\\n",
    "        a_{(N-1)0} & \\cdots & a_{(N-1)(M-1)}\n",
    "    \\end{array}\n",
    "    \\right]_{N \\times M} \\\\\n",
    "    & = \\left[\n",
    "    \\begin{array}{c}\n",
    "        \\mathbf{A}[0 \\, , \\, :] \\\\\n",
    "        \\vdots \\\\\n",
    "        \\mathbf{A}[N-1 \\, , \\, :]\n",
    "    \\end{array}\n",
    "    \\right]_{N \\times M} \\\\\n",
    "    & = \\left[\n",
    "    \\begin{array}{ccc}\n",
    "        \\mathbf{A}[:\\ , \\, 0] &\n",
    "        \\cdots &\n",
    "        \\mathbf{A}[: \\, , \\, M-1]\n",
    "    \\end{array}\n",
    "    \\right]_{N \\times M}\n",
    "\\end{split} \\: ,\n",
    "$$"
   ]
  },
  {
   "cell_type": "markdown",
   "metadata": {},
   "source": [
    "where $\\mathbf{A}[i \\, , \\, :]$, $i = 0, ..., N-1$, is a $1 \\times M$ vector representing the $i$th row of $\\mathbf{A}$ and $\\mathbf{A}[: \\, , \\, j]$, $j = 0, ..., M-1$, is a $N \\times 1$ vector representing the $j$th column of $\\mathbf{A}$."
   ]
  },
  {
   "cell_type": "markdown",
   "metadata": {},
   "source": [
    "After defining these partitions, we can define the product $\\mathbf{y} = \\mathbf{A} \\mathbf{x}$ by using three different approaches:"
   ]
  },
  {
   "cell_type": "markdown",
   "metadata": {},
   "source": [
    "**1) *doubly nested for***"
   ]
  },
  {
   "cell_type": "markdown",
   "metadata": {},
   "source": [
    "    matvec_real(A, x):\n",
    "    \n",
    "        N, M = shape(A)\n",
    "        \n",
    "        y = zeros(N)\n",
    "        \n",
    "        for i = 0:N-1\n",
    "            for j = 0:M-1\n",
    "                y[i] += A[i,j]*x[j]\n",
    "        \n",
    "        return y"
   ]
  },
  {
   "cell_type": "markdown",
   "metadata": {},
   "source": [
    "**2) *dot product formulation***"
   ]
  },
  {
   "cell_type": "markdown",
   "metadata": {},
   "source": [
    "    matvec_dot(A, x):\n",
    "    \n",
    "        N, M = shape(A)\n",
    "        \n",
    "        y = zeros(N)\n",
    "        \n",
    "        for i = 0:N-1\n",
    "            y[i] = dot_real(A[i,:], x[:])\n",
    "        \n",
    "        return y"
   ]
  },
  {
   "cell_type": "markdown",
   "metadata": {},
   "source": [
    "**3) *linear combination formulation***"
   ]
  },
  {
   "cell_type": "markdown",
   "metadata": {},
   "source": [
    "    matvec_columns(A, x):\n",
    "    \n",
    "        N, M = shape(A)\n",
    "        \n",
    "        y = zeros(N)\n",
    "        \n",
    "        for j = 0:M-1\n",
    "            y[:] += scalar_vec_real(x[j], A[:,j])\n",
    "        \n",
    "        return y"
   ]
  },
  {
   "cell_type": "markdown",
   "metadata": {},
   "source": [
    "### Product of a complex matrix and a complex vector"
   ]
  },
  {
   "cell_type": "markdown",
   "metadata": {},
   "source": [
    "Let $\\mathbf{A}$ be an $N \\times M$ complex matrix and $\\mathbf{x}$ be an $M \\times 1$ complex vector given by:\n",
    "\n",
    "$$\n",
    "\\mathbf{A} = \\mathbf{A}_{R} + imag \\, \\mathbf{A}_{I}\n",
    "$$\n",
    "\n",
    "and\n",
    "\n",
    "$$\n",
    "\\mathbf{x} = \\mathbf{x}_{R} + imag \\, \\mathbf{x}_{I} \\: .\n",
    "$$"
   ]
  },
  {
   "cell_type": "markdown",
   "metadata": {},
   "source": [
    "It can be shown that the product $\\mathbf{A} \\mathbf{x}$ results in the following complex vector:"
   ]
  },
  {
   "cell_type": "markdown",
   "metadata": {},
   "source": [
    "$$\n",
    "\\mathbf{y} = \\mathbf{y}_{R} + imag \\, \\mathbf{y}_{I} \\: ,\n",
    "$$\n",
    "\n",
    "where\n",
    "\n",
    "$$\n",
    "\\mathbf{y}_{R} = \\mathbf{A}_{R} \\mathbf{x}_{R} - \\mathbf{A}_{I} \\mathbf{x}_{I}\n",
    "$$\n",
    "\n",
    "and\n",
    "\n",
    "$$\n",
    "\\mathbf{y}_{I} = \\mathbf{A}_{R} \\mathbf{x}_{I} + \\mathbf{A}_{I} \\mathbf{x}_{R} \\: .\n",
    "$$"
   ]
  },
  {
   "cell_type": "markdown",
   "metadata": {},
   "source": [
    "This product can be represented by the pseudo-code shown below:"
   ]
  },
  {
   "cell_type": "markdown",
   "metadata": {},
   "source": [
    "    matvec_complex(A, x):\n",
    "\n",
    "        # compute the real and imaginary parts of the product\n",
    "        y_R  = matrix_vector_real(Re(A), Re(x))\n",
    "        y_R -= matrix_vector_real(Im(A), Im(x))\n",
    "        y_I  = matrix_vector_real(Re(A), Im(x))\n",
    "        y_I += matrix_vector_real(Im(A), Re(x))\n",
    "        y = y_R + imag*y_I\n",
    "        \n",
    "        # return the result        \n",
    "        return y"
   ]
  },
  {
   "cell_type": "markdown",
   "metadata": {},
   "source": [
    "### Exercise 1"
   ]
  },
  {
   "cell_type": "markdown",
   "metadata": {},
   "source": [
    "Create the functions below according to `template.py`: \n",
    "* `matvec_real_simple`\n",
    "* `matvec_real_dot` \n",
    "* `matvec_real_columns`\n",
    "* `matvec_complex`\n",
    "    \n",
    "These functions must pass the following tests defined in `tests_template.py`:\n",
    "* `test_matvec_real_input_doesnt_match`\n",
    "* `test_matvec_real_functions_compare_numpy_dot`\n",
    "* `test_matvec_real_functions_ignore_complex`\n",
    "* `test_matvec_complex_compare_numpy_dot`\n",
    "* `test_matvec_complex_invalid_function`"
   ]
  },
  {
   "cell_type": "markdown",
   "metadata": {},
   "source": [
    "##### Numpy example of the matrix-vector product"
   ]
  },
  {
   "cell_type": "markdown",
   "metadata": {},
   "source": [
    "This example uses the routines [numpy.arange](http://docs.scipy.org/doc/numpy/reference/generated/numpy.arange.html) and [numpy.reshape](http://docs.scipy.org/doc/numpy/reference/generated/numpy.reshape.html)."
   ]
  },
  {
   "cell_type": "code",
   "execution_count": 1,
   "metadata": {},
   "outputs": [],
   "source": [
    "import numpy as np"
   ]
  },
  {
   "cell_type": "code",
   "execution_count": 2,
   "metadata": {},
   "outputs": [],
   "source": [
    "x = np.arange(5, dtype=float)"
   ]
  },
  {
   "cell_type": "code",
   "execution_count": 3,
   "metadata": {},
   "outputs": [
    {
     "data": {
      "text/plain": [
       "array([0., 1., 2., 3., 4.])"
      ]
     },
     "execution_count": 3,
     "metadata": {},
     "output_type": "execute_result"
    }
   ],
   "source": [
    "x"
   ]
  },
  {
   "cell_type": "code",
   "execution_count": 4,
   "metadata": {},
   "outputs": [
    {
     "data": {
      "text/plain": [
       "dtype('float64')"
      ]
     },
     "execution_count": 4,
     "metadata": {},
     "output_type": "execute_result"
    }
   ],
   "source": [
    "x.dtype"
   ]
  },
  {
   "cell_type": "code",
   "execution_count": 5,
   "metadata": {},
   "outputs": [],
   "source": [
    "A = np.reshape(np.arange(20), (4,5))"
   ]
  },
  {
   "cell_type": "code",
   "execution_count": 6,
   "metadata": {},
   "outputs": [
    {
     "data": {
      "text/plain": [
       "array([[ 0,  1,  2,  3,  4],\n",
       "       [ 5,  6,  7,  8,  9],\n",
       "       [10, 11, 12, 13, 14],\n",
       "       [15, 16, 17, 18, 19]])"
      ]
     },
     "execution_count": 6,
     "metadata": {},
     "output_type": "execute_result"
    }
   ],
   "source": [
    "A"
   ]
  },
  {
   "cell_type": "code",
   "execution_count": 7,
   "metadata": {},
   "outputs": [
    {
     "data": {
      "text/plain": [
       "dtype('int64')"
      ]
     },
     "execution_count": 7,
     "metadata": {},
     "output_type": "execute_result"
    }
   ],
   "source": [
    "A.dtype"
   ]
  },
  {
   "cell_type": "code",
   "execution_count": 8,
   "metadata": {
    "scrolled": true
   },
   "outputs": [
    {
     "data": {
      "text/plain": [
       "array([ 30.,  80., 130., 180.])"
      ]
     },
     "execution_count": 8,
     "metadata": {},
     "output_type": "execute_result"
    }
   ],
   "source": [
    "np.dot(A, x)"
   ]
  },
  {
   "cell_type": "code",
   "execution_count": 9,
   "metadata": {},
   "outputs": [
    {
     "data": {
      "text/plain": [
       "array([ 30.,  80., 130., 180.])"
      ]
     },
     "execution_count": 9,
     "metadata": {},
     "output_type": "execute_result"
    }
   ],
   "source": [
    "A@x"
   ]
  },
  {
   "cell_type": "markdown",
   "metadata": {},
   "source": [
    "### Exercise 2"
   ]
  },
  {
   "cell_type": "markdown",
   "metadata": {},
   "source": [
    "The previously presented algorithm for calculating a `simple moving average filter` can be formulated as the product of a matrix $\\mathbf{A}$ and the original data $\\mathbf{x}$, where $\\mathbf{A}$ depends on the number of points forming the moving window and the number of data. For example, consider a data vector $\\mathbf{x}$ given by"
   ]
  },
  {
   "cell_type": "markdown",
   "metadata": {},
   "source": [
    "$$\n",
    "\\mathbf{x} = \\left[ \\begin{array}{c}\n",
    "x_{0} \\\\\n",
    "x_{1} \\\\\n",
    "x_{2} \\\\\n",
    "x_{3} \\\\\n",
    "x_{4}\n",
    "\\end{array} \\right]\n",
    "$$"
   ]
  },
  {
   "cell_type": "markdown",
   "metadata": {},
   "source": [
    "and a moving window formed by $3$ elements. In this case, the matrix $\\mathbf{A}$ (see the hint presented below for creating this matrix automatically) is given by"
   ]
  },
  {
   "cell_type": "markdown",
   "metadata": {},
   "source": [
    "$$\n",
    "\\mathbf{A} = \\frac{1}{3} \\, \\left[ \\begin{array}{ccccc}\n",
    "0 & 0 & 0 & 0 & 0 \\\\\n",
    "1 & 1 & 1 & 0 & 0 \\\\\n",
    "0 & 1 & 1 & 1 & 0 \\\\\n",
    "0 & 0 & 1 & 1 & 1 \\\\\n",
    "0 & 0 & 0 & 0 & 0\n",
    "\\end{array} \\right] \\: .\n",
    "$$"
   ]
  },
  {
   "cell_type": "markdown",
   "metadata": {},
   "source": [
    "Then, the filtered data $\\mathbf{x}_{f}$ can be calculated as follows:"
   ]
  },
  {
   "cell_type": "markdown",
   "metadata": {},
   "source": [
    "$$\\mathbf{x}_{f} = \\mathbf{A} \\, \\mathbf{x} \\: .$$"
   ]
  },
  {
   "cell_type": "markdown",
   "metadata": {},
   "source": [
    "Show that the matrix formulation presented above is equivalent to that presented in `first_steps_Python\\SMA\\`. To do that, create a function called `mat_sma` according to the template given below:\n",
    "\n",
    "```python\n",
    "def mat_sma(data, window, check_input=True):\n",
    "    '''\n",
    "    Calculate the moving average filter by using the matrix-vector product.\n",
    "\n",
    "    Parameters\n",
    "    ----------\n",
    "    data : numpy array 1d\n",
    "        Vector containing the data.\n",
    "    window : positive integer\n",
    "        Positive integer defining the number of elements forming the window.\n",
    "    check_input : boolean\n",
    "        If True, verify if the input is valid. Default is True.\n",
    "\n",
    "    Returns\n",
    "    -------\n",
    "    result : nunmpy array 1d\n",
    "        Vector containing the filtered data.\n",
    "    '''\n",
    "\n",
    "    # create your code here\n",
    "    \n",
    "    return result\n",
    "```\n",
    "\n",
    "The function `mat_sma` **must**: \n",
    "* verify if the given `data` is a numpy array with ndim = 1;\n",
    "* verify if `window` is a positive integer;\n",
    "* assert that the `window` size is smaller than `data` size;\n",
    "* assert that `window` size is odd;\n",
    "* create the matrix $\\mathbf{A}$ and use one of your three functions for calculating the matrix-vector product. "
   ]
  },
  {
   "cell_type": "markdown",
   "metadata": {},
   "source": [
    "##### Hint: how to create $\\mathbf{A}$ automatically?"
   ]
  },
  {
   "cell_type": "code",
   "execution_count": 10,
   "metadata": {},
   "outputs": [],
   "source": [
    "N = 5 # number of data\n",
    "ws = 3 # window size\n",
    "i0 = ws//2\n",
    "A = np.array(\n",
    "    np.hstack(\n",
    "        (\n",
    "            (1./ws)*np.ones(ws), \n",
    "            np.zeros(N - ws + 1)\n",
    "        )\n",
    "    )\n",
    ")"
   ]
  },
  {
   "cell_type": "code",
   "execution_count": 11,
   "metadata": {},
   "outputs": [],
   "source": [
    "A = np.resize(A, (N-2*i0, N))"
   ]
  },
  {
   "cell_type": "code",
   "execution_count": 12,
   "metadata": {},
   "outputs": [],
   "source": [
    "A = np.vstack((np.zeros(N), A, np.zeros(N)))"
   ]
  },
  {
   "cell_type": "code",
   "execution_count": 13,
   "metadata": {},
   "outputs": [
    {
     "data": {
      "text/plain": [
       "array([[0.        , 0.        , 0.        , 0.        , 0.        ],\n",
       "       [0.33333333, 0.33333333, 0.33333333, 0.        , 0.        ],\n",
       "       [0.        , 0.33333333, 0.33333333, 0.33333333, 0.        ],\n",
       "       [0.        , 0.        , 0.33333333, 0.33333333, 0.33333333],\n",
       "       [0.        , 0.        , 0.        , 0.        , 0.        ]])"
      ]
     },
     "execution_count": 13,
     "metadata": {},
     "output_type": "execute_result"
    }
   ],
   "source": [
    "A"
   ]
  },
  {
   "cell_type": "markdown",
   "metadata": {},
   "source": [
    "### Exercise 3"
   ]
  },
  {
   "cell_type": "markdown",
   "metadata": {},
   "source": [
    "Let $\\mathbf{y}$ be a $N \\times 1$ vector whose $i$th element $y_{i} = f(x_{i})$, $i = 1, ..., N$, represents a function $f(x)$ evaluated at a point $x_{i}$. Let us also consider that the $N$ points $x_{i}$ are regularly spaced. In this case,"
   ]
  },
  {
   "cell_type": "markdown",
   "metadata": {},
   "source": [
    "$$\n",
    "x_{i} = x_{0} + i*h \\: , \\quad i = 0 \\, , \\, ..., \\, N-1 \\: ,\n",
    "$$"
   ]
  },
  {
   "cell_type": "markdown",
   "metadata": {},
   "source": [
    "where $x_{0}$ is the minimum $x_{i}$."
   ]
  },
  {
   "cell_type": "markdown",
   "metadata": {},
   "source": [
    "In this case, the derivative of the function $f(x)$ with respect to $x$ can be approximated by using a [central finite difference](https://en.wikipedia.org/wiki/Finite_difference) equation:"
   ]
  },
  {
   "cell_type": "markdown",
   "metadata": {},
   "source": [
    "$$\n",
    "\\frac{d \\, f(x_{i})}{d \\, x} \\approx \\frac{f(x_{i} + h) - f(x_{i} - h)}{2 \\, h} \\: , \\quad i = 1, ..., N-2 \\: ,\n",
    "$$"
   ]
  },
  {
   "cell_type": "markdown",
   "metadata": {},
   "source": [
    "where $y_{i+1} = f(x_{i} + h)$ and $y_{i-1} = f(x_{i} - h)$. Notice that the derivative $\\frac{d \\, f(x_{i})}{d \\, x}$ is not calculated at the points $x_{0}$ and $x_{N-1}$. The first derivatives $\\frac{d \\, f(x_{i})}{d \\, x}$ can be calculated as a matrix-vector product $\\mathbf{D} \\, \\mathbf{y}$, where"
   ]
  },
  {
   "cell_type": "markdown",
   "metadata": {},
   "source": [
    "$$\n",
    "\\mathbf{D} = \\frac{1}{2 \\, h} \\, \\left[ \\begin{array}{c}\n",
    "0 & 0 & 0 & 0 & \\cdots & 0 \\\\\n",
    "-1 & 0 & 1 & 0 & \\cdots & 0 \\\\\n",
    "0 & -1 & 0 & 1 & & 0 \\\\\n",
    "\\vdots  & & &  &  & \\vdots \\\\\n",
    "0  &  & -1 & 0 & 1 & 0 \\\\\n",
    "0  & \\cdots & 0 & -1 & 0 & 1 \\\\\n",
    "0 & \\cdots & 0 & 0 & 0 & 0\n",
    "\\end{array} \\right] \\: .\n",
    "$$"
   ]
  },
  {
   "cell_type": "markdown",
   "metadata": {},
   "source": [
    "Based on this, create a function called `deriv1d` according to the template given below:\n",
    "\n",
    "```python\n",
    "def deriv1d(data, spacing, check_input=True):\n",
    "    '''\n",
    "    Calculate the moving average filter by using the matrix-vector product.\n",
    "\n",
    "    Parameters\n",
    "    ----------\n",
    "    data : numpy array 1d\n",
    "        Vector containing the data.\n",
    "    spacing : positive scalar\n",
    "        Positive scalar defining the constant data spacing.\n",
    "    check_input : boolean\n",
    "        If True, verify if the input is valid. Default is True.\n",
    "\n",
    "    Returns\n",
    "    -------\n",
    "    result : nunmpy array 1d\n",
    "        Vector containing the computed derivative.\n",
    "    '''\n",
    "\n",
    "    # create your code here\n",
    "    \n",
    "    return result\n",
    "```\n",
    "\n",
    "The function `deriv1d` **must**: \n",
    "* verify if the given `data` is a numpy array with ndim = 1;\n",
    "* verify if `spacing` is a positive scalar;\n",
    "* create the matrix $\\mathbf{D}$ and use one of your three functions for calculating the matrix-vector product. \n",
    "\n",
    "that receives a $N \\times 1$ data vector $\\mathbf{y}$ and the interval $h$ and returns the first derivatives calculated according to the matrix-vector product presented above. The function must use one your functions for calculating the matrix-vector product. Hint: modify the algorithm for creating the matrix $\\mathbf{A}$ presented in the previous exercise to create the matrix $\\mathbf{D}$ automatically.\n",
    "\n",
    "Additionally, **create at least one test** for your function `deriv1d`. In this test, create a vector `theta` with the function [`numpy.arange`](https://numpy.org/doc/stable/reference/generated/numpy.arange.html), by using the arguments `0.`, `2*np.pi`, `dtheta`, where `dtheta = 2.*numpy.pi/1000`. Create a data vector `y` by using the [`numpy.sin`](https://numpy.org/doc/stable/reference/generated/numpy.sin.html) function. Then, calculate a vector `z_true` by using the [`numpy.cos`](https://numpy.org/doc/stable/reference/generated/numpy.cos.html) function. Finally, calculate a `z_calc` vector with your function `deriv1d` and compare with the `z_true` vector by using the routine [`numpy.testing.assert_almost_equal`](https://numpy.org/doc/stable/reference/generated/numpy.testing.assert_almost_equal.html). In the routine `numpy.testing.assert_almost_equal`, use `decimal = 3`. Remember that the first and last elements of `z_calc` will be equal to zero. Be careful!"
   ]
  },
  {
   "cell_type": "code",
   "execution_count": null,
   "metadata": {},
   "outputs": [],
   "source": []
  }
 ],
 "metadata": {
  "anaconda-cloud": {},
  "kernelspec": {
   "display_name": "Python 3 (ipykernel)",
   "language": "python",
   "name": "python3"
  },
  "language_info": {
   "codemirror_mode": {
    "name": "ipython",
    "version": 3
   },
   "file_extension": ".py",
   "mimetype": "text/x-python",
   "name": "python",
   "nbconvert_exporter": "python",
   "pygments_lexer": "ipython3",
   "version": "3.11.8"
  }
 },
 "nbformat": 4,
 "nbformat_minor": 4
}
