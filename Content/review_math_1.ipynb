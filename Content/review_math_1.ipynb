{
 "cells": [
  {
   "cell_type": "markdown",
   "metadata": {},
   "source": [
    "# Review of some matrix operations"
   ]
  },
  {
   "cell_type": "markdown",
   "metadata": {},
   "source": [
    "This notebook aims at presenting a simple review of some mathematical stuff we will need along the course. The content presented here is not an extended and rigorous review!"
   ]
  },
  {
   "cell_type": "markdown",
   "metadata": {},
   "source": [
    "### Topics\n",
    "\n",
    "* [Parameter vector](#Parameter_vector)\n",
    "* [Scalar functions](#Scalar_functions)\n",
    "* [Vector functions](#Vector_functions)\n",
    "* [Derivatives of scalar and vector functions](#Derivatives)\n",
    "    * [Derivative 1](#Derivative_1)\n",
    "    * [Derivative 2](#Derivative_2)\n",
    "    * [Derivative 3](#Derivative_3)\n",
    "    * [Derivative 4](#Derivative_4)\n",
    "    * [Derivative 5](#Derivative_5)\n",
    "    * [Derivative 6](#Derivative_6)\n",
    "    * [Derivative 7](#Derivative_7)"
   ]
  },
  {
   "cell_type": "markdown",
   "metadata": {},
   "source": [
    "<a id='Parameter_vector'></a>\n",
    "### Parameter vector"
   ]
  },
  {
   "cell_type": "markdown",
   "metadata": {},
   "source": [
    "Along the course, we will work with scalar and vector functions depending on a **parameter vector** $\\mathbf{p}$ defined as follows:"
   ]
  },
  {
   "cell_type": "markdown",
   "metadata": {},
   "source": [
    "<a id='eq1'></a>\n",
    "\n",
    "$$\n",
    "\\mathbf{p} = \\begin{bmatrix}\n",
    "p_{0} \\\\\n",
    "p_{1} \\\\\n",
    "\\vdots \\\\\n",
    "p_{M-1}\n",
    "\\end{bmatrix} \\: , \\tag{1}\n",
    "$$"
   ]
  },
  {
   "cell_type": "markdown",
   "metadata": {},
   "source": [
    "where $p_{j}$, $j = 0, \\dots, M-1$, are constants called **parameters**."
   ]
  },
  {
   "cell_type": "markdown",
   "metadata": {},
   "source": [
    "<a id='Scalar_functions'></a>\n",
    "### Scalar functions"
   ]
  },
  {
   "cell_type": "markdown",
   "metadata": {},
   "source": [
    "Given a parameter vector $\\mathbf{p}$, a scalar function $f(\\mathbf{p})$ returns a number. The following functions are examples of scalar functions:"
   ]
  },
  {
   "cell_type": "markdown",
   "metadata": {},
   "source": [
    "<a id='eq2'></a>\n",
    "$$\n",
    "f(\\mathbf{p}) = p_{0} + p_{1} \\, x + p_{2} \\, x^{2} \\: , \\tag{2}\n",
    "$$"
   ]
  },
  {
   "cell_type": "markdown",
   "metadata": {},
   "source": [
    "<a id='eq3'></a>\n",
    "$$\n",
    "f(\\mathbf{p}) = \\sin(p_{0} \\, t) + \\cos(3 \\, p_{1}) \\, \\exp^{\\, p_{2} \\, t} \\: , \\tag{3}\n",
    "$$"
   ]
  },
  {
   "cell_type": "markdown",
   "metadata": {},
   "source": [
    "<a id='eq4'></a>\n",
    "$$\n",
    "f(\\mathbf{p}) = \\frac{p_{0}}{\\left[ ( p_{1} \\, x )^{2} + (p_{2} \\, y)^{2} + (p_{3} \\, z)^{2} \\right]^{\\frac{1}{2}}} \\: . \\tag{4}\n",
    "$$"
   ]
  },
  {
   "cell_type": "markdown",
   "metadata": {},
   "source": [
    "In these examples, there are functions depending on spatial coordinates $x$, $y$, $z$, and time $t$. In general, we omit the dependence of $f$ on these variables and write just $f(\\mathbf{p})$. If we need to specify that $f$ is evaluated at a particular spatial coordinate $(x_{i}, y_{i}, z_{i})$ or time $t_{i}$, we use the subscript notation. Let's consider, for example, the two first functions presented above (equations [2](#eq2) and [3](#eq3)). By using the subscript notation, they are represented as follows:"
   ]
  },
  {
   "cell_type": "markdown",
   "metadata": {},
   "source": [
    "<a id='eq5'></a>\n",
    "$$\n",
    "f_{i}(\\mathbf{p}) = p_{0} + p_{1} \\, x_{i} + p_{2} \\, x_{i}^{2} \\: , \\tag{5}\n",
    "$$"
   ]
  },
  {
   "cell_type": "markdown",
   "metadata": {},
   "source": [
    "<a id='eq6'></a>\n",
    "$$\n",
    "f_{i}(\\mathbf{p}) = \\sin(p_{0} \\, t_{i}) + \\cos(3 \\, p_{1}) \\, \\exp^{\\, p_{2} \\, t_{i}} \\: . \\tag{6}\n",
    "$$"
   ]
  },
  {
   "cell_type": "markdown",
   "metadata": {},
   "source": [
    "It is worth noting that, in general, we consider that spatial coordinates $x$, $y$, $z$, and/or time $t$ are secondary variables with known values. The notation used here does not specify if $f$ depends on $x$, $y$, and $z$ or if it depends only on $x$, for example. The only unknown variables, in general, are the elements of the parameter vector $\\mathbf{p}$."
   ]
  },
  {
   "cell_type": "markdown",
   "metadata": {
    "collapsed": true,
    "jupyter": {
     "outputs_hidden": true
    }
   },
   "source": [
    "<a id='Vector_functions'></a>\n",
    "### Vector functions"
   ]
  },
  {
   "cell_type": "markdown",
   "metadata": {},
   "source": [
    "Given a parameter vector $\\mathbf{p}$, a vector function $\\mathbf{f}(\\mathbf{p})$ returns a vector. The following functions are examples of vector functions:"
   ]
  },
  {
   "cell_type": "markdown",
   "metadata": {},
   "source": [
    "<a id='eq7'></a>\n",
    "$$\n",
    "\\mathbf{f}(\\mathbf{p}) = \\begin{bmatrix}\n",
    "p_{0} + p_{1} \\, x_{0} + p_{2} \\, x_{0}^{2} \\\\\\\\\n",
    "p_{0} + p_{1} \\, x_{1} + p_{2} \\, x_{1}^{2} \\\\\\\\\n",
    "\\vdots \\\\\\\\\n",
    "p_{0} + p_{1} \\, x_{N-1} + p_{2} \\, x_{N-1}^{2}\n",
    "\\end{bmatrix} \\tag{7}\n",
    "$$"
   ]
  },
  {
   "cell_type": "markdown",
   "metadata": {},
   "source": [
    "<a id='eq8'></a>\n",
    "$$\n",
    "\\mathbf{f}(\\mathbf{p}) = \\begin{bmatrix}\n",
    "\\sin(p_{0} \\, t_{0}) + \\cos(3 \\, p_{1}) \\, \\exp^{\\, p_{2} \\, t_{0}} \\\\\\\\\n",
    "\\sin(p_{0} \\, t_{1}) + \\cos(3 \\, p_{1}) \\, \\exp^{\\, p_{2} \\, t_{1}} \\\\\\\\\n",
    "\\vdots \\\\\\\\\n",
    "\\sin(p_{0} \\, t_{N-1}) + \\cos(3 \\, p_{1}) \\, \\exp^{\\, p_{2} \\, t_{N-1}}\n",
    "\\end{bmatrix} \\tag{8}\n",
    "$$"
   ]
  },
  {
   "cell_type": "markdown",
   "metadata": {},
   "source": [
    "<a id='eq9'></a>\n",
    "$$\n",
    "\\mathbf{f}(\\mathbf{p}) = \\begin{bmatrix}\n",
    "\\frac{p_{0}}{\\left[ ( p_{1} \\, x_{0} )^{2} + (p_{2} \\, y_{0})^{2} + (p_{3} \\, z_{0})^{2} \\right]^{\\frac{1}{2}}} \\\\\\\\\n",
    "\\frac{p_{0}}{\\left[ ( p_{1} \\, x_{1} )^{2} + (p_{2} \\, y_{1})^{2} + (p_{3} \\, z_{1})^{2} \\right]^{\\frac{1}{2}}} \\\\\\\\\n",
    "\\vdots \\\\\\\\\n",
    "\\frac{p_{0}}{\\left[ ( p_{1} \\, x_{N-1} )^{2} + (p_{2} \\, y_{N-1})^{2} + (p_{3} \\, z_{N-1})^{2} \\right]^{\\frac{1}{2}}}\n",
    "\\end{bmatrix} \\: . \\tag{9}\n",
    "$$"
   ]
  },
  {
   "cell_type": "markdown",
   "metadata": {},
   "source": [
    "Similarly to the case of [Scalar functions](#Scalar_functions), we omit the dependence of $\\mathbf{f}$ on spatial coordinates $x$, $y$, $z$, and/or time $t$. Notice that, in all the examples given above, the elements of $\\mathbf{f}(\\mathbf{p})$ are defined by the same function evaluated at a different spatial coordinate $x_{i}$, $y_{i}$, $z_{i}$, and/or time $t_{i}$, $i = 1, \\dots, N$. Along the course, we will work with vector functions like these. In general, we use the subscript notation to define the elements of $\\mathbf{f}(\\mathbf{p})$. For example, let's consider the first vector function presented above (equation [7](#eq7)). By using the subscript notation, we represent this function as follows:"
   ]
  },
  {
   "cell_type": "markdown",
   "metadata": {},
   "source": [
    "<a id='eq10'></a>\n",
    "$$\n",
    "\\mathbf{f}(\\mathbf{p}) = \\begin{bmatrix}\n",
    "f_{0}(\\mathbf{p}) \\\\\n",
    "f_{1}(\\mathbf{p}) \\\\\n",
    "\\vdots \\\\\n",
    "f_{N-1}(\\mathbf{p})\n",
    "\\end{bmatrix} \\: , \\tag{10}\n",
    "$$"
   ]
  },
  {
   "cell_type": "markdown",
   "metadata": {},
   "source": [
    "where"
   ]
  },
  {
   "cell_type": "markdown",
   "metadata": {},
   "source": [
    "<a id='eq11'></a>\n",
    "$$\n",
    "f_{i}(\\mathbf{p}) = p_{0} + p_{1} \\, x_{i} + p_{2} \\, x_{i}^{2} \\: , \\quad i = 0, \\dots, N-1 \\: . \\tag{11}\n",
    "$$"
   ]
  },
  {
   "cell_type": "markdown",
   "metadata": {},
   "source": [
    "<a id='Derivatives'></a>\n",
    "### Derivatives of scalar and vector functions"
   ]
  },
  {
   "cell_type": "markdown",
   "metadata": {},
   "source": [
    "Frequently, we need to compute the first order partial derivative of a [Scalar function](#Scalar_functions) $f(\\mathbf{p})$ with respect to a given [parameter](#Parameter_vector) $p_{j}$, $j = 0, \\dots, M-1$. We represent this derivative as follows:"
   ]
  },
  {
   "cell_type": "markdown",
   "metadata": {},
   "source": [
    "<a id='eq12a'></a>\n",
    "$$\n",
    "\\frac{\\partial f(\\mathbf{p})}{\\partial p_{j}} \\tag{12a}\n",
    "$$"
   ]
  },
  {
   "cell_type": "markdown",
   "metadata": {},
   "source": [
    "or"
   ]
  },
  {
   "cell_type": "markdown",
   "metadata": {},
   "source": [
    "<a id='eq12b'></a>\n",
    "$$\n",
    "\\frac{\\partial f_{i}(\\mathbf{p})}{\\partial p_{j}} \\: . \\tag{12b}\n",
    "$$"
   ]
  },
  {
   "cell_type": "markdown",
   "metadata": {},
   "source": [
    "Similarly, an $n$th order derivative of $f(\\mathbf{p})$ is represented as follows:"
   ]
  },
  {
   "cell_type": "markdown",
   "metadata": {},
   "source": [
    "<a id='eq13a'></a>\n",
    "$$\n",
    "\\frac{\\partial^{2} f(\\mathbf{p})}{\\partial p_{1} \\partial p_{4}} \\: , \\quad n = 2 \\: , \\tag{13a}\n",
    "$$"
   ]
  },
  {
   "cell_type": "markdown",
   "metadata": {},
   "source": [
    "<a id='eq13b'></a>\n",
    "$$\n",
    "\\frac{\\partial^{3} f(\\mathbf{p})}{\\partial p_{2} \\partial p_{5} \\partial p_{6}} \\: , \\quad n = 3 \\: , \\tag{13b}\n",
    "$$"
   ]
  },
  {
   "cell_type": "markdown",
   "metadata": {},
   "source": [
    "or"
   ]
  },
  {
   "cell_type": "markdown",
   "metadata": {},
   "source": [
    "<a id='eq13c'></a>\n",
    "$$\n",
    "\\frac{\\partial^{5} f(\\mathbf{p})}{\\partial p_{2} \\partial p_{1} \\partial p_{5} \\partial p_{4} \\partial p_{6}} \\: , \\quad n = 5 \\: . \\tag{13c}\n",
    "$$"
   ]
  },
  {
   "cell_type": "markdown",
   "metadata": {},
   "source": [
    "Along the course, we will work with \"nice\" scalar functions $f(\\mathbf{p})$, whose [derivatives can be computed in any order](https://mathworld.wolfram.com/PartialDerivative.html). For example, let's consider the derivative represented in equation [13b](#eq13b). We consider that $f(\\mathbf{p})$ satisfies the required conditions so that\n",
    "\n",
    "$$\n",
    "\\frac{\\partial^{3} f(\\mathbf{p})}{\\partial p_{2} \\partial p_{5} \\partial p_{6}} =\n",
    "\\frac{\\partial^{3} f(\\mathbf{p})}{\\partial p_{2} \\partial p_{6} \\partial p_{5}} = \n",
    "\\frac{\\partial^{3} f(\\mathbf{p})}{\\partial p_{6} \\partial p_{5} \\partial p_{2}} \\: .\n",
    "$$"
   ]
  },
  {
   "cell_type": "markdown",
   "metadata": {},
   "source": [
    "Derivative of vector functions $\\mathbf{f}(\\mathbf{p})$ ([equation 10](#eq10)) are given by:"
   ]
  },
  {
   "cell_type": "markdown",
   "metadata": {},
   "source": [
    "<a id='eq14'></a>\n",
    "$$\n",
    "\\frac{\\partial \\, \\mathbf{f}(\\mathbf{p})}{\\partial p_{j}} =\n",
    "\\begin{bmatrix} \n",
    "\\frac{\\partial \\, f_{1}(\\mathbf{p})}{\\partial p_{j}} \\\\\n",
    "\\frac{\\partial \\, f_{2}(\\mathbf{p})}{\\partial p_{j}} \\\\\n",
    "\\vdots \\\\\n",
    "\\frac{\\partial \\, f_{N-1}(\\mathbf{p})}{\\partial p_{j}}\n",
    "\\end{bmatrix} \\quad . \\tag{14}\n",
    "$$"
   ]
  },
  {
   "cell_type": "markdown",
   "metadata": {},
   "source": [
    "Let's consider some particular scalar and vector functions, as well as their partial derivatives with respect to the $j$th parameter $p_{j}$."
   ]
  },
  {
   "cell_type": "markdown",
   "metadata": {},
   "source": [
    "<a id='Derivative_1'></a>\n",
    "#### Derivative 1"
   ]
  },
  {
   "cell_type": "markdown",
   "metadata": {},
   "source": [
    "<a id='eq15a'></a>\n",
    "$$\n",
    "\\mathbf{f}(\\mathbf{p}) = \\mathbf{p} \\: , \\tag{15a}\n",
    "$$"
   ]
  },
  {
   "cell_type": "markdown",
   "metadata": {},
   "source": [
    "<a id='eq15b'></a>\n",
    "$$\n",
    "\\begin{split}\n",
    "\\frac{\\partial \\, \\mathbf{f}(\\mathbf{p})}{\\partial p_{j}} \n",
    "&= \\frac{\\partial}{\\partial p_{j}} \\mathbf{p} \\\\\n",
    "&= \\begin{bmatrix} \n",
    "\\frac{\\partial \\, p_{0}}{\\partial p_{j}} \\\\\n",
    "\\vdots \\\\\n",
    "\\frac{\\partial \\, p_{j}}{\\partial p_{j}} \\\\\n",
    "\\vdots \\\\\n",
    "\\frac{\\partial \\, p_{M-1}}{\\partial p_{j}}\n",
    "\\end{bmatrix} \\\\\n",
    "&= \\mathbf{u}_{j}\n",
    "\\end{split} \\quad , \\tag{15b}\n",
    "$$"
   ]
  },
  {
   "cell_type": "markdown",
   "metadata": {},
   "source": [
    "where $\\mathbf{u}_{j}$ is a vector with the $j$th element equal to $1$ and the remaining equal to $0$. It is represented as follows:"
   ]
  },
  {
   "cell_type": "markdown",
   "metadata": {},
   "source": [
    "<a id='eq16'></a>\n",
    "$$\n",
    "\\mathbf{u}_{j} = \\begin{bmatrix}\n",
    "0 \\\\\n",
    "\\vdots \\\\\n",
    "0 \\\\\n",
    "1 \\\\\n",
    "0 \\\\\n",
    "\\vdots \\\\\n",
    "0\n",
    "\\end{bmatrix} \\: . \\tag{16}\n",
    "$$"
   ]
  },
  {
   "cell_type": "markdown",
   "metadata": {
    "collapsed": true,
    "jupyter": {
     "outputs_hidden": true
    }
   },
   "source": [
    "This vector is extremely import in the following developments."
   ]
  },
  {
   "cell_type": "markdown",
   "metadata": {},
   "source": [
    "<a id='Derivative_2'></a>\n",
    "#### Derivative 2"
   ]
  },
  {
   "cell_type": "markdown",
   "metadata": {},
   "source": [
    "Let $\\mathbf{c}$ be a generic constant vector."
   ]
  },
  {
   "cell_type": "markdown",
   "metadata": {},
   "source": [
    "<a id='eq17a'></a>\n",
    "$$\n",
    "f(\\mathbf{p}) = \\mathbf{c}^{\\top}\\mathbf{p} \\quad , \\tag{17a}\n",
    "$$"
   ]
  },
  {
   "cell_type": "markdown",
   "metadata": {},
   "source": [
    "<a id='eq17b'></a>\n",
    "$$\n",
    "\\begin{split}\n",
    "\\frac{\\partial \\, f(\\mathbf{p})}{\\partial p_{j}} \n",
    "&= \\Bigg\\lbrace \\left( \\frac{\\partial \\, \\mathbf{c}}{\\partial p_{j}} \\right)^{\\top} \\mathbf{p} \\Bigg\\rbrace +\n",
    "\\Bigg\\lbrace \\mathbf{c}^{\\top} \\frac{\\partial \\, \\mathbf{p}}{\\partial p_{j}} \\Bigg\\rbrace \\\\\n",
    "&= \\Bigg\\lbrace \\mathbf{0}^{\\top} \\mathbf{p} \\Bigg\\rbrace + \\Bigg\\lbrace \\mathbf{c}^{\\top} \\frac{\\partial \\, \\mathbf{p}}{\\partial p_{j}} \\Bigg\\rbrace \\\\\n",
    "&= \\mathbf{c}^{\\top}\\mathbf{u}_{j}\n",
    "\\end{split} \\quad . \\tag{17b}\n",
    "$$"
   ]
  },
  {
   "cell_type": "markdown",
   "metadata": {},
   "source": [
    "<a id='Derivative_3'></a>\n",
    "#### Derivative 3"
   ]
  },
  {
   "cell_type": "markdown",
   "metadata": {},
   "source": [
    "<a id='eq18a'></a>\n",
    "$$\n",
    "f(\\mathbf{p}) = \\mathbf{p}^{\\top}\\mathbf{p} \\quad , \\tag{18a}\n",
    "$$"
   ]
  },
  {
   "cell_type": "markdown",
   "metadata": {},
   "source": [
    "<a id='eq18b'></a>\n",
    "$$\n",
    "\\begin{split}\n",
    "\\frac{\\partial \\, f(\\mathbf{p})}{\\partial p_{j}} \n",
    "&= \\Bigg\\lbrace \\left( \\frac{\\partial \\, \\mathbf{p}}{\\partial p_{j}} \\right)^{\\top} \\mathbf{p} \\Bigg\\rbrace +\n",
    "\\Bigg\\lbrace \\mathbf{p}^{\\top} \\left( \\frac{\\partial \\, \\mathbf{p}}{\\partial p_{j}} \\right) \\Bigg\\rbrace \\\\\n",
    "&= \\Bigg\\lbrace \\left( \\frac{\\partial \\, \\mathbf{p}}{\\partial p_{j}} \\right)^{\\top} \\mathbf{p} \\Bigg\\rbrace +\n",
    "\\Bigg\\lbrace \\left( \\frac{\\partial \\, \\mathbf{p}}{\\partial p_{j}} \\right)^{\\top} \\mathbf{p} \\Bigg\\rbrace \\\\\n",
    "&= 2 \\, \\mathbf{u}_{j}^{\\top}\\mathbf{p} \n",
    "\\end{split} \\quad . \\tag{18b}\n",
    "$$"
   ]
  },
  {
   "cell_type": "markdown",
   "metadata": {},
   "source": [
    "<a id='Derivative_4'></a>\n",
    "#### Derivative 4"
   ]
  },
  {
   "cell_type": "markdown",
   "metadata": {},
   "source": [
    "Let $\\mathbf{A}$ be a generic $N \\times M$ constant matrix with columns $\\mathbf{a}_{j}$, $j = 0, \\dots, M-1$."
   ]
  },
  {
   "cell_type": "markdown",
   "metadata": {},
   "source": [
    "<a id='eq19a'></a>\n",
    "$$\n",
    "\\mathbf{f}(\\mathbf{p}) = \\mathbf{A} \\, \\mathbf{p} \\quad , \\tag{19a}\n",
    "$$"
   ]
  },
  {
   "cell_type": "markdown",
   "metadata": {},
   "source": [
    "<a id='eq19b'></a>\n",
    "$$\n",
    "\\begin{split}\n",
    "\\frac{\\partial \\, \\mathbf{f}(\\mathbf{p})}{\\partial p_{j}} \n",
    "&= \\frac{\\partial}{\\partial p_{j}} \\Big\\lbrace \\mathbf{A} \\, \\mathbf{p} \\Big\\rbrace \\\\\n",
    "&= \\frac{\\partial}{\\partial p_{j}} \\Big\\lbrace \n",
    "\\left( p_{0} \\, \\mathbf{a}_{0} \\right) + \\dots +\n",
    "\\left( p_{j} \\, \\mathbf{a}_{j} \\right) + \\dots +\n",
    "\\left( p_{M-1} \\, \\mathbf{a}_{M-1} \\right) \n",
    "\\Big\\rbrace \\\\\n",
    "&= \\Big\\lbrace \n",
    "\\left( 0 \\, \\mathbf{a}_{0} \\right) + \\dots +\n",
    "\\left( 1 \\, \\mathbf{a}_{j} \\right) + \\dots +\n",
    "\\left( 0 \\, \\mathbf{a}_{M-1} \\right) \n",
    "\\Big\\rbrace \\\\\n",
    "&= \\mathbf{A} \\, \\mathbf{u}_{j} \n",
    "\\end{split} \\quad . \\tag{19b}\n",
    "$$"
   ]
  },
  {
   "cell_type": "markdown",
   "metadata": {},
   "source": [
    "<a id='Derivative_5'></a>\n",
    "#### Derivative 5"
   ]
  },
  {
   "cell_type": "markdown",
   "metadata": {},
   "source": [
    "<a id='eq20a'></a>\n",
    "$$\n",
    "f(\\mathbf{p}) = \\mathbf{p}^{\\top} \\mathbf{A}^{\\top} \\mathbf{A} \\, \\mathbf{p} \\quad , \\tag{20a}\n",
    "$$"
   ]
  },
  {
   "cell_type": "markdown",
   "metadata": {},
   "source": [
    "<a id='eq20b'></a>\n",
    "$$\n",
    "\\begin{split}\n",
    "\\frac{\\partial \\, f(\\mathbf{p})}{\\partial p_{j}}\n",
    "&= \\Bigg\\lbrace \\frac{\\partial}{\\partial p_{j}} \\left( \\mathbf{A} \\, \\mathbf{p} \\right) \\Bigg\\rbrace^{\\top} \\left( \\mathbf{A} \\, \\mathbf{p} \\right) +  \\left( \\mathbf{A} \\, \\mathbf{p} \\right)^{\\top} \\Bigg\\lbrace \\frac{\\partial}{\\partial p_{j}} \\left( \\mathbf{A} \\, \\mathbf{p} \\right) \\Bigg\\rbrace \\\\\n",
    "&= \\Bigg\\lbrace \\frac{\\partial}{\\partial p_{j}} \\left( \\mathbf{A} \\, \\mathbf{p} \\right) \\Bigg\\rbrace^{\\top} \\left( \\mathbf{A} \\, \\mathbf{p} \\right) + \\Bigg\\lbrace \\frac{\\partial}{\\partial p_{j}} \\left( \\mathbf{A} \\, \\mathbf{p} \\right) \\Bigg\\rbrace^{\\top} \\left( \\mathbf{A} \\, \\mathbf{p} \\right) \\\\\n",
    "&= 2 \\, \\left( \\mathbf{A} \\, \\mathbf{u}_{j} \\right)^{\\top} \\left( \\mathbf{A} \\, \\mathbf{p} \\right) \\\\\n",
    "&= 2 \\, \\mathbf{u}_{j}^{\\top} \\mathbf{A}^{\\top} \\mathbf{A} \\, \\mathbf{p} \n",
    "\\end{split} \\quad . \\tag{20b}\n",
    "$$"
   ]
  },
  {
   "cell_type": "markdown",
   "metadata": {},
   "source": [
    "<a id='Derivative_6'></a>\n",
    "#### Derivative 6"
   ]
  },
  {
   "cell_type": "markdown",
   "metadata": {},
   "source": [
    "<a id='eq21a'></a>\n",
    "$$\n",
    "\\mathbf{f}(\\mathbf{p}) = \\mathbf{d} - \\mathbf{A} \\, \\mathbf{p} \\quad , \\tag{21a}\n",
    "$$"
   ]
  },
  {
   "cell_type": "markdown",
   "metadata": {},
   "source": [
    "<a id='eq21b'></a>\n",
    "$$\n",
    "\\begin{split}\n",
    "\\frac{\\partial \\, \\mathbf{f}(\\mathbf{p})}{\\partial p_{j}} \n",
    "&= \\frac{\\partial \\, \\mathbf{d}}{\\partial p_{j}} - \n",
    "\\frac{\\partial}{\\partial p_{j}} \\left( \\mathbf{A} \\, \\mathbf{p} \\right) \\\\\n",
    "&= -\\mathbf{A} \\, \\mathbf{u}_{j} \n",
    "\\end{split} \\quad . \\tag{21b}\n",
    "$$"
   ]
  },
  {
   "cell_type": "markdown",
   "metadata": {},
   "source": [
    "<a id='Derivative_7'></a>\n",
    "#### Derivative 7"
   ]
  },
  {
   "cell_type": "markdown",
   "metadata": {},
   "source": [
    "<a id='eq22a'></a>\n",
    "$$\n",
    "f(\\mathbf{p}) = \n",
    "\\left( \\mathbf{d} - \\mathbf{A} \\, \\mathbf{p} \\right)^{\\top}\n",
    "\\left( \\mathbf{d} - \\mathbf{A} \\, \\mathbf{p} \\right) \\quad , \\tag{22a}\n",
    "$$"
   ]
  },
  {
   "cell_type": "markdown",
   "metadata": {},
   "source": [
    "<a id='eq22b'></a>\n",
    "$$\n",
    "\\begin{split}\n",
    "\\frac{\\partial \\, f(\\mathbf{p})}{\\partial p_{j}} \n",
    "&= \\Bigg\\lbrace \\frac{\\partial}{\\partial p_{j}} \\left( \\mathbf{d} - \\mathbf{A} \\, \\mathbf{p} \\right) \\Bigg\\rbrace^{\\top} \\left( \\mathbf{d} - \\mathbf{A} \\, \\mathbf{p} \\right) + \n",
    "\\left( \\mathbf{d} - \\mathbf{A} \\, \\mathbf{p} \\right)^{\\top} \\Bigg\\lbrace \\frac{\\partial}{\\partial p_{j}} \\left( \\mathbf{d} - \\mathbf{A} \\, \\mathbf{p} \\right) \\Bigg\\rbrace \\\\\n",
    "&= \\Bigg\\lbrace \\frac{\\partial}{\\partial p_{j}} \\left( \\mathbf{d} - \\mathbf{A} \\, \\mathbf{p} \\right) \\Bigg\\rbrace^{\\top} \\left( \\mathbf{d} - \\mathbf{A} \\, \\mathbf{p} \\right) + \n",
    "\\Bigg\\lbrace \\frac{\\partial}{\\partial p_{j}} \\left( \\mathbf{d} - \\mathbf{A} \\, \\mathbf{p} \\right) \\Bigg\\rbrace^{\\top} \\left( \\mathbf{d} - \\mathbf{A} \\, \\mathbf{p} \\right) \\\\\n",
    "&= 2 \\left( -\\mathbf{A} \\, \\mathbf{u}_{j} \\right)^{\\top} \\left( \\mathbf{d} - \\mathbf{A} \\, \\mathbf{p} \\right) \\\\\n",
    "&= -2 \\, \\mathbf{u}_{j}^{\\top} \\mathbf{A}^{\\top} \\left( \\mathbf{d} - \\mathbf{A} \\, \\mathbf{p} \\right) \n",
    "\\end{split} \\quad . \\tag{22b}\n",
    "$$"
   ]
  },
  {
   "cell_type": "code",
   "execution_count": null,
   "metadata": {},
   "outputs": [],
   "source": []
  }
 ],
 "metadata": {
  "kernelspec": {
   "display_name": "Python 3 (ipykernel)",
   "language": "python",
   "name": "python3"
  },
  "language_info": {
   "codemirror_mode": {
    "name": "ipython",
    "version": 3
   },
   "file_extension": ".py",
   "mimetype": "text/x-python",
   "name": "python",
   "nbconvert_exporter": "python",
   "pygments_lexer": "ipython3",
   "version": "3.11.8"
  }
 },
 "nbformat": 4,
 "nbformat_minor": 4
}
