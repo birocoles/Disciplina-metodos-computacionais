{
 "cells": [
  {
   "cell_type": "markdown",
   "metadata": {},
   "source": [
    "# Weighted Least Squares - theoretical aspects"
   ]
  },
  {
   "cell_type": "markdown",
   "metadata": {},
   "source": [
    "This notebook presents some theoretical developments for deducing the Weighted Least Squares Problem (Golub and Van Loan, 2013, p. 304; Menke, 2018, p. 58; Aster et al., 2019, p. 28)."
   ]
  },
  {
   "cell_type": "markdown",
   "metadata": {},
   "source": [
    "### References\n",
    "\n",
    "* Golub, G. H. and Van Loan, C. F. Matrix computations, 4th edition, Johns Hopkins University Press, 2013, ISBN 978-1-4214-0859-0\n",
    "\n",
    "* Menke, W. Geophysical Data Analysis: Discrete inverse theory, 4th edition, Academic Press, 2018, ISBN 978-0-12-813555-6\n",
    "\n",
    "* Aster, R. C., Borchers, B., and Thurber, C. H. Parameter Estimation and Inverse Problems, 3rd edition Elsevier Academic Press, 2019, ISBN: 978-0-12-804651-7"
   ]
  },
  {
   "cell_type": "markdown",
   "metadata": {},
   "source": [
    "Let's consider now that, for some reason, we want to give \"*less importance*\" for some observations $d_{i}$ in the observed data vector $\\mathbf{d}$ (equation 6, notebook `least_squares`). This \"*less importance*\" can be represented by pre-multiplying the linear system (equation 3, notebook `least_squares`) as follows:"
   ]
  },
  {
   "cell_type": "markdown",
   "metadata": {},
   "source": [
    "<a id='eq1'></a>\n",
    "$$\n",
    "\\mathbf{W}^{\\frac{1}{2}} \\, \\mathbf{d} \\approx \\mathbf{W}^{\\frac{1}{2}} \\, \\mathbf{y} = \\mathbf{W}^{\\frac{1}{2}} \\, \\mathbf{A} \\, \\mathbf{p} \\: , \\tag{1}\n",
    "$$"
   ]
  },
  {
   "cell_type": "markdown",
   "metadata": {},
   "source": [
    "where $\\mathbf{W}^{\\frac{1}{2}}$ is a diagonal matrix formed by:"
   ]
  },
  {
   "cell_type": "markdown",
   "metadata": {},
   "source": [
    "<a id='eq2'></a>\n",
    "$$\n",
    "\\mathbf{W}^{\\frac{1}{2}} = \\begin{cases}\n",
    "w_{ii} = 1 \\: &, \\quad \\text{``important'' observations } d_{i} \\\\\n",
    "0 < w_{ii} < 1 \\: &, \\quad \\text{``less important'' observations } d_{i}\n",
    "\\end{cases} \\quad . \\tag{2}\n",
    "$$"
   ]
  },
  {
   "cell_type": "markdown",
   "metadata": {},
   "source": [
    "Notice that matrix $\\mathbf{W}^{\\frac{1}{2}}$ gives rise to a new residuals vector:"
   ]
  },
  {
   "cell_type": "markdown",
   "metadata": {},
   "source": [
    "<a id='eq3'></a>\n",
    "$$\n",
    "\\mathbf{r}_{w} = \\mathbf{W}^{\\frac{1}{2}} \\mathbf{r} \\tag{3}\n",
    "$$"
   ]
  },
  {
   "cell_type": "markdown",
   "metadata": {},
   "source": [
    "and a weighted misfit function"
   ]
  },
  {
   "cell_type": "markdown",
   "metadata": {},
   "source": [
    "<a id='eq4a'></a>\n",
    "$$\n",
    "\\Phi_{w}(\\mathbf{p}) = \\left[ \\mathbf{d} - \\mathbf{A}\\mathbf{p} \\right]^{\\top} \\mathbf{W} \\left[ \\mathbf{d} - \\mathbf{A}\\mathbf{p} \\right] \\: , \\tag{4a}\n",
    "$$"
   ]
  },
  {
   "cell_type": "markdown",
   "metadata": {},
   "source": [
    "where"
   ]
  },
  {
   "cell_type": "markdown",
   "metadata": {},
   "source": [
    "<a id='eq4b'></a>\n",
    "$$\n",
    "\\mathbf{W} = \\left( \\mathbf{W}^{\\frac{1}{2}} \\right)^{\\top} \\left( \\mathbf{W}^{\\frac{1}{2}} \\right) \\: . \\tag{4b}\n",
    "$$"
   ]
  },
  {
   "cell_type": "markdown",
   "metadata": {},
   "source": [
    "In the present problem, we are now interested in estimating the parameter vector $\\mathbf{p} = \\breve{\\mathbf{p}}$ minimizing the weighted misfit function $\\Phi_{w}(\\mathbf{p})$."
   ]
  },
  {
   "cell_type": "markdown",
   "metadata": {},
   "source": [
    "The $j$ th element of the gradient of $\\Phi_{w}(\\mathbf{p})$ ([equation 4a](#eq4a)) is given by:"
   ]
  },
  {
   "cell_type": "markdown",
   "metadata": {
    "collapsed": true,
    "jupyter": {
     "outputs_hidden": true
    }
   },
   "source": [
    "<a id='eq5'></a>\n",
    "$$\n",
    "\\begin{split}\n",
    "\\dfrac{\\partial \\, \\Phi_{w}(\\mathbf{p})}{\\partial \\, p_{j}} \n",
    "&= 2 \\, \\Big \\{ \\dfrac{\\partial}{\\partial \\, p_{j}} \\mathbf{W}^{\\frac{1}{2}} \\left[ \\mathbf{d} - \\mathbf{A}\\mathbf{p} \\right] \\Big \\} \n",
    "^{\\top} \\mathbf{W}^{\\frac{1}{2}} \\left[ \\mathbf{d} - \\mathbf{A}\\mathbf{p} \\right] \\\\\n",
    "&= 2 \\Big \\{ -\\mathbf{u}_{j}^{\\top}\\mathbf{A}^{\\top} \\Big \\} \\mathbf{W} \\left[ \\mathbf{d} - \\mathbf{A}\\mathbf{p} \\right]\n",
    "\\end{split} \\: . \\tag{5}\n",
    "$$"
   ]
  },
  {
   "cell_type": "markdown",
   "metadata": {},
   "source": [
    "By using this derivative ([equation 5](#eq5)), the gradient of $\\Phi_{w}(\\mathbf{p})$ ([equation 4a](#eq4a)) can be defined in this way:"
   ]
  },
  {
   "cell_type": "markdown",
   "metadata": {},
   "source": [
    "<a id='eq6'></a>\n",
    "$$\n",
    "\\nabla \\Phi_{w}(\\mathbf{p}) = -2 \\mathbf{A}^{\\top} \\mathbf{W} \\left[ \\mathbf{d} - \\mathbf{A}\\mathbf{p} \\right] \\: . \\tag{6}\n",
    "$$"
   ]
  },
  {
   "cell_type": "markdown",
   "metadata": {},
   "source": [
    "Finally, by evaluating the gradient $\\nabla \\Phi_{w}(\\mathbf{p})$ ([equation 6](#eq6)) at $\\breve{\\mathbf{p}}$ and equating the result to the null vector, we obtain"
   ]
  },
  {
   "cell_type": "markdown",
   "metadata": {},
   "source": [
    "<a id='eq7'></a>\n",
    "$$\n",
    "\\begin{align}\n",
    "\\nabla \\Phi_{w}(\\breve{\\mathbf{p}}) &= -2 \\mathbf{A}^{\\top} \\mathbf{W} \\left[ \\mathbf{d} - \\mathbf{A}\\breve{\\mathbf{p}} \\right] \\\\\n",
    "\\mathbf{0} &= -\\mathbf{A}^{\\top} \\mathbf{W} \\mathbf{d} + \\mathbf{A}^{\\top} \\mathbf{W} \\mathbf{A}\\breve{\\mathbf{p}} \n",
    "\\end{align} \\quad , \\tag{7}\n",
    "$$"
   ]
  },
  {
   "cell_type": "markdown",
   "metadata": {},
   "source": [
    "resulting that"
   ]
  },
  {
   "cell_type": "markdown",
   "metadata": {},
   "source": [
    "<a id='eq8'></a>\n",
    "$$\n",
    "\\left( \\mathbf{A}^{\\top} \\mathbf{W} \\mathbf{A} \\right) \\breve{\\mathbf{p}} = \\mathbf{A}^{\\top} \\mathbf{W} \\mathbf{d} \\: . \\tag{8}\n",
    "$$"
   ]
  },
  {
   "cell_type": "markdown",
   "metadata": {},
   "source": [
    "This equation is commonly called **Weighted Least Squares Estimator**."
   ]
  },
  {
   "cell_type": "markdown",
   "metadata": {},
   "source": [
    "## Estimating the uncertainty of the parameters"
   ]
  },
  {
   "cell_type": "markdown",
   "metadata": {},
   "source": [
    "By using equations 20a and 20b of the notebook `least_squares`, and the weighted least-squares estimator ([equation 8](#eq8)), we define the covariance matrix $\\mathbf{\\Sigma}_{\\breve{\\mathbf{p}}}$ of the estimated parameter vector $\\breve{\\mathbf{p}}$ as follows:"
   ]
  },
  {
   "cell_type": "markdown",
   "metadata": {},
   "source": [
    "<a id='eq9'></a>\n",
    "$$\n",
    "\\mathbf{\\Sigma}_{\\breve{\\mathbf{p}}} \n",
    "= \\left[ \\left( \\mathbf{A}^{\\top} \\mathbf{W} \\mathbf{A} \\right)^{-1}\\mathbf{A}^{\\top} \\mathbf{W}^{\\frac{1}{2}} \\right] \\mathbf{\\Sigma_{d}} \n",
    "\\left[ \\left( \\mathbf{A}^{\\top}\\mathbf{W} \\mathbf{A} \\right)^{-1}\\mathbf{A}^{\\top} \\mathbf{W}^{\\frac{1}{2}} \\right]^{\\top} \\: , \\tag{9}\n",
    "$$"
   ]
  },
  {
   "cell_type": "markdown",
   "metadata": {},
   "source": [
    "where $\\mathbf{\\Sigma_{d}}$ is the covariance matrix of the observed data $\\mathbf{d}$. By considering that the observed data are uncorrelated and have the same variance $\\sigma_{\\mathbf{d}}^{2}$, the covariance matrix $\\mathbf{\\Sigma}_{\\breve{\\mathbf{p}}}$ of the estimated parameter vector $\\breve{\\mathbf{p}}$ assumes the particular form:"
   ]
  },
  {
   "cell_type": "markdown",
   "metadata": {},
   "source": [
    "<a id='eq10'></a>\n",
    "$$\n",
    "\\mathbf{\\Sigma}_{\\breve{\\mathbf{p}}} = \\sigma_{\\mathbf{d}}^{2} \\left( \\mathbf{A}^{\\top}\\mathbf{W} \\mathbf{A} \\right)^{-1} \\: . \\tag{10}\n",
    "$$"
   ]
  },
  {
   "cell_type": "markdown",
   "metadata": {},
   "source": [
    "Finally, the uncertainty of the $j$-th element of the estimated parameter vector $\\breve{\\mathbf{p}}$ can be defined as the root square of the $j$-th element of the main diagonal of $\\mathbf{\\Sigma}_{\\breve{\\mathbf{p}}}$."
   ]
  },
  {
   "cell_type": "code",
   "execution_count": null,
   "metadata": {},
   "outputs": [],
   "source": []
  }
 ],
 "metadata": {
  "kernelspec": {
   "display_name": "Python 3 (ipykernel)",
   "language": "python",
   "name": "python3"
  },
  "language_info": {
   "codemirror_mode": {
    "name": "ipython",
    "version": 3
   },
   "file_extension": ".py",
   "mimetype": "text/x-python",
   "name": "python",
   "nbconvert_exporter": "python",
   "pygments_lexer": "ipython3",
   "version": "3.11.8"
  }
 },
 "nbformat": 4,
 "nbformat_minor": 4
}
