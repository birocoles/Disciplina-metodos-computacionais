{
 "cells": [
  {
   "cell_type": "markdown",
   "metadata": {},
   "source": [
    "# Gaussian elimination - introduction"
   ]
  },
  {
   "cell_type": "markdown",
   "metadata": {},
   "source": [
    "Consider the following linear system:"
   ]
  },
  {
   "cell_type": "markdown",
   "metadata": {},
   "source": [
    "$$\\mathbf{A} \\, \\mathbf{x}  = \\mathbf{y}\\: ,$$"
   ]
  },
  {
   "cell_type": "markdown",
   "metadata": {},
   "source": [
    "where $\\mathbf{A}$ is a $N \\times N$ unstructured matrix given by"
   ]
  },
  {
   "cell_type": "markdown",
   "metadata": {},
   "source": [
    "$$\\mathbf{A} = \\left[\n",
    "\\begin{array}{cccccc}\n",
    "a_{00} & a_{01} & a_{02} & a_{03} & \\cdots & a_{0(N-1)} \\\\\n",
    "a_{10} & a_{11} & a_{12} & a_{13} & \\cdots & a_{1(N-1)} \\\\\n",
    "a_{20} & a_{21} & a_{22} & a_{23} & \\cdots & a_{2(N-1)} \\\\\n",
    "a_{30} & a_{31} & a_{32} & a_{33} & \\cdots & a_{3(N-1)} \\\\\n",
    "\\vdots & \\vdots & \\vdots & \\vdots & \\ddots & \\vdots \\\\\n",
    "a_{(N-1)0} & a_{(N-1)1} & a_{(N-1)2} & a_{(N-1)3} & \\cdots & a_{(N-1)(N-1)}\n",
    "\\end{array}\n",
    "\\right]_{\\, N \\times N} \\: ,$$"
   ]
  },
  {
   "cell_type": "markdown",
   "metadata": {},
   "source": [
    "$$\\mathbf{y} = \\left[\n",
    "\\begin{array}{c}\n",
    "y_{0} \\\\\n",
    "y_{1} \\\\\n",
    "\\vdots \\\\\n",
    "y_{(N-1)}\n",
    "\\end{array}\n",
    "\\right]_{\\, N \\times 1}$$"
   ]
  },
  {
   "cell_type": "markdown",
   "metadata": {},
   "source": [
    "and"
   ]
  },
  {
   "cell_type": "markdown",
   "metadata": {},
   "source": [
    "$$\\mathbf{x} = \\left[\n",
    "\\begin{array}{c}\n",
    "x_{0} \\\\\n",
    "x_{1} \\\\\n",
    "\\vdots \\\\\n",
    "x_{(N-1)}\n",
    "\\end{array}\n",
    "\\right]_{\\, N \\times 1} \\: .$$"
   ]
  },
  {
   "cell_type": "markdown",
   "metadata": {},
   "source": [
    "This is a **square and unstructured linear system** because $\\mathbf{A}$ is a general square matrix that is not diagonal, triangular, banded or any other type of structured matrix. \n",
    "\n",
    "How to solve this linear system? At this part of the course, we only know how to solve diagonal and triangular systems. It would be useful if this system were tranformed into an equivalent triangular system having the same solution $\\mathbf{x}$ as the unstructured system presented above. We say that this new system is equivalent because the solution is the same and triangular because its matrix is upper triangular.\n",
    "\n",
    "[**Gaussian elimination**](https://en.wikipedia.org/wiki/Gaussian_elimination) is a numerical procedure applied to transform a square and unstructured system into this equivalent triangular system, which can be represented as follows: "
   ]
  },
  {
   "cell_type": "markdown",
   "metadata": {},
   "source": [
    "$$\\mathbf{B} \\, \\mathbf{x} = \\mathbf{z} \\: ,$$"
   ]
  },
  {
   "cell_type": "markdown",
   "metadata": {},
   "source": [
    "where"
   ]
  },
  {
   "cell_type": "markdown",
   "metadata": {},
   "source": [
    "$$\\mathbf{B} = \\left[\n",
    "\\begin{array}{ccccc}\n",
    "b_{00} & b_{01} & b_{02} & b_{03} & \\cdots & b_{0(N-1)} \\\\\n",
    "0 & b_{11} & b_{12} & b_{13} & \\cdots & b_{1(N-1)} \\\\\n",
    "0 & 0 & b_{22} & b_{23} & \\cdots & b_{2(N-1)} \\\\\n",
    "0 & 0 & 0 & b_{33} & \\cdots & b_{3(N-1)} \\\\\n",
    "\\vdots & \\vdots & \\vdots &  & \\ddots & \\vdots \\\\\n",
    "0 & 0 & 0 & 0 & \\cdots & b_{(N-1)(N-1)}\n",
    "\\end{array}\n",
    "\\right]_{\\, N \\times N}$$"
   ]
  },
  {
   "cell_type": "markdown",
   "metadata": {},
   "source": [
    "and"
   ]
  },
  {
   "cell_type": "markdown",
   "metadata": {},
   "source": [
    "$$\\mathbf{z} = \\left[\n",
    "\\begin{array}{c}\n",
    "z_{0} \\\\\n",
    "z_{1} \\\\\n",
    "\\vdots \\\\\n",
    "z_{(N-1)}\n",
    "\\end{array}\n",
    "\\right]_{\\, N \\times 1} \\: .$$"
   ]
  },
  {
   "cell_type": "markdown",
   "metadata": {},
   "source": [
    "As pointed out before, this equivalent system has the same solution $\\mathbf{x}$ as the unstructured system. The most striking observation to emerge from [Gaussian elimination](https://en.wikipedia.org/wiki/Gaussian_elimination) is that it transforms an unstructured linear system into a triangular system, which can be easily solved."
   ]
  },
  {
   "cell_type": "markdown",
   "metadata": {},
   "source": [
    "This transformation is based on three row transformations that do not change the solution of the linear system: **swapping the positions of two rows**, **multiplying a row by a nonzero scalar** and **adding to one row a scalar multiple of another**. All these transformations can be defined as follows:\n",
    "\n",
    "$$\n",
    "\\underbrace{\\mathbf{T} \\mathbf{A}}_{\\mathbf{A}^{\\prime}} \\mathbf{x} = \\underbrace{\\mathbf{T} \\mathbf{y}}_{\\mathbf{y}^{\\prime}} \\: ,\n",
    "$$\n",
    "\n",
    "where $\\mathbf{T}$ is a square matrix representing the desired transformation."
   ]
  },
  {
   "cell_type": "markdown",
   "metadata": {},
   "source": [
    "Let's consider a linear system $\\mathbf{A} \\mathbf{x} = \\mathbf{y}$ given by:"
   ]
  },
  {
   "cell_type": "code",
   "execution_count": 1,
   "metadata": {},
   "outputs": [],
   "source": [
    "import numpy as np"
   ]
  },
  {
   "cell_type": "code",
   "execution_count": 2,
   "metadata": {},
   "outputs": [],
   "source": [
    "A = np.array([[1.,3.,2.],\n",
    "              [7.,4.,9.],\n",
    "              [8.,6.,5.]])"
   ]
  },
  {
   "cell_type": "code",
   "execution_count": 3,
   "metadata": {},
   "outputs": [],
   "source": [
    "y = np.array([5.23, 6.45, 1.67])"
   ]
  },
  {
   "cell_type": "markdown",
   "metadata": {},
   "source": [
    "The solution of this system is given by:"
   ]
  },
  {
   "cell_type": "code",
   "execution_count": 4,
   "metadata": {},
   "outputs": [],
   "source": [
    "x = np.linalg.solve(A,y)"
   ]
  },
  {
   "cell_type": "code",
   "execution_count": 5,
   "metadata": {},
   "outputs": [
    {
     "name": "stdout",
     "output_type": "stream",
     "text": [
      "[-1.70556701  1.34958763  1.44340206]\n"
     ]
    }
   ],
   "source": [
    "print(x)"
   ]
  },
  {
   "cell_type": "code",
   "execution_count": 7,
   "metadata": {},
   "outputs": [
    {
     "data": {
      "text/plain": [
       "array([5.23, 6.45, 1.67])"
      ]
     },
     "execution_count": 7,
     "metadata": {},
     "output_type": "execute_result"
    }
   ],
   "source": [
    "A@x"
   ]
  },
  {
   "cell_type": "markdown",
   "metadata": {},
   "source": [
    "### Solution obtained by **swapping the positions of two rows**"
   ]
  },
  {
   "cell_type": "markdown",
   "metadata": {},
   "source": [
    "In this case, $\\mathbf{T}$ is defined by swapping two specific lines of the identity matrix. Let's consider, for example, a transformation that swaps two first lines of the original system. In this case, the matrix $\\mathbf{T}$ is given by:\n",
    "\n",
    "$$\n",
    "\\mathbf{T} =\n",
    "\\begin{bmatrix}\n",
    "0 & 1 & 0 \\\\\n",
    "1 & 0 & 0 \\\\\n",
    "0 & 0 & 1\n",
    "\\end{bmatrix}\n",
    "$$"
   ]
  },
  {
   "cell_type": "code",
   "execution_count": 6,
   "metadata": {},
   "outputs": [
    {
     "name": "stdout",
     "output_type": "stream",
     "text": [
      "[[0. 1. 0.]\n",
      " [1. 0. 0.]\n",
      " [0. 0. 1.]]\n"
     ]
    }
   ],
   "source": [
    "T = np.identity(3)[[1, 0, 2]]\n",
    "\n",
    "print(T)"
   ]
  },
  {
   "cell_type": "markdown",
   "metadata": {},
   "source": [
    "The matrix $\\mathbf{A}^{\\prime}$ and vector $\\mathbf{y}^{\\prime}$ can be obtained as follows:"
   ]
  },
  {
   "cell_type": "code",
   "execution_count": 8,
   "metadata": {},
   "outputs": [],
   "source": [
    "A_prime = np.dot(T, A)\n",
    "y_prime = np.dot(T, y)"
   ]
  },
  {
   "cell_type": "code",
   "execution_count": 9,
   "metadata": {},
   "outputs": [
    {
     "name": "stdout",
     "output_type": "stream",
     "text": [
      "[[1. 3. 2.]\n",
      " [7. 4. 9.]\n",
      " [8. 6. 5.]]\n",
      "\n",
      "\n",
      "[[7. 4. 9.]\n",
      " [1. 3. 2.]\n",
      " [8. 6. 5.]]\n"
     ]
    }
   ],
   "source": [
    "print(A)\n",
    "print('\\n')\n",
    "print(A_prime)"
   ]
  },
  {
   "cell_type": "code",
   "execution_count": 10,
   "metadata": {},
   "outputs": [
    {
     "name": "stdout",
     "output_type": "stream",
     "text": [
      "[5.23 6.45 1.67]\n",
      "\n",
      "\n",
      "[6.45 5.23 1.67]\n"
     ]
    }
   ],
   "source": [
    "print(y)\n",
    "print('\\n')\n",
    "print(y_prime)"
   ]
  },
  {
   "cell_type": "markdown",
   "metadata": {},
   "source": [
    "Alternatively, $\\mathbf{A}^{\\prime}$ and $\\mathbf{y}^{\\prime}$ can be obtained by directly swapping the rows of $\\mathbf{A}$ and $\\mathbf{y}$, as follows:"
   ]
  },
  {
   "cell_type": "code",
   "execution_count": 11,
   "metadata": {},
   "outputs": [
    {
     "name": "stdout",
     "output_type": "stream",
     "text": [
      "[[7. 4. 9.]\n",
      " [1. 3. 2.]\n",
      " [8. 6. 5.]]\n",
      "\n",
      "\n",
      "[[7. 4. 9.]\n",
      " [1. 3. 2.]\n",
      " [8. 6. 5.]]\n"
     ]
    }
   ],
   "source": [
    "print(A_prime)\n",
    "print('\\n')\n",
    "print(A[[1, 0, 2]])"
   ]
  },
  {
   "cell_type": "code",
   "execution_count": 12,
   "metadata": {},
   "outputs": [
    {
     "name": "stdout",
     "output_type": "stream",
     "text": [
      "[6.45 5.23 1.67]\n",
      "\n",
      "\n",
      "[6.45 5.23 1.67]\n"
     ]
    }
   ],
   "source": [
    "print(y_prime)\n",
    "print('\\n')\n",
    "print(y[[1, 0, 2]])"
   ]
  },
  {
   "cell_type": "markdown",
   "metadata": {},
   "source": [
    "The solution of the system $\\mathbf{A}^{\\prime} \\mathbf{x} = \\mathbf{y}^{\\prime}$ is given by:"
   ]
  },
  {
   "cell_type": "code",
   "execution_count": 13,
   "metadata": {},
   "outputs": [],
   "source": [
    "x1 = np.linalg.solve(A_prime, y_prime)"
   ]
  },
  {
   "cell_type": "code",
   "execution_count": 14,
   "metadata": {},
   "outputs": [
    {
     "name": "stdout",
     "output_type": "stream",
     "text": [
      "[-1.70556701  1.34958763  1.44340206]\n"
     ]
    }
   ],
   "source": [
    "print(x1)"
   ]
  },
  {
   "cell_type": "markdown",
   "metadata": {},
   "source": [
    "which is equal to the solution of the original system"
   ]
  },
  {
   "cell_type": "code",
   "execution_count": 15,
   "metadata": {},
   "outputs": [
    {
     "name": "stdout",
     "output_type": "stream",
     "text": [
      "[-1.70556701  1.34958763  1.44340206]\n"
     ]
    }
   ],
   "source": [
    "print(x)"
   ]
  },
  {
   "cell_type": "code",
   "execution_count": 16,
   "metadata": {},
   "outputs": [
    {
     "data": {
      "text/plain": [
       "True"
      ]
     },
     "execution_count": 16,
     "metadata": {},
     "output_type": "execute_result"
    }
   ],
   "source": [
    "np.allclose(x, x1)"
   ]
  },
  {
   "cell_type": "markdown",
   "metadata": {},
   "source": [
    "### Solution obtained by **multiplying a row by a nonzero scalar**"
   ]
  },
  {
   "cell_type": "markdown",
   "metadata": {},
   "source": [
    "In this case, $\\mathbf{T}$ is defined by multiplying the $i$-th row of the identity matrix by $\\lambda$. Let's consider, for example, a transformation that multiply the second row of the original system by `3`. In this case, the matrix $\\mathbf{T}$ is given by:\n",
    "\n",
    "$$\n",
    "\\mathbf{T} =\n",
    "\\begin{bmatrix}\n",
    "1 & 0 & 0 \\\\\n",
    "0 & 3 & 0 \\\\\n",
    "0 & 0 & 1\n",
    "\\end{bmatrix}\n",
    "$$"
   ]
  },
  {
   "cell_type": "code",
   "execution_count": 17,
   "metadata": {},
   "outputs": [
    {
     "name": "stdout",
     "output_type": "stream",
     "text": [
      "[[1. 0. 0.]\n",
      " [0. 3. 0.]\n",
      " [0. 0. 1.]]\n"
     ]
    }
   ],
   "source": [
    "T = np.diag([1., 3., 1.])\n",
    "\n",
    "print(T)"
   ]
  },
  {
   "cell_type": "markdown",
   "metadata": {},
   "source": [
    "The matrix $\\mathbf{A}^{\\prime}$ and vector $\\mathbf{y}^{\\prime}$ can be obtained as follows:"
   ]
  },
  {
   "cell_type": "code",
   "execution_count": 18,
   "metadata": {},
   "outputs": [],
   "source": [
    "A_prime = np.dot(T, A)\n",
    "y_prime = np.dot(T, y)"
   ]
  },
  {
   "cell_type": "code",
   "execution_count": 19,
   "metadata": {},
   "outputs": [
    {
     "name": "stdout",
     "output_type": "stream",
     "text": [
      "[[1. 3. 2.]\n",
      " [7. 4. 9.]\n",
      " [8. 6. 5.]]\n",
      "\n",
      "\n",
      "[[ 1.  3.  2.]\n",
      " [21. 12. 27.]\n",
      " [ 8.  6.  5.]]\n"
     ]
    }
   ],
   "source": [
    "print(A)\n",
    "print('\\n')\n",
    "print(A_prime)"
   ]
  },
  {
   "cell_type": "code",
   "execution_count": 20,
   "metadata": {},
   "outputs": [
    {
     "name": "stdout",
     "output_type": "stream",
     "text": [
      "[5.23 6.45 1.67]\n",
      "\n",
      "\n",
      "[ 5.23 19.35  1.67]\n"
     ]
    }
   ],
   "source": [
    "print(y)\n",
    "print('\\n')\n",
    "print(y_prime)"
   ]
  },
  {
   "cell_type": "markdown",
   "metadata": {},
   "source": [
    "The solution of the system $\\mathbf{A}^{\\prime} \\mathbf{x} = \\mathbf{y}^{\\prime}$ is given by:"
   ]
  },
  {
   "cell_type": "code",
   "execution_count": 21,
   "metadata": {},
   "outputs": [],
   "source": [
    "x2 = np.linalg.solve(A_prime, y_prime)"
   ]
  },
  {
   "cell_type": "code",
   "execution_count": 22,
   "metadata": {},
   "outputs": [
    {
     "name": "stdout",
     "output_type": "stream",
     "text": [
      "[-1.70556701  1.34958763  1.44340206]\n"
     ]
    }
   ],
   "source": [
    "print(x2)"
   ]
  },
  {
   "cell_type": "markdown",
   "metadata": {},
   "source": [
    "which is equal to the solution of the original system"
   ]
  },
  {
   "cell_type": "code",
   "execution_count": 23,
   "metadata": {},
   "outputs": [
    {
     "name": "stdout",
     "output_type": "stream",
     "text": [
      "[-1.70556701  1.34958763  1.44340206]\n"
     ]
    }
   ],
   "source": [
    "print(x)"
   ]
  },
  {
   "cell_type": "code",
   "execution_count": 24,
   "metadata": {},
   "outputs": [
    {
     "data": {
      "text/plain": [
       "True"
      ]
     },
     "execution_count": 24,
     "metadata": {},
     "output_type": "execute_result"
    }
   ],
   "source": [
    "np.allclose(x, x2)"
   ]
  },
  {
   "cell_type": "markdown",
   "metadata": {},
   "source": [
    "### Solution obtained by **adding to one row a scalar multiple of another**"
   ]
  },
  {
   "cell_type": "markdown",
   "metadata": {},
   "source": [
    "In this case, $\\mathbf{T}$ is defined by using a outer product. Let's consider, for example, a transformation that adds to the third row the product of the first row by a constant $\\alpha$."
   ]
  },
  {
   "cell_type": "markdown",
   "metadata": {},
   "source": [
    "In this case, the $\\mathbf{T}$ can be defined as follows:\n",
    "\n",
    "$$\n",
    "\\mathbf{T} = \\mathbf{I} + \\mathbf{t} \\cdot \\mathbf{u}^{\\top} \\: ,\n",
    "$$"
   ]
  },
  {
   "cell_type": "markdown",
   "metadata": {},
   "source": [
    "where $\\mathbf{I}$ is the identity matrix,\n",
    "\n",
    "$$\n",
    "\\mathbf{u} =\n",
    "\\begin{bmatrix}\n",
    "1 \\\\ 0 \\\\ 0\n",
    "\\end{bmatrix}\n",
    "$$\n",
    "\n",
    "and\n",
    "\n",
    "$$\n",
    "\\mathbf{t} =\n",
    "\\begin{bmatrix}\n",
    "0 \\\\ 0 \\\\ \\alpha\n",
    "\\end{bmatrix} \\: .\n",
    "$$"
   ]
  },
  {
   "cell_type": "markdown",
   "metadata": {},
   "source": [
    "Notice that the position of the non-null element of $\\mathbf{u}$ defines the row to be multiplied by the constant $\\alpha$, whereas the position of the constant $\\alpha$ in $\\mathbf{t}$ defines the row in which the addition will be performed.\n",
    "\n",
    "Let's consider, for example, the transformation that adds to the third row the first row multiplied by `3`. In this case, the matrix $\\mathbf{T}$ is defined as follows:"
   ]
  },
  {
   "cell_type": "code",
   "execution_count": 25,
   "metadata": {},
   "outputs": [],
   "source": [
    "alpha = 3.\n",
    "t = np.array([0., 0., alpha])\n",
    "u = np.array([1., 0., 0.])"
   ]
  },
  {
   "cell_type": "code",
   "execution_count": 26,
   "metadata": {},
   "outputs": [
    {
     "name": "stdout",
     "output_type": "stream",
     "text": [
      "[[0. 0. 0.]\n",
      " [0. 0. 0.]\n",
      " [3. 0. 0.]]\n",
      "[[1. 0. 0.]\n",
      " [0. 1. 0.]\n",
      " [3. 0. 1.]]\n"
     ]
    }
   ],
   "source": [
    "T = np.identity(3) + np.outer(t, u)\n",
    "\n",
    "print(np.outer(t, u))\n",
    "print(T)"
   ]
  },
  {
   "cell_type": "markdown",
   "metadata": {},
   "source": [
    "The matrix $\\mathbf{A}^{\\prime}$ and vector $\\mathbf{y}^{\\prime}$ can be obtained as follows:"
   ]
  },
  {
   "cell_type": "code",
   "execution_count": 27,
   "metadata": {},
   "outputs": [],
   "source": [
    "A_prime = np.dot(T, A)\n",
    "y_prime = np.dot(T, y)"
   ]
  },
  {
   "cell_type": "code",
   "execution_count": 28,
   "metadata": {},
   "outputs": [
    {
     "name": "stdout",
     "output_type": "stream",
     "text": [
      "[[1. 3. 2.]\n",
      " [7. 4. 9.]\n",
      " [8. 6. 5.]]\n",
      "\n",
      "\n",
      "[[ 1.  3.  2.]\n",
      " [ 7.  4.  9.]\n",
      " [11. 15. 11.]]\n"
     ]
    }
   ],
   "source": [
    "print(A)\n",
    "print('\\n')\n",
    "print(A_prime)"
   ]
  },
  {
   "cell_type": "code",
   "execution_count": 29,
   "metadata": {},
   "outputs": [
    {
     "name": "stdout",
     "output_type": "stream",
     "text": [
      "[5.23 6.45 1.67]\n",
      "\n",
      "\n",
      "[ 5.23  6.45 17.36]\n"
     ]
    }
   ],
   "source": [
    "print(y)\n",
    "print('\\n')\n",
    "print(y_prime)"
   ]
  },
  {
   "cell_type": "markdown",
   "metadata": {},
   "source": [
    "The solution of the system $\\mathbf{A}^{\\prime} \\mathbf{x} = \\mathbf{y}^{\\prime}$ is given by:"
   ]
  },
  {
   "cell_type": "code",
   "execution_count": 30,
   "metadata": {},
   "outputs": [],
   "source": [
    "x3 = np.linalg.solve(A_prime, y_prime)"
   ]
  },
  {
   "cell_type": "code",
   "execution_count": 31,
   "metadata": {},
   "outputs": [
    {
     "name": "stdout",
     "output_type": "stream",
     "text": [
      "[-1.70556701  1.34958763  1.44340206]\n"
     ]
    }
   ],
   "source": [
    "print(x3)"
   ]
  },
  {
   "cell_type": "markdown",
   "metadata": {},
   "source": [
    "which is equal to the solution of the original system"
   ]
  },
  {
   "cell_type": "code",
   "execution_count": 32,
   "metadata": {},
   "outputs": [
    {
     "name": "stdout",
     "output_type": "stream",
     "text": [
      "[-1.70556701  1.34958763  1.44340206]\n"
     ]
    }
   ],
   "source": [
    "print(x)"
   ]
  },
  {
   "cell_type": "code",
   "execution_count": 33,
   "metadata": {},
   "outputs": [
    {
     "data": {
      "text/plain": [
       "True"
      ]
     },
     "execution_count": 33,
     "metadata": {},
     "output_type": "execute_result"
    }
   ],
   "source": [
    "np.allclose(x, x3)"
   ]
  },
  {
   "cell_type": "markdown",
   "metadata": {},
   "source": [
    "### Comparison between the solutions `x`, `x1`, `x2` and `x3`"
   ]
  },
  {
   "cell_type": "code",
   "execution_count": 34,
   "metadata": {},
   "outputs": [
    {
     "name": "stdout",
     "output_type": "stream",
     "text": [
      "[-1.70556701  1.34958763  1.44340206]\n"
     ]
    }
   ],
   "source": [
    "print(x)"
   ]
  },
  {
   "cell_type": "code",
   "execution_count": 35,
   "metadata": {},
   "outputs": [
    {
     "name": "stdout",
     "output_type": "stream",
     "text": [
      "[-1.70556701  1.34958763  1.44340206]\n"
     ]
    }
   ],
   "source": [
    "print(x1)"
   ]
  },
  {
   "cell_type": "code",
   "execution_count": 36,
   "metadata": {},
   "outputs": [
    {
     "name": "stdout",
     "output_type": "stream",
     "text": [
      "[-1.70556701  1.34958763  1.44340206]\n"
     ]
    }
   ],
   "source": [
    "print(x2)"
   ]
  },
  {
   "cell_type": "code",
   "execution_count": 37,
   "metadata": {},
   "outputs": [
    {
     "name": "stdout",
     "output_type": "stream",
     "text": [
      "[-1.70556701  1.34958763  1.44340206]\n"
     ]
    }
   ],
   "source": [
    "print(x3)"
   ]
  },
  {
   "cell_type": "code",
   "execution_count": null,
   "metadata": {},
   "outputs": [],
   "source": []
  }
 ],
 "metadata": {
  "kernelspec": {
   "display_name": "Python 3 (ipykernel)",
   "language": "python",
   "name": "python3"
  },
  "language_info": {
   "codemirror_mode": {
    "name": "ipython",
    "version": 3
   },
   "file_extension": ".py",
   "mimetype": "text/x-python",
   "name": "python",
   "nbconvert_exporter": "python",
   "pygments_lexer": "ipython3",
   "version": "3.11.8"
  }
 },
 "nbformat": 4,
 "nbformat_minor": 4
}
