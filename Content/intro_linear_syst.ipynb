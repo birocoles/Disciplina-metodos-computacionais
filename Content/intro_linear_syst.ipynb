{
 "cells": [
  {
   "cell_type": "markdown",
   "metadata": {},
   "source": [
    "# Linear systems - introduction"
   ]
  },
  {
   "cell_type": "markdown",
   "metadata": {},
   "source": [
    "Consider the following set of equations:"
   ]
  },
  {
   "cell_type": "markdown",
   "metadata": {},
   "source": [
    "$$\\begin{array}{r}\n",
    "       x_{0} & + & 5   \\, x_{1} & - & 5.3 \\, x_{2} & = & y_{0} \\\\\n",
    "2.4 \\, x_{0} & - & 2   \\, x_{1} & + &        x_{2} & = & y_{1} \\\\\n",
    "7.8 \\, x_{0} & - & 4.1 \\, x_{1} & + & 6.4 \\, x_{2} & = & y_{2} \\\\\n",
    "\\end{array} \\: .\n",
    "$$"
   ]
  },
  {
   "cell_type": "markdown",
   "metadata": {},
   "source": [
    "Notice that $y_{i}$, $i = 0, 1, 2$, are [linear combinations](https://en.wikipedia.org/wiki/Linear_combination) of the variables $x_{0}$, $x_{1}$, $x_{2}$. It means that the derivative of $y_{i}$, $i = 0, 1, 2$, with respect to any variable $x_{0}$, $x_{1}$, $x_{2}$ does not depend on the variables $x_{0}$, $x_{1}$, $x_{2}$. For example, the derivative of $y_{1}$ with respect to $x_{2}$ is equal to $1$."
   ]
  },
  {
   "cell_type": "markdown",
   "metadata": {},
   "source": [
    "This set of equations can be written in matrix notation as follows:"
   ]
  },
  {
   "cell_type": "markdown",
   "metadata": {},
   "source": [
    "$$\\mathbf{A}\\, \\mathbf{x} = \\mathbf{y} \\: ,$$"
   ]
  },
  {
   "cell_type": "markdown",
   "metadata": {},
   "source": [
    "where"
   ]
  },
  {
   "cell_type": "markdown",
   "metadata": {},
   "source": [
    "$$\\mathbf{A} = \\left[\n",
    "\\begin{array}{ccc}\n",
    "1 & 5 & -5.3 \\\\\n",
    "2.4 & -2 & 1 \\\\\n",
    "7.8 & -4.1 & 6.4\n",
    "\\end{array}\n",
    "\\right] \\: ,$$"
   ]
  },
  {
   "cell_type": "markdown",
   "metadata": {},
   "source": [
    "$$\\mathbf{y} = \\left[\n",
    "\\begin{array}{c}\n",
    "y_{0} \\\\\n",
    "y_{1} \\\\\n",
    "y_{2}\n",
    "\\end{array}\n",
    "\\right]$$"
   ]
  },
  {
   "cell_type": "markdown",
   "metadata": {},
   "source": [
    "and"
   ]
  },
  {
   "cell_type": "markdown",
   "metadata": {},
   "source": [
    "$$\\mathbf{x} = \\left[\n",
    "\\begin{array}{c}\n",
    "x_{0} \\\\\n",
    "x_{1} \\\\\n",
    "x_{2}\n",
    "\\end{array}\n",
    "\\right] \\: .$$"
   ]
  },
  {
   "cell_type": "markdown",
   "metadata": {},
   "source": [
    "This equation is commonly called linear system of equations or simply **linear system**."
   ]
  },
  {
   "cell_type": "markdown",
   "metadata": {},
   "source": [
    "Linear systems are very common in geophysical problems. In general, $\\mathbf{y}$ contains the geophysical data (or observables), e.g., gravity data, total-field anomaly data, seismic travel times, horizontal and vertical components of the electrical and magnetic fields, etc. Then, $\\mathbf{y}$ is usually known. Similarly, the matrix $\\mathbf{A}$ also contains observables (e.g., time, distance, depth to the top of a geological body, etc.). On the other hand, the vector $\\mathbf{x}$ usually contains the unkowns, which are the parameters to be estimated by solving the linear system. For example, they can represent a magnetic moment distribution, density contrast distribution, etc. "
   ]
  },
  {
   "cell_type": "markdown",
   "metadata": {},
   "source": [
    "Therefore, solving a linear system means determining the vector $\\mathbf{x}$ from the values of $\\mathbf{A}$ and $\\mathbf{y}$. The complexity of the algorithm used for solving a linear system depends mainly on the structure of the matrix $\\mathbf{A}$.\n",
    "The [`numpy.linalg.solve`](https://numpy.org/doc/stable/reference/generated/numpy.linalg.solve.html) provides a routine to solve linear systems, for example. The cells below show an application of this routine."
   ]
  },
  {
   "cell_type": "code",
   "execution_count": 1,
   "metadata": {},
   "outputs": [],
   "source": [
    "import numpy as np"
   ]
  },
  {
   "cell_type": "markdown",
   "metadata": {},
   "source": [
    "Let `A` and `y` be a matrix and a vector defined as follows:"
   ]
  },
  {
   "cell_type": "code",
   "execution_count": 2,
   "metadata": {},
   "outputs": [],
   "source": [
    "A = np.array([[1.,5.,-5.3],\n",
    "              [2.4,-2.,1.],\n",
    "              [7.8,-4.1,6.4]])\n",
    "y = np.array([42., 11., 67.])"
   ]
  },
  {
   "cell_type": "markdown",
   "metadata": {},
   "source": [
    "The solution of the linear system `Ax = y` is given by:"
   ]
  },
  {
   "cell_type": "code",
   "execution_count": 3,
   "metadata": {},
   "outputs": [],
   "source": [
    "x = np.linalg.solve(A,y)"
   ]
  },
  {
   "cell_type": "code",
   "execution_count": 4,
   "metadata": {},
   "outputs": [
    {
     "name": "stdout",
     "output_type": "stream",
     "text": [
      "[11.08129511  9.23845874  2.88180921]\n"
     ]
    }
   ],
   "source": [
    "print(x)"
   ]
  },
  {
   "cell_type": "markdown",
   "metadata": {},
   "source": [
    "How to verify if x is a true solution?"
   ]
  },
  {
   "cell_type": "code",
   "execution_count": 5,
   "metadata": {},
   "outputs": [],
   "source": [
    "y_calc = np.dot(A, x)"
   ]
  },
  {
   "cell_type": "code",
   "execution_count": 6,
   "metadata": {},
   "outputs": [
    {
     "name": "stdout",
     "output_type": "stream",
     "text": [
      "[42. 11. 67.]\n"
     ]
    }
   ],
   "source": [
    "print(y_calc)"
   ]
  },
  {
   "cell_type": "code",
   "execution_count": 7,
   "metadata": {},
   "outputs": [
    {
     "name": "stdout",
     "output_type": "stream",
     "text": [
      "[42. 11. 67.]\n"
     ]
    }
   ],
   "source": [
    "print(y)"
   ]
  },
  {
   "cell_type": "code",
   "execution_count": null,
   "metadata": {},
   "outputs": [],
   "source": []
  }
 ],
 "metadata": {
  "anaconda-cloud": {},
  "kernelspec": {
   "display_name": "Python 3 (ipykernel)",
   "language": "python",
   "name": "python3"
  },
  "language_info": {
   "codemirror_mode": {
    "name": "ipython",
    "version": 3
   },
   "file_extension": ".py",
   "mimetype": "text/x-python",
   "name": "python",
   "nbconvert_exporter": "python",
   "pygments_lexer": "ipython3",
   "version": "3.11.8"
  }
 },
 "nbformat": 4,
 "nbformat_minor": 4
}
