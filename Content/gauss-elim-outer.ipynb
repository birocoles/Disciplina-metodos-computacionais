{
 "cells": [
  {
   "cell_type": "markdown",
   "metadata": {},
   "source": [
    "# Gaussian elimination - outer product formulation"
   ]
  },
  {
   "cell_type": "markdown",
   "metadata": {},
   "source": [
    "#### References\n",
    "\n",
    "* Golub, G. H. and C. F. Van Loan, (2013), Matrix computations, 4th edition, Johns Hopkins University Press, ISBN 978-1-4214-0794-4."
   ]
  },
  {
   "cell_type": "markdown",
   "metadata": {},
   "source": [
    "This notebook shows how the [Gaussian elimination](https://en.wikipedia.org/wiki/Gaussian_elimination) iteratively transforms an unstructured linear system $\\mathbf{A \\, x} = \\mathbf{y}$ into an equivalent triangular system $\\mathbf{B \\, x} = \\mathbf{z}$ having the same solution $\\mathbf{x}$. The file `Content/Gaussian_elimination.pdf` shows an example of Gaussian elimination for $N = 4$."
   ]
  },
  {
   "cell_type": "markdown",
   "metadata": {},
   "source": [
    "Let's consider a linear system $\\mathbf{A \\, x} = \\mathbf{y}$ given by:"
   ]
  },
  {
   "cell_type": "code",
   "execution_count": 1,
   "metadata": {},
   "outputs": [],
   "source": [
    "import numpy as np"
   ]
  },
  {
   "cell_type": "code",
   "execution_count": 2,
   "metadata": {},
   "outputs": [],
   "source": [
    "A = np.array([[2.,1.,-1.],\n",
    "              [-3.,-1.,2.],\n",
    "              [-2.,1.,2.]])"
   ]
  },
  {
   "cell_type": "code",
   "execution_count": 3,
   "metadata": {},
   "outputs": [],
   "source": [
    "y = np.array([8., -11., -3.])"
   ]
  },
  {
   "cell_type": "markdown",
   "metadata": {},
   "source": [
    "The solution of this system is given by:"
   ]
  },
  {
   "cell_type": "code",
   "execution_count": 4,
   "metadata": {},
   "outputs": [],
   "source": [
    "x = np.linalg.solve(A,y)"
   ]
  },
  {
   "cell_type": "code",
   "execution_count": 5,
   "metadata": {},
   "outputs": [
    {
     "name": "stdout",
     "output_type": "stream",
     "text": [
      "[ 2.  3. -1.]\n"
     ]
    }
   ],
   "source": [
    "print(x)"
   ]
  },
  {
   "cell_type": "markdown",
   "metadata": {
    "collapsed": true,
    "jupyter": {
     "outputs_hidden": true
    }
   },
   "source": [
    "The first step in transforming the system $\\mathbf{A \\, x} = \\mathbf{y}$ into an equivalent triangular system $\\mathbf{B \\, x} = \\mathbf{z}$ is calculating an intermediate linear system:"
   ]
  },
  {
   "cell_type": "markdown",
   "metadata": {},
   "source": [
    "$$\n",
    "\\underbrace{\\left[ \n",
    "\\begin{array}{ccc}\n",
    "\\times & \\times & \\times \\\\\n",
    "0 & \\times & \\times \\\\\n",
    "0 & \\times & \\times\n",
    "\\end{array} \\right]}_{\\mathbf{A}^{(1)}} \\,\n",
    "\\underbrace{\\left[ \\begin{array}{c}\n",
    "x_{0} \\\\\n",
    "x_{1} \\\\\n",
    "x_{2}\n",
    "\\end{array} \\right]}_{\\mathbf{x}} =\n",
    "\\underbrace{\\left[\n",
    "\\begin{array}{c}\n",
    "\\times \\\\\n",
    "\\times \\\\\n",
    "\\times\n",
    "\\end{array} \\right]\n",
    "}_{\\mathbf{y}^{(1)}} \\: ,\n",
    "$$"
   ]
  },
  {
   "cell_type": "markdown",
   "metadata": {},
   "source": [
    "where the symbols \"$\\times$\" denote non-null elements. Notice that the original matrix $\\mathbf{A}$ is transformed into a matrix $\\mathbf{A}^{(1)}$ having null-elements below the main diagonal in its first column. This zeroing procedure can be described as follows:"
   ]
  },
  {
   "cell_type": "markdown",
   "metadata": {},
   "source": [
    "1. Calculate the factor $t^{(1)}_{1} = \\frac{a_{10}}{a_{00}}$\n",
    "2. Multiply the first row of $\\mathbf{A}$ by the factor $t^{(1)}_{1}$ and subtract the result from the second row of $\\mathbf{A}$\n",
    "3. Multiply the first element of $\\mathbf{y}$ by the factor $t^{(1)}_{1}$ and subtract the result from the second element of $\\mathbf{y}$\n",
    "4. Calculate the factor $t^{(1)}_{2} = \\frac{a_{20}}{a_{00}}$\n",
    "5. Multiply the first row of $\\mathbf{A}$ by the factor $t^{(1)}_{2}$ and subtract the result from the third row of $\\mathbf{A}$\n",
    "6. Multiply the first element of $\\mathbf{y}$ by the factor $t^{(1)}_{2}$ and subtract the result from the third element of $\\mathbf{y}$"
   ]
  },
  {
   "cell_type": "markdown",
   "metadata": {},
   "source": [
    "**P.S.:** the variable $a_{ij}$ represents the element $ij$ of the matrix $\\mathbf{A}$"
   ]
  },
  {
   "cell_type": "code",
   "execution_count": 6,
   "metadata": {},
   "outputs": [],
   "source": [
    "A1 = np.copy(A)\n",
    "y1 = np.copy(y)\n",
    "\n",
    "t11 = A[1,0]/A[0,0]    # step 1\n",
    "A1[1,:] -= t11*A[0,:]  # step 2\n",
    "y1[1] -= t11*y[0]      # step 3\n",
    "\n",
    "t12 = A[2,0]/A[0,0]    # step 4\n",
    "A1[2,:] -= t12*A[0,:]  # step 5\n",
    "y1[2] -= t12*y[0]      # step 6"
   ]
  },
  {
   "cell_type": "code",
   "execution_count": 7,
   "metadata": {},
   "outputs": [
    {
     "name": "stdout",
     "output_type": "stream",
     "text": [
      "[[ 2.  1. -1.]\n",
      " [-3. -1.  2.]\n",
      " [-2.  1.  2.]]\n"
     ]
    }
   ],
   "source": [
    "print(A)"
   ]
  },
  {
   "cell_type": "code",
   "execution_count": 8,
   "metadata": {},
   "outputs": [
    {
     "name": "stdout",
     "output_type": "stream",
     "text": [
      "[[ 2.   1.  -1. ]\n",
      " [ 0.   0.5  0.5]\n",
      " [ 0.   2.   1. ]]\n"
     ]
    }
   ],
   "source": [
    "print(A1)"
   ]
  },
  {
   "cell_type": "code",
   "execution_count": 9,
   "metadata": {},
   "outputs": [
    {
     "name": "stdout",
     "output_type": "stream",
     "text": [
      "[  8. -11.  -3.]\n"
     ]
    }
   ],
   "source": [
    "print(y)"
   ]
  },
  {
   "cell_type": "code",
   "execution_count": 10,
   "metadata": {},
   "outputs": [
    {
     "name": "stdout",
     "output_type": "stream",
     "text": [
      "[8. 1. 5.]\n"
     ]
    }
   ],
   "source": [
    "print(y1)"
   ]
  },
  {
   "cell_type": "markdown",
   "metadata": {},
   "source": [
    "The next step consists in calculating a linear system given by"
   ]
  },
  {
   "cell_type": "markdown",
   "metadata": {},
   "source": [
    "$$\n",
    "\\underbrace{\\left[ \n",
    "\\begin{array}{ccc}\n",
    "\\times & \\times & \\times \\\\\n",
    "0 & \\times & \\times \\\\\n",
    "0 & 0 & \\times\n",
    "\\end{array} \\right]}_{\\mathbf{A}^{(2)}} \\,\n",
    "\\underbrace{\\left[ \\begin{array}{c}\n",
    "x_{0} \\\\\n",
    "x_{1} \\\\\n",
    "x_{2}\n",
    "\\end{array} \\right]}_{\\mathbf{x}} =\n",
    "\\underbrace{\\left[\n",
    "\\begin{array}{c}\n",
    "\\times \\\\\n",
    "\\times \\\\\n",
    "\\times\n",
    "\\end{array} \\right]\n",
    "}_{\\mathbf{y}^{(2)}} \\: .\n",
    "$$"
   ]
  },
  {
   "cell_type": "markdown",
   "metadata": {},
   "source": [
    "This zeroing procedure can be described is given by:"
   ]
  },
  {
   "cell_type": "markdown",
   "metadata": {},
   "source": [
    "1. Calculate the factor $t^{(2)}_{2} = \\frac{a_{21}^{(1)}}{a_{11}^{(1)}}$\n",
    "2. Multiply the second row of $\\mathbf{A}^{(1)}$ by the factor $t^{(2)}_{2}$ and subtract the result from the third row of $\\mathbf{A}^{(1)}$\n",
    "3. Multiply the second element of $\\mathbf{y}^{(1)}$ by the factor $t^{(2)}_{2}$ and subtract the result from the third element of $\\mathbf{y}^{(1)}$"
   ]
  },
  {
   "cell_type": "markdown",
   "metadata": {},
   "source": [
    "**P.S.:** the variable $a_{ij}^{(1)}$ represents the element $ij$ of the matrix $\\mathbf{A}^{(1)}$"
   ]
  },
  {
   "cell_type": "code",
   "execution_count": 11,
   "metadata": {},
   "outputs": [],
   "source": [
    "A2 = np.copy(A1)\n",
    "y2 = np.copy(y1)\n",
    "\n",
    "t22 = A1[2,1]/A1[1,1]   # step 1\n",
    "A2[2,:] -= t22*A1[1,:]  # step 2\n",
    "y2[2] -= t22*y1[1]      # step 3"
   ]
  },
  {
   "cell_type": "code",
   "execution_count": 12,
   "metadata": {},
   "outputs": [
    {
     "name": "stdout",
     "output_type": "stream",
     "text": [
      "[[ 2.  1. -1.]\n",
      " [-3. -1.  2.]\n",
      " [-2.  1.  2.]]\n"
     ]
    }
   ],
   "source": [
    "print(A)"
   ]
  },
  {
   "cell_type": "code",
   "execution_count": 13,
   "metadata": {},
   "outputs": [
    {
     "name": "stdout",
     "output_type": "stream",
     "text": [
      "[[ 2.   1.  -1. ]\n",
      " [ 0.   0.5  0.5]\n",
      " [ 0.   2.   1. ]]\n"
     ]
    }
   ],
   "source": [
    "print(A1)"
   ]
  },
  {
   "cell_type": "code",
   "execution_count": 14,
   "metadata": {},
   "outputs": [
    {
     "name": "stdout",
     "output_type": "stream",
     "text": [
      "[[ 2.   1.  -1. ]\n",
      " [ 0.   0.5  0.5]\n",
      " [ 0.   0.  -1. ]]\n"
     ]
    }
   ],
   "source": [
    "print(A2)"
   ]
  },
  {
   "cell_type": "code",
   "execution_count": 15,
   "metadata": {},
   "outputs": [
    {
     "name": "stdout",
     "output_type": "stream",
     "text": [
      "[  8. -11.  -3.]\n"
     ]
    }
   ],
   "source": [
    "print(y)"
   ]
  },
  {
   "cell_type": "code",
   "execution_count": 16,
   "metadata": {},
   "outputs": [
    {
     "name": "stdout",
     "output_type": "stream",
     "text": [
      "[8. 1. 5.]\n"
     ]
    }
   ],
   "source": [
    "print(y1)"
   ]
  },
  {
   "cell_type": "code",
   "execution_count": 17,
   "metadata": {},
   "outputs": [
    {
     "name": "stdout",
     "output_type": "stream",
     "text": [
      "[8. 1. 1.]\n"
     ]
    }
   ],
   "source": [
    "print(y2)"
   ]
  },
  {
   "cell_type": "markdown",
   "metadata": {},
   "source": [
    "In this case, $\\mathbf{B} = \\mathbf{A}^{(2)}$ and $\\mathbf{z} = \\mathbf{y}^{(2)}$ form our desired equivalent system. The solution $\\mathbf{x}_{eq}$ of this system is given by:"
   ]
  },
  {
   "cell_type": "code",
   "execution_count": 18,
   "metadata": {},
   "outputs": [],
   "source": [
    "xeq = np.linalg.solve(A2,y2)"
   ]
  },
  {
   "cell_type": "markdown",
   "metadata": {},
   "source": [
    "Compare this solution with the solution $\\mathbf{x}$ of the original system"
   ]
  },
  {
   "cell_type": "code",
   "execution_count": 19,
   "metadata": {},
   "outputs": [
    {
     "name": "stdout",
     "output_type": "stream",
     "text": [
      "[ 2.  3. -1.]\n",
      "\n",
      "\n",
      "[ 2.  3. -1.]\n"
     ]
    }
   ],
   "source": [
    "print(xeq)\n",
    "print('\\n')\n",
    "print(x)"
   ]
  },
  {
   "cell_type": "markdown",
   "metadata": {},
   "source": [
    "Note that the process of calculating $\\mathbf{A}^{(1)}$, $\\mathbf{y}^{(1)}$, $\\mathbf{A}^{(2)}$ and $\\mathbf{y}^{(2)}$ can be represented by an iterative outer product update."
   ]
  },
  {
   "cell_type": "markdown",
   "metadata": {},
   "source": [
    "Specifically, our equivalent triangular system was iteratively calculated according to the following algorithm:"
   ]
  },
  {
   "cell_type": "markdown",
   "metadata": {},
   "source": [
    "$$\n",
    "\\begin{array}{ccccc}\n",
    "\\mathbf{A}^{(0)} = \\mathbf{A} & & & \\mathbf{y}^{(0)} = \\mathbf{y} \\\\\\\\\n",
    "\\mathbf{A}^{(1)} = \\left(\\mathbf{I} - \\mathbf{M}^{(1)}\\right) \\mathbf{A}^{(0)} & & &\n",
    "\\mathbf{y}^{(1)} = \\left(\\mathbf{I} - \\mathbf{M}^{(1)}\\right) \\mathbf{y}^{(0)} \\\\\\\\\n",
    "\\mathbf{A}^{(2)} = \\left(\\mathbf{I} - \\mathbf{M}^{(2)}\\right) \\mathbf{A}^{(1)} & & &\n",
    "\\mathbf{y}^{(2)} = \\left(\\mathbf{I} - \\mathbf{M}^{(2)}\\right) \\mathbf{y}^{(1)}\n",
    "\\end{array} \\: ,$$"
   ]
  },
  {
   "cell_type": "markdown",
   "metadata": {},
   "source": [
    "where $\\mathbf{B} = \\mathbf{A}^{(2)}$, $\\mathbf{z} = \\mathbf{y}^{(2)}$, $\\mathbf{I}$ is the identity matrix of order 3, $\\mathbf{M}^{(k)}$ is a matrix given by"
   ]
  },
  {
   "cell_type": "markdown",
   "metadata": {},
   "source": [
    "$$\\mathbf{M}^{(k)} = \\mathbf{t}^{(k)} \\cdot \\left( \\mathbf{u}^{(k-1)} \\right)^{\\top} \\: ,$$"
   ]
  },
  {
   "cell_type": "markdown",
   "metadata": {},
   "source": [
    "$\\mathbf{u}^{(k-1)}$ is a $3 \\times 1$ vector with all elements equal to $0$, except the element $k-1$, which is equal to $1$, and $\\mathbf{t}^{(k)}$ is a $3 \\times 1$ vector whose $i$th element $t_{i}^{(k)}$ is given by:"
   ]
  },
  {
   "cell_type": "markdown",
   "metadata": {},
   "source": [
    "$$\n",
    "t_{i}^{(k)} = \\begin{cases} 0 & \\quad \\text{if } i < k \\\\\\\\ \\dfrac{a^{(k-1)}_{i(k-1)}}{a^{(k-1)}_{(k-1)(k-1)}} & \\quad \\text{if } i \\ge k\\\\ \\end{cases} \\: ,\n",
    "$$"
   ]
  },
  {
   "cell_type": "markdown",
   "metadata": {},
   "source": [
    "where $a^{(k-1)}_{ij}$ is the $ij$ element of the matrix $\\mathbf{A}^{(k-1)}$. In matrix form, the non-null elements of $\\mathbf{t}^{(k)}$ are given by:\n",
    "\n",
    "$$\n",
    "\\mathbf{t}^{(k)}[k:] = \\frac{\\mathbf{A}^{(k-1)}[k: \\, , \\, k-1]}{\\mathbf{A}^{(k-1)}[k-1, k-1]} \\quad .\n",
    "$$"
   ]
  },
  {
   "cell_type": "markdown",
   "metadata": {},
   "source": [
    "This process of transforming the original system into an equivalent triangular system requires that all the elements $a_{(k-1)(k-1)}^{(k-1)}$ be nonzero. They are called **pivots**."
   ]
  },
  {
   "cell_type": "markdown",
   "metadata": {},
   "source": [
    "Notice that the number of iterations needed for transforming the original system $\\mathbf{A}\\mathbf{x} = \\mathbf{y}$ into the equivalent triangular system $\\mathbf{B}\\mathbf{x} = \\mathbf{z}$ is equal to $N - 1$, where $N$ is the order of the square matrix $\\mathbf{A}$."
   ]
  },
  {
   "cell_type": "markdown",
   "metadata": {},
   "source": [
    "The matrix $\\left(\\mathbf{I} - \\mathbf{M}^{(k)}\\right)$ is called **Gauss transformation**, the vector $\\mathbf{t}^{(k)}$ is called **Gauss vector** and the non-null elements of $\\mathbf{t}^{(k)}$ are called **Gauss multipliers** (Golub and Van Loan, 2013, p. 112)."
   ]
  },
  {
   "cell_type": "markdown",
   "metadata": {},
   "source": [
    "The code below solves our linear system $\\mathbf{A}\\mathbf{x} = \\mathbf{y}$ by applying the Gaussian elimination formulated as an outer product:"
   ]
  },
  {
   "cell_type": "code",
   "execution_count": 20,
   "metadata": {},
   "outputs": [],
   "source": [
    "I = np.identity(3)"
   ]
  },
  {
   "cell_type": "markdown",
   "metadata": {},
   "source": [
    "**Iteration k = 1:**"
   ]
  },
  {
   "cell_type": "code",
   "execution_count": 21,
   "metadata": {},
   "outputs": [],
   "source": [
    "u0 = np.array([1., 0., 0.])"
   ]
  },
  {
   "cell_type": "code",
   "execution_count": 22,
   "metadata": {},
   "outputs": [],
   "source": [
    "t1 = np.array([0., A[1][0]/A[0][0], A[2][0]/A[0][0]])"
   ]
  },
  {
   "cell_type": "code",
   "execution_count": 23,
   "metadata": {},
   "outputs": [],
   "source": [
    "A1 = (I - np.outer(t1, u0))@A"
   ]
  },
  {
   "cell_type": "code",
   "execution_count": 24,
   "metadata": {},
   "outputs": [
    {
     "name": "stdout",
     "output_type": "stream",
     "text": [
      "[ 0.  -1.5 -1. ]\n"
     ]
    }
   ],
   "source": [
    "print(t1)"
   ]
  },
  {
   "cell_type": "code",
   "execution_count": 25,
   "metadata": {},
   "outputs": [
    {
     "name": "stdout",
     "output_type": "stream",
     "text": [
      "[[ 2.   1.  -1. ]\n",
      " [ 0.   0.5  0.5]\n",
      " [ 0.   2.   1. ]]\n"
     ]
    }
   ],
   "source": [
    "print(A1)"
   ]
  },
  {
   "cell_type": "code",
   "execution_count": 26,
   "metadata": {},
   "outputs": [],
   "source": [
    "y1 = (I - np.outer(t1, u0))@y"
   ]
  },
  {
   "cell_type": "code",
   "execution_count": 27,
   "metadata": {},
   "outputs": [
    {
     "name": "stdout",
     "output_type": "stream",
     "text": [
      "[8. 1. 5.]\n"
     ]
    }
   ],
   "source": [
    "print(y1)"
   ]
  },
  {
   "cell_type": "markdown",
   "metadata": {},
   "source": [
    "**Iteration k = 2:**"
   ]
  },
  {
   "cell_type": "code",
   "execution_count": 28,
   "metadata": {},
   "outputs": [],
   "source": [
    "u1 = np.array([0., 1., 0.])"
   ]
  },
  {
   "cell_type": "code",
   "execution_count": 29,
   "metadata": {},
   "outputs": [],
   "source": [
    "t2 = np.array([0., 0., A1[2][1]/A1[1][1]])"
   ]
  },
  {
   "cell_type": "code",
   "execution_count": 30,
   "metadata": {},
   "outputs": [
    {
     "name": "stdout",
     "output_type": "stream",
     "text": [
      "[0. 0. 4.]\n"
     ]
    }
   ],
   "source": [
    "print(t2)"
   ]
  },
  {
   "cell_type": "code",
   "execution_count": 31,
   "metadata": {},
   "outputs": [],
   "source": [
    "B = (I - np.outer(t2, u1))@A1"
   ]
  },
  {
   "cell_type": "code",
   "execution_count": 32,
   "metadata": {},
   "outputs": [
    {
     "name": "stdout",
     "output_type": "stream",
     "text": [
      "[[ 2.   1.  -1. ]\n",
      " [ 0.   0.5  0.5]\n",
      " [ 0.   0.  -1. ]]\n"
     ]
    }
   ],
   "source": [
    "print(B)"
   ]
  },
  {
   "cell_type": "code",
   "execution_count": 33,
   "metadata": {},
   "outputs": [],
   "source": [
    "z = (I - np.outer(t2, u1))@y1"
   ]
  },
  {
   "cell_type": "code",
   "execution_count": 34,
   "metadata": {},
   "outputs": [
    {
     "name": "stdout",
     "output_type": "stream",
     "text": [
      "[8. 1. 1.]\n"
     ]
    }
   ],
   "source": [
    "print(z)"
   ]
  },
  {
   "cell_type": "markdown",
   "metadata": {},
   "source": [
    "Solution of this equivalent triangular system:"
   ]
  },
  {
   "cell_type": "code",
   "execution_count": 35,
   "metadata": {},
   "outputs": [
    {
     "name": "stdout",
     "output_type": "stream",
     "text": [
      "[ 2.  3. -1.]\n"
     ]
    }
   ],
   "source": [
    "print(np.linalg.solve(B,z))"
   ]
  },
  {
   "cell_type": "markdown",
   "metadata": {},
   "source": [
    "Solution of the original system:"
   ]
  },
  {
   "cell_type": "code",
   "execution_count": 36,
   "metadata": {},
   "outputs": [
    {
     "name": "stdout",
     "output_type": "stream",
     "text": [
      "[ 2.  3. -1.]\n"
     ]
    }
   ],
   "source": [
    "print(np.linalg.solve(A,y))"
   ]
  },
  {
   "cell_type": "markdown",
   "metadata": {},
   "source": [
    "The file `Content/Gaussian_elimination.pdf` shows an example of Gaussian elimination for $N = 4$."
   ]
  },
  {
   "cell_type": "code",
   "execution_count": null,
   "metadata": {},
   "outputs": [],
   "source": []
  }
 ],
 "metadata": {
  "kernelspec": {
   "display_name": "Python 3 (ipykernel)",
   "language": "python",
   "name": "python3"
  },
  "language_info": {
   "codemirror_mode": {
    "name": "ipython",
    "version": 3
   },
   "file_extension": ".py",
   "mimetype": "text/x-python",
   "name": "python",
   "nbconvert_exporter": "python",
   "pygments_lexer": "ipython3",
   "version": "3.11.8"
  }
 },
 "nbformat": 4,
 "nbformat_minor": 4
}
