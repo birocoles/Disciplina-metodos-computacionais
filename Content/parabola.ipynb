{
 "cells": [
  {
   "cell_type": "markdown",
   "metadata": {},
   "source": [
    "# Fitting a parabola with outliers"
   ]
  },
  {
   "cell_type": "markdown",
   "metadata": {},
   "source": [
    "Consider an $N \\times 1$ data vector $\\mathbf{d}$ whose $i$th element $d_{i}$ is given by:"
   ]
  },
  {
   "cell_type": "markdown",
   "metadata": {},
   "source": [
    "$$\n",
    "d_{i} = f(x_{i}) \\: ,\n",
    "$$"
   ]
  },
  {
   "cell_type": "markdown",
   "metadata": {},
   "source": [
    "where $f(x)$ is an unknown function depending on the variable $x$. Besides, consider that each $d_{i}$ can be approximated as follows:"
   ]
  },
  {
   "cell_type": "markdown",
   "metadata": {},
   "source": [
    "$$\n",
    "d_{i} \\approx a + b \\, x_{i} + c \\, x_{i}^{2} \\: ,\n",
    "$$"
   ]
  },
  {
   "cell_type": "markdown",
   "metadata": {},
   "source": [
    "where $a$, $b$, and $c$ are unknown constants."
   ]
  },
  {
   "cell_type": "markdown",
   "metadata": {},
   "source": [
    "### Simulating noise-free and noise-corrupted data with outliers"
   ]
  },
  {
   "cell_type": "code",
   "execution_count": 1,
   "metadata": {},
   "outputs": [],
   "source": [
    "import numpy as np\n",
    "import matplotlib.pyplot as plt"
   ]
  },
  {
   "cell_type": "code",
   "execution_count": 2,
   "metadata": {},
   "outputs": [],
   "source": [
    "# number of data\n",
    "N = 50\n",
    "\n",
    "# coordinates of the data\n",
    "x = np.linspace(0., 30., N)\n",
    "\n",
    "xmax = np.max(x)\n",
    "xmin = np.min(x)\n",
    "Dx = xmax - xmin\n",
    "\n",
    "# true constants a and b\n",
    "a_true = -5.\n",
    "b_true = 0.1\n",
    "c_true = 0.01\n",
    "\n",
    "# noise-free data vector\n",
    "data = a_true + b_true*x + c_true*x*x\n",
    "\n",
    "dmin = np.min(data)\n",
    "dmax = np.max(data)\n",
    "Dd = dmax - dmin"
   ]
  },
  {
   "cell_type": "markdown",
   "metadata": {},
   "source": [
    "Create outliers close in the interval $25 \\le x \\le 28$."
   ]
  },
  {
   "cell_type": "code",
   "execution_count": 3,
   "metadata": {},
   "outputs": [],
   "source": [
    "outliers_mask = (x >= 25) & (x <= 28)"
   ]
  },
  {
   "cell_type": "code",
   "execution_count": 4,
   "metadata": {},
   "outputs": [
    {
     "data": {
      "text/plain": [
       "array([25.10204082, 25.71428571, 26.32653061, 26.93877551, 27.55102041])"
      ]
     },
     "execution_count": 4,
     "metadata": {},
     "output_type": "execute_result"
    }
   ],
   "source": [
    "x[outliers_mask]"
   ]
  },
  {
   "cell_type": "code",
   "execution_count": 5,
   "metadata": {},
   "outputs": [],
   "source": [
    "data[outliers_mask] -= 8"
   ]
  },
  {
   "cell_type": "code",
   "execution_count": 6,
   "metadata": {},
   "outputs": [
    {
     "data": {
      "image/png": "[encoded data removed]",
      "text/plain": [
       "<Figure size 720x576 with 1 Axes>"
      ]
     },
     "metadata": {
      "needs_background": "light"
     },
     "output_type": "display_data"
    }
   ],
   "source": [
    "plt.close('all')\n",
    "plt.figure(figsize=(10,8))\n",
    "plt.plot(x, data, 'ko', label='data')\n",
    "plt.xlim(xmin - 0.05*Dx, xmax + 0.05*Dx)\n",
    "plt.ylim(dmin - 0.05*Dd, dmax + 0.05*Dd)\n",
    "plt.xlabel('coordinates x', fontsize=16)\n",
    "plt.ylabel('data', fontsize=16)\n",
    "plt.grid()\n",
    "plt.legend(loc='best', fontsize=12)\n",
    "plt.show()"
   ]
  },
  {
   "cell_type": "markdown",
   "metadata": {},
   "source": [
    "### Compute the matrix $\\mathbf{A}$"
   ]
  },
  {
   "cell_type": "code",
   "execution_count": 7,
   "metadata": {},
   "outputs": [],
   "source": [
    "A = np.polynomial.polynomial.polyvander(x, deg=2)"
   ]
  },
  {
   "cell_type": "markdown",
   "metadata": {},
   "source": [
    "### Estimate the parameters"
   ]
  },
  {
   "cell_type": "code",
   "execution_count": 8,
   "metadata": {},
   "outputs": [],
   "source": [
    "# Ordinary least-squares solution\n",
    "ATA = np.dot(A.T, A)\n",
    "ATd = np.dot(A.T, data)\n",
    "p_LS = np.linalg.solve(ATA, ATd)"
   ]
  },
  {
   "cell_type": "code",
   "execution_count": 9,
   "metadata": {},
   "outputs": [],
   "source": [
    "# Weighted least-squares solution\n",
    "W = np.ones_like(data)\n",
    "W[outliers_mask] = 0.2\n",
    "W = np.diag(W)\n",
    "ATWA = np.linalg.multi_dot([A.T, W, A])\n",
    "ATWd = np.linalg.multi_dot([A.T, W, data])\n",
    "p_WLS = np.linalg.solve(ATWA, ATWd)"
   ]
  },
  {
   "cell_type": "code",
   "execution_count": 10,
   "metadata": {},
   "outputs": [],
   "source": [
    "# IRLS\n",
    "itmax = 30\n",
    "tol = 0.001\n",
    "p0 = p_LS.copy()\n",
    "p_IRLS = np.empty_like(p0)\n",
    "for i in range(itmax):\n",
    "    r0 = data - np.dot(A, p0)\n",
    "    R = np.diag(1/np.abs(r0))\n",
    "    R[r0 < 1e-10] = 1e-10\n",
    "    ATRA = np.linalg.multi_dot([A.T, R, A])\n",
    "    ATRd = np.linalg.multi_dot([A.T, R, data])\n",
    "    p_IRLS = np.linalg.solve(ATRA, ATRd)\n",
    "    \n",
    "    # convergence\n",
    "    norm_diff = np.linalg.norm(p_IRLS-p0)\n",
    "    norm_p_IRLS = np.linalg.norm(p_IRLS)\n",
    "    convergence = norm_diff/(1 + norm_p_IRLS)\n",
    "    if convergence < tol:\n",
    "        break\n",
    "    else:\n",
    "        p0 = p_IRLS.copy()"
   ]
  },
  {
   "cell_type": "markdown",
   "metadata": {},
   "source": [
    "### Computed predicted data"
   ]
  },
  {
   "cell_type": "code",
   "execution_count": 11,
   "metadata": {},
   "outputs": [],
   "source": [
    "# Ordinary least-squares solution\n",
    "y_LS = p_LS[0] + p_LS[1]*x + p_LS[2]*x*x"
   ]
  },
  {
   "cell_type": "code",
   "execution_count": 12,
   "metadata": {},
   "outputs": [],
   "source": [
    "# Weighted least-squares solution\n",
    "y_WLS = p_WLS[0] + p_WLS[1]*x + p_WLS[2]*x*x"
   ]
  },
  {
   "cell_type": "code",
   "execution_count": 13,
   "metadata": {},
   "outputs": [],
   "source": [
    "# IRLS\n",
    "y_IRLS = p_IRLS[0] + p_IRLS[1]*x + p_IRLS[2]*x*x"
   ]
  },
  {
   "cell_type": "code",
   "execution_count": 14,
   "metadata": {},
   "outputs": [
    {
     "data": {
      "image/png": "[encoded data removed]",
      "text/plain": [
       "<Figure size 720x576 with 1 Axes>"
      ]
     },
     "metadata": {
      "needs_background": "light"
     },
     "output_type": "display_data"
    }
   ],
   "source": [
    "plt.close('all')\n",
    "plt.figure(figsize=(10,8))\n",
    "plt.plot(x, data, 'ko', label='data')\n",
    "plt.plot(x, y_LS, 'r--', label='LS')\n",
    "plt.plot(x, y_WLS, 'g--', label='WLS')\n",
    "plt.plot(x, y_IRLS, 'b--', label='IRLS')\n",
    "plt.xlim(xmin - 0.05*Dx, xmax + 0.05*Dx)\n",
    "plt.ylim(dmin - 0.05*Dd, dmax + 0.05*Dd)\n",
    "plt.xlabel('coordinates x', fontsize=16)\n",
    "plt.ylabel('data', fontsize=16)\n",
    "plt.grid()\n",
    "plt.legend(loc='best', fontsize=12)\n",
    "plt.show()"
   ]
  },
  {
   "cell_type": "code",
   "execution_count": null,
   "metadata": {},
   "outputs": [],
   "source": []
  }
 ],
 "metadata": {
  "kernelspec": {
   "display_name": "Python 3 (ipykernel)",
   "language": "python",
   "name": "python3"
  },
  "language_info": {
   "codemirror_mode": {
    "name": "ipython",
    "version": 3
   },
   "file_extension": ".py",
   "mimetype": "text/x-python",
   "name": "python",
   "nbconvert_exporter": "python",
   "pygments_lexer": "ipython3",
   "version": "3.11.8"
  }
 },
 "nbformat": 4,
 "nbformat_minor": 4
}
